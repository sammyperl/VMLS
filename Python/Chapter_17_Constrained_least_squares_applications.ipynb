{
 "cells": [
  {
   "cell_type": "code",
   "execution_count": 1,
   "metadata": {},
   "outputs": [],
   "source": [
    "import numpy as np\n",
    "import matplotlib.pyplot as plt\n",
    "\n",
    "from vmls import cls_solve\n",
    "from dataset import portfolio_data, lq_estimation_data"
   ]
  },
  {
   "cell_type": "markdown",
   "metadata": {},
   "source": [
    "# 17.1 Portfolio optimization"
   ]
  },
  {
   "cell_type": "markdown",
   "metadata": {},
   "source": [
    "The goal is to make investments so that the combined return on all our investments is consistently high."
   ]
  },
  {
   "cell_type": "markdown",
   "metadata": {},
   "source": [
    "## Portfolio allocation weights"
   ]
  },
  {
   "cell_type": "markdown",
   "metadata": {},
   "source": [
    "- we invest a total of $V$ dollars in $n$ different assets (stocks, bonds, ...) over some period (one day, week, month, ...)\n",
    "- The allocation across the $n$ assets is described by an portfolio allocation weight n-vector $w$, which satisfies $\\mathbf{1}^T w = 1$, i.e., its entries sum to one.\n",
    "- can include short positions, assets you borrow and sell at the beginning, but must return to the borrower at the end of the period\n",
    "- $Vw_j$ is the dollar value of asset j you hold\n",
    "- $\\mathbf{1}^T w = 1$, with negative $w_i$ meaning a short position\n",
    "- $w$ = (−0.2, 0.0, 1.2) means we take a short position of 0.2$V$ in asset 1, don't hold any of asset 2, and hold 1.2$V$ in asset 3\n",
    "\n",
    "- The entries of $w$ are called by various names including *fractional allocations*, *asset weights*, *asset allocations*, or just *weights*"
   ]
  },
  {
   "cell_type": "markdown",
   "metadata": {},
   "source": [
    "## Leverage, long-only portfolios, and cash"
   ]
  },
  {
   "cell_type": "markdown",
   "metadata": {},
   "source": [
    "- leverage is $L = |w_1| + \\cdots + |w_n|$ ($(L − 1)/2$ is also sometimes used)\n",
    "- $L = 1$ when all weights are nonnegative ('long only portfolio')\n",
    "- $w = 1/n$ is called the uniform portfolio\n",
    "\n",
    "\n",
    "- we often assume asset n is 'risk-free' (or cash or T-bills)\n",
    "- so $w = e_n$ means the portfolio is all cash"
   ]
  },
  {
   "cell_type": "markdown",
   "metadata": {},
   "source": [
    "## Return over a period"
   ]
  },
  {
   "cell_type": "markdown",
   "metadata": {},
   "source": [
    "- $\\tilde{r}_j$ is the *return* of asset j over the period\n",
    "- $\\tilde{r}_j$ is the fractional increase in price or value (decrease if negative), often expressed as a percentage, like +1.1% or −2.3%\n",
    "- full portfolio return is\n",
    "$$\n",
    "\\frac{V^{+} − V}{V} = \\tilde{r}^T w\n",
    "$$\n",
    "where $V^+$ is the portfolio value at the end of the period\n",
    "- if you hold portfolio for $t$ periods with returns $r_1, \\ldots ,r_t$ value is\n",
    "$$\n",
    "V_{t+1} = V_1(1 + r_1)(1 + r_2) \\cdots (1 + r_t)\n",
    "$$\n",
    "\n",
    "- portfolio value versus time traditionally plotted using $V_1$ = $10000"
   ]
  },
  {
   "cell_type": "markdown",
   "metadata": {},
   "source": [
    "## Return matrix"
   ]
  },
  {
   "cell_type": "markdown",
   "metadata": {},
   "source": [
    "- hold portfolio with weights $w$ over T periods\n",
    "- define T × n (asset) return matrix, with $R_{tj}$ the return of asset j in period t\n",
    "- row t of $R$ is $\\tilde{r}^T_t$, where $\\tilde{r}_t$ is the asset return vector over period t\n",
    "- column j of $R$ is time series of asset j returns\n",
    "- portfolio returns vector (time series) is T-vector $r = Rw$\n",
    "- if last asset is *risk-free*, the last column of $R$ is $\\mu^{rf} \\mathbf{1}$, where $\\mu^{rf}$ is the risk-free per-period interest rate"
   ]
  },
  {
   "cell_type": "markdown",
   "metadata": {},
   "source": [
    "## Portfolio return and risk"
   ]
  },
  {
   "cell_type": "markdown",
   "metadata": {},
   "source": [
    "- $r$ is time series (vector) of portfolio returns\n",
    "- *average return* or just *return* is $\\mathbf{avg}(r)$\n",
    "- *risk* is $\\mathbf{std}(r)$\n",
    "- these are the per-period return and risk\n",
    "- for **small** per-period returns we have\n",
    "$$\n",
    "\\begin{align}\n",
    "V_{T+1} &= V_1(1 + r_1) \\cdots (1 + r_T) \\\\\n",
    "&\\approx V_1 + V1(r_1 + \\cdots + r_T) \\\\\n",
    "&= V_1 + T \\mathbf{avg}(r)V_1\n",
    "\\end{align}\n",
    "$$\n",
    "- so return approximates the average per-period increase in portfolio value\n",
    "\n",
    "- mean return and risk are often expressed in *annualized* form (i.e., per year)\n",
    "- if there are P trading periods per year \\\n",
    "annualized return = $P \\ \\mathbf{avg}(r)$ \\\n",
    "annualized risk = $ \\sqrt{P} \\ \\mathbf{std}(r)$ \\\n",
    "(the squareroot in risk annualization comes from the assumption that the fluctuations in return around the mean are independent)"
   ]
  },
  {
   "cell_type": "markdown",
   "metadata": {},
   "source": [
    "## Compounded portfolio value\n",
    "$$v_t = 10000(1 + r_1) \\cdots (1 + r_{t−1}), \\quad t = 1, \\ldots , T$$"
   ]
  },
  {
   "cell_type": "code",
   "execution_count": 2,
   "metadata": {},
   "outputs": [
    {
     "data": {
      "text/plain": [
       "(11174.854499093743, 11149.048536496528)"
      ]
     },
     "execution_count": 2,
     "metadata": {},
     "output_type": "execute_result"
    }
   ],
   "source": [
    "# Portfolio value with re-investment, return time series r\n",
    "cum_value = lambda r: 10000 * np.cumprod(1 + r)\n",
    "\n",
    "# Generate random returns sequence with\n",
    "# 10% annualized return, 5% annualized risk\n",
    "mu = 0.10 / 250\n",
    "sigma = 0.05 / np.sqrt(250)\n",
    "T = 250  # One year’s worth of trading days\n",
    "r = mu + sigma*np.random.standard_normal(T);\n",
    "v = cum_value(r);\n",
    "# compare final value (compounded) and average return\n",
    "v[T-1] , v[1]*(1+sum(r))"
   ]
  },
  {
   "cell_type": "code",
   "execution_count": 3,
   "metadata": {},
   "outputs": [
    {
     "data": {
      "image/png": "[encoded data removed]",
      "text/plain": [
       "<Figure size 432x288 with 1 Axes>"
      ]
     },
     "metadata": {
      "needs_background": "light"
     },
     "output_type": "display_data"
    }
   ],
   "source": [
    "plt.ion()\n",
    "plt.plot(np.arange(T), v)\n",
    "plt.grid()\n",
    "plt.xlabel('t')\n",
    "plt.ylabel('v_t')\n",
    "plt.show()"
   ]
  },
  {
   "cell_type": "markdown",
   "metadata": {},
   "source": [
    "## Portfolio optimization"
   ]
  },
  {
   "cell_type": "markdown",
   "metadata": {},
   "source": [
    "- choose the portfolio weight vector $w$ to achieve high (mean) portfolio return, low portfolio risk\n",
    "- we know **past realized asset returns** but not future ones, so we make a big assumption (BA)\\\n",
    "    **future returns will look something like past ones**\n",
    "    - you are warned this is false, every time you invest\n",
    "    - it is often reasonably true\n",
    "    - in periods of 'market shift' it's much less true\n",
    "- if BA holds (even approximately), then a good weight vector for past (realized) returns should be good for future (unknown) returns (just like data fitting)"
   ]
  },
  {
   "cell_type": "markdown",
   "metadata": {},
   "source": [
    "- fix the return of the portfolio to be some given value $\\rho$, and minimize the risk over all portfolios that achieve the required return\n",
    "-  Requiring that the portfolio return be $\\rho$ can be expressed as\n",
    "$$\n",
    "\\mathbf{avg}(r) = (1/T)\\mathbf{1}^T (Rw) = \\mu^T w = \\rho,\n",
    "$$\n",
    "where $\\mu = R^T \\mathbf{1}/T$ is the n-vector of the average asset returns.\n",
    "- the square of the risk can be expressed as\n",
    "$$\n",
    "\\mathbf{std}(r)^2 = (1/T)\\|r − \\mathbf{avg}(r)\\mathbf{1}\\|^2 = (1/T)\\|r − \\rho\\mathbf{1}\\|^2\n",
    "$$\n",
    "- portfolio optimization can be expressed as\n",
    "$$\n",
    "\\begin{align}\n",
    "\\text{minimize} & & \\mathbf{std}(Rw)^2 = (1/T)\\|Rw − \\rho\\mathbf{1}\\|^2 \\\\\n",
    "\\text{subject to} & & \\begin{aligned} \\mathbf{1}^T w = 1 \\\\ \\mathbf{avg}(Rw) = \\rho \\end{aligned}\n",
    "\\end{align}\n",
    "$$"
   ]
  },
  {
   "cell_type": "markdown",
   "metadata": {},
   "source": [
    "- portfolio optimization via constrained least squares\n",
    "$$\n",
    "\\begin{align}\n",
    "\\text{minimize} & & \\|Rw − \\rho\\mathbf{1}\\|^2 \\\\\n",
    "\\text{subject to} & & \\begin{bmatrix} \\mathbf{1}^T \\\\ \\mu^T \\end{bmatrix} w = \\begin{bmatrix} 1 \\\\ \\rho \\end{bmatrix}\n",
    "\\end{align}\n",
    "$$\n",
    "- an equality constrained least squares problem, with solution\n",
    "$$\n",
    "\\begin{bmatrix}\n",
    "w \\\\ z_1 \\\\ z_2\n",
    "\\end{bmatrix}\n",
    "=\n",
    "\\begin{bmatrix}\n",
    "2R^T R & \\mathbf{1} & \\mu \\\\\n",
    "\\mathbf{1}^T & 0 & 0 \\\\\n",
    "\\mu^T & 0 & 0\n",
    "\\end{bmatrix}^{-1}\\\n",
    "\\begin{bmatrix}\n",
    "2 R^T \\rho\\mathbf{1}\\\\\n",
    "1 \\\\\n",
    "\\rho\n",
    "\\end{bmatrix}\n",
    "=\n",
    "\\begin{bmatrix}\n",
    "2R^T R & \\mathbf{1} & \\mu \\\\\n",
    "\\mathbf{1}^T & 0 & 0 \\\\\n",
    "\\mu^T & 0 & 0\n",
    "\\end{bmatrix}^{-1}\\\n",
    "\\begin{bmatrix}\n",
    "2 \\rho T \\mu\\\\\n",
    "1 \\\\\n",
    "\\rho\n",
    "\\end{bmatrix}\n",
    "$$\n",
    "\n",
    "---\n",
    "**Optimal portfolios**\n",
    "- risk-return curve forms a straight line\n",
    "- one end of the line is the risk-free asset\n",
    "- two-fund theorem: optimal portfolio $w$ is an affine function of $\\rho$\n",
    "$$\n",
    "\\begin{bmatrix}\n",
    "w \\\\ z_1 \\\\ z_2\n",
    "\\end{bmatrix}\n",
    "=\n",
    "\\begin{bmatrix}\n",
    "2R^T R & \\mathbf{1} & \\mu \\\\\n",
    "\\mathbf{1}^T & 0 & 0 \\\\\n",
    "\\mu^T & 0 & 0\n",
    "\\end{bmatrix}^{-1}\\\n",
    "\\begin{bmatrix}\n",
    "0\\\\\n",
    "1 \\\\\n",
    "0\n",
    "\\end{bmatrix}\n",
    "+\n",
    "\\rho\n",
    "\\begin{bmatrix}\n",
    "2R^T R & \\mathbf{1} & \\mu \\\\\n",
    "\\mathbf{1}^T & 0 & 0 \\\\\n",
    "\\mu^T & 0 & 0\n",
    "\\end{bmatrix}^{-1}\\\n",
    "\\begin{bmatrix}\n",
    "2 T \\mu\\\\\n",
    "0 \\\\\n",
    "1\n",
    "\\end{bmatrix}\n",
    "$$"
   ]
  },
  {
   "cell_type": "code",
   "execution_count": 4,
   "metadata": {},
   "outputs": [
    {
     "name": "stdout",
     "output_type": "stream",
     "text": [
      "0.10000000000000368\n",
      "0.08650183078056148\n"
     ]
    }
   ],
   "source": [
    "def port_opt(R, rho):\n",
    "    \"\"\"portfolio optimization\"\"\"\n",
    "    T, n = R.shape\n",
    "    mu = np.sum(R, axis = 0).T / T\n",
    "    KKT = np.vstack([np.column_stack([2*R.T @ R, np.ones(n), mu]),\n",
    "                     np.hstack([np.ones(n).T, 0 , 0]),\n",
    "                     np.hstack([mu.T, 0, 0])])\n",
    "    wz1z2 = np.linalg.lstsq(KKT, np.hstack([2*rho*T*mu, 1, rho]), rcond=None)[0]\n",
    "    w = wz1z2[:n]\n",
    "    return w\n",
    "\n",
    "R, Rtest = portfolio_data()\n",
    "T, n = R.shape\n",
    "rho = 0.1/250  # Ask for 10% annual return\n",
    "w = port_opt(R, rho)\n",
    "r = R @ w  # Portfolio return time series\n",
    "pf_return = 250 * sum(r)/len(r)\n",
    "pf_risk = np.sqrt(250) * np.std(r)\n",
    "print(pf_return)\n",
    "print(pf_risk)"
   ]
  },
  {
   "cell_type": "code",
   "execution_count": 5,
   "metadata": {},
   "outputs": [
    {
     "data": {
      "image/png": "[encoded data removed]",
      "text/plain": [
       "<Figure size 432x288 with 1 Axes>"
      ]
     },
     "metadata": {
      "needs_background": "light"
     },
     "output_type": "display_data"
    }
   ],
   "source": [
    "cum_value = lambda r: 10000*np.cumprod(1+r)\n",
    "\n",
    "# 10% annual return\n",
    "rho = 0.1 / 250 # Ask for 10% annual return\n",
    "w = port_opt(R, rho)\n",
    "r = R @ w  # Portfolio return time series\n",
    "plt.plot(np.arange(T), cum_value(r), 'blue')\n",
    "\n",
    "# 20% annual return\n",
    "rho = 0.2 / 250\n",
    "w = port_opt(R, rho)\n",
    "r = R @ w  # Portfolio return time series\n",
    "plt.plot(np.arange(T), cum_value(r), 'orange')\n",
    "\n",
    "# 40% annual return\n",
    "rho = 0.4 / 250\n",
    "w = port_opt(R, rho)\n",
    "r = R @ w  # Portfolio return time series\n",
    "plt.plot(np.arange(T), cum_value(r), 'green')\n",
    "\n",
    "# Uniform portolio\n",
    "w = (1/n) * np.ones(n)\n",
    "r = R @ w  # Portfolio return time series\n",
    "plt.plot(np.arange(T), cum_value(r), 'purple')\n",
    "plt.legend(['10%','20%','40%','1/n'])\n",
    "plt.show()"
   ]
  },
  {
   "cell_type": "markdown",
   "metadata": {},
   "source": [
    "# 17.2 Linear quadratic control"
   ]
  },
  {
   "cell_type": "markdown",
   "metadata": {},
   "source": [
    "## time-varying linear dynamical system"
   ]
  },
  {
   "cell_type": "markdown",
   "metadata": {},
   "source": [
    "**dynamic equation and system outputs**\n",
    "$$\n",
    "\\begin{align}\n",
    "x_{t+1} &= A_tx_t + B_tu_t, \\quad t = 1, 2, \\ldots \\\\\n",
    "y_{t} &= C_t x_t, \\quad t = 1, 2, \\ldots\n",
    "\\end{align}\n",
    "$$\n",
    "- n-vector $x_t$ is state at time $t$\n",
    "- m-vector $u_t$ is input at time $t$\n",
    "- p-vector $y_t$ is output at time $t$\n",
    "- n × n matrix $A_t$ is dynamics matrix\n",
    "- n × m matrix $B_t$ is input matrix\n",
    "- p × n matrix $C_t$ is output matrix\n",
    "- $x_t, u_t, y_t$ often represent deviations from a standard operating condition. For this reason it is desirable to have $x_t, u_t, y_t$ small."
   ]
  },
  {
   "cell_type": "markdown",
   "metadata": {},
   "source": [
    "## Linear quadratic control"
   ]
  },
  {
   "cell_type": "markdown",
   "metadata": {},
   "source": [
    "*Linear quadratic control* refers to the problem of choosing the **input** and **state** sequences, over a time period $t = 1, \\ldots , T$, so as to **minimize** a sum of squares objective, subject to the **dynamics equations**, the **output equations**, and **additional linear equality constraints**.\n",
    "\n",
    "$$\n",
    "\\begin{align}\n",
    "\\text{minimize} & \\quad J_{output} + \\rho J_{input}\\\\\n",
    "\\text{subject to} & \\quad\n",
    "    \\begin{aligned}\n",
    "        &x_{t+1} = A_t x_t + B_t u_t, \\quad t = 1, \\ldots, T-1 \\\\\n",
    "        &x_1 = x^{init}, \\ x_T = x^{des}\n",
    "    \\end{aligned}\n",
    "\\end{align} \\\\\n",
    "$$\n",
    "\n",
    "- variables are state sequence  $x_1, \\ldots, x_T$ and  input sequence $u_1, \\ldots, u_{T−1}$\n",
    "- two objectives are quadratic functions of state and input sequences:\n",
    "$$\n",
    "J_{output} = \\|y_1\\|^2 + \\cdots + \\|y_T|^2 = \\|C_1 x_1|^2 + \\cdots + \\|C_T x_T|^2 \\\\\n",
    "J_{input} = \\|u_1\\|^2 + \\cdots + \\|u_T|^2\n",
    "$$\n",
    "- first constraint imposes the linear dynamics equations\n",
    "- second set of constraints specifies the initial and final state"
   ]
  },
  {
   "cell_type": "markdown",
   "metadata": {},
   "source": [
    "## Constrained least squares formulation"
   ]
  },
  {
   "cell_type": "markdown",
   "metadata": {},
   "source": [
    "- concatenate vector $x$ and $u$, we get the vector z containing the Tn + (T − 1)m variables:\n",
    "$$ z = (x_1, \\ldots, x_T, u_1, \\ldots, u_{T-1})$$\n",
    "\n",
    "- rewrite optimization formula\n",
    "$$\n",
    "\\begin{align}\n",
    "\\text{minimize} & &\\ \\|\\tilde{A}z - \\tilde{b}\\|^2\\\\\n",
    "\\text{subject to} & &\\ \\tilde{C}z = \\tilde{d}\n",
    "\\end{align} \\\\\n",
    "$$\n",
    "\n",
    "  where\n",
    "$$\n",
    "\\tilde{A} = \\begin{bmatrix}\n",
    "C_1 & \\cdots & 0 & 0 & \\cdots & 0 \\\\\n",
    "\\vdots & \\ddots & \\vdots & \\vdots & \\ddots & \\vdots \\\\\n",
    "0 & \\cdots & C_T & 0 & \\cdots & 0 \\\\\n",
    "0 & \\cdots & 0 & \\sqrt{\\rho}I & \\cdots & 0 \\\\\n",
    "\\vdots & \\ddots & \\vdots & \\vdots & \\ddots & \\vdots \\\\\n",
    "0 & \\cdots & 0 & 0 & \\cdots & \\sqrt{\\rho}I\n",
    "\\end{bmatrix}\n",
    "$$\n",
    "\n",
    "$$\n",
    "\\tilde{b} = 0\n",
    "$$\n",
    "\n",
    "$$\n",
    "\\tilde{C} = \\begin{bmatrix}\n",
    "A_1 & -I & 0 & \\cdots & 0 & 0 & B_1 & 0 & \\cdots & 0 \\\\\n",
    "0 & A_2 & -I & \\cdots & 0 & 0 & 0 & B_2 & \\cdots & 0 \\\\\n",
    "\\vdots & \\vdots & \\vdots &  & \\vdots & \\vdots & \\vdots & \\vdots & \\ddots & \\vdots \\\\\n",
    "0 & 0 & 0 & \\cdots & A_{T-1} & -I & 0 & 0 & \\cdots & B_{T-1} \\\\\n",
    "I & 0 & 0 & \\cdots & 0 & 0 & 0 & 0 & \\cdots & 0 \\\\\n",
    "0 & 0 & 0 & \\cdots & 0 & I & 0 & 0 & \\cdots & 0\n",
    "\\end{bmatrix}\n",
    "$$\n",
    "\n",
    "$$\n",
    "\\tilde{d} = \\begin{bmatrix}\n",
    "0 \\\\\n",
    "0 \\\\\n",
    "\\vdots \\\\\n",
    "0 \\\\\n",
    "x_{init} \\\\\n",
    "x_{des}\n",
    "\\end{bmatrix}\n",
    "$$"
   ]
  },
  {
   "cell_type": "markdown",
   "metadata": {},
   "source": [
    "**Kronecker product.** To create the big matrices $\\tilde{A}$ and \\tilde{C}, we need to define block diagonal matrices with the same matrix repeated a number of times along the diagonal. There are many ways to do this in Python. One of the simplest ways uses the `np.kron` function, for the Kronecker product of two matrices. The Kronecker product of an `m × n`\n",
    "matrix $G$ and a `p × q` matrix $H$ is defined as the `mp × nq` block matrix\n",
    "$$\n",
    "\\begin{bmatrix}\n",
    "G_{11}H & G_{12}H & \\ldots & G_{1n}G \\\\\n",
    "G_{21}H & G_{22}H & \\ldots & G_{2n}G \\\\\n",
    "\\vdots & \\vdots &  & \\vdots \\\\\n",
    "G_{m1}H & G_{m2}H & \\ldots & G_{mn}G\n",
    "\\end{bmatrix}\n",
    "$$\n",
    "It is computed in Python as `np.kron(G,H)`. If $G$ is an `n × n` identity matrix, we obtain the block diagonal matrix with $H$ repeated n times on the diagonal."
   ]
  },
  {
   "cell_type": "code",
   "execution_count": 6,
   "metadata": {},
   "outputs": [
    {
     "name": "stdout",
     "output_type": "stream",
     "text": [
      "[[ 0.61481591  1.08556363  0.          0.          0.          0.        ]\n",
      " [-1.57274693 -1.89655522 -0.         -0.         -0.         -0.        ]\n",
      " [ 0.          0.          0.61481591  1.08556363  0.          0.        ]\n",
      " [-0.         -0.         -1.57274693 -1.89655522 -0.         -0.        ]\n",
      " [ 0.          0.          0.          0.          0.61481591  1.08556363]\n",
      " [-0.         -0.         -0.         -0.         -1.57274693 -1.89655522]]\n"
     ]
    }
   ],
   "source": [
    "H = np.random.normal(size=(2, 2))\n",
    "print(np.kron(np.eye(3), H))"
   ]
  },
  {
   "cell_type": "code",
   "execution_count": 7,
   "metadata": {},
   "outputs": [
    {
     "name": "stdout",
     "output_type": "stream",
     "text": [
      "[[-0.64290848 -1.13654828 -0.         -0.         -0.         -0.        ]\n",
      " [ 0.60017488 -1.43839214  0.         -0.          0.         -0.        ]\n",
      " [-0.         -0.         -0.64290848 -1.13654828 -0.         -0.        ]\n",
      " [ 0.         -0.          0.60017488 -1.43839214  0.         -0.        ]\n",
      " [-0.         -0.         -0.         -0.         -0.64290848 -1.13654828]\n",
      " [ 0.         -0.          0.         -0.          0.60017488 -1.43839214]]\n",
      "[[-0.64290848 -1.13654828 -0.         -0.         -0.         -0.        ]\n",
      " [ 0.60017488 -1.43839214  0.         -0.          0.         -0.        ]\n",
      " [-0.         -0.         -0.64290848 -1.13654828 -0.         -0.        ]\n",
      " [ 0.         -0.          0.60017488 -1.43839214  0.         -0.        ]\n",
      " [-0.         -0.         -0.         -0.         -0.64290848 -1.13654828]\n",
      " [ 0.         -0.          0.         -0.          0.60017488 -1.43839214]]\n",
      "[[-0.64290848 -1.13654828  0.          0.          0.          0.        ]\n",
      " [ 0.60017488 -1.43839214  0.          0.          0.          0.        ]\n",
      " [ 0.          0.         -0.64290848 -1.13654828  0.          0.        ]\n",
      " [ 0.          0.          0.60017488 -1.43839214  0.          0.        ]\n",
      " [ 0.          0.          0.          0.         -0.64290848 -1.13654828]\n",
      " [ 0.          0.          0.          0.          0.60017488 -1.43839214]]\n"
     ]
    }
   ],
   "source": [
    "G = np.eye(3)\n",
    "H = np.random.normal(size=(2, 2))\n",
    "\n",
    "m, n = G.shape\n",
    "p, q = H.shape\n",
    "\n",
    "print(np.kron(G, H))\n",
    "print((G[:, None, :, None] * H[None, :, None, :]).reshape(m*p, n*q))  # broadcasting \n",
    "print(np.einsum('ik,jl', G, H).reshape(m*p, n*q))"
   ]
  },
  {
   "cell_type": "markdown",
   "metadata": {},
   "source": [
    "**Linear quadratic control example.** We start by writing a function `lqr` that constructs and solves the constrained least squares problem for linear quadratic control.\n",
    "The function returns three arrays\n",
    "\n",
    "> x = [ x[1], x[2], ..., x[T] ], \\\n",
    "> u = [ u[1], u[2], ..., u[T-1] ], \\\n",
    "> y = [ y[1], y[2], ..., y[T] ].\n",
    "\n",
    "The first two contain the optimal solution of the problem. The third array contains $y_t = Cx_t$.\n",
    "We allow the input arguments **x_init** and **x_des** to be matrices, so we can solve the same problem for different pairs of initial and end states, with one function call. If the number of columns in **x_init** and **x_des** is q, then the entries of the three output sequences **x**, **u**, **y** are matrices with q columns. The ith columns are the\n",
    "solution for the initial and end states specified in the ith columns of **x_init** and **x_des**."
   ]
  },
  {
   "cell_type": "code",
   "execution_count": 8,
   "metadata": {},
   "outputs": [],
   "source": [
    "def lqr(A, B, C, x_init, x_des, T, rho):\n",
    "    \"\"\"Linear quadratic control\"\"\"\n",
    "    n = A.shape[0]\n",
    "    m = B.shape[1]\n",
    "    p = C.shape[0]\n",
    "    q = x_init.shape[1]\n",
    "    \n",
    "    Atil = np.vstack([np.hstack([np.kron(np.eye(T), C), np.zeros((p*T, m*(T-1)))]),\n",
    "                      np.hstack([np.zeros((m*(T-1), n*T)), np.sqrt(rho)*np.eye(m*(T-1))])])\n",
    "    \n",
    "    btil = np.zeros((p*T+m*(T-1), q))\n",
    "    \n",
    "    # We'll construct Ctilde bit by bit\n",
    "    Ctil11 = np.hstack([np.kron(np.eye(T-1), A), np.zeros((n*(T-1), n))]) \\\n",
    "             - np.hstack([np.zeros((n*(T-1), n)), np.eye(n*(T-1))])\n",
    "    Ctil12 = np.kron(np.eye(T-1), B)\n",
    "    Ctil21 = np.vstack([np.hstack([np.eye(n), np.zeros((n, n*(T-1)))]),\n",
    "                        np.hstack([np.zeros((n, n*(T-1))), np.eye(n)])])\n",
    "    Ctil22 = np.zeros((2*n, m*(T-1)))\n",
    "    Ctil = np.block([[Ctil11, Ctil12],\n",
    "                     [Ctil21, Ctil22]])\n",
    "    \n",
    "    dtil = np.vstack([np.zeros((n*(T-1), q)),\n",
    "                      x_init,\n",
    "                      x_des])\n",
    "    \n",
    "    z = cls_solve(Atil, btil, Ctil, dtil)\n",
    "    \n",
    "    x = [z[i*n:(i+1)*n, :] for i in range(T)]  # list of np.ndarray\n",
    "    u = [z[n*T+i*m:n*T+(i+1)*m, :] for i in range(T-1)]  # list of np.ndarray\n",
    "    y = [C @ xt for xt in x]  # list of np.ndarray\n",
    "    return x, u, y"
   ]
  },
  {
   "cell_type": "code",
   "execution_count": 9,
   "metadata": {},
   "outputs": [],
   "source": [
    "A = np.array([[ 0.855, 1.161, 0.667],\n",
    "              [0.015, 1.073, 0.053],\n",
    "              [-0.084, 0.059, 1.022 ]])\n",
    "B = np.array([[-0.076], [-0.139] ,[0.342 ]])\n",
    "C = np.array([[ 0.218, -3.597, -1.683 ]])\n",
    "n = 3\n",
    "p = 1\n",
    "m = 1\n",
    "x_init = np.array([[0.496], [-0.745], [1.394]])\n",
    "x_des = np.zeros((n,1))"
   ]
  },
  {
   "cell_type": "code",
   "execution_count": 10,
   "metadata": {},
   "outputs": [
    {
     "data": {
      "image/png": "[encoded data removed]",
      "text/plain": [
       "<Figure size 432x288 with 1 Axes>"
      ]
     },
     "metadata": {
      "needs_background": "light"
     },
     "output_type": "display_data"
    }
   ],
   "source": [
    "# open-loop response\n",
    "T = 100\n",
    "yol = np.zeros((T, 1))\n",
    "Xol = np.hstack([x_init, np.zeros((n, T-1))])\n",
    "for k in range(T-1):\n",
    "    Xol[:, k+1] = A @ Xol[:, k]\n",
    "yol = C @ Xol\n",
    "plt.plot(np.arange(T), yol.T)\n",
    "plt.show()"
   ]
  },
  {
   "cell_type": "code",
   "execution_count": 11,
   "metadata": {},
   "outputs": [
    {
     "name": "stdout",
     "output_type": "stream",
     "text": [
      "0.7738942551160511\n",
      "3.7829986463324397\n"
     ]
    }
   ],
   "source": [
    "# solve the linear quadratic control problem with T = 100 and rho = 0.2\n",
    "rho = 0.2\n",
    "T = 100\n",
    "x, u, y = lqr(A, B, C, x_init, x_des, T, rho)\n",
    "J_input = np.linalg.norm(u)**2\n",
    "J_output = np.linalg.norm(y)**2\n",
    "print(J_input)\n",
    "print(J_output)"
   ]
  },
  {
   "cell_type": "code",
   "execution_count": 12,
   "metadata": {},
   "outputs": [
    {
     "data": {
      "image/png": "[encoded data removed]",
      "text/plain": [
       "<Figure size 648x432 with 2 Axes>"
      ]
     },
     "metadata": {
      "needs_background": "light"
     },
     "output_type": "display_data"
    }
   ],
   "source": [
    "fig, ax = plt.subplots(2, 1, figsize=(9, 6))\n",
    "\n",
    "ax[0].plot(np.arange(T-1), np.vstack(u))\n",
    "ax[0].set_xlabel('t')\n",
    "ax[0].set_ylabel('u_t')\n",
    "\n",
    "ax[1].plot(np.arange(T), np.vstack(y))\n",
    "ax[1].set_xlabel('t')\n",
    "ax[1].set_ylabel('y_t')\n",
    "plt.show()"
   ]
  },
  {
   "cell_type": "markdown",
   "metadata": {},
   "source": [
    "## Linear state feedback control"
   ]
  },
  {
   "cell_type": "markdown",
   "metadata": {},
   "source": [
    "- In *linear state feedback control* we measure the state in each period and use the input\n",
    "$$\n",
    "u_t = K x_t, \\quad t = 1, 2, \\cdots\n",
    "$$\n",
    "- matrix $K$ is called the *state feedback gain matrix*\n",
    "- widely used, especially when $x_t$ should converge to zero, $T$ is not specified\n",
    "\n",
    "\n",
    "- one choice for $K$: solve linear quadratic control problem with $x^{des} = 0$\n",
    "- The solution $\\hat{z}$ is a linear function of $x^{init}$ and $x^{des}$; since here $x^{des} = 0$, $\\hat{z}$ is a linear function of $x^{init} = x_1$\n",
    "- Since $\\hat{u}_1$, the optimal input at t = 1, is a slice or subvector of $\\hat{z}$, we conclude that $\\hat{u}_1$ is a linear function of $x_1$, and so can be written as \n",
    "     $$u_1 = K x_1$$\n",
    "- columns of $K$ can be found by computing $u_1$ for $x^{init} = e_1, \\ldots, e_n$\n",
    "- use this $K$ as state feedback gain matrix"
   ]
  },
  {
   "cell_type": "code",
   "execution_count": 13,
   "metadata": {},
   "outputs": [
    {
     "name": "stdout",
     "output_type": "stream",
     "text": [
      "[[ 0.30832877 -2.65864963 -1.44602291]]\n"
     ]
    }
   ],
   "source": [
    "# Solve LQ problem with x_init = I, x_des = 0\n",
    "rho = 1.0\n",
    "n = 3\n",
    "xsf, usf, ysf = lqr(A, B, C, np.eye(n), np.zeros((n, n)), T, rho)\n",
    "K = usf[0]\n",
    "print(K)\n",
    "\n",
    "# Simulate over horizon 150\n",
    "TT = 150\n",
    "Xsf = np.hstack([x_init, np.zeros((n, TT-1))])\n",
    "for k in range(TT - 1):\n",
    "    Xsf[:, k+1] = (A+B*K) @ Xsf[:, k]\n",
    "usf = K @ Xsf[:, 0:TT-1]\n",
    "ysf = C @ Xsf\n",
    "\n",
    "# Also compute optimal LQ solution for rho = 1.0\n",
    "x, u, y = lqr(A, B, C, x_init, x_des, T, rho)"
   ]
  },
  {
   "cell_type": "code",
   "execution_count": 14,
   "metadata": {},
   "outputs": [
    {
     "data": {
      "image/png": "[encoded data removed]",
      "text/plain": [
       "<Figure size 432x288 with 1 Axes>"
      ]
     },
     "metadata": {
      "needs_background": "light"
     },
     "output_type": "display_data"
    }
   ],
   "source": [
    "# Plot the two inputs\n",
    "plt.plot(np.vstack([np.vstack(u), np.zeros((TT-T,1))]))\n",
    "plt.plot(usf.T)\n",
    "plt.legend([\"Optimal\", \"State Feedback\"])\n",
    "plt.xlabel('t')\n",
    "plt.ylabel('$u_t$')\n",
    "plt.show()"
   ]
  },
  {
   "cell_type": "code",
   "execution_count": 15,
   "metadata": {},
   "outputs": [
    {
     "data": {
      "image/png": "[encoded data removed]",
      "text/plain": [
       "<Figure size 432x288 with 1 Axes>"
      ]
     },
     "metadata": {
      "needs_background": "light"
     },
     "output_type": "display_data"
    }
   ],
   "source": [
    "# Plot the two outputs\n",
    "plt.plot(np.vstack([np.vstack(y), np.zeros((TT-T, 1))]))\n",
    "plt.plot(ysf.T)\n",
    "plt.legend([\"Optimal\", \"State Feedback\"])\n",
    "plt.xlabel('t')\n",
    "plt.ylabel('$y_t$')\n",
    "plt.show()"
   ]
  },
  {
   "cell_type": "markdown",
   "metadata": {},
   "source": [
    "# 17.3 Linear quadratic state estimation"
   ]
  },
  {
   "cell_type": "markdown",
   "metadata": {},
   "source": [
    "- linear dynamical system:\n",
    "$$\n",
    "x_{t+1} = A_t x_t + B_t w_t, \\quad y_t = C_t x_t + v_t, \\quad t = 1, 2, \\ldots\n",
    "$$\n",
    "- $x_t$ is the *state* (n-vector)\n",
    "- $y_t$ is the *measurement* (p-vector)\n",
    "- $w_t$ is the *input* or *process noise* (m-vector)\n",
    "- $v_t$ is the *measurement noise* or *residual* (p-vector)\n",
    "- $A_t$ is the dynamics matrix (n x n)\n",
    "- $B_t$ is the input matrix (n x m)\n",
    "- $C_t$ is the output matrix (p x n)\n",
    "- we know $A_t, B_t, C_t$, and measurements $y_1, \\ldots, y_T$\n",
    "- $w_t, v_t$ are unknown, but assumed small\n",
    "- state estimation: guess or estimate the state sequence, $x_1, \\ldots, x_T$"
   ]
  },
  {
   "cell_type": "markdown",
   "metadata": {},
   "source": [
    "**Key concept:** guess or estimate the state sequence $x_1, \\ldots , x_T$ and process noise sequence $w_1, \\ldots, w_{T-1}$, subject to the requirement that they satisfy the dynamic system model\n",
    "\n",
    "**Assumption:** process and measurement noises are both small, or at least, not too large.\n",
    "\n",
    "$$\n",
    "\\begin{align}\n",
    "\\text{minimize} & \\quad J_{meas} + \\lambda J_{proc}\\\\\n",
    "\\text{subject to} & \\quad x_{t+1} = A_t x_t + B_t w_t\n",
    "\\end{align}\n",
    "$$\n",
    "- primary objective: sum of squares of the norms of the measurement residuals\n",
    "$$\n",
    "J_{meas} = \\|C_1 x_1 - y_1\\|^2 + \\cdots + \\|C_T x_T - y_T\\|^2\n",
    "$$\n",
    "- secondary objective: sum of squares of the norms of the process noise\n",
    "$$\n",
    "J_{meas} = \\|w_1\\|^2 + \\cdots + \\|w_{T-1}\\|^2\n",
    "$$"
   ]
  },
  {
   "cell_type": "markdown",
   "metadata": {},
   "source": [
    "- concatenate vector $x$ and $w$, we get the vector z containing the Tn + (T − 1)m variables:\n",
    "$$ z = (x_1, \\ldots, x_T, w_1, \\ldots, w_{T-1})$$\n",
    "\n",
    "- rewrite optimization formula\n",
    "$$\n",
    "\\begin{align}\n",
    "\\text{minimize} & &\\ \\|\\tilde{A}z - \\tilde{b}\\|^2\\\\\n",
    "\\text{subject to} & &\\ \\tilde{C}z = \\tilde{d}\n",
    "\\end{align} \\\\\n",
    "$$\n",
    "\n",
    "  where\n",
    "$$\n",
    "\\tilde{A} = \\begin{bmatrix}\n",
    "C_1 & \\cdots & 0 & 0 & \\cdots & 0 \\\\\n",
    "\\vdots & \\ddots & \\vdots & \\vdots & \\ddots & \\vdots \\\\\n",
    "0 & \\cdots & C_T & 0 & \\cdots & 0 \\\\\n",
    "0 & \\cdots & 0 & \\sqrt{\\rho}I & \\cdots & 0 \\\\\n",
    "\\vdots & \\ddots & \\vdots & \\vdots & \\ddots & \\vdots \\\\\n",
    "0 & \\cdots & 0 & 0 & \\cdots & \\sqrt{\\rho}I\n",
    "\\end{bmatrix}\n",
    "$$\n",
    "\n",
    "$$\n",
    "\\tilde{b} = \\begin{bmatrix}\n",
    "y_1 \\\\\n",
    "y_2 \\\\\n",
    "\\vdots \\\\\n",
    "y_T \\\\\n",
    "0 \\\\\n",
    "\\vdots \\\\\n",
    "0\n",
    "\\end{bmatrix}\n",
    "$$\n",
    "\n",
    "$$\n",
    "\\tilde{C} = \\begin{bmatrix}\n",
    "A_1 & -I & 0 & \\cdots & 0 & 0 & B_1 & 0 & \\cdots & 0 \\\\\n",
    "0 & A_2 & -I & \\cdots & 0 & 0 & 0 & B_2 & \\cdots & 0 \\\\\n",
    "\\vdots & \\vdots & \\vdots &  & \\vdots & \\vdots & \\vdots & \\vdots & \\ddots & \\vdots \\\\\n",
    "0 & 0 & 0 & \\cdots & A_{T-1} & -I & 0 & 0 & \\cdots & B_{T-1}\n",
    "\\end{bmatrix}\n",
    "$$\n",
    "\n",
    "$$\n",
    "\\tilde{d} = 0\n",
    "$$"
   ]
  },
  {
   "cell_type": "code",
   "execution_count": 16,
   "metadata": {},
   "outputs": [],
   "source": [
    "def lqe(A, B, C, y, T, lam):\n",
    "    \"\"\"Linear quadratic state estimation\"\"\"\n",
    "    n = A.shape[0]  # shape = (n, n)\n",
    "    m = B.shape[1]  # shape = (n, m)\n",
    "    p = C.shape[0]  # shape = (p, n)\n",
    "    \n",
    "    Atil = np.block([[np.kron(np.eye(T), C), np.zeros((T*p, m*(T-1)))],\n",
    "                     [np.zeros((m*(T-1), T*n)), np.sqrt(lam)*np.eye(m*(T-1))]])\n",
    "    \n",
    "    # We assume y is a p by T array, so we vectorize it\n",
    "    btil = np.block([np.hstack([i for i in y.T]), np.zeros((m*(T-1)))])\n",
    "    \n",
    "    Ctil = np.block([np.block([np.kron(np.eye(T-1),A), np.zeros((n*(T-1), n))])\n",
    "                     + np.block([np.zeros((n*(T-1), n)), -np.eye(n*(T-1))]), np.kron(np.eye(T-1), B)])\n",
    "    \n",
    "    dtil = np.zeros(n*(T-1))\n",
    "    \n",
    "    z = cls_solve(Atil, btil, Ctil, dtil)\n",
    "    \n",
    "    x = [z[i*n:(i+1)*n] for i in range(T)]  # list of np.ndarray\n",
    "    u = [z[n*T+i*m : n*T+(i+1)*m] for i in range(T-1)]  # list of np.ndarray\n",
    "    y = [C @ xt for xt in x]  # list of np.ndarray\n",
    "    return x, u, y"
   ]
  },
  {
   "cell_type": "code",
   "execution_count": 17,
   "metadata": {},
   "outputs": [
    {
     "data": {
      "image/png": "[encoded data removed]",
      "text/plain": [
       "<Figure size 432x288 with 1 Axes>"
      ]
     },
     "metadata": {
      "needs_background": "light"
     },
     "output_type": "display_data"
    }
   ],
   "source": [
    "y_meas = lq_estimation_data()\n",
    "\n",
    "# n = 4, m = 2, p = 2\n",
    "A = np.block([[np.eye(2), np.eye(2)],\n",
    "              [np.zeros((2, 2)), np.eye(2)]])\n",
    "B = np.block([[np.zeros((2, 2))],\n",
    "              [np.eye(2)]])\n",
    "C = np.block([[np.eye(2), np.zeros((2,2))]])\n",
    "\n",
    "T = 100\n",
    "lam = 1e+3\n",
    "x_hat, u_hat, y_hat = lqe(A, B, C, y_meas, T, lam)\n",
    "\n",
    "\n",
    "plt.scatter(y_meas[0, :], y_meas[1, :])\n",
    "plt.plot(np.array([yt[0] for yt in y_hat]),\n",
    "         np.array([yt[1] for yt in y_hat]),'r')\n",
    "plt.xlabel('$(x_t)_1$')\n",
    "plt.ylabel('$(x_t)_2$')\n",
    "plt.show()"
   ]
  }
 ],
 "metadata": {
  "kernelspec": {
   "display_name": "Python 3",
   "language": "python",
   "name": "python3"
  },
  "language_info": {
   "codemirror_mode": {
    "name": "ipython",
    "version": 3
   },
   "file_extension": ".py",
   "mimetype": "text/x-python",
   "name": "python",
   "nbconvert_exporter": "python",
   "pygments_lexer": "ipython3",
   "version": "3.7.6"
  }
 },
 "nbformat": 4,
 "nbformat_minor": 4
}
