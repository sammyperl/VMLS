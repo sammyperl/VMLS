{
 "cells": [
  {
   "cell_type": "code",
   "execution_count": 2,
   "metadata": {},
   "outputs": [],
   "source": [
    "import numpy as np\n",
    "import matplotlib.pyplot as plt\n",
    "\n",
    "from IPython.display import display\n",
    "from IPython.display import Latex"
   ]
  },
  {
   "cell_type": "markdown",
   "metadata": {},
   "source": [
    "# 3.1 Norm"
   ]
  },
  {
   "cell_type": "markdown",
   "metadata": {},
   "source": [
    "## Norm"
   ]
  },
  {
   "cell_type": "markdown",
   "metadata": {},
   "source": [
    "In mathematics, a **norm** is a function from a vector space over the real or complex numbers to the nonnegative real numbers that satisfies certain properties pertaining to <span style=\"color:red;\">scalability</span> and <span style=\"color:red;\">additivity</span>, and <span style=\"color:red;\">takes the value zero only if the input vector is zero</span>. A **pseudonorm** or **seminorm** satisfies the same properties, except that it may have a zero value for some nonzero vectors.\n",
    "\n",
    "\n",
    "### Definition\n",
    "\n",
    "Given a vector space V over a field F of the real numbers $\\mathbb {R}$ or complex numbers $\\mathbb {C}$, a **norm** on V is a <span style=\"color:red;\">nonnegative-valued</span> function p: V → $\\mathbb {R}$ with the following properties:\n",
    "\n",
    "For all a ∈ F and all **u**, **v** ∈ V,\n",
    "\n",
    "1. p(**u** + **v**) ≤ p(**u**) + p(**v**) (being [subadditive](https://en.wikipedia.org/wiki/Subadditive_function) or satisfying the [triangle inequality](https://en.wikipedia.org/wiki/Triangle_inequality)).\n",
    "2. p(a**v**) = |a| p(**v**) (being [absolutely homogeneous](https://en.wikipedia.org/wiki/Homogeneous_function) or absolutely scalable).\n",
    "3. If p(**v**) = 0 then **v** = 0 is the [zero vector](https://en.wikipedia.org/wiki/Zero_vector) (being positive definite or being point-separating).\n",
    "\n",
    "**p-norm**\n",
    "\n",
    "Let p ≥ 1 be a real number. The $p$-norm (also called $\\ell _{p}$-norm) of vector $\\mathbf {x} =(x_{1},\\ldots ,x_{n})$ is\n",
    "\n",
    "$${\\displaystyle \\left\\|\\mathbf {x} \\right\\|_{p}:={\\bigg (}\\sum _{i=1}^{n}\\left|x_{i}\\right|^{p}{\\bigg )}^{1/p}}$$.\n",
    "\n",
    "For p = 1 we get the [taxicab norm](https://en.wikipedia.org/wiki/Norm_(mathematics)#Taxicab_norm_or_Manhattan_norm), for p = 2 we get the [Euclidean norm](https://en.wikipedia.org/wiki/Norm_(mathematics)#Euclidean_norm), and as p approaches $\\infty$  the p-norm approaches the [infinity norm](https://en.wikipedia.org/wiki/Uniform_norm) or [maximum norm](https://en.wikipedia.org/wiki/Norm_(mathematics)#Maximum_norm_.28special_case_of:_infinity_norm.2C_uniform_norm.2C_or_supremum_norm.29):\n",
    "\n",
    "$${\\displaystyle \\left\\|\\mathbf {x} \\right\\|_{\\infty }:=\\max _{i}\\left|x_{i}\\right|.}$$\n",
    "\n",
    "References: https://en.wikipedia.org/wiki/Norm_(mathematics)"
   ]
  },
  {
   "cell_type": "markdown",
   "metadata": {},
   "source": [
    "The norm $\\left\\|x\\right\\|_{2}$ can be computed in Python using `np.linalg.norm(x)`."
   ]
  },
  {
   "cell_type": "code",
   "execution_count": 3,
   "metadata": {},
   "outputs": [
    {
     "data": {
      "text/latex": [
       "$\\left\\| x \\right\\|_{2}$ = 3.000000"
      ],
      "text/plain": [
       "<IPython.core.display.Latex object>"
      ]
     },
     "metadata": {},
     "output_type": "display_data"
    }
   ],
   "source": [
    "x = np.array([2, -1, 2])\n",
    "display(Latex(r'$\\left\\| x \\right\\|_{2}$ = %f' % np.linalg.norm(x)))"
   ]
  },
  {
   "cell_type": "code",
   "execution_count": 4,
   "metadata": {},
   "outputs": [
    {
     "data": {
      "text/latex": [
       "$\\left\\| x \\right\\|_{2}$ = 3.000000"
      ],
      "text/plain": [
       "<IPython.core.display.Latex object>"
      ]
     },
     "metadata": {},
     "output_type": "display_data"
    }
   ],
   "source": [
    "display(Latex(r'$\\left\\| x \\right\\|_{2}$ = %f' % np.sqrt(np.inner(x, x))))"
   ]
  },
  {
   "cell_type": "code",
   "execution_count": 5,
   "metadata": {},
   "outputs": [
    {
     "data": {
      "text/latex": [
       "$\\left\\| x \\right\\|_{2}$ = 3.000000"
      ],
      "text/plain": [
       "<IPython.core.display.Latex object>"
      ]
     },
     "metadata": {},
     "output_type": "display_data"
    }
   ],
   "source": [
    "display(Latex(r'$\\left\\| x \\right\\|_{2}$ = %f' % np.sqrt(sum(x**2))))"
   ]
  },
  {
   "cell_type": "code",
   "execution_count": 6,
   "metadata": {},
   "outputs": [
    {
     "data": {
      "text/latex": [
       "$\\left\\| ax \\right\\|_{1}$ = 25.000000"
      ],
      "text/plain": [
       "<IPython.core.display.Latex object>"
      ]
     },
     "metadata": {},
     "output_type": "display_data"
    },
    {
     "data": {
      "text/latex": [
       "$\\left| a \\right| \\left\\| x \\right\\|_{1}$ = 25.000000"
      ],
      "text/plain": [
       "<IPython.core.display.Latex object>"
      ]
     },
     "metadata": {},
     "output_type": "display_data"
    },
    {
     "data": {
      "text/latex": [
       "$\\left\\| ax \\right\\|_{2}$ = 15.000000"
      ],
      "text/plain": [
       "<IPython.core.display.Latex object>"
      ]
     },
     "metadata": {},
     "output_type": "display_data"
    },
    {
     "data": {
      "text/latex": [
       "$\\left| a \\right| \\left\\| x \\right\\|_{2}$ = 15.000000"
      ],
      "text/plain": [
       "<IPython.core.display.Latex object>"
      ]
     },
     "metadata": {},
     "output_type": "display_data"
    }
   ],
   "source": [
    "# ||ax|| = |a|||x||\n",
    "a = -5\n",
    "display(Latex(r'$\\left\\| ax \\right\\|_{1}$ = %f' % np.linalg.norm(a * x, 1)))\n",
    "display(Latex(r'$\\left| a \\right| \\left\\| x \\right\\|_{1}$ = %f' % (np.abs(a) * np.linalg.norm(x, 1))))\n",
    "\n",
    "display(Latex(r'$\\left\\| ax \\right\\|_{2}$ = %f' % np.linalg.norm(a * x, 2)))\n",
    "display(Latex(r'$\\left| a \\right| \\left\\| x \\right\\|_{2}$ = %f' % (np.abs(a) * np.linalg.norm(x, 2))))"
   ]
  },
  {
   "cell_type": "code",
   "execution_count": 7,
   "metadata": {},
   "outputs": [
    {
     "name": "stdout",
     "output_type": "stream",
     "text": [
      "LHS: 3.152895772652621\n",
      "RHS: 3.4972752650790673\n"
     ]
    }
   ],
   "source": [
    "# Triangle inequality  ||x + y|| ≤ ||x|| + ||y||\n",
    "x = np.random.random(10)\n",
    "y = np.random.random(10)\n",
    "LHS = np.linalg.norm(x + y)\n",
    "RHS = np.linalg.norm(x) + np.linalg.norm(y)\n",
    "print('LHS:', LHS)\n",
    "print('RHS:', RHS)"
   ]
  },
  {
   "cell_type": "markdown",
   "metadata": {},
   "source": [
    "## RMS value"
   ]
  },
  {
   "cell_type": "markdown",
   "metadata": {},
   "source": [
    "The RMS value of a vector $x$ is $rms(x) =\\left\\| x \\right\\|_{2} / \\sqrt{n}$"
   ]
  },
  {
   "cell_type": "code",
   "execution_count": 8,
   "metadata": {},
   "outputs": [
    {
     "name": "stdout",
     "output_type": "stream",
     "text": [
      "avg(x) = -0.042529437832386836\n",
      "rms(x) = 1.0837556422598\n"
     ]
    }
   ],
   "source": [
    "rms = lambda x: np.linalg.norm(x)/(np.sqrt(len(x)))\n",
    "t = np.arange(0,1.01,0.01)\n",
    "x = np.cos(8*t) - 2*np.sin(11*t)\n",
    "\n",
    "print('avg(x) =', sum(x)/len(x))\n",
    "print('rms(x) =', rms(x))"
   ]
  },
  {
   "cell_type": "code",
   "execution_count": 9,
   "metadata": {},
   "outputs": [
    {
     "data": {
      "image/png": "[encoded data removed]",
      "text/plain": [
       "<Figure size 576x432 with 1 Axes>"
      ]
     },
     "metadata": {
      "needs_background": "light"
     },
     "output_type": "display_data"
    }
   ],
   "source": [
    "plt.ion()\n",
    "plt.figure(figsize=(8, 6))\n",
    "plt.plot(t, x, label='signal x')\n",
    "plt.plot(t, np.mean(x) * np.ones(len(x)), label='avg(x)')\n",
    "plt.plot(t, (np.mean(x) + rms(x)) * np.ones(len(x)), 'g', label='avg(x) + rms(x)')\n",
    "plt.plot(t, (np.mean(x) - rms(x)) * np.ones(len(x)), 'r', label='avg(x) - rms(x)')\n",
    "plt.legend()\n",
    "plt.show()"
   ]
  },
  {
   "cell_type": "markdown",
   "metadata": {},
   "source": [
    "## Chebyshev inequality"
   ]
  },
  {
   "cell_type": "markdown",
   "metadata": {},
   "source": [
    "The Chebyshev inequality states that the number of entries of an n-vector x that have absolute value at least a is no more than $\\left\\| x \\right\\|^2/a^2 = n*rms(x)^2/a^2$.\n",
    "If the number is, say, 12.15, we can conclude that no more than 12 entries have absolute\n",
    "value at least a, since the number of entries is an integer. So the Chebyshev bound\n",
    "can be improved to be floor($\\left\\|x\\right\\|^2 / a$), where floor(u) is the integer part of a positive\n",
    "number."
   ]
  },
  {
   "cell_type": "code",
   "execution_count": 10,
   "metadata": {},
   "outputs": [
    {
     "name": "stdout",
     "output_type": "stream",
     "text": [
      "79.0\n"
     ]
    }
   ],
   "source": [
    "cheb_bound = lambda x,a: np.floor(sum(x**2)/a)\n",
    "a = 1.5\n",
    "print(cheb_bound(x, a))"
   ]
  },
  {
   "cell_type": "code",
   "execution_count": 11,
   "metadata": {},
   "outputs": [
    {
     "name": "stdout",
     "output_type": "stream",
     "text": [
      "20\n"
     ]
    }
   ],
   "source": [
    "# Number of entries of x with |x_i| >= a\n",
    "print(sum(abs(x) >= a))\n",
    "# This says there can be *at most*:\n",
    "# 79 of the 101 values in x, with an absolute value of at least 1.5\n",
    "# in fact, there are 20"
   ]
  },
  {
   "cell_type": "markdown",
   "metadata": {},
   "source": [
    "# 3.2 Distance"
   ]
  },
  {
   "cell_type": "markdown",
   "metadata": {},
   "source": [
    "## Distance"
   ]
  },
  {
   "cell_type": "markdown",
   "metadata": {},
   "source": [
    "The distance between two vectors is dist(x, y) = ||x − y|| (We can use different functions to calculate the distance)"
   ]
  },
  {
   "cell_type": "code",
   "execution_count": 12,
   "metadata": {},
   "outputs": [
    {
     "name": "stdout",
     "output_type": "stream",
     "text": [
      "8.367795408588812\n",
      "0.3872983346207417\n",
      "8.532877591996735\n"
     ]
    }
   ],
   "source": [
    "u = np.array([1.8, 2.0, -3.7, 4.7])\n",
    "v = np.array([0.6, 2.1, 1.9, -1.4])\n",
    "w = np.array([2.0, 1.9, -4.0, 4.6])\n",
    "print(np.linalg.norm(u - v))\n",
    "print(np.linalg.norm(u - w))\n",
    "print(np.linalg.norm(v - w))"
   ]
  },
  {
   "cell_type": "markdown",
   "metadata": {},
   "source": [
    "## Nearest neighbor"
   ]
  },
  {
   "cell_type": "code",
   "execution_count": 13,
   "metadata": {},
   "outputs": [
    {
     "name": "stdout",
     "output_type": "stream",
     "text": [
      "[5.5, 4]\n",
      "[2, 1]\n"
     ]
    }
   ],
   "source": [
    "# np.argmin: Returns the indices of the minimum values along an axis.\n",
    "near_neigh = lambda x, z: z[np.argmin([np.linalg.norm(x-y) for y in z])]\n",
    "\n",
    "x = np.array([5, 6])\n",
    "y = np.array([3, 3])\n",
    "z = ([2, 1], [7, 2], [5.5, 4], [4, 8], [1, 5], [9, 6])\n",
    "\n",
    "print(near_neigh(x, z))\n",
    "print(near_neigh(y, z))"
   ]
  },
  {
   "cell_type": "code",
   "execution_count": 21,
   "metadata": {},
   "outputs": [
    {
     "data": {
      "image/png": "[encoded data removed]",
      "text/plain": [
       "<Figure size 432x288 with 1 Axes>"
      ]
     },
     "metadata": {
      "needs_background": "light"
     },
     "output_type": "display_data"
    }
   ],
   "source": [
    "plt.scatter(*zip(*z))\n",
    "n = [str(i) for i in z]\n",
    "for i, txt in enumerate(n):\n",
    "    plt.annotate(txt, (z[i][0], z[i][1]))\n",
    "plt.scatter(x[0], x[1])\n",
    "plt.scatter(y[0], y[1])\n",
    "plt.show()"
   ]
  },
  {
   "cell_type": "markdown",
   "metadata": {},
   "source": [
    "# 3.3 Standard Deviation"
   ]
  },
  {
   "cell_type": "markdown",
   "metadata": {},
   "source": [
    "## De-meaning a vector"
   ]
  },
  {
   "cell_type": "markdown",
   "metadata": {},
   "source": [
    "We refer to the vector x − **avg**(x)**1** as the de-meaned version of x."
   ]
  },
  {
   "cell_type": "code",
   "execution_count": 23,
   "metadata": {},
   "outputs": [
    {
     "name": "stdout",
     "output_type": "stream",
     "text": [
      "Average of x:  0.6\n",
      "x_tilde:  [ 0.4 -2.8  2.4]\n",
      "Average of x_tilde:  -1.4802973661668753e-16\n"
     ]
    }
   ],
   "source": [
    "de_mean = lambda x: x - np.mean(x) # x - sum(x)/len(x) \n",
    "x = np.array([1,-2.2,3])\n",
    "print ('Average of x: ', np.mean(x))\n",
    "x_tilde = de_mean(x)\n",
    "print('x_tilde: ',x_tilde)\n",
    "print('Average of x_tilde: ',np.mean(x_tilde))"
   ]
  },
  {
   "cell_type": "markdown",
   "metadata": {},
   "source": [
    "## Standard deviation"
   ]
  },
  {
   "cell_type": "markdown",
   "metadata": {},
   "source": [
    "We can define a function that corresponding to the VMLS definition of the standard deviation of a vector, std(x) = ||x − **avg**(x)**1**||/$\\sqrt n$, where n is the length of the vector. (Standard deviation is RMS of a de-meaned vector)"
   ]
  },
  {
   "cell_type": "code",
   "execution_count": 24,
   "metadata": {},
   "outputs": [
    {
     "name": "stdout",
     "output_type": "stream",
     "text": [
      "0.25424581335390084\n",
      "0.25424581335390084\n"
     ]
    }
   ],
   "source": [
    "x = np.random.random(100)\n",
    "stdev = lambda x: np.linalg.norm(x - sum(x)/len(x))/(len(x)**0.5)\n",
    "print(stdev(x))\n",
    "print(np.std(x))"
   ]
  },
  {
   "cell_type": "markdown",
   "metadata": {},
   "source": [
    "## Standardizing a vector"
   ]
  },
  {
   "cell_type": "markdown",
   "metadata": {},
   "source": [
    "If a vector x isn’t constant (i.e., at least two of its entries are different), we can standardize it, by subtracting its mean and dividing by its standard deviation. **The resulting standardized vector has mean value zero and RMS value one.** Its entries are called z-scores."
   ]
  },
  {
   "cell_type": "code",
   "execution_count": 25,
   "metadata": {},
   "outputs": [
    {
     "data": {
      "text/plain": [
       "(0.5157851218285593, 0.2819337747133978)"
      ]
     },
     "execution_count": 25,
     "metadata": {},
     "output_type": "execute_result"
    }
   ],
   "source": [
    "def standardize(x):\n",
    "    x_tilde = x - np.mean(x)\n",
    "    return x_tilde/np.std(x_tilde)\n",
    "x = np.random.random(100)\n",
    "np.mean(x), np.std(x)"
   ]
  },
  {
   "cell_type": "code",
   "execution_count": 26,
   "metadata": {},
   "outputs": [
    {
     "data": {
      "text/plain": [
       "(-3.763656053479281e-16, 1.0)"
      ]
     },
     "execution_count": 26,
     "metadata": {},
     "output_type": "execute_result"
    }
   ],
   "source": [
    "z = standardize(x)\n",
    "np.mean(z), np.std(z)"
   ]
  },
  {
   "cell_type": "markdown",
   "metadata": {},
   "source": [
    "# 3.4 Angle"
   ]
  },
  {
   "cell_type": "markdown",
   "metadata": {},
   "source": [
    "## Angle"
   ]
  },
  {
   "cell_type": "markdown",
   "metadata": {},
   "source": [
    "In Euclidean space, a Euclidean vector is a geometric object that possesses both a magnitude and a direction. A vector can be pictured as an arrow. Its magnitude is its length, and its direction is the direction to which the arrow points. The magnitude of a vector a is denoted by ${\\displaystyle \\left\\|\\mathbf {a} \\right\\|}$. The dot product of two Euclidean vectors a and b is defined by\n",
    "\n",
    "$${\\displaystyle \\mathbf {a} \\cdot \\mathbf {b} =\\|\\mathbf {a} \\|\\ \\|\\mathbf {b} \\|\\cos \\theta ,}$$\n",
    "where θ is the angle between a and b.\n",
    "\n",
    "https://en.wikipedia.org/wiki/Dot_product"
   ]
  },
  {
   "cell_type": "code",
   "execution_count": 28,
   "metadata": {},
   "outputs": [
    {
     "name": "stdout",
     "output_type": "stream",
     "text": [
      "angle (radians): 0.9689825515916383\n"
     ]
    }
   ],
   "source": [
    "#Define angle function, which returns radians\n",
    "ang = lambda x,y : np.arccos(x @ y / (np.linalg.norm(x) * np.linalg.norm(y)))\n",
    "a = np.array([1, 2, -1])\n",
    "b = np.array([2, 0, -3])\n",
    "print('angle (radians):', ang(a, b))"
   ]
  },
  {
   "cell_type": "code",
   "execution_count": 30,
   "metadata": {},
   "outputs": [
    {
     "name": "stdout",
     "output_type": "stream",
     "text": [
      "angle (degrees): 55.51861062801842\n"
     ]
    }
   ],
   "source": [
    "#Get angle in degrees\n",
    "print('angle (degrees):', ang(a,b) * (360/(2*np.pi)))"
   ]
  },
  {
   "cell_type": "markdown",
   "metadata": {},
   "source": [
    "## Pearson correlation coefficient"
   ]
  },
  {
   "cell_type": "markdown",
   "metadata": {},
   "source": [
    "The Pearson correlation coefficient between two vectors a and b (with nonzero standard deviation) is defined as\n",
    "$$\n",
    "\\rho =\\frac{\\tilde{a}^T \\tilde{b}}{\\left\\| \\tilde{a} \\right\\| \\left\\| \\tilde{b} \\right\\|},\n",
    "$$\n",
    "where $\\left\\| \\tilde{a} \\right\\|$ and $\\left\\| \\tilde{b} \\right\\|$ are the de-meaned versions of a and b, respectively.\n",
    "\n",
    "**Pearson correlation coefficient is the demeaned version of an angle**\n",
    "\n",
    "https://en.wikipedia.org/wiki/Pearson_correlation_coefficient"
   ]
  },
  {
   "cell_type": "code",
   "execution_count": 47,
   "metadata": {},
   "outputs": [
    {
     "name": "stdout",
     "output_type": "stream",
     "text": [
      "rho_aa: 1.0 , angle (degrees): 0.0\n",
      "rho_ab: 0.9678196342570433 , angle (degrees): 14.57487024478894\n"
     ]
    }
   ],
   "source": [
    "def corr_coef(a, b):\n",
    "    a_tilde = a - np.mean(a)\n",
    "    b_tilde = b - np.mean(b)\n",
    "    denom = (np.linalg.norm(a_tilde) * np.linalg.norm(b_tilde))\n",
    "    return (a_tilde @ b_tilde) /denom\n",
    "\n",
    "a = np.array([4.4, 9.4, 15.4, 12.4, 10.4, 1.4, -4.6, -5.6, -0.6, 7.4])\n",
    "b = np.array([6.2, 11.2, 14.2, 14.2, 8.2, 2.2, -3.8, -4.8, -1.8, 4.2])\n",
    "print('rho_aa:', corr_coef(a,a), ', angle (degrees):', ang(a-np.mean(a), a-np.mean(a)) * (360/(2*np.pi)))\n",
    "print('rho_ab:', corr_coef(a,b), ', angle (degrees):', ang(a-np.mean(a), b-np.mean(b)) * (360/(2*np.pi)))"
   ]
  },
  {
   "cell_type": "code",
   "execution_count": 48,
   "metadata": {},
   "outputs": [
    {
     "name": "stdout",
     "output_type": "stream",
     "text": [
      "rho_ab: -0.9875211120643732 , angle (degrees): 170.9389560825482\n"
     ]
    }
   ],
   "source": [
    "a = np.array([4.1, 10.1, 15.1, 13.1, 7.1, 2.1, -2.9, -5.9, 0.1, 7.1])\n",
    "b = np.array([5.5, -0.5, -4.5, -3.5, 1.5, 7.5, 13.5, 14.5, 11.5, 4.5])\n",
    "print('rho_ab:', corr_coef(a,b), ', angle (degrees):', ang(a-np.mean(a), b-np.mean(b)) * (360/(2*np.pi)))"
   ]
  },
  {
   "cell_type": "code",
   "execution_count": 49,
   "metadata": {},
   "outputs": [
    {
     "name": "stdout",
     "output_type": "stream",
     "text": [
      "rho_ab: 0.0040209766613670496 , angle (degrees): 89.76961438695807\n"
     ]
    }
   ],
   "source": [
    "a = np.array([-5.0, 0.0, 5.0, 8.0, 13.0, 11.0, 1.0, 6.0, 4.0, 7.0])\n",
    "b = np.array([5.8, 0.8, 7.8, 9.8, 0.8, 11.8, 10.8, 5.8, -0.2, -3.2])\n",
    "print('rho_ab:', corr_coef(a,b), ', angle (degrees):', ang(a-np.mean(a), b-np.mean(b)) * (360/(2*np.pi)))"
   ]
  },
  {
   "cell_type": "markdown",
   "metadata": {},
   "source": [
    "# 3.5 Complexity"
   ]
  },
  {
   "cell_type": "markdown",
   "metadata": {},
   "source": [
    "Let’s check that the time to compute the correlation coefficient of two n-vectors is approximately linear in n."
   ]
  },
  {
   "cell_type": "code",
   "execution_count": 50,
   "metadata": {},
   "outputs": [],
   "source": [
    "x = np.random.random(10**6)\n",
    "y = np.random.random(10**6)"
   ]
  },
  {
   "cell_type": "code",
   "execution_count": 51,
   "metadata": {},
   "outputs": [
    {
     "name": "stdout",
     "output_type": "stream",
     "text": [
      "12.2 ms ± 298 µs per loop (mean ± std. dev. of 7 runs, 100 loops each)\n"
     ]
    }
   ],
   "source": [
    "%timeit corr_coef(x, y)"
   ]
  },
  {
   "cell_type": "code",
   "execution_count": 53,
   "metadata": {},
   "outputs": [],
   "source": [
    "x = np.random.random(10**7)\n",
    "y = np.random.random(10**7)"
   ]
  },
  {
   "cell_type": "code",
   "execution_count": 54,
   "metadata": {},
   "outputs": [
    {
     "name": "stdout",
     "output_type": "stream",
     "text": [
      "124 ms ± 4.07 ms per loop (mean ± std. dev. of 7 runs, 10 loops each)\n"
     ]
    }
   ],
   "source": [
    "%timeit corr_coef(x, y)"
   ]
  },
  {
   "cell_type": "code",
   "execution_count": 55,
   "metadata": {},
   "outputs": [],
   "source": [
    "x = np.random.random(10**8)\n",
    "y = np.random.random(10**8)"
   ]
  },
  {
   "cell_type": "code",
   "execution_count": 56,
   "metadata": {},
   "outputs": [
    {
     "name": "stdout",
     "output_type": "stream",
     "text": [
      "1.11 s ± 10.1 ms per loop (mean ± std. dev. of 7 runs, 1 loop each)\n"
     ]
    }
   ],
   "source": [
    "%timeit corr_coef(x, y)"
   ]
  }
 ],
 "metadata": {
  "kernelspec": {
   "display_name": "Python 3",
   "language": "python",
   "name": "python3"
  },
  "language_info": {
   "codemirror_mode": {
    "name": "ipython",
    "version": 3
   },
   "file_extension": ".py",
   "mimetype": "text/x-python",
   "name": "python",
   "nbconvert_exporter": "python",
   "pygments_lexer": "ipython3",
   "version": "3.7.6"
  }
 },
 "nbformat": 4,
 "nbformat_minor": 4
}
