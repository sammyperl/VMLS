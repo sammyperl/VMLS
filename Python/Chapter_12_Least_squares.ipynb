{
 "cells": [
  {
   "cell_type": "markdown",
   "metadata": {},
   "source": [
    "Key concept:\n",
    "\n",
    "Finding approximate solutions of over-determined systems of linear equations by minimizing the sum of the squares\n",
    "of the errors in the equations."
   ]
  },
  {
   "cell_type": "code",
   "execution_count": 51,
   "metadata": {},
   "outputs": [],
   "source": [
    "import numpy as np\n",
    "import matplotlib.pyplot as plt"
   ]
  },
  {
   "cell_type": "markdown",
   "metadata": {},
   "source": [
    "# 12.1 Least squares problem"
   ]
  },
  {
   "cell_type": "markdown",
   "metadata": {},
   "source": [
    "- Suppose m × n matrix $A$ is tall (m > n), so $Ax = b$ is over-determined. These equations have a solution only if b is a linear combination of the columns of A.\n",
    "- For most choices of $b$, there is no x that satisfies $Ax = b$.\n",
    "- *residual* is $r = Ax - b$ (or $r = b - Ax$)\n",
    "-  least squares problem: $\\underset{x}{\\text{minimize}}\\ \\|Ax − b\\|^2$, where $\\|Ax − b\\|^2$ is called the *objective function*\n",
    "- Any n-vector $\\hat{x}$ that satisfies $\\|A\\hat{x}−b\\|^2 \\le \\|Ax−b\\|^2$ for all $x$ is a solution of the least squares problem\n",
    "- $\\hat{x}$ called *least squares approximate solution* of $Ax = b$\n",
    "- $\\hat{x}$ need not (and usually does not) satisfy $A\\hat{x} = b$, but if $\\hat{x}$ does satisfy $A\\hat{x} = b$, then it solves least squares problem\n",
    "- also called *regression* (in data fitting context)"
   ]
  },
  {
   "cell_type": "markdown",
   "metadata": {},
   "source": [
    "## Column interpretation"
   ]
  },
  {
   "cell_type": "markdown",
   "metadata": {},
   "source": [
    "Suppose $a_1, \\ldots, a_n$ are columns of $A$, then\n",
    "\n",
    "$$\n",
    "\\|Ax − b\\|^2 = \\|(x_1 a_1 + \\cdots + x_n a_n) − b\\|^2\n",
    "$$\n",
    "\n",
    "so least squares problem is to find a **linear combination** of columns of $A$ that is closest to $b$\n",
    "\n",
    "---\n",
    "If $\\hat{x}$ is a solution of least squares problem, the m-vector\n",
    "\n",
    "$$\n",
    "A\\hat{x} = \\hat{x}_1 a_1 + \\cdots + \\hat{x}_n a_n\n",
    "$$\n",
    "\n",
    "is closest to the vector $b$, among all linear combinations of columns of $A$"
   ]
  },
  {
   "cell_type": "markdown",
   "metadata": {},
   "source": [
    "## Row interpretation"
   ]
  },
  {
   "cell_type": "markdown",
   "metadata": {},
   "source": [
    "Suppose $\\tilde{a}^T_1, \\ldots, \\tilde{a}^T_m$ are rows of $A$, so the residual components are given by\n",
    "\n",
    "$$\n",
    "r_i = \\tilde{a}^T_i x − b_i, \\ i = 1, \\ldots, m\n",
    "$$\n",
    "\n",
    "The least squares objective is then\n",
    "\n",
    "$$\n",
    "\\|Ax − b\\|^2 = (\\tilde{a}^T_1 x − b_1)^2 + \\cdots + (\\tilde{a}^T_m x − b_m)^2\n",
    "$$\n",
    "\n",
    "the sum of the squares of the residuals in m scalar linear equations.\n",
    "\n",
    "so least squares minimizes sum of squares of residuals\n",
    "- solving $Ax = b$ is making all residuals zero\n",
    "- least squares attempts to make them all **small**"
   ]
  },
  {
   "cell_type": "markdown",
   "metadata": {},
   "source": [
    "We take the small least squares problem of Figure 12.1 in VMLS and check that $\\|A\\hat{x}−b\\|$ is less than $\\|Ax − b\\|$ for some other value of $x$."
   ]
  },
  {
   "cell_type": "code",
   "execution_count": 2,
   "metadata": {},
   "outputs": [
    {
     "data": {
      "text/plain": [
       "0.816496580927726"
      ]
     },
     "execution_count": 2,
     "metadata": {},
     "output_type": "execute_result"
    }
   ],
   "source": [
    "A = np.array([[2, 0],\n",
    "              [-1, 1],\n",
    "              [0, 2]])\n",
    "b = np.array([1, 0, -1])\n",
    "x_hat = np.array([1/3, -1/3])\n",
    "r_hat = A @ x_hat - b\n",
    "np.linalg.norm(r_hat)"
   ]
  },
  {
   "cell_type": "code",
   "execution_count": 3,
   "metadata": {},
   "outputs": [
    {
     "data": {
      "text/plain": [
       "1.0"
      ]
     },
     "execution_count": 3,
     "metadata": {},
     "output_type": "execute_result"
    }
   ],
   "source": [
    "x = np.array([1/2, -1/2]) #other value of x\n",
    "r = A @ x - b\n",
    "np.linalg.norm(r)"
   ]
  },
  {
   "cell_type": "markdown",
   "metadata": {},
   "source": [
    "# 12.2 Solution"
   ]
  },
  {
   "cell_type": "markdown",
   "metadata": {},
   "source": [
    "<span  style=\"color:red; font-weight:bold\">The solution to the least squares problem derived in VMLS is based on the following assumptions:</span>\n",
    "\n",
    "Matrix $A$ has *linearly independent* columns"
   ]
  },
  {
   "cell_type": "markdown",
   "metadata": {},
   "source": [
    "## Solution via calculus"
   ]
  },
  {
   "cell_type": "markdown",
   "metadata": {},
   "source": [
    "We know that any minimizer $\\hat{x}$ must satisfy\n",
    "\n",
    "$$\n",
    "\\frac{\\partial f}{\\partial x_i}(\\hat{x}) = 0, \\ i = 1, \\ldots, n\n",
    "$$\n",
    "which we can express as the vector equation\n",
    "$$\n",
    "\\nabla f(\\hat{x}) = 0\n",
    "$$\n",
    "\n",
    "The gradient can be expressed in matrix form as\n",
    "$$\n",
    "\\nabla f(x) = 2A^T(Ax − b)\n",
    "$$\n",
    "\n",
    "---\n",
    "**Derivation**\n",
    "\n",
    "Define the objective function of least square problem\n",
    "\n",
    "$$\n",
    "f(x) = \\|Ax − b\\|^2 = \\sum^m_i\\Bigg(\\sum^n_j{A_{ij}x_{j} − b_i}\\Bigg)^2\n",
    "$$\n",
    "\n",
    "taking partial derivatives of $f$ with respect to $x_k$ (kth entry of vector $x$)\n",
    "\n",
    "$$\n",
    "\\begin{align}\n",
    "\\nabla f(x_k)\n",
    "&= \\frac{\\partial f} {\\partial x_k} \\\\\n",
    "&= \\sum^m_i 2 \\Bigg(\\sum^n_j{A_{ij} x_{j} − b_i} \\Bigg) A_{ik} \\\\\n",
    "&= \\sum^m_i 2 (A^T)_{ki} (Ax − b)_i \\\\\n",
    "&= \\Big(2A^T(Ax − b)\\Big)_k\n",
    "\\end{align}\n",
    "$$\n",
    "\n",
    "This is our formula $\\nabla f(x) = 2A^T(Ax − b)$, written out in terms of its components.\n",
    "\n",
    "<br>\n",
    "\n",
    "Any minimizer $\\hat{x}$ of $\\|Ax − b\\|^2$ must satisfy\n",
    "$$\n",
    "\\nabla f(\\hat{x}) = 2A^T(Ax − b) = 0,\n",
    "$$\n",
    "which can be written as \n",
    "$$\n",
    "A^T A \\hat{x} = A^T b\n",
    "$$\n",
    "These equations are called the *normal equations*.\n",
    "\n",
    "Assuming that the columns of A are linearly independent, it means that the Gram matrix $A^T A$ is invertible\n",
    "So\n",
    "\n",
    "$$\n",
    "\\hat{x} = (A^T A)^{−1}A^T b\n",
    "$$"
   ]
  },
  {
   "cell_type": "code",
   "execution_count": 4,
   "metadata": {},
   "outputs": [
    {
     "data": {
      "text/plain": [
       "array([ 0.33333333, -0.33333333])"
      ]
     },
     "execution_count": 4,
     "metadata": {},
     "output_type": "execute_result"
    }
   ],
   "source": [
    "np.linalg.inv(A.T @ A) @ A.T @ b  # the columns of A are linearly independent"
   ]
  },
  {
   "cell_type": "code",
   "execution_count": 5,
   "metadata": {},
   "outputs": [
    {
     "data": {
      "text/plain": [
       "array([ 0.33333333, -0.33333333])"
      ]
     },
     "execution_count": 5,
     "metadata": {},
     "output_type": "execute_result"
    }
   ],
   "source": [
    "np.linalg.pinv(A) @ b"
   ]
  },
  {
   "cell_type": "code",
   "execution_count": 6,
   "metadata": {},
   "outputs": [
    {
     "data": {
      "text/plain": [
       "array([-2.22044605e-16,  2.22044605e-16])"
      ]
     },
     "execution_count": 6,
     "metadata": {},
     "output_type": "execute_result"
    }
   ],
   "source": [
    "(A.T @ A) @ x_hat - A.T @ b  # Check that normal equations hold"
   ]
  },
  {
   "cell_type": "markdown",
   "metadata": {},
   "source": [
    "<span  style=\"color:red; font-weight:bold\"> Check A with linearly dependent columns </span>"
   ]
  },
  {
   "cell_type": "code",
   "execution_count": 7,
   "metadata": {},
   "outputs": [
    {
     "ename": "LinAlgError",
     "evalue": "Singular matrix",
     "output_type": "error",
     "traceback": [
      "\u001b[1;31m---------------------------------------------------------------------------\u001b[0m",
      "\u001b[1;31mLinAlgError\u001b[0m                               Traceback (most recent call last)",
      "\u001b[1;32m<ipython-input-7-e089bc76ab45>\u001b[0m in \u001b[0;36m<module>\u001b[1;34m\u001b[0m\n\u001b[0;32m      2\u001b[0m                          \u001b[1;33m[\u001b[0m\u001b[1;33m-\u001b[0m\u001b[1;36m1\u001b[0m\u001b[1;33m,\u001b[0m \u001b[1;36m0.5\u001b[0m\u001b[1;33m]\u001b[0m\u001b[1;33m,\u001b[0m\u001b[1;33m\u001b[0m\u001b[1;33m\u001b[0m\u001b[0m\n\u001b[0;32m      3\u001b[0m                          [4, -2]])\n\u001b[1;32m----> 4\u001b[1;33m \u001b[0mnp\u001b[0m\u001b[1;33m.\u001b[0m\u001b[0mlinalg\u001b[0m\u001b[1;33m.\u001b[0m\u001b[0minv\u001b[0m\u001b[1;33m(\u001b[0m\u001b[0mA_dependent\u001b[0m\u001b[1;33m.\u001b[0m\u001b[0mT\u001b[0m \u001b[1;33m@\u001b[0m \u001b[0mA_dependent\u001b[0m\u001b[1;33m)\u001b[0m \u001b[1;33m@\u001b[0m \u001b[0mA_dependent\u001b[0m\u001b[1;33m.\u001b[0m\u001b[0mT\u001b[0m \u001b[1;33m@\u001b[0m \u001b[0mb\u001b[0m\u001b[1;33m\u001b[0m\u001b[1;33m\u001b[0m\u001b[0m\n\u001b[0m",
      "\u001b[1;32m<__array_function__ internals>\u001b[0m in \u001b[0;36minv\u001b[1;34m(*args, **kwargs)\u001b[0m\n",
      "\u001b[1;32mD:\\Devtools\\anaconda3\\lib\\site-packages\\numpy\\linalg\\linalg.py\u001b[0m in \u001b[0;36minv\u001b[1;34m(a)\u001b[0m\n\u001b[0;32m    545\u001b[0m     \u001b[0msignature\u001b[0m \u001b[1;33m=\u001b[0m \u001b[1;34m'D->D'\u001b[0m \u001b[1;32mif\u001b[0m \u001b[0misComplexType\u001b[0m\u001b[1;33m(\u001b[0m\u001b[0mt\u001b[0m\u001b[1;33m)\u001b[0m \u001b[1;32melse\u001b[0m \u001b[1;34m'd->d'\u001b[0m\u001b[1;33m\u001b[0m\u001b[1;33m\u001b[0m\u001b[0m\n\u001b[0;32m    546\u001b[0m     \u001b[0mextobj\u001b[0m \u001b[1;33m=\u001b[0m \u001b[0mget_linalg_error_extobj\u001b[0m\u001b[1;33m(\u001b[0m\u001b[0m_raise_linalgerror_singular\u001b[0m\u001b[1;33m)\u001b[0m\u001b[1;33m\u001b[0m\u001b[1;33m\u001b[0m\u001b[0m\n\u001b[1;32m--> 547\u001b[1;33m     \u001b[0mainv\u001b[0m \u001b[1;33m=\u001b[0m \u001b[0m_umath_linalg\u001b[0m\u001b[1;33m.\u001b[0m\u001b[0minv\u001b[0m\u001b[1;33m(\u001b[0m\u001b[0ma\u001b[0m\u001b[1;33m,\u001b[0m \u001b[0msignature\u001b[0m\u001b[1;33m=\u001b[0m\u001b[0msignature\u001b[0m\u001b[1;33m,\u001b[0m \u001b[0mextobj\u001b[0m\u001b[1;33m=\u001b[0m\u001b[0mextobj\u001b[0m\u001b[1;33m)\u001b[0m\u001b[1;33m\u001b[0m\u001b[1;33m\u001b[0m\u001b[0m\n\u001b[0m\u001b[0;32m    548\u001b[0m     \u001b[1;32mreturn\u001b[0m \u001b[0mwrap\u001b[0m\u001b[1;33m(\u001b[0m\u001b[0mainv\u001b[0m\u001b[1;33m.\u001b[0m\u001b[0mastype\u001b[0m\u001b[1;33m(\u001b[0m\u001b[0mresult_t\u001b[0m\u001b[1;33m,\u001b[0m \u001b[0mcopy\u001b[0m\u001b[1;33m=\u001b[0m\u001b[1;32mFalse\u001b[0m\u001b[1;33m)\u001b[0m\u001b[1;33m)\u001b[0m\u001b[1;33m\u001b[0m\u001b[1;33m\u001b[0m\u001b[0m\n\u001b[0;32m    549\u001b[0m \u001b[1;33m\u001b[0m\u001b[0m\n",
      "\u001b[1;32mD:\\Devtools\\anaconda3\\lib\\site-packages\\numpy\\linalg\\linalg.py\u001b[0m in \u001b[0;36m_raise_linalgerror_singular\u001b[1;34m(err, flag)\u001b[0m\n\u001b[0;32m     95\u001b[0m \u001b[1;33m\u001b[0m\u001b[0m\n\u001b[0;32m     96\u001b[0m \u001b[1;32mdef\u001b[0m \u001b[0m_raise_linalgerror_singular\u001b[0m\u001b[1;33m(\u001b[0m\u001b[0merr\u001b[0m\u001b[1;33m,\u001b[0m \u001b[0mflag\u001b[0m\u001b[1;33m)\u001b[0m\u001b[1;33m:\u001b[0m\u001b[1;33m\u001b[0m\u001b[1;33m\u001b[0m\u001b[0m\n\u001b[1;32m---> 97\u001b[1;33m     \u001b[1;32mraise\u001b[0m \u001b[0mLinAlgError\u001b[0m\u001b[1;33m(\u001b[0m\u001b[1;34m\"Singular matrix\"\u001b[0m\u001b[1;33m)\u001b[0m\u001b[1;33m\u001b[0m\u001b[1;33m\u001b[0m\u001b[0m\n\u001b[0m\u001b[0;32m     98\u001b[0m \u001b[1;33m\u001b[0m\u001b[0m\n\u001b[0;32m     99\u001b[0m \u001b[1;32mdef\u001b[0m \u001b[0m_raise_linalgerror_nonposdef\u001b[0m\u001b[1;33m(\u001b[0m\u001b[0merr\u001b[0m\u001b[1;33m,\u001b[0m \u001b[0mflag\u001b[0m\u001b[1;33m)\u001b[0m\u001b[1;33m:\u001b[0m\u001b[1;33m\u001b[0m\u001b[1;33m\u001b[0m\u001b[0m\n",
      "\u001b[1;31mLinAlgError\u001b[0m: Singular matrix"
     ]
    }
   ],
   "source": [
    "A_dependent = np.array([[2, -1],\n",
    "                         [-1, 0.5],\n",
    "                         [4, -2]])\n",
    "# np.linalg.inv(A_dependent.T @ A_dependent) @ A_dependent.T @ b"
   ]
  },
  {
   "cell_type": "code",
   "execution_count": 8,
   "metadata": {},
   "outputs": [
    {
     "data": {
      "text/plain": [
       "array([[ 21.  , -10.5 ],\n",
       "       [-10.5 ,   5.25]])"
      ]
     },
     "execution_count": 8,
     "metadata": {},
     "output_type": "execute_result"
    }
   ],
   "source": [
    "A_dependent.T @ A_dependent  # singular matrix => non-invertible"
   ]
  },
  {
   "cell_type": "code",
   "execution_count": 9,
   "metadata": {},
   "outputs": [
    {
     "data": {
      "text/plain": [
       "array([[ 0.07619048, -0.03809524,  0.15238095],\n",
       "       [-0.03809524,  0.01904762, -0.07619048]])"
      ]
     },
     "execution_count": 9,
     "metadata": {},
     "output_type": "execute_result"
    }
   ],
   "source": [
    "np.linalg.pinv(A_dependent)  # pseudo-inverse exist!!"
   ]
  },
  {
   "cell_type": "code",
   "execution_count": 10,
   "metadata": {},
   "outputs": [
    {
     "data": {
      "text/plain": [
       "array([ 0.33333333, -0.33333333])"
      ]
     },
     "execution_count": 10,
     "metadata": {},
     "output_type": "execute_result"
    }
   ],
   "source": [
    "np.linalg.pinv(A) @ b  # this solution has the minimum 2-norm"
   ]
  },
  {
   "cell_type": "markdown",
   "metadata": {},
   "source": [
    "## Direct verification of least squares solution"
   ]
  },
  {
   "cell_type": "markdown",
   "metadata": {},
   "source": [
    "Let $\\hat{x} = (A^TA)^{−1}A^T b$, so $A^T(A\\hat{x} − b) = 0$\n",
    "\n",
    "For any n-vector x we have\n",
    "$$\\begin{align}\n",
    "\\|Ax − b\\|^2 &= \\|(Ax − A\\hat{x}) + (A\\hat{x} − b)\\|^2 \\\\\n",
    "&= \\|Ax − A\\hat{x}\\|^2 + \\|A\\hat{x} − b\\|^2 + 2 (Ax − A\\hat{x})^T (A\\hat{x} − b) \\\\\n",
    "&= \\|Ax − A\\hat{x}\\|^2 + \\|A\\hat{x} − b\\|^2 + 2 (A(x − \\hat{x}))^T (A\\hat{x} − b)\\\\\n",
    "&= \\|Ax − A\\hat{x}\\|^2 + \\|A\\hat{x} − b\\|^2 + 2 (x − \\hat{x})^T A^T (A\\hat{x} − b)\\\\\n",
    "&= \\|Ax − A\\hat{x}\\|^2 + \\|A\\hat{x} − b\\|^2 + 2 (x − \\hat{x})^T (A^T A\\hat{x} − A^T b)\\\\\n",
    "&= \\|Ax − A\\hat{x}\\|^2 + \\|A\\hat{x} − b\\|^2 + 2 (x − \\hat{x})^T 0\\\\\n",
    "&= \\|Ax − A\\hat{x}\\|^2 + \\|A\\hat{x} − b\\|^2\n",
    "\\end{align}\n",
    "$$\n",
    "\n",
    "The first term on the right-hand side is nonnegative and therefore\n",
    "$$\n",
    "\\|Ax − b\\|^2 \\ge \\|A\\hat{x} − b\\|^2\n",
    "$$\n",
    "\n",
    "if equality holds, $A(x − \\hat{x}) = 0$, which implies $x = \\hat{x}$ since columns of A are linearly independent ($Ax=0, x = 0$)\n"
   ]
  },
  {
   "cell_type": "markdown",
   "metadata": {},
   "source": [
    "## Row form"
   ]
  },
  {
   "cell_type": "markdown",
   "metadata": {},
   "source": [
    "$$\n",
    "\\hat{x} = (A^T A)^{−1}A^Tb = \\Bigg(\\sum^m_{i=1}{\\tilde{a}_i \\tilde{a}^T_i}\\Bigg)^{−1} \\Bigg(\\sum^m_{i=1}{b_i \\tilde{a}_i}^{-1}\\Bigg)\n",
    "$$"
   ]
  },
  {
   "cell_type": "markdown",
   "metadata": {},
   "source": [
    "# Orthogonality principle"
   ]
  },
  {
   "cell_type": "markdown",
   "metadata": {},
   "source": [
    "for any n-vector $z$, we have\n",
    "\n",
    "$$(Az) \\perp \\hat{r}, \\ \\hat{r} = A\\hat{x} - b$$\n",
    "\n",
    "---\n",
    "Derive the orthogonality principle from the normal equations, which can be expressed as $A^T(A\\hat{x} − b) = 0$.\n",
    "\n",
    "$$\n",
    "(Az)^T\\hat{r} = (Az)^T(A\\hat{x} − b) = z^T A^T(A\\hat{x} − b) = 0\n",
    "$$"
   ]
  },
  {
   "cell_type": "code",
   "execution_count": 11,
   "metadata": {},
   "outputs": [
    {
     "data": {
      "text/plain": [
       "2.220446049250313e-16"
      ]
     },
     "execution_count": 11,
     "metadata": {},
     "output_type": "execute_result"
    }
   ],
   "source": [
    "z = np.array([-1.1, 2.3])\n",
    "(A @ z).T @ r_hat"
   ]
  },
  {
   "cell_type": "code",
   "execution_count": 12,
   "metadata": {},
   "outputs": [
    {
     "data": {
      "text/plain": [
       "-3.4"
      ]
     },
     "execution_count": 12,
     "metadata": {},
     "output_type": "execute_result"
    }
   ],
   "source": [
    "(A @ z).T @ r"
   ]
  },
  {
   "cell_type": "code",
   "execution_count": 13,
   "metadata": {},
   "outputs": [
    {
     "data": {
      "text/plain": [
       "-6.661338147750939e-16"
      ]
     },
     "execution_count": 13,
     "metadata": {},
     "output_type": "execute_result"
    }
   ],
   "source": [
    "z = np.array([5.3, -1.2])\n",
    "(A @ z).T @ r_hat"
   ]
  },
  {
   "cell_type": "code",
   "execution_count": 14,
   "metadata": {},
   "outputs": [
    {
     "data": {
      "text/plain": [
       "6.5"
      ]
     },
     "execution_count": 14,
     "metadata": {},
     "output_type": "execute_result"
    }
   ],
   "source": [
    "(A @ z).T @ r"
   ]
  },
  {
   "cell_type": "markdown",
   "metadata": {},
   "source": [
    "# 12.3 Solving least squares problems"
   ]
  },
  {
   "cell_type": "markdown",
   "metadata": {},
   "source": [
    "Least squares via QR factorization\n",
    "\n",
    "**given** an m × n matrix $A$ with *linearly independent columns* and an m-vector $b$.\n",
    "1. QR factorization. Compute the QR factorization $A = QR$.\n",
    "2. Compute $Q^Tb$.\n",
    "3. Back substitution. Solve the triangular equation $R\\hat{x} = Q^Tb$."
   ]
  },
  {
   "cell_type": "code",
   "execution_count": 15,
   "metadata": {},
   "outputs": [],
   "source": [
    "A = np.random.normal(size=(100, 20))\n",
    "b = np.random.normal(size=100)"
   ]
  },
  {
   "cell_type": "code",
   "execution_count": 18,
   "metadata": {},
   "outputs": [
    {
     "name": "stderr",
     "output_type": "stream",
     "text": [
      "D:\\Devtools\\anaconda3\\lib\\site-packages\\ipykernel_launcher.py:1: FutureWarning: `rcond` parameter will change to the default of machine precision times ``max(M, N)`` where M and N are the input matrix dimensions.\n",
      "To use the future default and silence this warning we advise to pass `rcond=None`, to keep using the old, explicitly pass `rcond=-1`.\n",
      "  \"\"\"Entry point for launching an IPython kernel.\n"
     ]
    }
   ],
   "source": [
    "x1 = np.linalg.lstsq(A, b)[0] # Least squares using backslash operator\n",
    "x2 = np.linalg.inv(A.T @ A) @ (A.T @ b) # Using formula\n",
    "x3 = np.linalg.pinv(A) @ b # Using pseudo-inverse\n",
    "Q, R = np.linalg.qr(A);\n",
    "x4 = np.linalg.solve(R, Q.T @ b); # Using QR factorization"
   ]
  },
  {
   "cell_type": "code",
   "execution_count": 22,
   "metadata": {},
   "outputs": [
    {
     "name": "stdout",
     "output_type": "stream",
     "text": [
      "8.053242382167588e-16\n",
      "8.939483013937198e-16\n",
      "8.006204592953983e-16\n"
     ]
    }
   ],
   "source": [
    "print(np.linalg.norm(x1-x2))\n",
    "print(np.linalg.norm(x2-x3))\n",
    "print(np.linalg.norm(x3-x4))"
   ]
  },
  {
   "cell_type": "markdown",
   "metadata": {},
   "source": [
    "## Complexity"
   ]
  },
  {
   "cell_type": "markdown",
   "metadata": {},
   "source": [
    "$$2mn^2 + 2mn + n^2 \\approx 2mn^2$$"
   ]
  },
  {
   "cell_type": "code",
   "execution_count": 31,
   "metadata": {},
   "outputs": [
    {
     "name": "stderr",
     "output_type": "stream",
     "text": [
      "D:\\Devtools\\anaconda3\\lib\\site-packages\\ipykernel_launcher.py:1: FutureWarning: `rcond` parameter will change to the default of machine precision times ``max(M, N)`` where M and N are the input matrix dimensions.\n",
      "To use the future default and silence this warning we advise to pass `rcond=None`, to keep using the old, explicitly pass `rcond=-1`.\n",
      "  \"\"\"Entry point for launching an IPython kernel.\n"
     ]
    },
    {
     "name": "stdout",
     "output_type": "stream",
     "text": [
      "65.5 ms ± 1.44 ms per loop (mean ± std. dev. of 7 runs, 10 loops each)\n"
     ]
    }
   ],
   "source": [
    "m = 2000\n",
    "n = 500\n",
    "A = np.random.normal(size=(m, n))\n",
    "b = np.random.normal(size=m)\n",
    "%timeit x = np.linalg.lstsq(A, b)"
   ]
  },
  {
   "cell_type": "code",
   "execution_count": 32,
   "metadata": {},
   "outputs": [
    {
     "name": "stderr",
     "output_type": "stream",
     "text": [
      "D:\\Devtools\\anaconda3\\lib\\site-packages\\ipykernel_launcher.py:1: FutureWarning: `rcond` parameter will change to the default of machine precision times ``max(M, N)`` where M and N are the input matrix dimensions.\n",
      "To use the future default and silence this warning we advise to pass `rcond=None`, to keep using the old, explicitly pass `rcond=-1`.\n",
      "  \"\"\"Entry point for launching an IPython kernel.\n"
     ]
    },
    {
     "name": "stdout",
     "output_type": "stream",
     "text": [
      "98.2 ms ± 3.41 ms per loop (mean ± std. dev. of 7 runs, 10 loops each)\n"
     ]
    }
   ],
   "source": [
    "m = 4000\n",
    "n = 500\n",
    "A = np.random.normal(size=(m, n))\n",
    "b = np.random.normal(size=m)\n",
    "%timeit x = np.linalg.lstsq(A, b)"
   ]
  },
  {
   "cell_type": "code",
   "execution_count": 33,
   "metadata": {},
   "outputs": [
    {
     "name": "stderr",
     "output_type": "stream",
     "text": [
      "D:\\Devtools\\anaconda3\\lib\\site-packages\\ipykernel_launcher.py:1: FutureWarning: `rcond` parameter will change to the default of machine precision times ``max(M, N)`` where M and N are the input matrix dimensions.\n",
      "To use the future default and silence this warning we advise to pass `rcond=None`, to keep using the old, explicitly pass `rcond=-1`.\n",
      "  \"\"\"Entry point for launching an IPython kernel.\n"
     ]
    },
    {
     "name": "stdout",
     "output_type": "stream",
     "text": [
      "291 ms ± 9.36 ms per loop (mean ± std. dev. of 7 runs, 1 loop each)\n"
     ]
    }
   ],
   "source": [
    "m = 2000\n",
    "n = 1000\n",
    "A = np.random.normal(size=(m, n))\n",
    "b = np.random.normal(size=m)\n",
    "%timeit x = np.linalg.lstsq(A, b)"
   ]
  },
  {
   "cell_type": "markdown",
   "metadata": {},
   "source": [
    "doubling m approximately doubles the computation time\n",
    "\n",
    "doubling n increases it by around a factor of four"
   ]
  },
  {
   "cell_type": "markdown",
   "metadata": {},
   "source": [
    "## Matrix least squares"
   ]
  },
  {
   "cell_type": "code",
   "execution_count": 36,
   "metadata": {},
   "outputs": [
    {
     "name": "stderr",
     "output_type": "stream",
     "text": [
      "D:\\Devtools\\anaconda3\\lib\\site-packages\\ipykernel_launcher.py:4: FutureWarning: `rcond` parameter will change to the default of machine precision times ``max(M, N)`` where M and N are the input matrix dimensions.\n",
      "To use the future default and silence this warning we advise to pass `rcond=None`, to keep using the old, explicitly pass `rcond=-1`.\n",
      "  after removing the cwd from sys.path.\n",
      "D:\\Devtools\\anaconda3\\lib\\site-packages\\ipykernel_launcher.py:7: FutureWarning: `rcond` parameter will change to the default of machine precision times ``max(M, N)`` where M and N are the input matrix dimensions.\n",
      "To use the future default and silence this warning we advise to pass `rcond=None`, to keep using the old, explicitly pass `rcond=-1`.\n",
      "  import sys\n"
     ]
    },
    {
     "data": {
      "text/plain": [
       "3.836642070827155e-16"
      ]
     },
     "execution_count": 36,
     "metadata": {},
     "output_type": "execute_result"
    }
   ],
   "source": [
    "A = np.random.normal(size=(1000, 100))\n",
    "B = np.random.normal(size=(1000, 10))\n",
    "\n",
    "X = np.linalg.lstsq(A, B)[0]\n",
    "\n",
    "# Check that third column of X is least squares solution with third column of B\n",
    "x3 = np.linalg.lstsq(A, B[:, 2])[0]\n",
    "np.linalg.norm(X[:, 2] - x3)"
   ]
  },
  {
   "cell_type": "markdown",
   "metadata": {},
   "source": [
    "# 12.4 Examples"
   ]
  },
  {
   "cell_type": "markdown",
   "metadata": {},
   "source": [
    "## Advertising purchases"
   ]
  },
  {
   "cell_type": "code",
   "execution_count": 37,
   "metadata": {},
   "outputs": [
    {
     "name": "stdout",
     "output_type": "stream",
     "text": [
      "[  62.07662454   99.98500403 1442.83746254]\n"
     ]
    },
    {
     "name": "stderr",
     "output_type": "stream",
     "text": [
      "D:\\Devtools\\anaconda3\\lib\\site-packages\\ipykernel_launcher.py:14: FutureWarning: `rcond` parameter will change to the default of machine precision times ``max(M, N)`` where M and N are the input matrix dimensions.\n",
      "To use the future default and silence this warning we advise to pass `rcond=None`, to keep using the old, explicitly pass `rcond=-1`.\n",
      "  \n"
     ]
    }
   ],
   "source": [
    "n = 3\n",
    "m = 10\n",
    "R = np.array([[0.97, 1.86, 0.41],\n",
    "              [1.23, 2.18, 0.53],\n",
    "              [0.80, 1.24, 0.62],\n",
    "              [1.29, 0.98, 0.51],\n",
    "              [1.10, 1.23, 0.69],\n",
    "              [0.67, 0.34, 0.54],\n",
    "              [0.87, 0.26, 0.62],\n",
    "              [1.10, 0.16, 0.48],\n",
    "              [1.92, 0.22, 0.71],\n",
    "              [1.29, 0.12, 0.62]])\n",
    "v_des = 1e+3 * np.ones(10)\n",
    "s = np.linalg.lstsq(R, v_des)[0]\n",
    "print(s)"
   ]
  },
  {
   "cell_type": "code",
   "execution_count": 38,
   "metadata": {},
   "outputs": [
    {
     "data": {
      "text/plain": [
       "132.6381902632653"
      ]
     },
     "execution_count": 38,
     "metadata": {},
     "output_type": "execute_result"
    }
   ],
   "source": [
    "np.sqrt(sum((R @ s - v_des)**2)/len(v_des))"
   ]
  },
  {
   "cell_type": "markdown",
   "metadata": {},
   "source": [
    "## Illumination"
   ]
  },
  {
   "cell_type": "code",
   "execution_count": 39,
   "metadata": {},
   "outputs": [],
   "source": [
    "# number of lamps\n",
    "n = 10\n",
    "# x, y positions of lamps and height above floor\n",
    "lamps = np.array([[4.1, 20.4, 4],\n",
    "                  [14.1, 21.3, 3.5],\n",
    "                  [22.6, 17.1, 6],\n",
    "                  [5.5, 12.3, 4.0],\n",
    "                  [12.2, 9.7, 4.0],\n",
    "                  [15.3, 13.8, 6],\n",
    "                  [21.3, 10.5, 5.5],\n",
    "                  [3.9 ,3.3, 5.0],\n",
    "                  [13.1, 4.3, 5.0],\n",
    "                  [20.3, 4.2, 4.5]])\n",
    "\n",
    "N = 25  # grid size\n",
    "m = N * N  # number of pixels\n",
    "# construct m x 2 matrix with coordinates of pixel centers\n",
    "pixels = np.hstack(\n",
    "    [np.outer(np.arange(0.5, N, 1), np.ones(N)).reshape(m, 1),\n",
    "     np.outer(np.ones(N), np.arange(0.5, N, 1)).reshape(m, 1)]\n",
    ")"
   ]
  },
  {
   "cell_type": "code",
   "execution_count": 49,
   "metadata": {},
   "outputs": [],
   "source": [
    "# The m x n matrix A maps lamp powers to pixel intensities.\n",
    "# A[i,j] is inversely proportional to the squared distance of\n",
    "# lamp j to pixel i.\n",
    "A = np.zeros((m, n))\n",
    "for i in range(m):\n",
    "    for j in range(n):\n",
    "        A[i,j] = 1.0 / (np.linalg.norm(np.hstack([pixels[i, :], 0]) - lamps[j, :])**2)\n",
    "A = (m/np.sum(A)) * A  # scale elements of A"
   ]
  },
  {
   "cell_type": "code",
   "execution_count": 50,
   "metadata": {},
   "outputs": [
    {
     "name": "stdout",
     "output_type": "stream",
     "text": [
      "0.1403904813427606\n"
     ]
    },
    {
     "name": "stderr",
     "output_type": "stream",
     "text": [
      "D:\\Devtools\\anaconda3\\lib\\site-packages\\ipykernel_launcher.py:2: FutureWarning: `rcond` parameter will change to the default of machine precision times ``max(M, N)`` where M and N are the input matrix dimensions.\n",
      "To use the future default and silence this warning we advise to pass `rcond=None`, to keep using the old, explicitly pass `rcond=-1`.\n",
      "  \n"
     ]
    }
   ],
   "source": [
    "# Least squares solution\n",
    "x = np.linalg.lstsq(A, np.ones(m))[0]\n",
    "rms_ls = (sum((A @ x - 1)**2)/m)**0.5\n",
    "print(rms_ls)"
   ]
  },
  {
   "cell_type": "code",
   "execution_count": 52,
   "metadata": {},
   "outputs": [
    {
     "data": {
      "image/png": "[encoded data removed]",
      "text/plain": [
       "<Figure size 432x288 with 1 Axes>"
      ]
     },
     "metadata": {
      "needs_background": "light"
     },
     "output_type": "display_data"
    }
   ],
   "source": [
    "plt.ion()\n",
    "plt.hist(A @ x, bins = 25)\n",
    "plt.show()"
   ]
  },
  {
   "cell_type": "code",
   "execution_count": 53,
   "metadata": {},
   "outputs": [
    {
     "name": "stdout",
     "output_type": "stream",
     "text": [
      "0.24174131853807873\n"
     ]
    }
   ],
   "source": [
    "# Intensity if all lamp powers are one\n",
    "rms_uniform = (sum((A @ np.ones(n) - 1)**2)/m)**0.5\n",
    "print(rms_uniform)"
   ]
  },
  {
   "cell_type": "code",
   "execution_count": 54,
   "metadata": {},
   "outputs": [
    {
     "data": {
      "image/png": "[encoded data removed]",
      "text/plain": [
       "<Figure size 432x288 with 1 Axes>"
      ]
     },
     "metadata": {
      "needs_background": "light"
     },
     "output_type": "display_data"
    }
   ],
   "source": [
    "plt.hist(A @ np.ones(n), bins = 25)\n",
    "plt.show()"
   ]
  }
 ],
 "metadata": {
  "kernelspec": {
   "display_name": "Python 3",
   "language": "python",
   "name": "python3"
  },
  "language_info": {
   "codemirror_mode": {
    "name": "ipython",
    "version": 3
   },
   "file_extension": ".py",
   "mimetype": "text/x-python",
   "name": "python",
   "nbconvert_exporter": "python",
   "pygments_lexer": "ipython3",
   "version": "3.7.6"
  }
 },
 "nbformat": 4,
 "nbformat_minor": 4
}
