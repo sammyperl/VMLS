{
 "cells": [
  {
   "cell_type": "code",
   "execution_count": 1,
   "metadata": {},
   "outputs": [],
   "source": [
    "import numpy as np\n",
    "import matplotlib.pyplot as plt\n",
    "\n",
    "from sklearn.cluster import KMeans"
   ]
  },
  {
   "cell_type": "markdown",
   "metadata": {},
   "source": [
    "# 4.1 Clustering & 4.2 A clustering objective"
   ]
  },
  {
   "cell_type": "markdown",
   "metadata": {},
   "source": [
    "- given N n-vectors $x_1, \\ldots ,x_N$\n",
    "- goal: partition (divide, cluster) into k groups\n",
    "- want vectors in the same group to be close to one another\n",
    "\n",
    "The goal of grouping is to partition (divide, cluster) N n-vectors into k groups, and the vectors in each group are close to each other."
   ]
  },
  {
   "cell_type": "markdown",
   "metadata": {},
   "source": [
    "## Clustering objective\n",
    "- $G_j \\subset {1, \\ldots ,N}$ is group $j$, for $j = 1, \\ldots ,k$\n",
    "- $c_i$ is group that $x_i$ is in: $i \\in G_{c_i}$\n",
    "- group *representatives*: n-vectors $z_1, \\ldots ,z_k$\n",
    "- clustering objective function is\n",
    "$$\n",
    "J^{clust} =\\frac{1}{N} \\sum^{N}_{i=1} \\left\\| x_i − z_{c_i} \\right\\| ^2\n",
    "$$\n",
    "mean square distance from vectors to associated representative\n",
    "-  $J^{clust}$ small means good clustering\n",
    "- **goal**: choose clustering $c_i$ and representatives $z_j$ to minimize $J^{clust}$\n",
    "\n",
    "\"Objective (function)\" is used to quantify the \"goodness\" of \"choice of clustering\", and can be used for other optimization problems."
   ]
  },
  {
   "cell_type": "markdown",
   "metadata": {},
   "source": [
    "## Partitioning the vectors given the representatives\n",
    "- suppose representatives $z_1,\\ldots ,z_k$ are given\n",
    "- how do we assign the vectors to groups, i.e., choose $c_1,\\ldots,c_N$?\n",
    "- $c_i$ only appears in term $\\left\\|x_i − z_{c_i}\\right\\|^2$ in $J^{clust}$\n",
    "- to minimize over $c_i$, choose $c_i$ so $\\left\\|x_i − z_{c_i}\\right\\|^2 = \\mathop {\\min}\\limits_j \\left\\|x_i − z_j\\right\\|^2$\n",
    "- i.e., assign each vector to its nearest representative"
   ]
  },
  {
   "cell_type": "markdown",
   "metadata": {},
   "source": [
    "## Choosing representatives given the partition\n",
    "- given the partition $G_1, \\ldots ,G_k$, how do we choose representatives $z_1, \\ldots ,z_k$ to minimize $J^{clust}$?\n",
    "- $J^{clust}$ splits into a sum of k sums, one for each $z_j$:\n",
    "$$\n",
    "J^{clust} = J_1 + \\ldots + J_k, \\quad J_j = (1/N) \\sum_{i\\in G_j} \\left\\| x_i − z_{jk} \\right\\| ^2\n",
    "$$\n",
    "- so we choose $z_j$ to minimize mean square distance to the points in its partition\n",
    "- this is the mean (or average or centroid) of the points in the partition:\n",
    "$$\n",
    "z_j = (1/|G_j|)  \\sum_{i\\in G_j}{x_i}\n",
    "$$"
   ]
  },
  {
   "cell_type": "markdown",
   "metadata": {},
   "source": [
    "# 4.3 The k-means algorithm"
   ]
  },
  {
   "cell_type": "markdown",
   "metadata": {},
   "source": [
    "alternate between updating the partition, then the representatives"
   ]
  },
  {
   "cell_type": "markdown",
   "metadata": {},
   "source": [
    "**given** $x_1,\\ldots ,x_N \\in R^n$ and $z_1,\\ldots ,z_k \\in R^n$\n",
    "\n",
    "**repeat**\n",
    "\n",
    "Update partition: assign $i$ to $G_j, \\  j = \\mathop {argmin}\\limits_j' \\left\\|x_i − z_{j'} \\right\\|^2$\n",
    "\n",
    "Update centroids: $z_j = \\frac{1}{|G_j|} \\sum_{i \\in G_j} x_i$\n",
    "\n",
    "**until** $z_1,\\ldots ,z_k$ stop changing"
   ]
  },
  {
   "cell_type": "markdown",
   "metadata": {},
   "source": [
    "## Convergence of k-means algorithm\n",
    "- $J^{clust}$ goes down in each step, until the $z_j$’s stop changing\n",
    "- but (in general) the k-means algorithm does not find the partition that minimizes $J^{clust}$\n",
    "- k-means is a heuristic: it is not guaranteed to find the smallest possible value of $J^{clust}$\n",
    "- the final partition (and its value of $J^{clust}$) can depend on the initial representatives\n",
    "- common approach:\n",
    "    - run k-means 10 times, with different (often random) initial representatives\n",
    "    - take as final partition the one with the smallest value of $J^{clust}$"
   ]
  },
  {
   "cell_type": "markdown",
   "metadata": {},
   "source": [
    "## Group assignment"
   ]
  },
  {
   "cell_type": "markdown",
   "metadata": {},
   "source": [
    "```julia\n",
    "function kmeans(x, k; maxiters = 100, tol = 1e-5)\n",
    "\n",
    "    N = length(x)\n",
    "    n = length(x[1])\n",
    "    distances = zeros(N) # used to store the distance of each\n",
    "    # point to the nearest representative.\n",
    "    reps = [zeros(n) for j=1:k] # used to store representatives.\n",
    "\n",
    "    # ’assignment’ is an array of N integers between 1 and k.\n",
    "    # The initial assignment is chosen randomly.\n",
    "    assignment = [ rand(1:k) for i in 1:N ]\n",
    "    \n",
    "    Jprevious = Inf # used in stopping condition\n",
    "    for iter = 1:maxiters\n",
    "\n",
    "        # Cluster j representative is average of points in cluster j.\n",
    "        for j = 1:k\n",
    "            group = [i for i=1:N if assignment[i] == j]\n",
    "            reps[j] = sum(x[group]) / length(group);\n",
    "        end;\n",
    "\n",
    "        # For each x[i], find distance to the nearest representative\n",
    "        # and its group index.\n",
    "        for i = 1:N\n",
    "            (distances[i], assignment[i]) =\n",
    "            findmin([norm(x[i] - reps[j]) for j = 1:k])\n",
    "        end;\n",
    "\n",
    "        # Compute clustering objective.\n",
    "        J = norm(distances)^2 / N\n",
    "\n",
    "        # Show progress and terminate if J stopped decreasing.\n",
    "        println(\"Iteration \", iter, \": Jclust = \", J, \".\")\n",
    "        if iter > 1 && abs(J - Jprevious) < tol * J\n",
    "            return assignment, reps\n",
    "        end\n",
    "        Jprevious = J\n",
    "    end\n",
    "\n",
    "end\n",
    "```"
   ]
  },
  {
   "cell_type": "markdown",
   "metadata": {},
   "source": [
    "Create synthetic data"
   ]
  },
  {
   "cell_type": "code",
   "execution_count": 2,
   "metadata": {},
   "outputs": [],
   "source": [
    "X = np.concatenate(\n",
    "    [[.3*np.random.randn(2) for i in range(100)],\n",
    "     [np.array([1,1]) + .3*np.random.randn(2) for i in range(100)],\n",
    "     [np.array([1,-1]) + .3*np.random.randn(2) for i in range(100)]]\n",
    ")"
   ]
  },
  {
   "cell_type": "code",
   "execution_count": 3,
   "metadata": {},
   "outputs": [
    {
     "data": {
      "image/png": "[encoded data removed]",
      "text/plain": [
       "<Figure size 432x288 with 1 Axes>"
      ]
     },
     "metadata": {
      "needs_background": "light"
     },
     "output_type": "display_data"
    }
   ],
   "source": [
    "plt.scatter([x[0] for x in X],[x[1] for x in X])\n",
    "plt.xlim([-1.5,2.5]),plt.ylim([-2,2])\n",
    "plt.show()"
   ]
  },
  {
   "cell_type": "markdown",
   "metadata": {},
   "source": [
    "Define kmeans algorithm that start from a random assignment of the points in k groups"
   ]
  },
  {
   "cell_type": "code",
   "execution_count": 35,
   "metadata": {},
   "outputs": [],
   "source": [
    "def kmeans(X, num_clusters, max_iters=100, tolerance=1e-4, random_seed=None):\n",
    "    num_samples = len(X)  # number of samples\n",
    "    n = len(X[0])  # dimension of each vector\n",
    "    distances = np.zeros(num_samples)  # stores distances of each point to nearest rep\n",
    "    # point to the nearest representative.\n",
    "    reps = [np.zeros(n)\n",
    "            for j in range(num_clusters)]  # stores representatives\n",
    "    progress = []  # used to visualize J updates\n",
    "    \n",
    "    # placeholder for ending condition: \n",
    "    # if previous J and current J haven't changed much, finish\n",
    "    J_prev = np.Infinity\n",
    "    \n",
    "    # intializes a random assignment of num_samples integers between 0 and num_clusters\n",
    "    random_state = np.random.RandomState(random_seed)\n",
    "    assignment = [random_state.randint(num_clusters) for i in range(num_samples)]\n",
    "    \n",
    "    # start iteration\n",
    "    for itr in range(max_iters):    \n",
    "        # Cluster j representative is average of points in cluster j.\n",
    "        for j in range(num_clusters):\n",
    "            group = [i for i in range(num_samples) if assignment[i] == j]\n",
    "            reps[j] = sum(X[group] / len(group))\n",
    "        \n",
    "        # For each X[i], find distance to the nearest representative \n",
    "        # and its group index.\n",
    "        for i in range(num_samples):\n",
    "            #(distance and index):\n",
    "            (distances[i], assignment[i]) = (\n",
    "                np.amin(\n",
    "                    [np.linalg.norm(X[i] - reps[j]) for j in range(num_clusters)]\n",
    "                ), \n",
    "                [np.linalg.norm(X[i] - reps[j]) for j in range(n_clusters)].index(\n",
    "                    np.amin([np.linalg.norm(X[i] - reps[j]) for j in range(num_clusters)])\n",
    "                )\n",
    "            )\n",
    "        J = (np.linalg.norm(distances)**2) / num_samples  # calculate objective\n",
    "        \n",
    "        progress.append([J, itr])\n",
    "        print(\"Iteration \" + str(itr) + \": Jclust = \" + str(J) + \".\")\n",
    "        \n",
    "        # check whether the stop condition is met\n",
    "        if (itr > 1) and (abs(J - J_prev) < (tolerance * J)):\n",
    "            return assignment, reps, progress\n",
    "        J_prev = J\n",
    "        \n",
    "    return assignment, reps, progress"
   ]
  },
  {
   "cell_type": "code",
   "execution_count": 52,
   "metadata": {},
   "outputs": [
    {
     "name": "stdout",
     "output_type": "stream",
     "text": [
      "Iteration 0: Jclust = 0.9183587483209705.\n",
      "Iteration 1: Jclust = 0.284033640864581.\n",
      "Iteration 2: Jclust = 0.18295344307209171.\n",
      "Iteration 3: Jclust = 0.17946700754613387.\n",
      "Iteration 4: Jclust = 0.17942694791406946.\n",
      "Iteration 5: Jclust = 0.17942694791406946.\n"
     ]
    },
    {
     "data": {
      "image/png": "[encoded data removed]",
      "text/plain": [
       "<Figure size 432x288 with 1 Axes>"
      ]
     },
     "metadata": {
      "needs_background": "light"
     },
     "output_type": "display_data"
    },
    {
     "data": {
      "image/png": "[encoded data removed]",
      "text/plain": [
       "<Figure size 432x288 with 1 Axes>"
      ]
     },
     "metadata": {
      "needs_background": "light"
     },
     "output_type": "display_data"
    }
   ],
   "source": [
    "n_clusters = 3\n",
    "assignment, reps, progress = kmeans(X, n_clusters)\n",
    "groups = [[X[i] for i in range(len(X)) if assignment[i] == j] for j in range(n_clusters)]\n",
    "plt.scatter([c[0] for c in groups[0]], [c[1] for c in groups[0]])\n",
    "plt.scatter([c[0] for c in groups[1]], [c[1] for c in groups[1]])\n",
    "plt.scatter([c[0] for c in groups[2]], [c[1] for c in groups[2]])\n",
    "plt.xlim([-1.5,2.5])\n",
    "plt.ylim([-2,2])\n",
    "plt.show()\n",
    "\n",
    "plt.plot([p[0] for p in progress])\n",
    "plt.show()"
   ]
  },
  {
   "cell_type": "markdown",
   "metadata": {},
   "source": [
    "Define kmeans algorithm that start from a random initial choice of representatives"
   ]
  },
  {
   "cell_type": "code",
   "execution_count": 75,
   "metadata": {},
   "outputs": [],
   "source": [
    "def kmeans(X, num_clusters, max_iters=100, tolerance=1e-4, random_seed=None):\n",
    "    \n",
    "    num_samples = len(X)\n",
    "    distances = np.zeros(num_samples)  # stores distances of each point to nearest rep\n",
    "    assignment = np.zeros(num_samples)\n",
    "    \n",
    "    progress = []  # used to visualize J updates\n",
    "    \n",
    "    # placeholder for ending condition: \n",
    "    # if previous J and current J haven't changed much, finish\n",
    "    J_prev = np.Infinity\n",
    "    \n",
    "    # initialize random centroids (i.e. representatives)\n",
    "    random_state = np.random.RandomState(random_seed)\n",
    "    seeds = random_state.permutation(num_samples)[:num_clusters]\n",
    "    reps = X[seeds]\n",
    "    \n",
    "    # start iteration\n",
    "    for itr in range(max_iters):\n",
    "        \n",
    "        # group assignment\n",
    "        for i in range(num_samples):\n",
    "            #(distance and index):\n",
    "            (distances[i], assignment[i]) = (\n",
    "                np.amin(\n",
    "                    [np.linalg.norm(X[i] - reps[j]) for j in range(num_clusters)]\n",
    "                ), \n",
    "                [np.linalg.norm(X[i] - reps[j]) for j in range(n_clusters)].index(\n",
    "                    np.amin([np.linalg.norm(X[i] - reps[j]) for j in range(num_clusters)])\n",
    "                )\n",
    "            )\n",
    "        J = (np.linalg.norm(distances)**2) / num_samples  # calculate objective\n",
    "        \n",
    "        # show info\n",
    "        progress.append([J, itr])\n",
    "        print(\"Iteration \" + str(itr) + \": Jclust = \" + str(J) + \".\")\n",
    "        \n",
    "        # check whether the stop condition is met\n",
    "        if (itr > 1) and (abs(J - J_prev) < (tolerance * J)):\n",
    "            return assignment, reps, progress\n",
    "        J_prev = J\n",
    "        \n",
    "        \n",
    "        # Update centroid\n",
    "        for j in range(num_clusters):\n",
    "            group = [i for i in range(num_samples) if assignment[i] == j]\n",
    "            reps[j] = sum(X[group] / len(group))\n",
    "        \n",
    "    return assignment, reps, progress"
   ]
  },
  {
   "cell_type": "code",
   "execution_count": 76,
   "metadata": {},
   "outputs": [
    {
     "name": "stdout",
     "output_type": "stream",
     "text": [
      "Iteration 0: Jclust = 1.1720616295284296.\n",
      "Iteration 1: Jclust = 0.5400485793977498.\n",
      "Iteration 2: Jclust = 0.4846760605875834.\n",
      "Iteration 3: Jclust = 0.47061983345146285.\n",
      "Iteration 4: Jclust = 0.4353557311975349.\n",
      "Iteration 5: Jclust = 0.3425359924212493.\n",
      "Iteration 6: Jclust = 0.20143480647173675.\n",
      "Iteration 7: Jclust = 0.18007396082208083.\n",
      "Iteration 8: Jclust = 0.17942694791406946.\n",
      "Iteration 9: Jclust = 0.17942694791406946.\n"
     ]
    },
    {
     "data": {
      "image/png": "[encoded data removed]",
      "text/plain": [
       "<Figure size 432x288 with 1 Axes>"
      ]
     },
     "metadata": {
      "needs_background": "light"
     },
     "output_type": "display_data"
    },
    {
     "data": {
      "image/png": "[encoded data removed]",
      "text/plain": [
       "<Figure size 432x288 with 1 Axes>"
      ]
     },
     "metadata": {
      "needs_background": "light"
     },
     "output_type": "display_data"
    }
   ],
   "source": [
    "n_clusters = 3\n",
    "assignment, reps, progress = kmeans(X, n_clusters)\n",
    "groups = [[X[i] for i in range(len(X)) if assignment[i] == j] for j in range(n_clusters)]\n",
    "plt.scatter([c[0] for c in groups[0]], [c[1] for c in groups[0]])\n",
    "plt.scatter([c[0] for c in groups[1]], [c[1] for c in groups[1]])\n",
    "plt.scatter([c[0] for c in groups[2]], [c[1] for c in groups[2]])\n",
    "plt.xlim([-1.5,2.5])\n",
    "plt.ylim([-2,2])\n",
    "plt.show()\n",
    "\n",
    "plt.plot([p[0] for p in progress])\n",
    "plt.show()"
   ]
  },
  {
   "cell_type": "markdown",
   "metadata": {},
   "source": [
    "Use sklearn's kmeans"
   ]
  },
  {
   "cell_type": "code",
   "execution_count": 77,
   "metadata": {},
   "outputs": [
    {
     "data": {
      "image/png": "[encoded data removed]",
      "text/plain": [
       "<Figure size 432x288 with 1 Axes>"
      ]
     },
     "metadata": {
      "needs_background": "light"
     },
     "output_type": "display_data"
    }
   ],
   "source": [
    "kmeans = KMeans(n_clusters=3, random_state=0).fit(X)\n",
    "labels = kmeans.labels_\n",
    "group_representative = kmeans.cluster_centers_\n",
    "J_clust = kmeans.inertia_\n",
    "grps = [[X[i,:] for i in range(300) if labels[i]==j] for j in range(3)]\n",
    "plt.scatter([c[0] for c in grps[0]], [c[1] for c in grps[0]])\n",
    "plt.scatter([c[0] for c in grps[1]], [c[1] for c in grps[1]])\n",
    "plt.scatter([c[0] for c in grps[2]], [c[1] for c in grps[2]])\n",
    "plt.xlim(-1.5, 2.5)\n",
    "plt.ylim(-2,2)\n",
    "plt.show()"
   ]
  }
 ],
 "metadata": {
  "kernelspec": {
   "display_name": "Python 3",
   "language": "python",
   "name": "python3"
  },
  "language_info": {
   "codemirror_mode": {
    "name": "ipython",
    "version": 3
   },
   "file_extension": ".py",
   "mimetype": "text/x-python",
   "name": "python",
   "nbconvert_exporter": "python",
   "pygments_lexer": "ipython3",
   "version": "3.7.6"
  }
 },
 "nbformat": 4,
 "nbformat_minor": 4
}
