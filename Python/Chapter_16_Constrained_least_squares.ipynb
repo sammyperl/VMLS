{
 "cells": [
  {
   "cell_type": "code",
   "execution_count": 1,
   "metadata": {},
   "outputs": [],
   "source": [
    "import numpy as np\n",
    "import matplotlib.pyplot as plt"
   ]
  },
  {
   "cell_type": "markdown",
   "metadata": {},
   "source": [
    "# 16.1 Constrained least squares problem"
   ]
  },
  {
   "cell_type": "markdown",
   "metadata": {},
   "source": [
    "- the (linearly) constrained least squares problem (CLS) is\n",
    "$$\n",
    "\\begin{align}\n",
    " & \\underset{}{\\text{minimize}} && \\|Ax-b\\|^2 \\\\\n",
    " & \\text{subject to} && Cx=d\n",
    "\\end{align}\n",
    "$$\n",
    "- variable (to be chosen/found) is n-vector $x$\n",
    "- m × n matrix $A$, m-vector $b$, p × n matrix $C$, and p-vector $d$ are *problem data* (i.e., they are given)\n",
    "- $\\|Ax − b\\|^2$ is the *objective function*\n",
    "- $Cx = d$ are the *equality constraints*\n",
    "- $x$ is feasible if $Cx = d$\n",
    "- $\\hat{x}$ is a solution of CLS if $C\\hat{x} = d$ and $\\|A\\hat{x} − b\\|^2 \\le \\|Ax − b\\|^2$ holds for any n-vector $x$ that satisfies $Cx = d$\n",
    "\n",
    "- CLS combines solving linear equations with least squares problem\n",
    "- like a bi-objective least squares problem, with **infinite weight** on second objective $\\|Cx − d\\|^2$\n",
    "$$ \\|Ax − b\\|^2 + \\lambda \\|Cx − d\\|^2$$"
   ]
  },
  {
   "cell_type": "markdown",
   "metadata": {},
   "source": [
    "## Piecewise polynomial"
   ]
  },
  {
   "cell_type": "markdown",
   "metadata": {},
   "source": [
    "- piecewise-polynomial function $\\hat{f}(x)$ has form\n",
    "$$\n",
    "\\hat{f}(x) = \\begin{cases}\n",
    "p(x) = \\theta_1 + \\theta_2 x + \\theta_3 x^2 + \\theta_4 x^3 & x \\le a \\\\\n",
    "q(x) = \\theta_5 + \\theta_6 x + \\theta_7 x^2 + \\theta_8 x^3 & x \\gt a \\\\\n",
    "\\end{cases}\n",
    "$$\n",
    "(a is given)\n",
    "- we require $p(a) = q(a)$, $p'(a) = q'(a)$ \\\n",
    "  (i.e., $\\hat{f}(x)$ is continuous and has a continuous first derivative at $x = a$)\n",
    "- N data points $(x_i, y_i)$ are numbered: $x_1, \\ldots , x_M \\le a$ and $x_{M+1}, \\ldots, x_N \\gt a$\n",
    "- sum of squares of the prediction errors\n",
    "$$\n",
    "\\sum^M_{i=1}{(\\theta_1 + \\theta_2 x_i + \\theta_3 x^2_i + \\theta_4 x^3_i − y_i)^2} + \\sum^N_{i=M+1}{(\\theta_5 + \\theta_6 x_i + \\theta_7 x^2_i + \\theta_8 x^3_i − y_i)^2}\n",
    "$$\n",
    "- constraints are (linear equations in $\\theta$)\n",
    "$$\n",
    "\\begin{align}\n",
    "\\theta_1 + \\theta_2 a + \\theta_3 a^2 + \\theta_4 a^3 − \\theta_5 + \\theta_6 a + \\theta_7 a^2 + \\theta_8 a^3 &= 0 \\\\\n",
    "\\theta_2 + 2 \\theta_3 a + 3 \\theta_4 a^2 - \\theta_6 + 2 \\theta_7 a + 3 \\theta_8 a^2 &= 0\n",
    "\\end{align}\n",
    "$$\n",
    "- prediction error on $(x_i, y_i)$ is $a^T_i \\theta − y_i$, with\n",
    "$$\n",
    "(a_i)_j = \\begin{cases}\n",
    "(1, x_i, x_i^2, x_i^3, 0, 0, 0, 0) & x_i \\le a \\\\\n",
    "(0, 0, 0, 0, 1, x_i, x_i^2, x_i^3) & x_i \\gt a\n",
    "\\end{cases}\n",
    "$$\n",
    "- sum square error is $\\|A\\theta − y\\|^2$, where $a^T_i$ are rows of $A$"
   ]
  },
  {
   "cell_type": "code",
   "execution_count": 2,
   "metadata": {},
   "outputs": [],
   "source": [
    "def cls_solve(A, b, C, d):\n",
    "\n",
    "    # convert 1-d vector to 2-d column vector\n",
    "    _ndim = b.ndim\n",
    "    if _ndim == 1:\n",
    "        b = np.vstack(b)\n",
    "        d = np.vstack(d)\n",
    "\n",
    "    m, n = A.shape\n",
    "    p, n = C.shape\n",
    "    Q, R = np.linalg.qr(np.vstack([A, C]))\n",
    "    Q1 = Q[0:m, :]\n",
    "    Q2 = Q[m:m+p, :]\n",
    "    Qtil, Rtil = np.linalg.qr(Q2.T)\n",
    "    w = np.linalg.lstsq(\n",
    "        Rtil, \n",
    "        (2 * Qtil.T @ (Q1.T @ b) \n",
    "         - 2 * np.linalg.lstsq(Rtil.T, d, rcond=None)[0]),\n",
    "        rcond=None\n",
    "    )[0]\n",
    "    xhat = np.linalg.lstsq(R, (Q1.T @ b - Q2.T @ w/2), rcond=None)[0]\n",
    "    \n",
    "    if _ndim == 1:\n",
    "        return xhat.flatten()  # shape = (n,)\n",
    "    else:\n",
    "        return xhat  # shape = (n, b.shape[1])"
   ]
  },
  {
   "cell_type": "code",
   "execution_count": 3,
   "metadata": {},
   "outputs": [
    {
     "data": {
      "text/plain": [
       "array([ 0.28783293, -0.97563451, -1.63458105, -0.46674071,  0.28783293,\n",
       "       -0.97563451, -1.74459373,  2.53151239])"
      ]
     },
     "execution_count": 3,
     "metadata": {},
     "output_type": "execute_result"
    }
   ],
   "source": [
    "M = 70\n",
    "N = 2 * M  # 140\n",
    "xleft = np.random.random(M) - 1  # random floats in the half-open interval [-1, 0)\n",
    "xright = np.random.random(M)  # random floats in the half-open interval [0, 1)\n",
    "\n",
    "# x is in the [-1, 1) and shape is (140,)\n",
    "x = np.hstack([xleft, xright])\n",
    "# y = (x^3-x) + (0.4 / (1 + 25*x^2)) + (0.05*randn(N))\n",
    "y = np.power(x, 3) - x + 0.4/(1+25*np.power(x, 2)) + 0.05*np.random.normal(size = N)\n",
    "\n",
    "n = 4  # 3 degree polynomial\n",
    "A = np.vstack(\n",
    "    [np.hstack([np.vander(xleft, n, increasing=True), np.zeros((M, n))]),\n",
    "     np.hstack([np.zeros((M, n)), np.vander(xright, n, increasing=True)])]\n",
    ")\n",
    "b = y\n",
    "C = np.vstack(\n",
    "    (np.hstack([1, np.zeros(n-1), -1, np.zeros(n-1)]),\n",
    "     np.hstack([0, 1, np.zeros(n-2), 0, -1, np.zeros(n-2)]))\n",
    ")\n",
    "d = np.zeros(2)\n",
    "theta = cls_solve(A, b, C, d)\n",
    "theta"
   ]
  },
  {
   "cell_type": "code",
   "execution_count": 4,
   "metadata": {},
   "outputs": [
    {
     "data": {
      "image/png": "[encoded data removed]",
      "text/plain": [
       "<Figure size 432x288 with 1 Axes>"
      ]
     },
     "metadata": {
      "needs_background": "light"
     },
     "output_type": "display_data"
    }
   ],
   "source": [
    "# Evaluate and plot for 200 equidistant points on each side.\n",
    "Npl = 200\n",
    "xpl_left = np.linspace(-1, 0, Npl)\n",
    "ypl_left = np.vander(xpl_left, n, increasing=True) @ theta[:n]\n",
    "xpl_right = np.linspace(0, 1, Npl)\n",
    "ypl_right = np.vander(xpl_right, n, increasing=True) @ theta[n:]\n",
    "plt.scatter(x, y)\n",
    "plt.plot(xpl_left, ypl_left, 'orange')\n",
    "plt.plot(xpl_right, ypl_right, 'green')\n",
    "plt.grid()\n",
    "plt.show()"
   ]
  },
  {
   "cell_type": "markdown",
   "metadata": {},
   "source": [
    "## Advertising budget"
   ]
  },
  {
   "cell_type": "markdown",
   "metadata": {},
   "source": [
    "$$\n",
    "\\begin{align}\n",
    "&\\text{minimize} & & \\|Rs − v^{des}\\|^2 \\\\\n",
    "&\\text{subject to} & & \\mathbf{1}^Ts = B\n",
    "\\end{align}\n",
    "$$\n",
    "where $B$ is a given total advertising budget"
   ]
  },
  {
   "cell_type": "code",
   "execution_count": 5,
   "metadata": {},
   "outputs": [
    {
     "data": {
      "text/plain": [
       "array([315.16818459, 109.86643348, 858.96538193])"
      ]
     },
     "execution_count": 5,
     "metadata": {},
     "output_type": "execute_result"
    }
   ],
   "source": [
    "m = 10\n",
    "n = 3\n",
    "\n",
    "R = np.array(\n",
    "    [[0.97, 1.86, 0.41], [1.23, 2.18, 0.53],\n",
    "     [0.80, 1.24, 0.62], [1.29, 0.98, 0.51],\n",
    "     [1.10, 1.23, 0.69], [0.67, 0.34, 0.54],\n",
    "     [0.87, 0.26, 0.62], [1.10, 0.16, 0.48],\n",
    "     [1.92, 0.22, 0.71], [1.29, 0.12, 0.62]]\n",
    ")\n",
    "vdes = 1e3*np.ones(m)\n",
    "B = np.array([1284])\n",
    "\n",
    "cls_solve(R, vdes, np.ones((1, n)), B)"
   ]
  },
  {
   "cell_type": "markdown",
   "metadata": {},
   "source": [
    "## Least norm problem"
   ]
  },
  {
   "cell_type": "markdown",
   "metadata": {},
   "source": [
    "- special case of constrained least squares problem, with $A = I$, $b = 0$\n",
    "- least-norm problem:\n",
    "$$\n",
    "\\begin{align}\n",
    "    &\\text{minimize} & & \\|x\\|^2 \\\\\n",
    "    &\\text{subject to} & & Cx = d\n",
    "\\end{align}\n",
    "$$\n",
    "    i.e., find the smallest vector that satisfies a set of linear equations"
   ]
  },
  {
   "cell_type": "markdown",
   "metadata": {},
   "source": [
    "## Minimum norm force sequence"
   ]
  },
  {
   "cell_type": "markdown",
   "metadata": {},
   "source": [
    "We compute the smallest sequence of ten forces, each applied for one second to a unit frictionless mass originally at rest, that moves the mass position one with zero velocity.\n",
    "$$\n",
    "\\begin{align}\n",
    "    &\\text{minimize} & & \\|f\\|^2 \\\\\n",
    "    &\\text{subject to} & & \n",
    "    \\begin{bmatrix} \n",
    "        1 & 1 & \\cdots & 1 & 1 \\\\\n",
    "        19/2 & 17/2 & \\cdots & 3/2 & 1/2\n",
    "    \\end{bmatrix} =\n",
    "    \\begin{bmatrix}\n",
    "        0 \\\\ 1\n",
    "    \\end{bmatrix}\n",
    "\\end{align}\n",
    "$$"
   ]
  },
  {
   "cell_type": "code",
   "execution_count": 6,
   "metadata": {},
   "outputs": [
    {
     "data": {
      "text/plain": [
       "(10,)"
      ]
     },
     "execution_count": 6,
     "metadata": {},
     "output_type": "execute_result"
    }
   ],
   "source": [
    "np.arange(9.5, 0.4, -1).T.shape"
   ]
  },
  {
   "cell_type": "code",
   "execution_count": 7,
   "metadata": {},
   "outputs": [
    {
     "data": {
      "text/plain": [
       "array([[1. , 1. , 1. , 1. , 1. , 1. , 1. , 1. , 1. , 1. ],\n",
       "       [9.5, 8.5, 7.5, 6.5, 5.5, 4.5, 3.5, 2.5, 1.5, 0.5]])"
      ]
     },
     "execution_count": 7,
     "metadata": {},
     "output_type": "execute_result"
    }
   ],
   "source": [
    "A = np.eye(10)\n",
    "b = np.zeros(10)\n",
    "C = np.vstack([np.ones((1, 10)),\n",
    "               np.arange(9.5, 0.4, -1)])\n",
    "C"
   ]
  },
  {
   "cell_type": "code",
   "execution_count": 8,
   "metadata": {},
   "outputs": [
    {
     "data": {
      "text/plain": [
       "array([ 0.05454545,  0.04242424,  0.03030303,  0.01818182,  0.00606061,\n",
       "       -0.00606061, -0.01818182, -0.03030303, -0.04242424, -0.05454545])"
      ]
     },
     "execution_count": 8,
     "metadata": {},
     "output_type": "execute_result"
    }
   ],
   "source": [
    "d = np.array([0, 1])\n",
    "cls_solve(A, b, C, d)"
   ]
  },
  {
   "cell_type": "markdown",
   "metadata": {},
   "source": [
    "# 16.2 Solution"
   ]
  },
  {
   "cell_type": "markdown",
   "metadata": {},
   "source": [
    "## Optimality conditions via Lagrange multipliers (calculus)"
   ]
  },
  {
   "cell_type": "markdown",
   "metadata": {},
   "source": [
    "to solve constrained least squares problem with the constraints given as a list of $p$ scalar equality constraints\n",
    "$$\n",
    "\\begin{align}\n",
    "    &\\text{minimize} & & f(x)=\\|Ax - b\\|^2 \\\\\n",
    "    &\\text{subject to} & & c^T_i x = d_i, & i = 1, \\ldots, p\n",
    "\\end{align}\n",
    "$$\n",
    "where $c^T_i$ are the rows of $C$\n",
    "\n",
    "1. form the *Lagrangian function*, with *Lagrange multipliers* $z_1, \\ldots, z_p$\n",
    "$$\n",
    "L(x, z) = f(x) + z_1(c^T_1 x − d_1) + \\cdots + z_p(c^T_p x − d_p)\n",
    "$$\n",
    "2. *optimality conditions* (if $\\hat{x}$ is a solution of the constrained least squares problem, then there is a set of Lagrange multipliers $\\hat{z}$ that satisfy) for the constrained least squares problem\n",
    "$$\n",
    "\\frac{\\partial L}{\\partial x_i}(\\hat{x}, \\hat{z}) = 0, \\quad i = 1, \\ldots, n, \\qquad\n",
    "\\frac{\\partial L}{\\partial z_i}(\\hat{x}, \\hat{z}) = 0, \\quad i = 1, \\ldots, n\n",
    "$$"
   ]
  },
  {
   "cell_type": "markdown",
   "metadata": {},
   "source": [
    "- $\\frac{\\partial L}{\\partial z_i}(\\hat{x}, \\hat{z}) = c^T_i \\hat{x} − d_i = 0, \\ i = 1, \\ldots , p$, which we already knew\n",
    "- The first set of equations is more informative\n",
    "$$\n",
    "\\frac{\\partial L}{\\partial x_i}(\\hat{x}, \\hat{z}) = 2 \\sum^n_{j=1}{(A^T A)_{ij} \\hat{x}_j} − 2 (A^T b)_i + \\sum^p_{j=1} \\hat{z}_j (c_j)_i = 0.\n",
    "$$\n",
    "- in compact matrix-vector form\n",
    "$$\n",
    "2(A^T A) \\hat{x} − 2A^T b + C^T \\hat{z} = 0\n",
    "$$\n",
    "- put together with feasibility conditions $C\\hat{x} = d$ to get Karush–Kuhn–Tucker (KKT) conditions\n",
    "$$\n",
    "\\begin{bmatrix}\n",
    "2A^T A & C^T \\\\\n",
    "C & 0\n",
    "\\end{bmatrix}\n",
    "\\begin{bmatrix}\n",
    "\\hat{x} \\\\\n",
    "\\hat{z}\n",
    "\\end{bmatrix}\n",
    "=\\begin{bmatrix}\n",
    "2A^T b \\\\\n",
    "d\n",
    "\\end{bmatrix}$$\n",
    "    a square set of n + p linear equations in variables $\\hat{x}, \\hat{z}$\n",
    "- KKT equations are extension of normal equations to CLS"
   ]
  },
  {
   "cell_type": "markdown",
   "metadata": {},
   "source": [
    "## Invertibility of KKT matrix"
   ]
  },
  {
   "cell_type": "markdown",
   "metadata": {},
   "source": [
    "- (n + p) × (n + p) KKT matrix $\\begin{bmatrix} 2A^T A & C^T \\\\ C & 0 \\end{bmatrix}$ is invertible if and only if\n",
    "\n",
    "    $C$ has linearly independent rows, and $\\begin{bmatrix} A \\\\ C \\end{bmatrix}$ has linearly independent columns\n",
    "\n",
    "    1. The first condition requires that $C$ is wide (or square) ($p \\le n$), i.e., that there are fewer constraints than variables.\n",
    "    2. The second condition depends on both $A$ and $C$ ($m+p \\ge  n$), and it can be satisfied even when the columns of $A$ are linearly dependent.\n",
    "- assuming the KKT matrix is invertible, we have\n",
    "$$\n",
    "\\begin{bmatrix}\n",
    "\\hat{x} \\\\\n",
    "\\hat{z}\n",
    "\\end{bmatrix}\n",
    "=\n",
    "\\begin{bmatrix}\n",
    "2A^T A & C^T \\\\\n",
    "C & 0\n",
    "\\end{bmatrix}^{-1}\n",
    "\\begin{bmatrix}\n",
    "2A^T b \\\\\n",
    "d\n",
    "\\end{bmatrix}$$"
   ]
  },
  {
   "cell_type": "markdown",
   "metadata": {},
   "source": [
    "## Direct verification of constrained least squares solution"
   ]
  },
  {
   "cell_type": "markdown",
   "metadata": {},
   "source": [
    "- Suppose that $x \\ne \\hat{x}$ ($\\hat{x}$ is solution) is any vector that satisfies $Cx = d$. We will show that $\\|Ax − b\\|^2 > \\|A\\hat{x} − b\\|^2$.\n",
    "- then \n",
    "$$\n",
    "\\begin{align}\n",
    "\\|Ax − b\\|^2\n",
    "&= \\|(Ax − A\\hat{x}) + (A\\hat{x} − b)\\|^2 \\\\\n",
    "&= \\|A(x − \\hat{x})\\|^2 + \\|A\\hat{x} − b\\|^2 + 2(Ax − A\\hat{x})^T (A\\hat{x} − b)\n",
    "\\end{align}\n",
    "$$\n",
    "\n",
    "- expand last term, using $2A^T(A\\hat{x} − b) = −C^Tz$, $Cx = C\\hat{x} = d$:\n",
    "$$\n",
    "\\begin{align}\n",
    "2(Ax − A\\hat{x})^T (A\\hat{x} − b)\n",
    "&= 2(x − \\hat{x})^T A^T(A\\hat{x} − b) \\\\\n",
    "&= −(x − \\hat{x})^T C^T \\hat{z} \\\\\n",
    "&= −(C(x − \\hat{x}))^T \\hat{z} \\\\\n",
    "&= 0\n",
    "\\end{align}\n",
    "$$\n",
    "\n",
    "- so $\\|Ax − b\\|^2 = \\|A(x − \\hat{x})\\|^2 + \\|A\\hat{x} − b\\|^2 \\ge \\|A\\hat{x} − b\\|^2$\n",
    "- and we conclude $\\hat{x}$ is solution"
   ]
  },
  {
   "cell_type": "markdown",
   "metadata": {},
   "source": [
    "Let's implement the function `cls_solve_kkt`, which finds the constrained least squares solution by forming the KKT system and solving it.\n",
    "\n",
    "We allow the $b$ and $d$ to be **matrices**, so one function call can solve **multiple problems** with the same $A$ and $C$."
   ]
  },
  {
   "cell_type": "code",
   "execution_count": 9,
   "metadata": {},
   "outputs": [],
   "source": [
    "def cls_solve_kkt(A, b, C, d):\n",
    "\n",
    "    # convert 1-d vector to 2-d column vector\n",
    "    _ndim = b.ndim\n",
    "    if _ndim == 1:\n",
    "        b = np.vstack(b)\n",
    "        d = np.vstack(d)\n",
    "\n",
    "    m, n = A.shape\n",
    "    p, n = C.shape\n",
    "    G = A.T @ A  # Gram matrix\n",
    "    # KKT matrix\n",
    "    KKT = np.vstack(\n",
    "        [np.hstack([2*G, C.T]),\n",
    "         np.hstack([C, np.zeros((p, p))])]\n",
    "    )\n",
    "    xzhat = np.vstack(\n",
    "        np.linalg.lstsq(KKT, np.vstack([2*A.T @ b, d]), rcond=None)[0]\n",
    "    )\n",
    "    \n",
    "    if _ndim == 1:\n",
    "        xhat = (xzhat[0:n, :]).flatten()  # shape = (n,)\n",
    "    else:\n",
    "        xhat = xzhat[0:n, :]  # shape = (n, b.shape[1])\n",
    "    \n",
    "    return xhat"
   ]
  },
  {
   "cell_type": "code",
   "execution_count": 10,
   "metadata": {},
   "outputs": [
    {
     "name": "stdout",
     "output_type": "stream",
     "text": [
      "[5.82867088e-16 6.66133815e-16]\n"
     ]
    }
   ],
   "source": [
    "A = np.random.normal(size = (10, 5))\n",
    "b = np.random.normal(size = 10)\n",
    "C = np.random.normal(size = (2, 5))\n",
    "d = np.random.normal(size = 2)\n",
    "x = cls_solve_kkt(A, b, C, d)\n",
    "# Check that residual is small\n",
    "print(C @ x - d)"
   ]
  },
  {
   "cell_type": "code",
   "execution_count": 11,
   "metadata": {},
   "outputs": [
    {
     "name": "stdout",
     "output_type": "stream",
     "text": [
      "[[ 6.66133815e-16 -1.02695630e-15]\n",
      " [ 9.99200722e-16 -1.11022302e-15]]\n"
     ]
    }
   ],
   "source": [
    "A = np.random.normal(size = (10, 5))\n",
    "b = np.random.normal(size = (10, 2))\n",
    "C = np.random.normal(size = (2, 5))\n",
    "d = np.random.normal(size = (2, 2))\n",
    "x = cls_solve_kkt(A, b, C, d)\n",
    "# Check that residual is small\n",
    "print(C @ x - np.vstack(d))"
   ]
  },
  {
   "cell_type": "markdown",
   "metadata": {},
   "source": [
    "# 16.3 Solving constrained least squares problems"
   ]
  },
  {
   "cell_type": "markdown",
   "metadata": {},
   "source": [
    "**Algorithm** Constrained least squares via KKT equations\n",
    "\n",
    "**given** an m × n matrix $A$ and a p × n matrix $C$ that satisfy the invertible condition of KKT matrix, an m-vector $b$, and a p-vector $d$.\n",
    "1. Form Gram matrix. Compute $A^T A$.\n",
    "2. Solve KKT equations. Solve KKT equations by QR factorization and back substitution.\n",
    "\n",
    "---\n",
    "complexity\n",
    "- Form Gram matrix: $mn^2$ flops\n",
    "- Solve KKT equations: $2(n + p)^3$ flops\n",
    "- Total $mn^2 + 2(n + p)^3$ flops; order is $n^3$ flops (Assuming $p \\le n$)"
   ]
  },
  {
   "cell_type": "markdown",
   "metadata": {},
   "source": [
    "## Solving constrained least squares problems via QR factorization"
   ]
  },
  {
   "cell_type": "markdown",
   "metadata": {},
   "source": [
    "- rewriting the KKT equations\n",
    "$$\\begin{align}\n",
    "2(A^T A) \\hat{x} + C^T \\hat{z} &= 2A^T b, & C\\hat{x} &= d \\\\\n",
    "2(A^T A) \\hat{x} + 2(C^T C \\hat{x}) - 2(C^T C \\hat{x}) + C^T \\hat{z} &= 2A^T b, & C\\hat{x} &= d \\\\\n",
    "2(A^T A) \\hat{x} + 2(C^T C) \\hat{x} - 2(C^T d) + C^T \\hat{z} &= 2A^T b, & C\\hat{x} &= d \\\\\n",
    "2(A^T A + C^T C) \\hat{x} - 2(C^T d) + C^T \\hat{z} &= 2A^T b, & C\\hat{x} &= d \\\\\n",
    "2(A^T A + C^T C) \\hat{x} + C^T (\\hat{z} - 2d) &= 2A^T b, & C\\hat{x} &= d \\\\\n",
    "2(A^T A + C^T C) \\hat{x} + C^T w &= 2A^T b, & C\\hat{x} &= d\n",
    "\\end{align}\n",
    "$$\n",
    "\n",
    "- use the QR factorization to simplify equations (factorization exists because the stacked matrix has linearly independent columns)\n",
    "$$\n",
    "\\begin{bmatrix}\n",
    "A \\\\ C\n",
    "\\end{bmatrix}\n",
    "= QR = \n",
    "\\begin{bmatrix}\n",
    "Q_1 \\\\ Q_2\n",
    "\\end{bmatrix}\n",
    "R\n",
    "$$\n",
    "    make the substitutions $A = Q_1R$, $C = Q_2R$, and $A^T A + C^T C = R^T R$\n",
    "$$\n",
    "2(R^T R) \\hat{x} + R^T Q_2^T w = 2 R^T Q_1^T b, \\quad Q_2R\\hat{x} = d\n",
    "$$\n",
    "\n",
    "- multiply the first equation on the left by $R^{−T}$ (which we know exists)\n",
    "$$\n",
    "\\begin{align}\n",
    "2(R^{−T} R^T R) \\hat{x} + R^{−T} R^T Q_2^T w &= 2 R^{−T} R^T Q_1^T b \\\\\n",
    "2 R \\hat{x} + Q_2^T w &= 2 Q_1^T b \\\\\n",
    "R \\hat{x} &= Q_1^T b - \\frac{1}{2} Q_2^T w\n",
    "\\end{align}\n",
    "$$\n",
    "    Substituting expression into $Q_2 R\\hat{x} = d$ gives an equation in $w$\n",
    "$$\n",
    "\\begin{align}\n",
    "R \\hat{x} &= Q_1^T b - \\frac{1}{2} Q_2^T w \\\\\n",
    "Q_2^T w &= 2 Q_1^T b - 2 R \\hat{x} \\\\\n",
    "Q_2^T w &= 2 Q_1^T b - 2 Q_2^{-1} d \\\\\n",
    "Q_2 Q_2^T w &= 2 Q_2 Q_1^T b - 2 d\n",
    "\\end{align}\n",
    "$$\n",
    "\n",
    "- Based on the assumption that $C$ has linearly independent rows,\n",
    "$$\n",
    "\\begin{align}\n",
    "\\text{Suppose} \\quad Q^T_2 z = R^{−T} C^T z &= 0 \\\\\n",
    "R^T R^{−T} C^T z &= 0 \\\\\n",
    "C^T z &= 0 \\\\\n",
    "z &= 0 \\quad \\text{(because $C^T$ has linearly independent columns)}\n",
    "\\end{align}\n",
    "$$\n",
    "    we can conclude that the columns of $Q^T_2$ are linearly independent.\n",
    "    \n",
    "- The matrix $Q^T_2$ therefore has a QR factorization $Q^T_2 = \\tilde{Q}\\tilde{R}$.\n",
    "$$\n",
    "\\begin{align}\n",
    "Q_2 Q_2^T w &= 2 Q_2 Q_1^T b - 2 d \\\\\n",
    "\\tilde{R}^T\\tilde{Q}^T \\tilde{Q}\\tilde{R} w &= 2 \\tilde{R}^T\\tilde{Q}^T Q_1^T b - 2 d \\\\\n",
    "\\tilde{R}^T \\tilde{R} w &= 2 \\tilde{R}^T\\tilde{Q}^T Q_1^T b - 2 d \\\\\n",
    "\\tilde{R} w &= 2 \\tilde{Q}^T Q_1^T b - 2 \\tilde{R}^{-T} d \\\\\n",
    "\\end{align}\n",
    "$$\n",
    "    First, form RHS by computing $\\tilde{R}^{−T} d$ (by forward substitution), and then solving for $w$ using back substitution.\n",
    "\n",
    "- Once we know $w$, we can find $\\hat{x}$ from $R \\hat{x} = Q_1^T b - \\frac{1}{2} Q_2^T w$"
   ]
  },
  {
   "cell_type": "markdown",
   "metadata": {},
   "source": [
    "**Algorithm**  Constrained least squares via QR factorization\n",
    "**given** an m × n matrix $A$ and a p × n matrix $C$ that satisfy the invertible condition of KKT matrix, an m-vector $b$,\n",
    "and a p-vector $d$.\n",
    "1. QR factorizations. Compute the QR factorizations \n",
    "$$\\begin{bmatrix} A \\\\ C \\end{bmatrix} = \\begin{bmatrix} Q_1 \\\\ Q_2 \\end{bmatrix} R, \\quad Q^T_2 = \\tilde{Q}\\tilde{R}$$.\n",
    "\n",
    "2. Compute $\\tilde{R}^{−T} d$ by forward substitution.\n",
    "3. Form right-hand side and solve\n",
    "$$\\tilde{R} w = 2\\tilde{Q}^T Q^T_1 b − 2\\tilde{R}^{−T}d$$\n",
    "via back substitution.\n",
    "4. Compute \\hat{x}. Form right-hand side and solve\n",
    "$$R \\hat{x} = Q_1^T b - \\frac{1}{2} Q_2^T w$$\n",
    "by back substitution.\n",
    "\n",
    "---\n",
    "complexity\n",
    "1. QR factorizations of an (m + p) × n and an n × p matrix, which costs $2(m + p)n^2 + 2np^2$ flops.\n",
    "2. solve $\\tilde{R}^{−T} d$ require $p^2$ flops.\n",
    "3. evaluate $Q^T_1 b$ require $2mn$ flops \\\n",
    "   multiply the result by $\\tilde{Q}^T$ require $2pn$ flops \\\n",
    "   solve $w$ require $p^2$ flops\n",
    "4. $2mn+ 2pn$ flops to form the right-hand side, $n^2$ flops to compute $\\hat{x}$\n",
    "\n",
    "\n",
    "- Total complexity is $2(m + p)n^2 + 2np^2$.\n",
    "\n",
    "- The invertible condition of KKT matrix implies the inequalities\n",
    "$$p ≤ n ≤ m + p$$,\n",
    "    and therefore $(m+p)n^2 \\ge np^2$\n",
    "- flop count above is no more than $4(m+p)n^2$ flops. order is $(m + p)n^2$."
   ]
  },
  {
   "cell_type": "code",
   "execution_count": 12,
   "metadata": {},
   "outputs": [
    {
     "name": "stdout",
     "output_type": "stream",
     "text": [
      "1.0289235590799073e-15\n"
     ]
    }
   ],
   "source": [
    "def cls_solve(A, b, C, d):\n",
    "\n",
    "    # convert 1-d vector to 2-d column vector\n",
    "    _ndim = b.ndim\n",
    "    if _ndim == 1:\n",
    "        b = np.vstack(b)\n",
    "        d = np.vstack(d)\n",
    "\n",
    "    m, n = A.shape\n",
    "    p, n = C.shape\n",
    "    Q, R = np.linalg.qr(np.vstack([A, C]))\n",
    "    Q1 = Q[0:m, :]\n",
    "    Q2 = Q[m:m+p, :]\n",
    "    Qtil, Rtil = np.linalg.qr(Q2.T)\n",
    "    w = np.linalg.lstsq(\n",
    "        Rtil, \n",
    "        (2 * Qtil.T @ (Q1.T @ b) \n",
    "         - 2 * np.linalg.lstsq(Rtil.T, d, rcond=None)[0]),\n",
    "        rcond=None\n",
    "    )[0]\n",
    "    xhat = np.linalg.lstsq(R, (Q1.T @ b - Q2.T @ w/2), rcond=None)[0]\n",
    "    \n",
    "    if _ndim == 1:\n",
    "        return xhat.flatten()  # shape = (n,)\n",
    "    else:\n",
    "        return xhat # shape = (n, b.shape[1])\n",
    "\n",
    "# compare with KKT method\n",
    "m = 10\n",
    "n = 5\n",
    "p = 2\n",
    "A = np.random.normal(size = (m,n))\n",
    "b = np.random.normal(size = m)\n",
    "C = np.random.normal(size = (p,n))\n",
    "d = np.random.normal(size = p)\n",
    "xKKT = cls_solve_kkt(A, b, C, d)\n",
    "xQR = cls_solve(A, b, C, d)\n",
    "# compare solutions\n",
    "print(np.linalg.norm(xKKT - xQR))"
   ]
  },
  {
   "cell_type": "markdown",
   "metadata": {},
   "source": [
    "## Sparse constrained least squares"
   ]
  },
  {
   "cell_type": "markdown",
   "metadata": {},
   "source": [
    "- $A$ and $C$ are sparse\n",
    "- but Gram matrix $A^T A$ can be far less sparse\n",
    "$$\n",
    "\\begin{bmatrix}\n",
    "2A^T A & C^T \\\\\n",
    "C & 0\n",
    "\\end{bmatrix}\n",
    "\\begin{bmatrix}\n",
    "\\hat{x} \\\\\n",
    "\\hat{z}\n",
    "\\end{bmatrix}\n",
    "=\\begin{bmatrix}\n",
    "2A^T b \\\\\n",
    "d\n",
    "\\end{bmatrix}$$\n",
    "\n",
    "- To avoid above problem, we form the m+n+p sparse matrix\n",
    "$$\n",
    "\\begin{bmatrix}\n",
    "0 & A^T & C^T \\\\\n",
    "A & −(1/2)I & 0 \\\\\n",
    "C & 0 & 0\n",
    "\\end{bmatrix}\n",
    "\\begin{bmatrix}\n",
    "\\hat{x} \\\\\n",
    "\\hat{y} \\\\\n",
    "\\hat{z}\n",
    "\\end{bmatrix}\n",
    "=\n",
    "\\begin{bmatrix}\n",
    "0 \\\\\n",
    "b \\\\\n",
    "d\n",
    "\\end{bmatrix}\n",
    "$$"
   ]
  },
  {
   "cell_type": "markdown",
   "metadata": {},
   "source": [
    "(The code below just checks that the two methods agree; it does not use sparsity. Unlike\n",
    "the earlier `cls_solve`, it assumes $b$ and $d$ are vectors.)"
   ]
  },
  {
   "cell_type": "code",
   "execution_count": 13,
   "metadata": {},
   "outputs": [
    {
     "name": "stdout",
     "output_type": "stream",
     "text": [
      "1.7497707784549333e-14\n"
     ]
    }
   ],
   "source": [
    "def cls_solve_sparse(A, b, C, d):\n",
    "    \n",
    "    # convert 1-d vector to 2-d column vector\n",
    "    _ndim = b.ndim\n",
    "    if _ndim == 1:\n",
    "        b = np.vstack(b)\n",
    "        d = np.vstack(d)\n",
    "        \n",
    "    m, n = A.shape\n",
    "    p, n = C.shape\n",
    "    bigA = np.vstack([np.hstack([np.zeros((n, n)), A.T, C.T]),\n",
    "                      np.hstack([A, -np.eye(m)/2, np.zeros((m, p))]),\n",
    "                      np.hstack([C, np.zeros((p,m)), np.zeros((p,p))])])\n",
    "    \n",
    "    xyzhat = np.linalg.lstsq(bigA, np.vstack([np.zeros((n, _ndim)), b, d]), rcond=None)[0]\n",
    "    \n",
    "    if _ndim == 1:\n",
    "        xhat = (xyzhat[:n]).flatten()  # shape = (n,)\n",
    "    else:\n",
    "        xhat = xyzhat[:n] # shape = (n, b.shape[1])\n",
    "    \n",
    "    return xhat\n",
    "\n",
    "m = 100\n",
    "n = 50\n",
    "p = 10\n",
    "A = np.random.normal(size = (m,n))\n",
    "b = np.random.normal(size = m)\n",
    "C = np.random.normal(size = (p,n))\n",
    "d = np.random.normal(size = p)\n",
    "x1 = cls_solve(A, b, C, d)\n",
    "x2 = cls_solve_sparse(A, b, C, d)\n",
    "# compare solutions\n",
    "print(np.linalg.norm(x1 - x2))"
   ]
  },
  {
   "cell_type": "markdown",
   "metadata": {},
   "source": [
    "## Solution of least norm problem"
   ]
  },
  {
   "cell_type": "markdown",
   "metadata": {},
   "source": [
    "- least-norm problem: minimize $\\|x\\|^2$ subject to $Cx = d$\n",
    "- matrix $\\begin{bmatrix} I \\\\ C \\end{bmatrix}$ always has independent columns\n",
    "- we assume that $C$ has independent rows\n",
    "- optimality condition reduces to\n",
    "$$\n",
    "\\begin{bmatrix}\n",
    "2I & C^T \\\\\n",
    "C & 0\n",
    "\\end{bmatrix}\n",
    "\\begin{bmatrix}\n",
    "\\hat{x} \\\\\n",
    "\\hat{z}\n",
    "\\end{bmatrix}\n",
    "=\\begin{bmatrix}\n",
    "0 \\\\\n",
    "d\n",
    "\\end{bmatrix}$$\n",
    "- so $\\hat{x} = −(1/2)C^T\\hat{z}$; second equation is then $−(1/2)CC^T\\hat{z} = d$\n",
    "- plug $\\hat{z} = −2(CC^T)^{−1}d$ into first equation to get \n",
    "$$\n",
    "\\hat{x} = C^T(CC^T)^{−1} d = C^\\dagger\n",
    "$$\n",
    "    where $C^\\dagger$ is the pseudo-inverse\n",
    "\n",
    "so when $C$ has linearly independent rows:\n",
    "- $C^\\dagger$ is a right inverse of $C$\n",
    "- so for any $d$, $\\hat{x} = C^\\dagger d$ satisfies $C\\hat{x} = d$\n",
    "- and we now know: \\hat{x} is the smallest solution of $Cx = d$"
   ]
  },
  {
   "cell_type": "code",
   "execution_count": 14,
   "metadata": {},
   "outputs": [
    {
     "name": "stdout",
     "output_type": "stream",
     "text": [
      "3.547856734296609e-15\n",
      "3.564233867656748e-15\n"
     ]
    }
   ],
   "source": [
    "p = 50\n",
    "n = 500\n",
    "C = np.random.normal(size=(p, n))\n",
    "d = np.random.normal(size=p)\n",
    "\n",
    "# solve via least norm analytical solution\n",
    "x1 = C.T @ np.linalg.inv(C @ C.T) @ d\n",
    "\n",
    "# solve using cls_solve which uses KKT\n",
    "x2 = cls_solve(np.eye(n), np.zeros(n), C, d)\n",
    "\n",
    "# Using pseudo inverse\n",
    "x3 = np.linalg.pinv(C) @ d\n",
    "\n",
    "print(np.linalg.norm(x1 - x2))\n",
    "print(np.linalg.norm(x2 - x3))"
   ]
  }
 ],
 "metadata": {
  "kernelspec": {
   "display_name": "Python 3",
   "language": "python",
   "name": "python3"
  },
  "language_info": {
   "codemirror_mode": {
    "name": "ipython",
    "version": 3
   },
   "file_extension": ".py",
   "mimetype": "text/x-python",
   "name": "python",
   "nbconvert_exporter": "python",
   "pygments_lexer": "ipython3",
   "version": "3.7.6"
  }
 },
 "nbformat": 4,
 "nbformat_minor": 4
}
