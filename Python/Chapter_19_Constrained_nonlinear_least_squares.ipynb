{
 "cells": [
  {
   "cell_type": "code",
   "execution_count": 1,
   "metadata": {},
   "outputs": [],
   "source": [
    "import numpy as np\n",
    "import matplotlib.pyplot as plt\n",
    "\n",
    "from vmls import levenberg_marquardt"
   ]
  },
  {
   "cell_type": "markdown",
   "metadata": {},
   "source": [
    "# 19.1 Constrained nonlinear least squares"
   ]
  },
  {
   "cell_type": "markdown",
   "metadata": {},
   "source": [
    "- add equality constraints to nonlinear least squares problem:\n",
    "$$\n",
    "\\begin{align}\n",
    "&\\text{minimize} &\\ f_1(x)^2 + \\cdots + f_m(x)^2 \\\\\n",
    "&\\text{suject to} &\\ g_i(x) = 0,\\ i = 1, \\ldots, p\n",
    "\\end{align}\n",
    "$$\n",
    "- $f_i(x)$ is ith (scalar) residual; $g_i(x) = 0$ is ith (scalar) equality constraint\n",
    "- with vector notation $f(x) = (f_1(x), \\ldots, f_m(x))$, $g(x) = (g_1(x), \\ldots, g_p(x))$\n",
    "$$\n",
    "\\begin{align}\n",
    "&\\text{minimize} &\\ \\|f(x)\\|^2 \\\\\n",
    "&\\text{suject to} &\\ g(x) = 0\n",
    "\\end{align}\n",
    "$$\n",
    "- $x$ is feasible if it satisfies the constraints $g(x) = 0$\n",
    "- $\\hat{x}$ is a solution if it is feasible and $\\|f(x)\\|^2 \\ge \\|f(\\hat{x})\\|^2$ for all feasible $x$\n",
    "- When the functions $f$ and $g$ are *affine*, the equality constrained nonlinear least squares problem reduces to the (linear) least squares problem with equality constraints.\n",
    "- When the constraint function $g$ is *affine*, this nonlinear least squares problem with linear equality constraints can be (approximately) solved by the Levenberg–Marquardt algorithm, by simply adding the linear equality constraints to the linear least squares problem that is solved in step 2."
   ]
  },
  {
   "cell_type": "markdown",
   "metadata": {},
   "source": [
    "## Lagrange multipliers\n"
   ]
  },
  {
   "cell_type": "markdown",
   "metadata": {},
   "source": [
    "- the *Lagrangian* of the problem is the function\n",
    "$$\n",
    "\\begin{align}\n",
    "L(x, z) &= \\|f(x)\\|^2 + z_1g_1(x) + \\cdots + z_pg_p(x) \\\\\n",
    "&= \\|f(x)\\|^2 + g(x)^T z\n",
    "\\end{align}\n",
    "$$\n",
    "- p-vector $z = (z_1, \\ldots, z_p)$ is vector of *Lagrange multipliers*\n",
    "- method of Lagrange multipliers: if $\\hat{x}$ is a solution, then there exists $\\hat{z}$ with\n",
    "$$\n",
    "\\frac{\\partial L}{\\partial x_i} (\\hat{x}, \\hat{z}) = 0, \\ \\ i = 1, \\ldots, n. \\quad \n",
    "\\frac{\\partial L}{\\partial z_i} (\\hat{x}, \\hat{z}) = 0, \\ \\ i = 1, \\ldots, p.\n",
    "$$\n",
    "(provided the gradients $\\nabla g_1(\\hat{x}), \\ldots , \\nabla g_p(\\hat{x})$ (rows of $Dg(\\hat{x})$) are linearly independent)\n",
    "- $\\hat{z}$ is called an *optimal Lagrange multiplier*"
   ]
  },
  {
   "cell_type": "markdown",
   "metadata": {},
   "source": [
    "## Optimality condition"
   ]
  },
  {
   "cell_type": "markdown",
   "metadata": {},
   "source": [
    "- gradient of Lagrangian with respect to $x$ is\n",
    "$$\n",
    "\\nabla L_x(\\hat{x},\\hat{z}) = 2 Df(\\hat{x})^T f(\\hat{x}) + Dg(\\hat{x})^T \\hat{z}\n",
    "$$\n",
    "- gradient with respect to $z$ is\n",
    "$$\n",
    "\\nabla L_z(\\hat{x},\\hat{z}) = g(\\hat{x})\n",
    "$$\n",
    "- optimality condition: if $\\hat{x}$ is optimal, then there exists $\\hat{z}$ such that\n",
    "$$\n",
    "2 Df(\\hat{x})^T f(\\hat{x}) + Dg(\\hat{x})^T \\hat{z} = 0, \\quad g(\\hat{x}) = 0\n",
    "$$\n",
    "(provided the rows of $Dg(\\hat{x})$ are linearly independent)\n",
    "- this condition is necessary for optimality but not sufficient\n",
    "\n",
    "---\n",
    "- Recall constrained least squares problem\n",
    "$$\n",
    "\\begin{align}\n",
    "&\\text{minimize} &\\ \\|Ax - b\\|^2 \\\\\n",
    "&\\text{suject to} &\\ Cx = d\n",
    "\\end{align}\n",
    "$$\n",
    "- a special case of the nonlinear problem with $f(x) = Ax − b$, $g(x) = Cx − d$\n",
    "- apply general optimality condition:\n",
    "$$\n",
    "2 Df(\\hat{x})^T f(\\hat{x}) + Dg(\\hat{x})^T \\hat{z} = 2 A^T (A\\hat{x} − b) + C^Tz = 0, \\quad g(\\hat{x}) = C\\hat{x} − d= 0\n",
    "$$\n",
    "- these are the KKT equations\n",
    "$$\n",
    "\\begin{bmatrix}\n",
    "  2A^TA & C^T \\\\\n",
    "  C & 0\n",
    "\\end{bmatrix}\n",
    "\\begin{bmatrix}\n",
    "  \\hat{x} \\\\\n",
    "  \\hat{z}\n",
    "\\end{bmatrix} =\n",
    "\\begin{bmatrix}\n",
    "  2A^Tb \\\\\n",
    "  d\n",
    "\\end{bmatrix}\n",
    "$$"
   ]
  },
  {
   "cell_type": "markdown",
   "metadata": {},
   "source": [
    "# 19.2 Penalty algorithm"
   ]
  },
  {
   "cell_type": "markdown",
   "metadata": {},
   "source": [
    "- solve sequence of (unconstrained) nonlinear least squares problems\n",
    "$$\n",
    "\\text{minimize} \\quad \\|f(x)\\|^2 + \\mu \\|g(x)\\|^2 =\n",
    "\\Bigg\\|\\begin{bmatrix}\n",
    "f(x) \\\\\n",
    "\\sqrt{\\mu}g(x)\n",
    "\\end{bmatrix}\\Bigg\\|^2\n",
    "$$\n",
    "- $\\mu$ is a positive *penalty* parameter\n",
    "- instead of insisting on $g(x) = 0$ we assign a penalty to deviations from zero\n",
    "- for increasing sequence $\\mu^{(1)}, \\mu^{(2)}, \\ldots$, compute $x^{(k+1)}$ by minimizing\n",
    "$$\n",
    "\\|f(x)\\|^2 + \\mu^{(k)} \\|g(x)\\|^2\n",
    "$$\n",
    "- $x^{(k+1)}$ is computed by Levenberg–Marquardt algorithm started at $x^{(k)}$\n",
    "\n",
    "---\n",
    "**Termination**\n",
    "- recall optimality condition $2Df(\\hat{x})^T f(\\hat{x}) + Dg(\\hat{x})^T \\hat{z} = 0$, $g(\\hat{x}) = 0$\n",
    "- $x^{(k)}$ satisfies normal equations for linear least squares problem:\n",
    "$$\n",
    "2Df(x^{(k)})^T f(x^{(k)}) + 2\\mu^{(k−1)} Dg(x^{(k)})^T g(x^{(k)}) = 0\n",
    "$$\n",
    "- if we define $z^{(k)} = 2\\mu^{(k−1)}g(x^{(k)})$, this can be written as\n",
    "$$\n",
    "2Df(x^{(k)})^T f(x^{(k)}) + Dg(x^{(k)})^T z^{(k)} = 0\n",
    "$$\n",
    "- we see that $x^{(k)}$, $z^{(k)}$ satisfy first equation in optimality condition\n",
    "- feasibility $g(x^{(k)}) = 0$ is only satisfied approximately for $\\mu^{(k−1)}$ large enough\n",
    "- penalty method is terminated when $\\|g(x^{(k)})\\|$ becomes sufficiently small\n",
    "\n",
    "---\n",
    "**Algorithm** Penalty algorithm for constrained nonlinear least squares\n",
    "\n",
    "**given** differentiable functions $f: \\mathbb{R}^n \\rightarrow \\mathbb{R}^m$ and $g: \\mathbb{R}^n \\rightarrow \\mathbb{R}^p$ , and an initial point $x^{(1)}$. Set $\\mu^{(1)} = 1$.\n",
    "\n",
    "For $k = 1, 2, . . . , k^{max}$\n",
    "\n",
    "1. *Solve unconstrained nonlinear least squares problem.* Set $x^{(k+1)}$ to be the (approximate) minimizer of\n",
    "$$\n",
    "\\|f(x)\\|^2 + \\mu^{(k)} \\|g(x)\\|^2\n",
    "$$\n",
    "using the Levenberg–Marquardt algorithm, starting from initial point $x^{(k)}$.\n",
    "2. *Update* $\\mu^{(k)}$: $\\mu^{(k+1)} = 2\\mu^{(k)}$."
   ]
  },
  {
   "cell_type": "code",
   "execution_count": 2,
   "metadata": {},
   "outputs": [],
   "source": [
    "def penalty_method(f, Df, g, Dg, x1, lambda1, kmax=100, feas_tol=1e-4, oc_tol=1e-4):\n",
    "    x = x1\n",
    "    mu = 1.0\n",
    "    #  feasibility condition residual\n",
    "    feas_res = np.array([np.linalg.norm(g(x))])\n",
    "    # optimal condition residual\n",
    "    oc_res = np.array([\n",
    "        np.linalg.norm(2 * Df(x).T * f(x)\n",
    "                       + 2 * mu * Dg(x).T * g(x))\n",
    "    ])\n",
    "    lm_iters = []\n",
    "    F = lambda x: np.vstack([f(x), np.sqrt(mu)*g(x)])\n",
    "    DF = lambda x: np.vstack([Df(x), np.sqrt(mu)*Dg(x)])\n",
    "    for k in range(kmax):\n",
    "        # minimize norm(F(x)) by levenberg marquardt\n",
    "        # F(x) = [f(x); sqrt(mu)*g(x)]\n",
    "        x, hist = levenberg_marquardt(F, DF, x, lambda1, tol=oc_tol)\n",
    "        feas_res = np.vstack([feas_res, np.linalg.norm(g(x))])\n",
    "        oc_res = np.vstack([oc_res, np.array(hist[\"residuals\"])[-1]])\n",
    "        lm_iters.append(len(hist[\"residuals\"])) \n",
    "        if np.linalg.norm(g(x)) < feas_tol:\n",
    "            break\n",
    "        mu = 2*mu\n",
    "    return x, {'lm_iterations': lm_iters, 'feas_res': feas_res, 'oc_res': oc_res}"
   ]
  },
  {
   "cell_type": "markdown",
   "metadata": {},
   "source": [
    "**Example.** We apply the method to a problem with two variables\n",
    "$$\n",
    "f(x1, x2) = \\begin{bmatrix}\n",
    "x_1 + exp(−x_2) \\\\\n",
    "x_1^2 + 2x_2 + 1\n",
    "\\end{bmatrix} \\quad\n",
    "g(x1, x2) = x_1 + x_1^3 + x_2 + x_2^2.\n",
    "$$"
   ]
  },
  {
   "cell_type": "code",
   "execution_count": 3,
   "metadata": {},
   "outputs": [
    {
     "name": "stdout",
     "output_type": "stream",
     "text": [
      "[[-3.33495514e-05]\n",
      " [-2.76824972e-05]]\n"
     ]
    }
   ],
   "source": [
    "f = lambda x: np.vstack([x[0] + np.exp(-x[1]), x[0]**2 + 2*x[1] + 1])\n",
    "Df = lambda x: np.vstack([[1 , -np.exp(-x[1, 0])],\n",
    "                          [2*x[0, 0] , 2]])\n",
    "g = lambda x: np.array([x[0] + x[0]**3 + x[1] + x[1]**2])\n",
    "Dg = lambda x: np.hstack([1 + 3*x[0]**2, 1+ 2*x[1]])\n",
    "x, hist = penalty_method(f, Df, g, Dg,  np.array([[0.5], [-0.5]]), 1.0)\n",
    "print(x)"
   ]
  },
  {
   "cell_type": "code",
   "execution_count": 4,
   "metadata": {},
   "outputs": [
    {
     "data": {
      "image/png": "[encoded data removed]",
      "text/plain": [
       "<Figure size 432x288 with 1 Axes>"
      ]
     },
     "metadata": {
      "needs_background": "light"
     },
     "output_type": "display_data"
    }
   ],
   "source": [
    "cum_lm_iters = np.cumsum(hist[\"lm_iterations\"], axis=0)\n",
    "itr = np.hstack([0, np.hstack([[i,i] for i in cum_lm_iters])])\n",
    "feas_res = np.hstack((np.hstack([[r, r] for r in hist['feas_res'][0:-1, 0]]), hist['feas_res'][-1, 0]))\n",
    "oc_res = np.hstack((np.hstack([[r, r] for r in hist['oc_res'][0:-1, 0]]), hist['oc_res'][-1, 0]))\n",
    "plt.plot(itr, feas_res, 'o-')\n",
    "plt.plot(itr, oc_res, 'o-')\n",
    "plt.yscale(\"log\")\n",
    "plt.xlabel(\"Cumulative Levenberg--Marquardt iterations\")\n",
    "plt.ylabel(\"Residual\")\n",
    "plt.legend([\"Feasibility\", \"Optimal cond.\"])\n",
    "plt.show()"
   ]
  },
  {
   "cell_type": "markdown",
   "metadata": {},
   "source": [
    "# 19.3 Augmented Lagrangian algorithm"
   ]
  },
  {
   "cell_type": "markdown",
   "metadata": {},
   "source": [
    "## Drawback of penalty method\n",
    "- $\\mu^{(k)}$ increases rapidly and must become large to drive $g(x)$ to (near) zero\n",
    "- for large $\\mu^{(k)}$, nonlinear least squares subproblem becomes harder\n",
    "- for large $\\mu^{(k)}$, Levenberg–Marquardt method can take a large number of iterations, or fail"
   ]
  },
  {
   "cell_type": "markdown",
   "metadata": {},
   "source": [
    "## Augmented Lagrangian\n",
    "- the *augmented Lagrangian* for the constrained nonlinear least square problem is\n",
    "$$\n",
    "\\begin{align}\n",
    "L_\\mu(x, z) &= L(x, z) + \\mu \\|g(x)\\|^2 \\\\ &= \\|f(x)\\|^2 + g(x)^T z + \\mu \\|g(x)\\|^2\n",
    "\\end{align}\n",
    "$$\n",
    "- this is the Lagrangian $L(x,z)$ augmented with a quadratic penalty term $\\mu \\|g(x)\\|^2$\n",
    "- $\\mu$ is a positive penalty parameter\n",
    "- augmented Lagrangian is the Lagrangian of the equivalent problem\n",
    "$$\n",
    "\\begin{align}\n",
    "&\\text{minimize} &\\ &\\|f(x)\\|^2 + \\mu \\|g(x)\\|^2\\\\\n",
    "&\\text{suject to} &\\ &g(x) = 0\n",
    "\\end{align}\n",
    "$$"
   ]
  },
  {
   "cell_type": "markdown",
   "metadata": {},
   "source": [
    "## Minimizing the augmented Lagrangian\n",
    "- equivalent expressions for augmented Lagrangian\n",
    "$$\n",
    "\\begin{align}\n",
    "L_\\mu(x, z) \n",
    "&= \\|f(x)\\|^2 + g(x)^T z + \\mu \\|g(x)\\|^2 \\\\\n",
    "&= \\|f(x)\\|^2 + g(x)^T z + \\mu \\|g(x)\\|^2 + \\mu \\|z/(2\\mu)\\|^2 - \\mu \\|z/(2\\mu)\\|^2\\\\\n",
    "&= \\|f(x)\\|^2 + \\mu\\|g(x) + z/(2\\mu)\\|^2 - \\mu \\|z/(2\\mu)\\|^2 \\\\\n",
    "&= \\Bigg\\| \\begin{bmatrix} f(x) \\\\ \\sqrt{\\mu}g(x) + z/(2\\sqrt{\\mu}) \\end{bmatrix} \\Bigg\\|^2 - \\mu \\|z/(2\\mu)\\|^2\n",
    "\\end{align}\n",
    "$$\n",
    "- can be minimized over $x$ (for fixed $\\mu$, $z$) by Levenberg–Marquardt method:\n",
    "$$\n",
    "\\text{minimize} \\ \\Bigg\\| \\begin{bmatrix} f(x) \\\\ \\sqrt{\\mu}g(x) + z/(2\\sqrt{\\mu}) \\end{bmatrix} \\Bigg\\|^2\n",
    "$$"
   ]
  },
  {
   "cell_type": "markdown",
   "metadata": {},
   "source": [
    "## Lagrange multiplier update\n",
    "- minimizer $\\tilde{x}$ of augmented Lagrangian $L_\\mu(x, z)$ satisfies\n",
    "$$\n",
    "\\begin{align}\n",
    "0 \n",
    "&= 2 Df(\\tilde{x})^T f(\\tilde{x}) + 2 \\mu Dg(\\tilde{x})^T (g(\\tilde{x}) + z/(2mu)) \\\\\n",
    "&= 2 Df(\\tilde{x})^T f(\\tilde{x}) + Dg(\\tilde{x})^T (2 \\mu g(\\tilde{x}) + z) \\\\\n",
    "\\end{align}\n",
    "$$\n",
    "- if we define $\\tilde{z} = z + 2 \\mu g(\\tilde{x})$ this can be written as\n",
    "$$\n",
    "2 Df(\\tilde{x})^T f(\\tilde{x}) + Dg(\\tilde{x})^T \\tilde{z} = 0\n",
    "$$\n",
    "- this is the first equation in the optimality conditions\n",
    "$$\n",
    "2 Df(\\tilde{x})^T f(\\tilde{x}) + Dg(\\tilde{x})^T \\tilde{z} = 0, \\quad g(\\tilde{x}) = 0\n",
    "$$\n",
    "- shows that if $g(\\tilde{x}) = 0$, then $\\tilde{x}$ is optimal\n",
    "- if $g(\\tilde{x})$ is not small, suggests $\\tilde{z}$ is a good update for $z$"
   ]
  },
  {
   "cell_type": "markdown",
   "metadata": {},
   "source": [
    "**Algorithm** Augmented Lagrangian algorithm\n",
    "\n",
    "**given** differentiable functions $f: \\mathbb{R}^n \\rightarrow \\mathbb{R}^m$ and $g: \\mathbb{R}^n \\rightarrow \\mathbb{R}^p$, and an initial point $x^{(1)}$. Set $z^{(1)} = 0$, $\\mu^{(1)} = 1$.\n",
    "\n",
    "For $k = 1, 2, \\ldots, k^{max}$\n",
    "1. *Solve unconstrained nonlinear least squares problem.* Set $x^{(k+1)}$ to be the (approximate) minimizer of\n",
    "$$\n",
    "\\|f(x)\\|^2 + \\mu^{(k)} \\|g(x) + z^{(k)}/(2 \\mu^{(k)})\\|^2\n",
    "$$\n",
    "using Levenberg–Marquardt algorithm, starting from initial point $x^{(k)}$.\n",
    "2. *Update* $z^{(k)}$.\n",
    "$$\n",
    "z^{(k+1)} = z^{(k)} + 2 \\mu^{(k)} g(x^{(k+1)}).\n",
    "$$\n",
    "3. *Update* $\\mu^{(k)}$.\n",
    "$$\n",
    "\\mu^{(k+1)} = \\begin{cases}\n",
    "\\mu^{(k)} & \\|g(x^{(k+1)})\\| < 0.25 \\|g(x^{(k)})\\| \\\\\n",
    "2\\mu^{(k)} & \\|g(x^{(k+1)})\\| \\ge 0.25 \\|g(x^{(k)})\\| \\\\\n",
    "\\end{cases}\n",
    "$$\n",
    "\n",
    "\n",
    "- The penalty parameter $\\mu$ is increased only when needed, when $\\|g(x)\\|$ does not sufficiently decrease\n",
    "- continues until $g(x^{(k)})$ is sufficiently small (or iteration limit is reached)"
   ]
  },
  {
   "cell_type": "code",
   "execution_count": 5,
   "metadata": {},
   "outputs": [],
   "source": [
    "def aug_lag_method(f, Df, g, Dg, x1, lambda1, kmax=100, feas_tol=1e-4, oc_tol=1e-4):\n",
    "    x = x1\n",
    "    z = np.zeros(len(g(x)))\n",
    "    mu = 1.0\n",
    "    #  feasibility condition residual\n",
    "    feas_res = np.array([np.linalg.norm(g(x))])\n",
    "    # optimal condition residual\n",
    "    oc_res = np.array([\n",
    "        np.linalg.norm(2 * Df(x).T * f(x)\n",
    "                       + 2 * mu * Dg(x).T * g(x))\n",
    "    ])\n",
    "    lm_iters = []\n",
    "    F = lambda x: np.vstack([f(x), np.sqrt(mu)*(g(x) + z/(2*mu))])\n",
    "    DF = lambda x: np.vstack([Df(x), np.sqrt(mu)*Dg(x)])\n",
    "    for k in range(kmax):\n",
    "        # minimize norm(F(x)) by levenberg marquardt\n",
    "        # F(x) = [f(x); sqrt(mu)*(g(x) + z/(2*mu))]\n",
    "        x, hist = levenberg_marquardt(F, DF, x, lambda1, tol=oc_tol)\n",
    "        z = z + 2*mu*g(x)\n",
    "        feas_res = np.vstack([feas_res, np.linalg.norm(g(x))])\n",
    "        oc_res = np.vstack([oc_res, np.array(hist[\"residuals\"])[-1]])\n",
    "        lm_iters.append(len(hist[\"residuals\"])) \n",
    "        if np.linalg.norm(g(x)) < feas_tol:\n",
    "            break\n",
    "        if ~(np.linalg.norm(g(x)) < 0.25*feas_res[-2]):\n",
    "            mu = 2*mu\n",
    "    return x, z, {'lm_iterations': lm_iters, 'feas_res': feas_res, 'oc_res': oc_res}"
   ]
  },
  {
   "cell_type": "code",
   "execution_count": 6,
   "metadata": {},
   "outputs": [
    {
     "name": "stdout",
     "output_type": "stream",
     "text": [
      "[[-1.86466149e-05]\n",
      " [-1.50085678e-05]]\n",
      "[[-1.99995813]]\n"
     ]
    }
   ],
   "source": [
    "x, z, hist = aug_lag_method(f, Df, g, Dg,  np.array([[0.5], [-0.5]]), 1.0)\n",
    "print(x)\n",
    "print(z)"
   ]
  },
  {
   "cell_type": "code",
   "execution_count": 7,
   "metadata": {},
   "outputs": [
    {
     "data": {
      "image/png": "[encoded data removed]",
      "text/plain": [
       "<Figure size 432x288 with 1 Axes>"
      ]
     },
     "metadata": {
      "needs_background": "light"
     },
     "output_type": "display_data"
    }
   ],
   "source": [
    "cum_lm_iters = np.cumsum(hist[\"lm_iterations\"], axis=0)\n",
    "itr = np.hstack([0, np.hstack([[i,i] for i in cum_lm_iters])])\n",
    "feas_res = np.hstack((np.hstack([[r, r] for r in hist['feas_res'][0:-1, 0]]), hist['feas_res'][-1, 0]))\n",
    "oc_res = np.hstack((np.hstack([[r, r] for r in hist['oc_res'][0:-1, 0]]), hist['oc_res'][-1, 0]))\n",
    "plt.plot(itr, feas_res, 'o-')\n",
    "plt.plot(itr, oc_res, 'o-')\n",
    "plt.yscale(\"log\")\n",
    "plt.xlabel(\"Cumulative Levenberg--Marquardt iterations\")\n",
    "plt.ylabel(\"Residual\")\n",
    "plt.legend([\"Feasibility\", \"Optimal cond.\"])\n",
    "plt.show()"
   ]
  }
 ],
 "metadata": {
  "kernelspec": {
   "display_name": "Python 3",
   "language": "python",
   "name": "python3"
  },
  "language_info": {
   "codemirror_mode": {
    "name": "ipython",
    "version": 3
   },
   "file_extension": ".py",
   "mimetype": "text/x-python",
   "name": "python",
   "nbconvert_exporter": "python",
   "pygments_lexer": "ipython3",
   "version": "3.7.6"
  }
 },
 "nbformat": 4,
 "nbformat_minor": 4
}
