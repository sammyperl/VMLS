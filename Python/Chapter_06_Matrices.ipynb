{
 "cells": [
  {
   "cell_type": "code",
   "execution_count": 34,
   "metadata": {},
   "outputs": [],
   "source": [
    "import numpy as np\n",
    "from scipy import sparse\n",
    "\n",
    "from IPython.display import display\n",
    "from IPython.display import Latex"
   ]
  },
  {
   "cell_type": "markdown",
   "metadata": {},
   "source": [
    "# 6.1 Matrices"
   ]
  },
  {
   "cell_type": "markdown",
   "metadata": {},
   "source": [
    "## Creating matrices from the entries"
   ]
  },
  {
   "cell_type": "markdown",
   "metadata": {},
   "source": [
    "Matrices can be represented in Python using 2-dimensional numpy array or list structure (list of lists). For example, the 3 × 4 matrix\n",
    "$$A =\\begin{bmatrix}\n",
    "0 && 1 && −2.3 && 0.1 \\\\\n",
    "1.3 && 4 && −0.1 && 1 \\\\\n",
    "4.1 && −1 && 0 && 1.7\n",
    "\\end{bmatrix}$$\n",
    "is constructed in Python as"
   ]
  },
  {
   "cell_type": "code",
   "execution_count": 2,
   "metadata": {},
   "outputs": [
    {
     "name": "stdout",
     "output_type": "stream",
     "text": [
      "[[ 0.   1.  -2.3  0.1]\n",
      " [ 1.3  4.  -0.1  0. ]\n",
      " [ 4.1 -1.   0.   1.7]]\n"
     ]
    }
   ],
   "source": [
    "A = np.array([[0.0, 1.0, -2.3, 0.1],\n",
    "               [1.3, 4.0, -0.1, 0.0],\n",
    "               [4.1, -1.0, 0.0, 1.7]])\n",
    "print(A)"
   ]
  },
  {
   "cell_type": "code",
   "execution_count": 3,
   "metadata": {},
   "outputs": [
    {
     "name": "stdout",
     "output_type": "stream",
     "text": [
      "m: 3\n",
      "n: 4\n"
     ]
    },
    {
     "data": {
      "text/latex": [
       "size of matrix A: $3 \\times 4$"
      ],
      "text/plain": [
       "<IPython.core.display.Latex object>"
      ]
     },
     "metadata": {},
     "output_type": "display_data"
    }
   ],
   "source": [
    "m, n = A.shape  # shape property: shape of an array\n",
    "print('m:', m)\n",
    "print('n:', n)\n",
    "display(Latex(r'size of matrix A: $%i \\times %i$' % (m, n)))"
   ]
  },
  {
   "cell_type": "code",
   "execution_count": 4,
   "metadata": {},
   "outputs": [
    {
     "name": "stdout",
     "output_type": "stream",
     "text": [
      "matrix A is tall: False\n",
      "matrix A is wide: True\n",
      "matrix A is square: False\n"
     ]
    }
   ],
   "source": [
    "isTall = lambda X: A.shape[0] > A.shape[1]\n",
    "isWide = lambda X: A.shape[0] < A.shape[1]\n",
    "isSquare = lambda X: A.shape[0] == A.shape[1]\n",
    "print('matrix A is tall:', isTall(A))\n",
    "print('matrix A is wide:',isWide(A))\n",
    "print('matrix A is square:',isSquare(A))"
   ]
  },
  {
   "cell_type": "markdown",
   "metadata": {},
   "source": [
    "## Indexing entries"
   ]
  },
  {
   "cell_type": "code",
   "execution_count": 5,
   "metadata": {},
   "outputs": [
    {
     "name": "stdout",
     "output_type": "stream",
     "text": [
      "[[ 0.   1.  -2.3  0.1]\n",
      " [ 1.3  4.  -0.1  0. ]\n",
      " [ 4.1 -1.   0.   1.7]]\n"
     ]
    },
    {
     "data": {
      "text/latex": [
       "$A_{13}=-2.3, \\quad A_{32}=-1.0$"
      ],
      "text/plain": [
       "<IPython.core.display.Latex object>"
      ]
     },
     "metadata": {},
     "output_type": "display_data"
    }
   ],
   "source": [
    "# Coordinates can be interpreted as y,x or list index, item index\n",
    "print(A)\n",
    "display(Latex('$A_{13}=%.1f, \\quad A_{32}=%.1f$' % (A[0,2], A[2,1])))"
   ]
  },
  {
   "cell_type": "markdown",
   "metadata": {},
   "source": [
    "## Equality of matrices"
   ]
  },
  {
   "cell_type": "code",
   "execution_count": 6,
   "metadata": {},
   "outputs": [
    {
     "data": {
      "text/plain": [
       "array([[ True,  True,  True,  True],\n",
       "       [ True,  True,  True,  True],\n",
       "       [ True,  True,  True,  True]])"
      ]
     },
     "execution_count": 6,
     "metadata": {},
     "output_type": "execute_result"
    }
   ],
   "source": [
    "A = np.array([[0, 1, -2.3, 0.1],\n",
    "              [1.3, 4, -0.1, 0],\n",
    "              [4.1, -1.0, 0, 1.7]])\n",
    "B = A.copy()\n",
    "A == B  # element-wise"
   ]
  },
  {
   "cell_type": "code",
   "execution_count": 7,
   "metadata": {},
   "outputs": [
    {
     "data": {
      "text/plain": [
       "True"
      ]
     },
     "execution_count": 7,
     "metadata": {},
     "output_type": "execute_result"
    }
   ],
   "source": [
    "np.array_equal(A, B)"
   ]
  },
  {
   "cell_type": "code",
   "execution_count": 8,
   "metadata": {},
   "outputs": [
    {
     "data": {
      "text/plain": [
       "11"
      ]
     },
     "execution_count": 8,
     "metadata": {},
     "output_type": "execute_result"
    }
   ],
   "source": [
    "B[0,3] = 100  # re-assign one of the elements in B\n",
    "np.sum(A==B)"
   ]
  },
  {
   "cell_type": "markdown",
   "metadata": {},
   "source": [
    "## Row and column vectors"
   ]
  },
  {
   "cell_type": "markdown",
   "metadata": {},
   "source": [
    "n-vectors are the same as n × 1 matrices. In Python, there is a subtle difference between a 1D array, a column vector and a row vector."
   ]
  },
  {
   "cell_type": "code",
   "execution_count": 9,
   "metadata": {},
   "outputs": [
    {
     "data": {
      "text/plain": [
       "(3,)"
      ]
     },
     "execution_count": 9,
     "metadata": {},
     "output_type": "execute_result"
    }
   ],
   "source": [
    "# a 3 vector\n",
    "a = np.array([-2.1, -3, 0])\n",
    "a.shape"
   ]
  },
  {
   "cell_type": "code",
   "execution_count": 10,
   "metadata": {},
   "outputs": [
    {
     "data": {
      "text/plain": [
       "(3, 1)"
      ]
     },
     "execution_count": 10,
     "metadata": {},
     "output_type": "execute_result"
    }
   ],
   "source": [
    "# a 3-vector or a 3 by 1 matrix\n",
    "b = np.array([[-2.1],\n",
    "              [-3],\n",
    "              [0]])\n",
    "b.shape"
   ]
  },
  {
   "cell_type": "code",
   "execution_count": 11,
   "metadata": {},
   "outputs": [
    {
     "data": {
      "text/plain": [
       "(1, 3)"
      ]
     },
     "execution_count": 11,
     "metadata": {},
     "output_type": "execute_result"
    }
   ],
   "source": [
    "# a 3-row vector or a 1 by 3 matrix\n",
    "c = np.array([[-2.1, -3, 0]])\n",
    "c.shape"
   ]
  },
  {
   "cell_type": "markdown",
   "metadata": {},
   "source": [
    "You can see a has shape (3,), meaning that it is a 1D array, while b has shape (3, 1), meaning that it is a 3 × 1 matrix. This small subtlety generally won’t affect you and b can be reshaped to look like c easily with the command `b.reshape(3)`."
   ]
  },
  {
   "cell_type": "code",
   "execution_count": 12,
   "metadata": {},
   "outputs": [
    {
     "data": {
      "text/plain": [
       "13.41"
      ]
     },
     "execution_count": 12,
     "metadata": {},
     "output_type": "execute_result"
    }
   ],
   "source": [
    "a @ a  # float"
   ]
  },
  {
   "cell_type": "code",
   "execution_count": 13,
   "metadata": {},
   "outputs": [
    {
     "data": {
      "text/plain": [
       "array([[13.41]])"
      ]
     },
     "execution_count": 13,
     "metadata": {},
     "output_type": "execute_result"
    }
   ],
   "source": [
    "b.T @ b"
   ]
  },
  {
   "cell_type": "code",
   "execution_count": 14,
   "metadata": {},
   "outputs": [
    {
     "data": {
      "text/plain": [
       "array([[13.41]])"
      ]
     },
     "execution_count": 14,
     "metadata": {},
     "output_type": "execute_result"
    }
   ],
   "source": [
    "c @ c.T"
   ]
  },
  {
   "cell_type": "markdown",
   "metadata": {},
   "source": [
    "## Slicing and submatrices"
   ]
  },
  {
   "cell_type": "code",
   "execution_count": 15,
   "metadata": {},
   "outputs": [
    {
     "data": {
      "text/plain": [
       "array([[1, 0],\n",
       "       [0, 1]])"
      ]
     },
     "execution_count": 15,
     "metadata": {},
     "output_type": "execute_result"
    }
   ],
   "source": [
    "A = np.array([[-1, 0, 1, 0],\n",
    "              [2, -3, 0, 1],\n",
    "              [0, 4, -2, 1]])\n",
    "A[0:2, 2:4]  # A_{1:2,3:4}"
   ]
  },
  {
   "cell_type": "code",
   "execution_count": 16,
   "metadata": {},
   "outputs": [
    {
     "data": {
      "text/plain": [
       "array([ 1,  0, -2])"
      ]
     },
     "execution_count": 16,
     "metadata": {},
     "output_type": "execute_result"
    }
   ],
   "source": [
    "# Third column of A\n",
    "A[:, 2]"
   ]
  },
  {
   "cell_type": "code",
   "execution_count": 17,
   "metadata": {},
   "outputs": [
    {
     "data": {
      "text/plain": [
       "array([ 2, -3,  0,  1])"
      ]
     },
     "execution_count": 17,
     "metadata": {},
     "output_type": "execute_result"
    }
   ],
   "source": [
    "# Second row of A, returned as vector\n",
    "A[1, :]"
   ]
  },
  {
   "cell_type": "code",
   "execution_count": 18,
   "metadata": {},
   "outputs": [
    {
     "data": {
      "text/plain": [
       "array([[-1,  0],\n",
       "       [ 1,  0],\n",
       "       [ 2, -3],\n",
       "       [ 0,  1],\n",
       "       [ 0,  4],\n",
       "       [-2,  1]])"
      ]
     },
     "execution_count": 18,
     "metadata": {},
     "output_type": "execute_result"
    }
   ],
   "source": [
    "A.reshape((6, 2))"
   ]
  },
  {
   "cell_type": "code",
   "execution_count": 19,
   "metadata": {},
   "outputs": [
    {
     "ename": "ValueError",
     "evalue": "cannot reshape array of size 12 into shape (3,2)",
     "output_type": "error",
     "traceback": [
      "\u001b[1;31m---------------------------------------------------------------------------\u001b[0m",
      "\u001b[1;31mValueError\u001b[0m                                Traceback (most recent call last)",
      "\u001b[1;32m<ipython-input-19-ecdac44696c6>\u001b[0m in \u001b[0;36m<module>\u001b[1;34m\u001b[0m\n\u001b[1;32m----> 1\u001b[1;33m \u001b[0mA\u001b[0m\u001b[1;33m.\u001b[0m\u001b[0mreshape\u001b[0m\u001b[1;33m(\u001b[0m\u001b[1;33m(\u001b[0m\u001b[1;36m3\u001b[0m\u001b[1;33m,\u001b[0m \u001b[1;36m2\u001b[0m\u001b[1;33m)\u001b[0m\u001b[1;33m)\u001b[0m\u001b[1;33m\u001b[0m\u001b[1;33m\u001b[0m\u001b[0m\n\u001b[0m",
      "\u001b[1;31mValueError\u001b[0m: cannot reshape array of size 12 into shape (3,2)"
     ]
    }
   ],
   "source": [
    "A.reshape((3, 2))"
   ]
  },
  {
   "cell_type": "markdown",
   "metadata": {},
   "source": [
    "## Block matrices"
   ]
  },
  {
   "cell_type": "code",
   "execution_count": 20,
   "metadata": {},
   "outputs": [
    {
     "data": {
      "text/plain": [
       "array([[ 0,  2,  3, -1],\n",
       "       [ 2,  2,  1,  4],\n",
       "       [ 1,  3,  5,  4]])"
      ]
     },
     "execution_count": 20,
     "metadata": {},
     "output_type": "execute_result"
    }
   ],
   "source": [
    "B = np.array([0, 2, 3])  # 1 by 3 matrix\n",
    "C = np.array([-1])  # 1 by 1 matrix\n",
    "D = np.array([[2, 2, 1],\n",
    "              [1, 3, 5]])  # 2 by 3 matrix\n",
    "E = np.array([[4],\n",
    "              [4]])  # 2 by 1 matrix\n",
    "# Constrcut 3 by 4 block matrix\n",
    "A = np.block([[B, C],\n",
    "              [D, E]])\n",
    "A"
   ]
  },
  {
   "cell_type": "markdown",
   "metadata": {},
   "source": [
    "## Column and row interpretation of a matrix"
   ]
  },
  {
   "cell_type": "markdown",
   "metadata": {},
   "source": [
    "An m × n matrix A can be interpreted as a collection of n m-vectors (its columns) or a collection of m n-row-vectors (its rows). Column vectors can be converted into a matrix using the horizontal function `np.hstack()` and row vectors can be converted into a matrix using the vertical function `np.vstack()`."
   ]
  },
  {
   "cell_type": "code",
   "execution_count": 21,
   "metadata": {},
   "outputs": [
    {
     "name": "stdout",
     "output_type": "stream",
     "text": [
      "matrix A : [[1 2]\n",
      " [4 5]\n",
      " [7 8]]\n",
      "dimensions of A : (3, 2)\n",
      "matrix B : [1 2 4 5 7 8]\n",
      "dimensions of B : (6,)\n"
     ]
    }
   ],
   "source": [
    "a = [1, 2]\n",
    "b = [4, 5]\n",
    "c = [7, 8]\n",
    "A = np.vstack([a, b, c])\n",
    "B = np.hstack([a, b, c])\n",
    "print('matrix A :', A)\n",
    "print('dimensions of A :', A.shape)\n",
    "print('matrix B :', B)\n",
    "print('dimensions of B :', B.shape)"
   ]
  },
  {
   "cell_type": "code",
   "execution_count": 22,
   "metadata": {},
   "outputs": [
    {
     "name": "stdout",
     "output_type": "stream",
     "text": [
      "matrix A : [[1]\n",
      " [2]\n",
      " [4]\n",
      " [5]\n",
      " [7]\n",
      " [8]]\n",
      "dimensions of A : (6, 1)\n",
      "matrix B : [[1 4 7]\n",
      " [2 5 8]]\n",
      "dimensions of B : (2, 3)\n"
     ]
    }
   ],
   "source": [
    "a = [[1],\n",
    "     [2]]\n",
    "b = [[4],\n",
    "     [5]]\n",
    "c = [[7],\n",
    "     [8]]\n",
    "A = np.vstack([a, b, c])\n",
    "B = np.hstack([a, b, c])\n",
    "print('matrix A :', A)\n",
    "print('dimensions of A :', A.shape)\n",
    "print('matrix B :', B)\n",
    "print('dimensions of B :', B.shape)\n"
   ]
  },
  {
   "cell_type": "markdown",
   "metadata": {},
   "source": [
    "Another useful expression is `np.c_` and `np.r_`, which allow us to stack column (and row) vectors with other vectors (and matrices)."
   ]
  },
  {
   "cell_type": "code",
   "execution_count": 23,
   "metadata": {},
   "outputs": [
    {
     "data": {
      "text/plain": [
       "array([[-1., -0., -0.,  0.],\n",
       "       [-0., -1., -0.,  0.],\n",
       "       [-0., -0., -1.,  0.]])"
      ]
     },
     "execution_count": 23,
     "metadata": {},
     "output_type": "execute_result"
    }
   ],
   "source": [
    "np.c_[-np.identity(3), np.zeros(3)]"
   ]
  },
  {
   "cell_type": "code",
   "execution_count": 24,
   "metadata": {},
   "outputs": [
    {
     "data": {
      "text/plain": [
       "array([[1., 0., 0.],\n",
       "       [0., 1., 0.],\n",
       "       [0., 0., 1.],\n",
       "       [0., 0., 0.]])"
      ]
     },
     "execution_count": 24,
     "metadata": {},
     "output_type": "execute_result"
    }
   ],
   "source": [
    "np.r_[np.identity(3), np.zeros((1, 3))]"
   ]
  },
  {
   "cell_type": "markdown",
   "metadata": {},
   "source": [
    "# 6.2 Zero and identity matrices"
   ]
  },
  {
   "cell_type": "markdown",
   "metadata": {},
   "source": [
    "## Zero matrices"
   ]
  },
  {
   "cell_type": "markdown",
   "metadata": {},
   "source": [
    "A zero matrix of size m × n is created using np.zeros((m,n)). Note the double brackets!"
   ]
  },
  {
   "cell_type": "code",
   "execution_count": 25,
   "metadata": {},
   "outputs": [
    {
     "data": {
      "text/plain": [
       "array([[0., 0.],\n",
       "       [0., 0.]])"
      ]
     },
     "execution_count": 25,
     "metadata": {},
     "output_type": "execute_result"
    }
   ],
   "source": [
    "np.zeros((2, 2))"
   ]
  },
  {
   "cell_type": "markdown",
   "metadata": {},
   "source": [
    "## Identity matrices"
   ]
  },
  {
   "cell_type": "code",
   "execution_count": 26,
   "metadata": {},
   "outputs": [
    {
     "data": {
      "text/plain": [
       "array([[1., 0., 0., 0.],\n",
       "       [0., 1., 0., 0.],\n",
       "       [0., 0., 1., 0.],\n",
       "       [0., 0., 0., 1.]])"
      ]
     },
     "execution_count": 26,
     "metadata": {},
     "output_type": "execute_result"
    }
   ],
   "source": [
    "np.identity(4)  # Return the identity array. The identity array is a square array with ones on the main diagonal."
   ]
  },
  {
   "cell_type": "code",
   "execution_count": 27,
   "metadata": {},
   "outputs": [
    {
     "data": {
      "text/plain": [
       "array([[1., 0., 0.],\n",
       "       [0., 1., 0.],\n",
       "       [0., 0., 1.]])"
      ]
     },
     "execution_count": 27,
     "metadata": {},
     "output_type": "execute_result"
    }
   ],
   "source": [
    "np.eye(3)  # Return a 2-D array with ones on the diagonal and zeros elsewhere."
   ]
  },
  {
   "cell_type": "code",
   "execution_count": 28,
   "metadata": {},
   "outputs": [
    {
     "data": {
      "text/plain": [
       "array([[1., 0., 0., 0., 0.],\n",
       "       [0., 1., 0., 0., 0.],\n",
       "       [0., 0., 1., 0., 0.]])"
      ]
     },
     "execution_count": 28,
     "metadata": {},
     "output_type": "execute_result"
    }
   ],
   "source": [
    "np.eye(3, M=5)"
   ]
  },
  {
   "cell_type": "code",
   "execution_count": 29,
   "metadata": {},
   "outputs": [
    {
     "data": {
      "text/plain": [
       "array([[0., 0., 1., 0., 0.],\n",
       "       [0., 0., 0., 1., 0.],\n",
       "       [0., 0., 0., 0., 1.]])"
      ]
     },
     "execution_count": 29,
     "metadata": {},
     "output_type": "execute_result"
    }
   ],
   "source": [
    "np.eye(3, M=5, k=2)"
   ]
  },
  {
   "cell_type": "markdown",
   "metadata": {},
   "source": [
    "## Ones matrix"
   ]
  },
  {
   "cell_type": "markdown",
   "metadata": {},
   "source": [
    "In VMLS we do not use special notation for a matrix with all entries equal to one. In Python, such a matrix is given by `np.ones((m,n))`"
   ]
  },
  {
   "cell_type": "markdown",
   "metadata": {},
   "source": [
    "## Diagonal matrices"
   ]
  },
  {
   "cell_type": "markdown",
   "metadata": {},
   "source": [
    "In standard mathematical notation, ***diag***(1, 2, 3) is a diagonal 3×3 matrix with diagonal entries 1, 2, 3. In Python, such a matrix can be created using `np.diag()`."
   ]
  },
  {
   "cell_type": "code",
   "execution_count": 30,
   "metadata": {},
   "outputs": [
    {
     "name": "stdout",
     "output_type": "stream",
     "text": [
      "[0 4]\n",
      "[1 5]\n"
     ]
    }
   ],
   "source": [
    "x = np.array([[0, 1, 2],\n",
    "              [3, 4, 5]])\n",
    "print(np.diag(x))  # extracts the diagonal entries as a vector (array)\n",
    "print(np.diag(x, k=1))  # extracts the diagonal entries as a vector (array)"
   ]
  },
  {
   "cell_type": "code",
   "execution_count": 31,
   "metadata": {},
   "outputs": [
    {
     "name": "stdout",
     "output_type": "stream",
     "text": [
      "[[0 0]\n",
      " [0 4]]\n"
     ]
    }
   ],
   "source": [
    "print(np.diag(np.diag(x)))  # constructs a diagonal matrix with diagonal entries given in the 1-D array."
   ]
  },
  {
   "cell_type": "markdown",
   "metadata": {},
   "source": [
    "## Random matrices"
   ]
  },
  {
   "cell_type": "code",
   "execution_count": 32,
   "metadata": {},
   "outputs": [
    {
     "data": {
      "text/plain": [
       "array([[0.30896411, 0.62359332, 0.8621308 ],\n",
       "       [0.32927195, 0.78657859, 0.89597358]])"
      ]
     },
     "execution_count": 32,
     "metadata": {},
     "output_type": "execute_result"
    }
   ],
   "source": [
    "rng = np.random.default_rng(6492)\n",
    "rng.random((2, 3))"
   ]
  },
  {
   "cell_type": "code",
   "execution_count": 33,
   "metadata": {},
   "outputs": [
    {
     "data": {
      "text/plain": [
       "array([[ 0.78963386, -0.24620154, -0.35860942],\n",
       "       [ 1.04575694,  0.909243  ,  0.57325084]])"
      ]
     },
     "execution_count": 33,
     "metadata": {},
     "output_type": "execute_result"
    }
   ],
   "source": [
    "rng.standard_normal((2, 3))"
   ]
  },
  {
   "cell_type": "markdown",
   "metadata": {},
   "source": [
    "## Sparse matrices"
   ]
  },
  {
   "cell_type": "code",
   "execution_count": 36,
   "metadata": {},
   "outputs": [
    {
     "data": {
      "text/plain": [
       "<4x5 sparse matrix of type '<class 'numpy.float64'>'\n",
       "\twith 6 stored elements in COOrdinate format>"
      ]
     },
     "execution_count": 36,
     "metadata": {},
     "output_type": "execute_result"
    }
   ],
   "source": [
    "I = np.array([ 0, 1, 1, 0, 2, 3 ]) # row indexes of nonzeros\n",
    "J = np.array([ 0, 0, 1, 2, 2, 3 ]) # column indexes\n",
    "V = np.array([ -1.11, 0.15, -0.10, 1.17, -0.30, 0.13 ]) # values\n",
    "A = sparse.coo_matrix((V, (I, J)), shape=(4, 5))\n",
    "A"
   ]
  },
  {
   "cell_type": "code",
   "execution_count": 37,
   "metadata": {},
   "outputs": [
    {
     "data": {
      "text/plain": [
       "6"
      ]
     },
     "execution_count": 37,
     "metadata": {},
     "output_type": "execute_result"
    }
   ],
   "source": [
    "A.nnz  # Number of stored values, including explicit zeros."
   ]
  },
  {
   "cell_type": "code",
   "execution_count": 38,
   "metadata": {},
   "outputs": [
    {
     "data": {
      "text/plain": [
       "matrix([[-1.11,  0.  ,  1.17,  0.  ,  0.  ],\n",
       "        [ 0.15, -0.1 ,  0.  ,  0.  ,  0.  ],\n",
       "        [ 0.  ,  0.  , -0.3 ,  0.  ,  0.  ],\n",
       "        [ 0.  ,  0.  ,  0.  ,  0.13,  0.  ]])"
      ]
     },
     "execution_count": 38,
     "metadata": {},
     "output_type": "execute_result"
    }
   ],
   "source": [
    "A.todense()  # Return a dense matrix representation of this matrix."
   ]
  },
  {
   "cell_type": "code",
   "execution_count": 42,
   "metadata": {},
   "outputs": [
    {
     "data": {
      "text/plain": [
       "array([[-1.11,  0.  ,  1.17,  0.  ,  0.  ],\n",
       "       [ 0.15, -0.1 ,  0.  ,  0.  ,  0.  ],\n",
       "       [ 0.  ,  0.  , -0.3 ,  0.  ,  0.  ],\n",
       "       [ 0.  ,  0.  ,  0.  ,  0.13,  0.  ]])"
      ]
     },
     "execution_count": 42,
     "metadata": {},
     "output_type": "execute_result"
    }
   ],
   "source": [
    "A.toarray()  # Return a dense ndarray representation of this matrix."
   ]
  },
  {
   "cell_type": "code",
   "execution_count": 45,
   "metadata": {},
   "outputs": [
    {
     "data": {
      "text/plain": [
       "array([[1., 0., 1., 0.],\n",
       "       [1., 2., 0., 2.],\n",
       "       [0., 2., 3., 0.],\n",
       "       [0., 0., 3., 4.]])"
      ]
     },
     "execution_count": 45,
     "metadata": {},
     "output_type": "execute_result"
    }
   ],
   "source": [
    "diagonals = [[1, 2, 3, 4], [1, 2, 3], [1, 2]]\n",
    "B = sparse.diags(diagonals, offsets=[0, -1, 2])  # Construct a sparse matrix from diagonals.\n",
    "B.toarray()"
   ]
  },
  {
   "cell_type": "markdown",
   "metadata": {},
   "source": [
    "A useful function for creating a random sparse matrix is sparse.rand(). It generates a sparse matrix of a given shape and density with uniformly distributed values."
   ]
  },
  {
   "cell_type": "code",
   "execution_count": 46,
   "metadata": {},
   "outputs": [
    {
     "data": {
      "text/plain": [
       "<3x4 sparse matrix of type '<class 'numpy.float64'>'\n",
       "\twith 3 stored elements in Compressed Sparse Row format>"
      ]
     },
     "execution_count": 46,
     "metadata": {},
     "output_type": "execute_result"
    }
   ],
   "source": [
    "matrix = sparse.rand(3, 4, density=0.25, format='csr', random_state=42)\n",
    "matrix"
   ]
  },
  {
   "cell_type": "markdown",
   "metadata": {},
   "source": [
    "# 6.3 Transpose, addition, and norm"
   ]
  },
  {
   "cell_type": "markdown",
   "metadata": {},
   "source": [
    "In VMLS we denote the transpose of an m×n matrix A as $A^T$. In Python, the transpose of A is given by np.transpose(A) or simply A.T."
   ]
  },
  {
   "cell_type": "code",
   "execution_count": 47,
   "metadata": {},
   "outputs": [
    {
     "data": {
      "text/plain": [
       "array([[ 0,  2],\n",
       "       [ 1, -1],\n",
       "       [-2,  3],\n",
       "       [ 1,  0]])"
      ]
     },
     "execution_count": 47,
     "metadata": {},
     "output_type": "execute_result"
    }
   ],
   "source": [
    "H = np.array([[0, 1, -2, 1],\n",
    "              [2, -1, 3, 0]])\n",
    "H.T"
   ]
  },
  {
   "cell_type": "code",
   "execution_count": 48,
   "metadata": {},
   "outputs": [
    {
     "data": {
      "text/plain": [
       "array([[ 0,  2],\n",
       "       [ 1, -1],\n",
       "       [-2,  3],\n",
       "       [ 1,  0]])"
      ]
     },
     "execution_count": 48,
     "metadata": {},
     "output_type": "execute_result"
    }
   ],
   "source": [
    "np.transpose(H)"
   ]
  },
  {
   "cell_type": "markdown",
   "metadata": {},
   "source": [
    "## Addition, subtraction, and scalar multiplication"
   ]
  },
  {
   "cell_type": "code",
   "execution_count": 49,
   "metadata": {},
   "outputs": [
    {
     "data": {
      "text/plain": [
       "array([[1, 6],\n",
       "       [9, 3],\n",
       "       [3, 5]])"
      ]
     },
     "execution_count": 49,
     "metadata": {},
     "output_type": "execute_result"
    }
   ],
   "source": [
    "U = np.array([[0, 4],\n",
    "              [7, 0],\n",
    "              [3, 1]])\n",
    "V = np.array([[1, 2],\n",
    "              [2, 3],\n",
    "              [0, 4]])\n",
    "U + V"
   ]
  },
  {
   "cell_type": "code",
   "execution_count": 50,
   "metadata": {},
   "outputs": [
    {
     "data": {
      "text/plain": [
       "array([[ 0. ,  8.8],\n",
       "       [15.4,  0. ],\n",
       "       [ 6.6,  2.2]])"
      ]
     },
     "execution_count": 50,
     "metadata": {},
     "output_type": "execute_result"
    }
   ],
   "source": [
    "2.2 * U"
   ]
  },
  {
   "cell_type": "markdown",
   "metadata": {},
   "source": [
    "## Elementwise operations"
   ]
  },
  {
   "cell_type": "code",
   "execution_count": 52,
   "metadata": {},
   "outputs": [
    {
     "data": {
      "text/plain": [
       "array([[0.5, 5. ],\n",
       "       [8. , 1.5],\n",
       "       [3. , 3. ]])"
      ]
     },
     "execution_count": 52,
     "metadata": {},
     "output_type": "execute_result"
    }
   ],
   "source": [
    "U + V * 0.5 "
   ]
  },
  {
   "cell_type": "markdown",
   "metadata": {},
   "source": [
    "## Matrix norm"
   ]
  },
  {
   "cell_type": "markdown",
   "metadata": {},
   "source": [
    "In VMLS we use $\\left\\|A\\right\\|$ to denote the norm of an m × n matrix, \n",
    "$$\n",
    "\\left\\|A\\right\\| = \\Bigg( \\sum_{i=1}^{m}\\sum_{j=1}^{n} A_{ij}^2 \\Bigg)^{{1}/{2}}\n",
    "$$\n",
    "In standard mathematical notation, this is more often written as $\\left\\|A\\right\\|_F$ , where F stands for the name Frobenius. **In standard mathematical notation, $\\left\\|A\\right\\|$ usually refers to another norm of a matrix, which is beyond the scope of topics in VMLS.** In Python, `np.linalg.norm(A)` gives the (Forbenius) norm used in VMLS.\n",
    "\n",
    "https://en.wikipedia.org/wiki/Matrix_norm"
   ]
  },
  {
   "cell_type": "code",
   "execution_count": 53,
   "metadata": {},
   "outputs": [
    {
     "data": {
      "text/plain": [
       "5.5677643628300215"
      ]
     },
     "execution_count": 53,
     "metadata": {},
     "output_type": "execute_result"
    }
   ],
   "source": [
    "\"\"\"\n",
    "The following norms can be calculated:\n",
    "\n",
    "=====  ============================  ==========================\n",
    "ord    norm for matrices             norm for vectors\n",
    "=====  ============================  ==========================\n",
    "None   Frobenius norm                2-norm\n",
    "'fro'  Frobenius norm                --\n",
    "'nuc'  nuclear norm                  --\n",
    "inf    max(sum(abs(x), axis=1))      max(abs(x))\n",
    "-inf   min(sum(abs(x), axis=1))      min(abs(x))\n",
    "0      --                            sum(x != 0)\n",
    "1      max(sum(abs(x), axis=0))      as below\n",
    "-1     min(sum(abs(x), axis=0))      as below\n",
    "2      2-norm (largest sing. value)  as below\n",
    "-2     smallest singular value       as below\n",
    "other  --                            sum(abs(x)**ord)**(1./ord)\n",
    "=====  ============================  ==========================\n",
    "\"\"\"\n",
    "A = np.array([[2, 3, -1],\n",
    "              [0, -1, 4]])\n",
    "np.linalg.norm(A)"
   ]
  },
  {
   "cell_type": "code",
   "execution_count": 54,
   "metadata": {},
   "outputs": [
    {
     "data": {
      "text/plain": [
       "5.5677643628300215"
      ]
     },
     "execution_count": 54,
     "metadata": {},
     "output_type": "execute_result"
    }
   ],
   "source": [
    "np.linalg.norm(A[:])"
   ]
  },
  {
   "cell_type": "markdown",
   "metadata": {},
   "source": [
    "## Triangle inequality"
   ]
  },
  {
   "cell_type": "markdown",
   "metadata": {},
   "source": [
    "$ \\left\\| A + B \\right\\| \\le \\left\\| A \\right\\| + \\left\\| B \\right\\| $"
   ]
  },
  {
   "cell_type": "code",
   "execution_count": 55,
   "metadata": {},
   "outputs": [
    {
     "name": "stdout",
     "output_type": "stream",
     "text": [
      "4.69041575982343\n",
      "7.795831523312719\n"
     ]
    }
   ],
   "source": [
    "A = np.array([[-1, 0],\n",
    "              [2, 2]])\n",
    "B = np.array([[3, 1],\n",
    "              [-3, 2]])\n",
    "print(np.linalg.norm(A + B))  # Frobenius norm\n",
    "print(np.linalg.norm(A) + np.linalg.norm(B))"
   ]
  },
  {
   "cell_type": "markdown",
   "metadata": {},
   "source": [
    "# 6.4 Matrix-vector multiplication"
   ]
  },
  {
   "cell_type": "markdown",
   "metadata": {},
   "source": [
    "In Python, matrix-vector multiplication has the natural syntax `y = A @ x`. Alternatively, we can use the numpy function `np.matmul(A, x)`."
   ]
  },
  {
   "cell_type": "code",
   "execution_count": 56,
   "metadata": {},
   "outputs": [
    {
     "data": {
      "text/plain": [
       "array([ 3, -4])"
      ]
     },
     "execution_count": 56,
     "metadata": {},
     "output_type": "execute_result"
    }
   ],
   "source": [
    "A = np.array([[0, 2, -1],\n",
    "              [-2, 1, 1]])\n",
    "x = np.array([2, 1, -1])\n",
    "A @ x"
   ]
  },
  {
   "cell_type": "code",
   "execution_count": 57,
   "metadata": {},
   "outputs": [
    {
     "data": {
      "text/plain": [
       "array([ 3, -4])"
      ]
     },
     "execution_count": 57,
     "metadata": {},
     "output_type": "execute_result"
    }
   ],
   "source": [
    "np.matmul(A, x)"
   ]
  },
  {
   "cell_type": "markdown",
   "metadata": {},
   "source": [
    "## Difference matrix"
   ]
  },
  {
   "cell_type": "markdown",
   "metadata": {},
   "source": [
    "- (n − 1) × n difference matrix is\n",
    "$$\n",
    "D = \\begin{bmatrix}\n",
    "-1 && 1 && 0 && \\cdots && 0 && 0 && 0 \\\\\n",
    "0 && -1 && 1 && \\cdots && 0 && 0 && 0 \\\\\n",
    " &&  && \\ddots && \\ddots &&  &&  &&  \\\\\n",
    " &&  && && \\ddots && \\ddots &&  &&  \\\\\n",
    "0 && 0 && 0 && \\cdots && -1 && 1 && 0 \\\\\n",
    "0 && 0 && 0 && \\cdots && 0 && -1 && 1\n",
    "\\end{bmatrix}\n",
    "$$\n",
    "y = Dx is (n − 1)-vector of differences of consecutive entries of x:\n",
    "$$\n",
    "Dx = \\begin{bmatrix}\n",
    "x_2 - x_1 \\\\\n",
    "x_3 - x_2 \\\\\n",
    "\\vdots \\\\\n",
    "x_n - x_{n-1}\n",
    "\\end{bmatrix}\n",
    "$$\n",
    "\n",
    "- Dirichlet energy: $\\left\\|Dx\\right\\|^2$ is measure of wiggliness for x a time series\n",
    "\n",
    "https://en.wikipedia.org/wiki/Dirichlet_energy"
   ]
  },
  {
   "cell_type": "code",
   "execution_count": 64,
   "metadata": {},
   "outputs": [
    {
     "name": "stdout",
     "output_type": "stream",
     "text": [
      "D = [[-1.  1.  0.  0.]\n",
      " [ 0. -1.  1.  0.]\n",
      " [ 0.  0. -1.  1.]]\n"
     ]
    },
    {
     "data": {
      "text/plain": [
       "array([ 1.,  2., -1.])"
      ]
     },
     "execution_count": 64,
     "metadata": {},
     "output_type": "execute_result"
    }
   ],
   "source": [
    "diff_mat = lambda n: np.c_[-np.identity(n - 1), np.zeros(n - 1)] + np.c_[np.zeros(n - 1), np.identity(n - 1)]\n",
    "D = diff_mat(4)\n",
    "x = np.array([-1, 0, 2, 1])\n",
    "print('D =', D)\n",
    "D @ x"
   ]
  },
  {
   "cell_type": "markdown",
   "metadata": {},
   "source": [
    "Since a difference matrix contains many zeros, this is a good opportunity to use sparse matrices. Here we use the `sparse.hstack()` function to stack the sparse matrices."
   ]
  },
  {
   "cell_type": "code",
   "execution_count": 66,
   "metadata": {},
   "outputs": [
    {
     "data": {
      "text/plain": [
       "array([ 1.,  2., -1.])"
      ]
     },
     "execution_count": 66,
     "metadata": {},
     "output_type": "execute_result"
    }
   ],
   "source": [
    "diff_mat = lambda n: sparse.hstack([-sparse.eye(n - 1), sparse.coo_matrix((n - 1, 1))]) \\\n",
    "                     + sparse.hstack([sparse.coo_matrix((n - 1, 1)), sparse.eye(n - 1)])\n",
    "D = diff_mat(4)\n",
    "D @ np.array([-1, 0, 2, 1])"
   ]
  },
  {
   "cell_type": "markdown",
   "metadata": {},
   "source": [
    "## Running sum matrix"
   ]
  },
  {
   "cell_type": "markdown",
   "metadata": {},
   "source": [
    "The n × n matrix\n",
    "$$\n",
    "S = \\begin{bmatrix}\n",
    "1 && 0 && 0 && \\cdots && 0 && 0 && 0 \\\\\n",
    "1 && 1 && 0 && \\cdots && 0 && 0 && 0 \\\\\n",
    " &&  && \\ddots && \\ddots &&  &&  &&  \\\\\n",
    " &&  && && \\ddots && \\ddots &&  &&  \\\\\n",
    "1 && 1 && 1 && \\cdots && 1 && 1 && 0 \\\\\n",
    "1 && 1 && 1 && \\cdots && 1 && 1 && 1\n",
    "\\end{bmatrix}\n",
    "$$\n",
    "is called the running sum matrix. The ith entry of the n-vector Sx is the sum of the first i entries of x:\n",
    "$$\n",
    "Sx = \\begin{bmatrix}\n",
    "x_1 \\\\\n",
    "x_1 + x_2 \\\\\n",
    "x_1 + x_2 + x_3 \\\\\n",
    "\\vdots \\\\\n",
    "x_1 + x_2 + \\cdots + x_n \\\\\n",
    "\\end{bmatrix}\n",
    "$$"
   ]
  },
  {
   "cell_type": "code",
   "execution_count": 67,
   "metadata": {},
   "outputs": [
    {
     "data": {
      "text/plain": [
       "array([[1., 0., 0., 0.],\n",
       "       [1., 1., 0., 0.],\n",
       "       [1., 1., 1., 0.],\n",
       "       [1., 1., 1., 1.]])"
      ]
     },
     "execution_count": 67,
     "metadata": {},
     "output_type": "execute_result"
    }
   ],
   "source": [
    "def running_sum(n):\n",
    "    S = np.zeros((n, n))\n",
    "    for i in range(n):\n",
    "        for j in range(i+1):\n",
    "            S[i, j] = 1\n",
    "    return S\n",
    "running_sum(4)"
   ]
  },
  {
   "cell_type": "code",
   "execution_count": 70,
   "metadata": {},
   "outputs": [
    {
     "data": {
      "text/plain": [
       "array([[1., 0., 0., 0.],\n",
       "       [1., 1., 0., 0.],\n",
       "       [1., 1., 1., 0.],\n",
       "       [1., 1., 1., 1.]])"
      ]
     },
     "execution_count": 70,
     "metadata": {},
     "output_type": "execute_result"
    }
   ],
   "source": [
    "def running_sum(n):\n",
    "    S = np.tril(np.ones((n, n)))\n",
    "    return S\n",
    "running_sum(4)"
   ]
  },
  {
   "cell_type": "code",
   "execution_count": 72,
   "metadata": {},
   "outputs": [
    {
     "data": {
      "text/plain": [
       "array([-1.,  0.,  2.,  2.])"
      ]
     },
     "execution_count": 72,
     "metadata": {},
     "output_type": "execute_result"
    }
   ],
   "source": [
    "running_sum(4) @ np.array([-1, 1, 2, 0])"
   ]
  },
  {
   "cell_type": "markdown",
   "metadata": {},
   "source": [
    "# Vandermonde matrix"
   ]
  },
  {
   "cell_type": "markdown",
   "metadata": {},
   "source": [
    "Suppose the entries of the n-vector c are the coefficients of a polynomial p of degree n − 1 or less:\n",
    "$$ p(t) = c_1 + c_2 t + · · · + c_{n−1} t^{n−2} + c_n t^{n−1} $$\n",
    "Let $t_1, \\ldots , t_m$ be m numbers, and define the m-vector y as $y_i = p(t_i)$. Then we have y = Ac, where A is the m × n matrix\n",
    "$$\n",
    "A = \\begin{bmatrix}\n",
    "1 && t_1 && \\cdots && t_1^{n-2} && t_1^{n-1} \\\\\n",
    "1 && t_2 && \\cdots && t_2^{n-2} && t_2^{n-1} \\\\\n",
    "\\vdots && \\vdots &&  && \\vdots && \\vdots \\\\\n",
    "1 && t_{m-1} && \\cdots && t_{m-1}^{n-2} && t_{m-1}^{n-1} \\\\\n",
    "1 && t_m && \\cdots && t_{m}^{n-2} && t_{m}^{n-1}\n",
    "\\end{bmatrix}\n",
    "$$\n",
    "So multiplying a vector c by the matrix A is the same as evaluating a polynomial with coefficients c at m points."
   ]
  },
  {
   "cell_type": "code",
   "execution_count": 73,
   "metadata": {},
   "outputs": [
    {
     "data": {
      "text/plain": [
       "array([[ 1.    , -1.    ,  1.    , -1.    ,  1.    ],\n",
       "       [ 1.    ,  0.    ,  0.    ,  0.    ,  0.    ],\n",
       "       [ 1.    ,  0.5   ,  0.25  ,  0.125 ,  0.0625],\n",
       "       [ 1.    ,  1.    ,  1.    ,  1.    ,  1.    ]])"
      ]
     },
     "execution_count": 73,
     "metadata": {},
     "output_type": "execute_result"
    }
   ],
   "source": [
    "def vandermonde(t, n):\n",
    "    m = len(t)\n",
    "    V = np.zeros((m, n))\n",
    "    for i in range(m):\n",
    "        for j in range(n):\n",
    "            V[i, j] = t[i]**(j)\n",
    "    return V\n",
    "vandermonde(np.array([-1, 0, 0.5, 1]), 5)"
   ]
  },
  {
   "cell_type": "code",
   "execution_count": 74,
   "metadata": {},
   "outputs": [
    {
     "data": {
      "text/plain": [
       "array([[ 1.    , -1.    ,  1.    , -1.    ,  1.    ],\n",
       "       [ 1.    ,  0.    ,  0.    ,  0.    ,  0.    ],\n",
       "       [ 1.    ,  0.5   ,  0.25  ,  0.125 ,  0.0625],\n",
       "       [ 1.    ,  1.    ,  1.    ,  1.    ,  1.    ]])"
      ]
     },
     "execution_count": 74,
     "metadata": {},
     "output_type": "execute_result"
    }
   ],
   "source": [
    "# np.column_stack(tup): Stack 1-D arrays as columns into a 2-D array.\n",
    "vandermonde = lambda t,n: np.column_stack([t**i for i in range(n)])\n",
    "vandermonde(np.array([-1, 0, 0.5, 1]), 5)"
   ]
  },
  {
   "cell_type": "markdown",
   "metadata": {},
   "source": [
    "# 6.5 Complexity"
   ]
  },
  {
   "cell_type": "markdown",
   "metadata": {},
   "source": [
    "Complexity of matrix-vector multiplication. The complexity of multiplying an m × n matrix by an n-vector is **m(2n − 1) ≈ 2mn** flops. (for sparse A, around 2nnz(A) flops)\n",
    "\n",
    "This grows linearly with both m and n. Let’s check this"
   ]
  },
  {
   "cell_type": "code",
   "execution_count": 76,
   "metadata": {},
   "outputs": [
    {
     "name": "stdout",
     "output_type": "stream",
     "text": [
      "2.95 ms ± 175 µs per loop (mean ± std. dev. of 7 runs, 1 loop each)\n"
     ]
    }
   ],
   "source": [
    "A = np.random.random((1000, 10000))\n",
    "x = np.random.random(10000)\n",
    "%timeit y = A @ x  # 1x"
   ]
  },
  {
   "cell_type": "code",
   "execution_count": 77,
   "metadata": {},
   "outputs": [
    {
     "name": "stdout",
     "output_type": "stream",
     "text": [
      "15.9 ms ± 399 µs per loop (mean ± std. dev. of 7 runs, 100 loops each)\n"
     ]
    }
   ],
   "source": [
    "A = np.random.random((5000, 10000))\n",
    "x = np.random.random(10000)\n",
    "%timeit y = A @ x  # ~5x"
   ]
  },
  {
   "cell_type": "code",
   "execution_count": 78,
   "metadata": {},
   "outputs": [
    {
     "name": "stdout",
     "output_type": "stream",
     "text": [
      "6.69 ms ± 180 µs per loop (mean ± std. dev. of 7 runs, 100 loops each)\n"
     ]
    }
   ],
   "source": [
    "A = np.random.random((1000, 20000))\n",
    "x = np.random.random(20000)\n",
    "%timeit y = A @ x  # ~2x"
   ]
  },
  {
   "cell_type": "markdown",
   "metadata": {},
   "source": [
    "The increase in efficiency obtained by sparse matrix computations is seen from matrix-vector multiplications with the difference matrix."
   ]
  },
  {
   "cell_type": "code",
   "execution_count": 79,
   "metadata": {},
   "outputs": [
    {
     "name": "stdout",
     "output_type": "stream",
     "text": [
      "30.2 ms ± 693 µs per loop (mean ± std. dev. of 7 runs, 10 loops each)\n",
      "26.5 µs ± 708 ns per loop (mean ± std. dev. of 7 runs, 10000 loops each)\n"
     ]
    }
   ],
   "source": [
    "n = 10**4;\n",
    "Ds = sparse.hstack([-sparse.eye(n-1), sparse.coo_matrix((n-1, 1))]) \\\n",
    "     + sparse.hstack([sparse.coo_matrix((n-1, 1)), sparse.eye(n-1)])\n",
    "D = np.column_stack([np.eye(n-1), np.zeros(n-1)]) + np.column_stack([np.zeros(n-1), np.eye(n-1)])\n",
    "x = np.random.normal(size=n)\n",
    "%timeit D @ x\n",
    "%timeit Ds @ x"
   ]
  }
 ],
 "metadata": {
  "kernelspec": {
   "display_name": "Python 3",
   "language": "python",
   "name": "python3"
  },
  "language_info": {
   "codemirror_mode": {
    "name": "ipython",
    "version": 3
   },
   "file_extension": ".py",
   "mimetype": "text/x-python",
   "name": "python",
   "nbconvert_exporter": "python",
   "pygments_lexer": "ipython3",
   "version": "3.7.6"
  }
 },
 "nbformat": 4,
 "nbformat_minor": 4
}
