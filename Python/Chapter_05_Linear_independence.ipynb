{
 "cells": [
  {
   "cell_type": "code",
   "execution_count": 1,
   "metadata": {},
   "outputs": [],
   "source": [
    "import numpy as np\n",
    "import matplotlib.pyplot as plt"
   ]
  },
  {
   "cell_type": "markdown",
   "metadata": {},
   "source": [
    "# 5.1 Linear independence"
   ]
  },
  {
   "cell_type": "markdown",
   "metadata": {},
   "source": [
    "**linear dependent**\n",
    "\n",
    "- set of n-vectors ${a_1,\\ldots,a_k}$ (with k ≥ 1) is linearly dependent if $β_1a_1 + \\ldots + β_ka_k = 0$ holds for some $β_1,\\ldots, β_k$, that are not all zero\n",
    "- equivalent to: at least one $a_i$ is a linear combination of the others\n",
    "- we say '$a_1,\\ldots,a_k$ are linearly dependent'"
   ]
  },
  {
   "cell_type": "markdown",
   "metadata": {},
   "source": [
    "**linear independent**\n",
    "- set of n-vectors ${a_1,\\ldots,a_k}$ (with k ≥ 1) is linearly independent if it is not linear dependent, i.e.,\n",
    "$$β_1a_1 + \\ldots + β_ka_k = 0$$\n",
    "holds only when $β_1=\\cdots=β_k=0$\n",
    "- equivalent to: no $a_i$ is a linear combination of the others\n",
    "- we say $a_1,\\ldots,a_k$ are linearly independent'"
   ]
  },
  {
   "cell_type": "markdown",
   "metadata": {},
   "source": [
    "**Independence-dimension inequality**\n",
    "\n",
    "If the n-vectors $a1,\\ldots,a_k$ are linearly independent, then k≤n\n",
    "\n",
    "In words:\n",
    "<blockquote style=\"margin-left: 0\">\n",
    "A linearly independent collection of n-vectors can have at most n elements.\n",
    "</blockquote>\n",
    "\n",
    "put another way:\n",
    "<blockquote style=\"margin-left: 0\">\n",
    "any set of n + 1 or more n-vectors is linearly dependent\n",
    "</blockquote>\n",
    "\n",
    "https://math.stackexchange.com/questions/3208576/understanding-the-proof-of-independence-dimension-inequality"
   ]
  },
  {
   "cell_type": "markdown",
   "metadata": {},
   "source": [
    "# 5.2 Basis"
   ]
  },
  {
   "cell_type": "markdown",
   "metadata": {},
   "source": [
    "- a set of n linearly independent n-vectors $a_1,\\ldots,a_n$ is called a basis\n",
    "- any n-vector b can be expressed as a linear combination of them:\n",
    "$$b = \\beta_1a_1 +\\cdots+ \\beta_na_n$$\n",
    "for some $\\beta_1,. . . , \\beta_n$\n",
    "- and these coefficients are unique\n",
    "- formula above is called expansion of b in the $a_1,\\ldots,a_n$ basis"
   ]
  },
  {
   "cell_type": "markdown",
   "metadata": {},
   "source": [
    "## Cash flow replication example"
   ]
  },
  {
   "cell_type": "markdown",
   "metadata": {},
   "source": [
    "$$e_1 =\\begin{bmatrix}\n",
    "1 \\\\ 0 \\\\ 0\n",
    "\\end{bmatrix}, \\quad\n",
    "l_1 = \n",
    "    \\begin{bmatrix}\n",
    "    1 \\\\ -(1+r) \\\\ 0\n",
    "    \\end{bmatrix}\n",
    ", \\quad \n",
    "l_2 = \\begin{bmatrix}\n",
    "0 \\\\ 1 \\\\ -(1+r)\n",
    "\\end{bmatrix}$$\n",
    "\n",
    "form a basis, where r is the (positive) per-period interest rate. The first vector $e_1$ is a single payment of 1 in period (time) t = 1. The second vector $l_1$ is loan of \\\\$ 1 in period t = 1, paid back in period t = 1 with interest r. The third vector $l_2$ is loan of \\\\$ 1 in period t = 2, paid back in period t = 3 with interest r. Let’s use this basis to replicate the cash flow c = (1, 2, −3) as\n",
    "\n",
    "$$\n",
    "c = \\alpha_1e_1 + \\alpha_2l_1 + \\alpha_3l_2\n",
    "$$\n",
    "\n",
    "with the above equation, we can calculate $\\alpha_1, \\alpha_2, \\alpha_3$\n",
    "\n",
    "$\\alpha_3 = -c_3 / (1+r)$\n",
    "\n",
    "$\\alpha_2 = −c_2/(1 + r) − c_3/(1 + r)^2$\n",
    "\n",
    "$\\alpha_1 = c_1 + c_2/(1 + r) + c_3/(1 + r)^2$\n"
   ]
  },
  {
   "cell_type": "code",
   "execution_count": 2,
   "metadata": {},
   "outputs": [
    {
     "name": "stdout",
     "output_type": "stream",
     "text": [
      "0.18367346938775508\n"
     ]
    }
   ],
   "source": [
    "r = 0.05  # interest rate of 5% per period\n",
    "e1 = np.array([1,0,0])\n",
    "l1 = np.array([1, -(1+r), 0])\n",
    "l2 = np.array([0,1,-(1+r)])\n",
    "c = np.array([1,2,-3])\n",
    "\n",
    "# Coefficients of expansion\n",
    "alpha3 = -c[2]/(1+r)\n",
    "alpha2 = -c[1]/(1+r) - c[2]/((1+r)**2)\n",
    "alpha1 = c[0] + c[1]/(1+r) + c[2]/((1+r)**2) #NPV of cash flow\n",
    "print(alpha1)"
   ]
  },
  {
   "cell_type": "code",
   "execution_count": 3,
   "metadata": {},
   "outputs": [
    {
     "name": "stdout",
     "output_type": "stream",
     "text": [
      "[ 1.  2. -3.]\n"
     ]
    }
   ],
   "source": [
    "print(alpha1*e1 + alpha2*l1 + alpha3*l2)"
   ]
  },
  {
   "cell_type": "markdown",
   "metadata": {},
   "source": [
    "# 5.3  Orthonormal vectors"
   ]
  },
  {
   "cell_type": "markdown",
   "metadata": {},
   "source": [
    "- set of n-vectors $a_1,\\ldots,a_k$ are (mutually) **orthogonal** if $a_i \\perp a_j$ for i , j\n",
    "- they are **normalized** if $\\left\\|a_i\\right\\| = 1$ for $i = 1,\\ldots,k$\n",
    "- they are **orthonormal** if both hold\n",
    "- can be expressed using inner products as\n",
    "$$a_i^\\top a_j = \\begin{cases}\n",
    "1 \\quad \\text{$i=j$} \\\\\n",
    "0 \\quad \\text{$i \\neq j$}\n",
    "\\end{cases}$$\n",
    "- orthonormal sets of vectors are **linearly independent**\n",
    "- by independence-dimension inequality, must have k ≤ n\n",
    "- when k = n, $a_1,\\ldots,a_n$ are an orthonormal basis"
   ]
  },
  {
   "cell_type": "markdown",
   "metadata": {},
   "source": [
    "## Expansion in an orthonormal basis"
   ]
  },
  {
   "cell_type": "markdown",
   "metadata": {},
   "source": [
    "- if $a_1,\\ldots,a_n$ is an orthonormal basis, we have for any n-vector x\n",
    "$$\n",
    "x = (a_1^T x)a_1 + (a_2^T x)a_2 + \\cdots + (a_n^T x)a_n\n",
    "$$\n",
    "- called orthonormal expansion of x (in the orthonormal basis)\n",
    "- to verify formula, take inner product of both sides with $a_i$"
   ]
  },
  {
   "cell_type": "markdown",
   "metadata": {},
   "source": [
    "Let’s check that the vectors \n",
    "$$a_1 =\\begin{bmatrix}\n",
    "0 \\\\ 0 \\\\ -1\n",
    "\\end{bmatrix}, \\quad\n",
    "a_2 = \\frac{1}{\\sqrt{2}}\n",
    "    \\begin{bmatrix}\n",
    "    1 \\\\ 1 \\\\ 0\n",
    "    \\end{bmatrix}\n",
    ", \\quad \n",
    "a_3 = \\frac{1}{\\sqrt{2}}\n",
    "\\begin{bmatrix}\n",
    "1 \\\\ -1 \\\\ 0\n",
    "\\end{bmatrix}$$\n",
    "form an orthonormal basis, and check the expansion of x = (1, 2, 3) in this basis,\n",
    "$$\n",
    "x = (a_1^T x)a_1 + (a_2^T x)a_2 + \\cdots + (a_n^T x)a_n\n",
    "$$"
   ]
  },
  {
   "cell_type": "code",
   "execution_count": 5,
   "metadata": {},
   "outputs": [
    {
     "name": "stdout",
     "output_type": "stream",
     "text": [
      "Norm of a1 : 1.0\n",
      "Norm of a2 : 0.9999999999999999\n",
      "Norm of a3 : 0.9999999999999999\n"
     ]
    }
   ],
   "source": [
    "a1 = np.array([0, 0, -1])\n",
    "a2 = np.array([1, 1, 0]) / (2)**0.5\n",
    "a3 = np.array([1, -1, 0]) / (2)**0.5\n",
    "\n",
    "# check whether a_i is a normalized vector\n",
    "print('Norm of a1 :', (sum(a1**2))**0.5)\n",
    "print('Norm of a2 :', (sum(a2**2))**0.5)\n",
    "print('Norm of a3 :', np.linalg.norm(a3))"
   ]
  },
  {
   "cell_type": "code",
   "execution_count": 6,
   "metadata": {},
   "outputs": [
    {
     "name": "stdout",
     "output_type": "stream",
     "text": [
      "0.0 0.0 0.0\n"
     ]
    }
   ],
   "source": [
    "# check if a_i is orthogonal to each other\n",
    "print(a1 @ a2, a1 @ a3, np.dot(a2, a3))"
   ]
  },
  {
   "cell_type": "code",
   "execution_count": 7,
   "metadata": {},
   "outputs": [
    {
     "name": "stdout",
     "output_type": "stream",
     "text": [
      "[1. 2. 3.]\n"
     ]
    }
   ],
   "source": [
    "x = np.array([1, 2, 3])\n",
    "\n",
    "#Get coefficients of x in orthonormal basis\n",
    "beta1 = a1 @ x  # length of the vector projected onto the basis a_1\n",
    "beta2 = a2 @ x  # length of the vector projected onto the basis a_2\n",
    "beta3 = a3 @ x  # length of the vector projected onto the basis a_3\n",
    "#Expansion of x in basis\n",
    "x_expansion = beta1*a1 + beta2*a2 + beta3*a3\n",
    "print(x_expansion)"
   ]
  },
  {
   "cell_type": "markdown",
   "metadata": {},
   "source": [
    "# 5.4 Gram–Schmidt algorithm"
   ]
  },
  {
   "cell_type": "markdown",
   "metadata": {},
   "source": [
    "an algorithm to check if $a_1,\\ldots,a_k$ are **linearly independent**"
   ]
  },
  {
   "cell_type": "markdown",
   "metadata": {},
   "source": [
    "**given** n-vectors $a_1,\\ldots,a_k$\n",
    "\n",
    "**for** $i = 1,\\ldots,k$\n",
    "1. Orthogonalization: $\\tilde{q}_i = a_i − (q_{1}^{T} a_i)q_1 − \\cdots − (q_{i-1}^T a_i)q_{i−1}$\n",
    "2. Test for linear dependence: if $\\tilde{q}_i = 0$, quit\n",
    "3. Normalization: $q_i = \\tilde{q}_i/\\left\\|\\tilde{q}_i\\right\\|$"
   ]
  },
  {
   "cell_type": "code",
   "execution_count": 8,
   "metadata": {},
   "outputs": [],
   "source": [
    "def gram_schmidt(a, tol=1e-10):\n",
    "    q = []\n",
    "    for i in range(len(a)):\n",
    "        #orthogonalization\n",
    "        q_tilde = a[i]\n",
    "        for j in range(len(q)):\n",
    "            q_tilde = q_tilde - (q[j] @ a[i])*q[j]\n",
    "        #Test for dependennce\n",
    "        if np.sqrt(sum(q_tilde**2)) <= tol:\n",
    "            print('Vectors are linearly dependent.')\n",
    "            print('GS algorithm terminates at iteration ', i+1)\n",
    "            return q\n",
    "        #Normalization\n",
    "        else:\n",
    "            q_tilde = q_tilde / np.sqrt(sum(q_tilde**2))\n",
    "            q.append(q_tilde)\n",
    "    print('Vectors are linearly independent.')\n",
    "    return q"
   ]
  },
  {
   "cell_type": "markdown",
   "metadata": {},
   "source": [
    "## Example of linearly independent input"
   ]
  },
  {
   "cell_type": "code",
   "execution_count": 9,
   "metadata": {},
   "outputs": [
    {
     "name": "stdout",
     "output_type": "stream",
     "text": [
      "Vectors are linearly independent.\n",
      "[array([-0.5,  0.5, -0.5,  0.5]), array([0.5, 0.5, 0.5, 0.5]), array([-0.5, -0.5,  0.5,  0.5])]\n",
      "Norm of q[0] : 1.0\n",
      "Inner product of q[0] and q[1] : 0.0\n",
      "Inner product of q[0] and q[2] : 0.0\n",
      "Norm of q[1] : 1.0\n",
      "Inner product of q[1] and q[2] : 0.0\n",
      "Norm of q[2] : 1.0\n"
     ]
    }
   ],
   "source": [
    "a = np.array([ [-1, 1, -1, 1], [-1, 3, -1, 3], [1, 3, 5, 7] ])\n",
    "q = gram_schmidt(a)\n",
    "print(q)\n",
    "#Test orthonormality\n",
    "print('Norm of q[0] :', (sum(q[0]**2))**0.5)\n",
    "print('Inner product of q[0] and q[1] :', q[0] @ q[1])\n",
    "print('Inner product of q[0] and q[2] :', q[0] @ q[2])\n",
    "print('Norm of q[1] :', (sum(q[1]**2))**0.5)\n",
    "print('Inner product of q[1] and q[2] :', q[1] @ q[2])\n",
    "print('Norm of q[2] :', (sum(q[2]**2))**0.5)"
   ]
  },
  {
   "cell_type": "markdown",
   "metadata": {},
   "source": [
    "## Example of early termination"
   ]
  },
  {
   "cell_type": "markdown",
   "metadata": {},
   "source": [
    "If we replace $a_3$ with a linear combination of $a_1$ and $a_2$, the set becomes linearly dependent."
   ]
  },
  {
   "cell_type": "code",
   "execution_count": 10,
   "metadata": {},
   "outputs": [
    {
     "name": "stdout",
     "output_type": "stream",
     "text": [
      "Vectors are linearly dependent.\n",
      "GS algorithm terminates at iteration  3\n",
      "[array([-0.5,  0.5, -0.5,  0.5]), array([0.5, 0.5, 0.5, 0.5])]\n"
     ]
    }
   ],
   "source": [
    "b = np.array([a[0], a[1], 1.3*a[0] + 0.5*a[1]])\n",
    "q = gram_schmidt(b)\n",
    "print(q)"
   ]
  },
  {
   "cell_type": "markdown",
   "metadata": {},
   "source": [
    "Here the algorithm terminated at iteration 3. That means, the third iteration is not completed and thus two orthonormal vectors are returned."
   ]
  },
  {
   "cell_type": "code",
   "execution_count": 13,
   "metadata": {},
   "outputs": [
    {
     "name": "stdout",
     "output_type": "stream",
     "text": [
      "Vectors are linearly dependent.\n",
      "GS algorithm terminates at iteration  3\n",
      "[array([-0.5,  0.5, -0.5,  0.5]), array([0.5, 0.5, 0.5, 0.5])]\n"
     ]
    }
   ],
   "source": [
    "b = np.array([a[0], 1.3*a[0] + 0.5*a[1], a[1]])\n",
    "q = gram_schmidt(b)\n",
    "print(q)"
   ]
  },
  {
   "cell_type": "markdown",
   "metadata": {},
   "source": [
    "## Example of independence-dimension inequality"
   ]
  },
  {
   "cell_type": "markdown",
   "metadata": {},
   "source": [
    "We know that any three 2-vectors must be dependent. Let’s use the Gram-Schmidt algorithm to verify this for three specific vectors."
   ]
  },
  {
   "cell_type": "code",
   "execution_count": 11,
   "metadata": {},
   "outputs": [
    {
     "name": "stdout",
     "output_type": "stream",
     "text": [
      "Vectors are linearly dependent.\n",
      "GS algorithm terminates at iteration  3\n",
      "[array([0.70710678, 0.70710678]), array([-0.70710678,  0.70710678])]\n"
     ]
    }
   ],
   "source": [
    "three_two_vectors = np.array([[1,1], [1,2], [-1,1]])\n",
    "q = gram_schmidt(three_two_vectors)\n",
    "print(q)"
   ]
  }
 ],
 "metadata": {
  "kernelspec": {
   "display_name": "Python 3",
   "language": "python",
   "name": "python3"
  },
  "language_info": {
   "codemirror_mode": {
    "name": "ipython",
    "version": 3
   },
   "file_extension": ".py",
   "mimetype": "text/x-python",
   "name": "python",
   "nbconvert_exporter": "python",
   "pygments_lexer": "ipython3",
   "version": "3.7.6"
  }
 },
 "nbformat": 4,
 "nbformat_minor": 4
}
