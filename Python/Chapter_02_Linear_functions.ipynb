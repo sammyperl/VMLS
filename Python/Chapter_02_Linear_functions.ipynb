{
 "cells": [
  {
   "cell_type": "code",
   "execution_count": 1,
   "metadata": {},
   "outputs": [],
   "source": [
    "import numpy as np\n",
    "import matplotlib.pyplot as plt\n",
    "\n",
    "from dataset import house_sales_data"
   ]
  },
  {
   "cell_type": "markdown",
   "metadata": {},
   "source": [
    "# 2.1 Linear functions"
   ]
  },
  {
   "cell_type": "markdown",
   "metadata": {},
   "source": [
    "## Functions in Python"
   ]
  },
  {
   "cell_type": "code",
   "execution_count": 2,
   "metadata": {},
   "outputs": [
    {
     "data": {
      "text/plain": [
       "-5"
      ]
     },
     "execution_count": 2,
     "metadata": {},
     "output_type": "execute_result"
    }
   ],
   "source": [
    "f = lambda x: x[0] + x[1] - x[3]**2\n",
    "f([-1, 0, 1, 2])"
   ]
  },
  {
   "cell_type": "markdown",
   "metadata": {},
   "source": [
    "## Superposition"
   ]
  },
  {
   "cell_type": "markdown",
   "metadata": {},
   "source": [
    "A function $F(x)$ that satisfies the superposition principle is called a [linear function](https://en.wikipedia.org/wiki/Linear_function).\n",
    "\n",
    "Superposition can be defined by two simpler properties; [additivity](https://en.wikipedia.org/wiki/Additive_map) and [homogeneity](https://en.wikipedia.org/wiki/Homogeneous_function)\n",
    "\n",
    "$$\n",
    "\\begin{align*}\n",
    "& F(x_{1}+x_{2})=F(x_{1})+F(x_{2}), &\\text{Additivity} \\\\\n",
    "& F(a x)=a F(x), &\\text{Homogeneity} \\\\\n",
    "& \\text{for scalar}\\ a.\\\\\n",
    "\\end{align*}\n",
    "$$\n",
    "\n",
    "https://en.wikipedia.org/wiki/Superposition_principle"
   ]
  },
  {
   "cell_type": "code",
   "execution_count": 3,
   "metadata": {},
   "outputs": [
    {
     "name": "stdout",
     "output_type": "stream",
     "text": [
      "LHS: -8.3\n",
      "RHS: -8.3\n"
     ]
    }
   ],
   "source": [
    "a = np.array([-2, 0, 1, -3])\n",
    "x = np.array([2, 2, -1, 1])\n",
    "y = np.array([0, 1, -1, 0])\n",
    "alpha = 1.5\n",
    "beta = -3.7\n",
    "LHS = np.inner(alpha*x + beta*y, a)\n",
    "RHS = alpha*np.inner(x, a) + beta*np.inner(y, a)\n",
    "print('LHS:', LHS)\n",
    "print('RHS:', RHS)"
   ]
  },
  {
   "cell_type": "markdown",
   "metadata": {},
   "source": [
    "For the function $f(x) = a^\\top x$, we have $f(e_3) = a_3$"
   ]
  },
  {
   "cell_type": "code",
   "execution_count": 4,
   "metadata": {},
   "outputs": [
    {
     "name": "stdout",
     "output_type": "stream",
     "text": [
      "1\n"
     ]
    }
   ],
   "source": [
    "a = np.array([-2,0,1,-3])\n",
    "e3 = np.array([0,0,1,0])\n",
    "print(e3 @ a)"
   ]
  },
  {
   "cell_type": "code",
   "execution_count": 5,
   "metadata": {},
   "outputs": [
    {
     "name": "stdout",
     "output_type": "stream",
     "text": [
      "-0.25\n",
      "-0.25\n"
     ]
    }
   ],
   "source": [
    "avg1 = lambda x: np.inner((np.ones(len(x))/len(x)), x)\n",
    "avg2 = lambda x: sum(x)/len(x)\n",
    "x = np.array([1,-3,2,-1])\n",
    "print(avg1(x))\n",
    "print(avg2(x))"
   ]
  },
  {
   "cell_type": "markdown",
   "metadata": {},
   "source": [
    "# 2.2 Taylor approximation"
   ]
  },
  {
   "cell_type": "markdown",
   "metadata": {},
   "source": [
    "## Taylor approximation"
   ]
  },
  {
   "cell_type": "markdown",
   "metadata": {},
   "source": [
    "The Taylor series of a real or complex-valued function $f(x)$ that is [infinitely differentiable](https://en.wikipedia.org/wiki/Infinitely_differentiable_function) at a real or complex number a is the power series\n",
    "\n",
    "$$\n",
    "{\\displaystyle f(a)+{\\frac {f'(a)}{1!}}(x-a)+{\\frac {f''(a)}{2!}}(x-a)^{2}+{\\frac {f'''(a)}{3!}}(x-a)^{3}+\\cdots ,}\n",
    "$$\n",
    "where $n!$ denotes the factorial of $n$. In the more compact sigma notation, this can be written as\n",
    "\n",
    "$$\n",
    "{\\displaystyle \\sum _{n=0}^{\\infty }{\\frac {f^{(n)}(a)}{n!}}(x-a)^{n},}\n",
    "$$\n",
    "where $f^{(a)}(n)$ denotes the nth derivative of $f$ evaluated at the point $a$. (The derivative of order zero of $f$ is defined to be $f$ itself and $(x − a)^0$ and $0!$ are [both defined to be 1](https://en.wikipedia.org/wiki/Empty_product).)\n",
    "\n",
    "https://en.wikipedia.org/wiki/Taylor_series"
   ]
  },
  {
   "cell_type": "markdown",
   "metadata": {},
   "source": [
    "The (first-order) Taylor approximation of function $f : R^n → R$, at the point $z$, is the affine function $\\hat{f}(x)$ given by\n",
    "$$\n",
    "\\hat{f}(x) = f(z) + ∇f(z)^\\top(x − z)\n",
    "$$\n",
    "For $x$ near $z$, $\\hat{f}(x)$ is very close to $f(x)$."
   ]
  },
  {
   "cell_type": "markdown",
   "metadata": {},
   "source": [
    "The following example shows the Taylor approximation of the function $f(x)$.\n",
    "$$f(x) = x_1 + e^{(x_2 - x_1)}$$\n",
    "$$\\nabla f = [1 - e^{x_2 - x_1},\\ e^{x_2 - x_1}]$$"
   ]
  },
  {
   "cell_type": "code",
   "execution_count": 6,
   "metadata": {},
   "outputs": [
    {
     "data": {
      "text/plain": [
       "(3.718281828459045, 3.718281828459045)"
      ]
     },
     "execution_count": 6,
     "metadata": {},
     "output_type": "execute_result"
    }
   ],
   "source": [
    "f = lambda x: x[0] + np.exp(x[1] - x[0])\n",
    "grad_f = lambda z: np.array([1 - np.exp(z[1] - z[0]), np.exp(z[1] - z[0])])\n",
    "\n",
    "z = np.array([1, 2])\n",
    "\n",
    "# Taylor approximation at z\n",
    "f_hat = lambda x: f(z) + grad_f(z) @ (x - z)\n",
    "f([1, 2]), f_hat([1, 2])"
   ]
  },
  {
   "cell_type": "code",
   "execution_count": 7,
   "metadata": {},
   "outputs": [
    {
     "data": {
      "text/plain": [
       "(3.7331947639642977, 3.732647465028226)"
      ]
     },
     "execution_count": 7,
     "metadata": {},
     "output_type": "execute_result"
    }
   ],
   "source": [
    "f([0.96, 1.98]), f_hat([0.96,1.98])"
   ]
  },
  {
   "cell_type": "code",
   "execution_count": 8,
   "metadata": {},
   "outputs": [
    {
     "data": {
      "text/plain": [
       "(3.845601015016916, 3.845464646743635)"
      ]
     },
     "execution_count": 8,
     "metadata": {},
     "output_type": "execute_result"
    }
   ],
   "source": [
    "f([1.10, 2.11]), f_hat([1.10, 2.11])"
   ]
  },
  {
   "cell_type": "code",
   "execution_count": 9,
   "metadata": {},
   "outputs": [
    {
     "data": {
      "text/plain": [
       "(3.148721270700128, 2.8591409142295223)"
      ]
     },
     "execution_count": 9,
     "metadata": {},
     "output_type": "execute_result"
    }
   ],
   "source": [
    "f([1.5, 2]), f_hat([1.5, 2])"
   ]
  },
  {
   "cell_type": "markdown",
   "metadata": {},
   "source": [
    "# 2.3 Regression model"
   ]
  },
  {
   "cell_type": "markdown",
   "metadata": {},
   "source": [
    "## Regression model"
   ]
  },
  {
   "cell_type": "markdown",
   "metadata": {},
   "source": [
    "The regression model is the affine function of $x$ given by $f(x) = x^T\\beta + v$, where the n-vector $\\beta$ and the scalar $v$ are the parameters in the model. The regression model is used to guess or approximate a real or observed value of the number $y$ that is associated with $x$. (We’ll see later how to find the parameters in a regression model, using data.)"
   ]
  },
  {
   "cell_type": "code",
   "execution_count": 10,
   "metadata": {},
   "outputs": [
    {
     "data": {
      "text/plain": [
       "(161.37557999999999, 115)"
      ]
     },
     "execution_count": 10,
     "metadata": {},
     "output_type": "execute_result"
    }
   ],
   "source": [
    "# beta is an n-vector, aka a weight, \n",
    "# v is a scalar, aka offset, intercept\n",
    "# x, y aka regressor, predictor\n",
    "\n",
    "\n",
    "# parameters in regression model\n",
    "beta = np.array([148.73, -18.85])\n",
    "v = 54.40\n",
    "\n",
    "y_hat = lambda x: x @ beta + v\n",
    "\n",
    "# Evaluate regression model prediction\n",
    "x = np.array([0.846, 1])\n",
    "y = 115\n",
    "y_hat(x), y"
   ]
  },
  {
   "cell_type": "code",
   "execution_count": 11,
   "metadata": {},
   "outputs": [
    {
     "data": {
      "text/plain": [
       "(213.61852000000002, 234.5)"
      ]
     },
     "execution_count": 11,
     "metadata": {},
     "output_type": "execute_result"
    }
   ],
   "source": [
    "x = np.array([1.324, 2])\n",
    "y = 234.50\n",
    "y_hat(x), y"
   ]
  },
  {
   "cell_type": "code",
   "execution_count": 12,
   "metadata": {},
   "outputs": [
    {
     "data": {
      "image/png": "[encoded data removed]",
      "text/plain": [
       "<Figure size 432x288 with 1 Axes>"
      ]
     },
     "metadata": {
      "needs_background": "light"
     },
     "output_type": "display_data"
    }
   ],
   "source": [
    "plt.ion()\n",
    "D = house_sales_data()\n",
    "\n",
    "price = D['price']\n",
    "area = D['area']\n",
    "beds = D['beds']\n",
    "\n",
    "v = 54.4017 # scalar\n",
    "beta = np.array([147.7251, -18.8534]) # weights\n",
    "#scalar and weights were determined using a method learned in Ch13: Least Squares\n",
    "\n",
    "predicted = v + beta[0]*area + beta[1]*beds\n",
    "\n",
    "plt.scatter(price, predicted)\n",
    "plt.plot((0,800),(0,800) ,ls='--', c = 'r')\n",
    "plt.ylim(0,800)\n",
    "plt.xlim(0,800)\n",
    "plt.xlabel('Actual Price')\n",
    "plt.ylabel('Predicted Price')\n",
    "plt.grid(True)\n",
    "plt.show()"
   ]
  }
 ],
 "metadata": {
  "kernelspec": {
   "display_name": "Python 3",
   "language": "python",
   "name": "python3"
  },
  "language_info": {
   "codemirror_mode": {
    "name": "ipython",
    "version": 3
   },
   "file_extension": ".py",
   "mimetype": "text/x-python",
   "name": "python",
   "nbconvert_exporter": "python",
   "pygments_lexer": "ipython3",
   "version": "3.7.6"
  }
 },
 "nbformat": 4,
 "nbformat_minor": 4
}
