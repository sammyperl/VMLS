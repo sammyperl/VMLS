{
 "cells": [
  {
   "cell_type": "code",
   "execution_count": 64,
   "metadata": {},
   "outputs": [],
   "source": [
    "import numpy as np\n",
    "import matplotlib.pyplot as plt\n",
    "\n",
    "from vmls import QR_factorization, back_subst, vandermonde"
   ]
  },
  {
   "cell_type": "markdown",
   "metadata": {},
   "source": [
    "# 11.1 Left and right inverses"
   ]
  },
  {
   "cell_type": "markdown",
   "metadata": {},
   "source": [
    "## Left inverse"
   ]
  },
  {
   "cell_type": "markdown",
   "metadata": {},
   "source": [
    "A matrix $X$ that satisfies\n",
    "$$\n",
    "XA = I\n",
    "$$\n",
    "is called a *left inverse* of $A$. The matrix $A$ is said to be *left-invertible$ if a left inverse exists."
   ]
  },
  {
   "cell_type": "code",
   "execution_count": 2,
   "metadata": {},
   "outputs": [
    {
     "data": {
      "text/plain": [
       "array([[ 1.0000000e+00,  0.0000000e+00],\n",
       "       [-4.4408921e-16,  1.0000000e+00]])"
      ]
     },
     "execution_count": 2,
     "metadata": {},
     "output_type": "execute_result"
    }
   ],
   "source": [
    "A = np.array([[-3, -4],\n",
    "              [4, 6],\n",
    "              [1, 1]])\n",
    "\n",
    "B = np.array([[-11, -10, 16],\n",
    "              [7, 8, -11]]) / 9  # left inverse of A\n",
    "\n",
    "C = np.array([[0, -1, 6],\n",
    "              [0, 1, -4]]) / 2  # Another left inverse of A\n",
    "\n",
    "# Let's check\n",
    "B @ A"
   ]
  },
  {
   "cell_type": "code",
   "execution_count": 3,
   "metadata": {},
   "outputs": [
    {
     "data": {
      "text/plain": [
       "array([[1., 0.],\n",
       "       [0., 1.]])"
      ]
     },
     "execution_count": 3,
     "metadata": {},
     "output_type": "execute_result"
    }
   ],
   "source": [
    "C @ A"
   ]
  },
  {
   "cell_type": "markdown",
   "metadata": {},
   "source": [
    "## Left-invertibility and column independence"
   ]
  },
  {
   "cell_type": "markdown",
   "metadata": {},
   "source": [
    "If $A$ has a left inverse $C$ then the columns of $A$ are linearly independent.\n",
    "To see this, suppose that $Ax = 0$. Multiplying on the left by a left inverse $C$, we get\n",
    "$$\n",
    "0 = C(Ax) = (CA)x = Ix = x,\n",
    "$$\n",
    "which shows that the only linear combination of the columns of A that is 0 is the one with all coefficients zero."
   ]
  },
  {
   "cell_type": "code",
   "execution_count": 4,
   "metadata": {},
   "outputs": [
    {
     "data": {
      "text/plain": [
       "37"
      ]
     },
     "execution_count": 4,
     "metadata": {},
     "output_type": "execute_result"
    }
   ],
   "source": [
    "A = np.array([[-3, -4],\n",
    "              [4, 6],\n",
    "              [1, 1]])\n",
    "A[:, 0] @ A[:, 1]"
   ]
  },
  {
   "cell_type": "markdown",
   "metadata": {},
   "source": [
    "Use **Cauchy–Schwarz inequality** to check linear dependence.\n",
    "$$|\\langle \\mathbf {u} ,\\mathbf {v} \\rangle |\\leq \\|\\mathbf {u} \\|\\|\\mathbf {v} \\|.$$\n",
    "\n",
    "If the inner product of the vectors is equal to the product of the norm of the vectors, the vectors are linearly dependent.\n",
    "\n",
    "https://en.wikipedia.org/wiki/Cauchy%E2%80%93Schwarz_inequality\n",
    "\n",
    "https://stackoverflow.com/questions/28816627/how-to-find-linearly-independent-rows-from-a-matrix"
   ]
  },
  {
   "cell_type": "code",
   "execution_count": 5,
   "metadata": {},
   "outputs": [
    {
     "data": {
      "text/plain": [
       "True"
      ]
     },
     "execution_count": 5,
     "metadata": {},
     "output_type": "execute_result"
    }
   ],
   "source": [
    "np.inner(A[:, 0], A[:, 1]) - np.linalg.norm(A[:, 0]) * np.linalg.norm(A[:, 1]) <= 1e-5"
   ]
  },
  {
   "cell_type": "markdown",
   "metadata": {},
   "source": [
    "## Dimensions of left inverses"
   ]
  },
  {
   "cell_type": "markdown",
   "metadata": {},
   "source": [
    "Suppose the m × n matrix $A$ is wide, i.e., m < n.\n",
    "By the independence-dimension inequality, its columns are linearly dependent, and\n",
    "therefore it is not left-invertible. Only **square** or **tall** matrices can be left-invertible."
   ]
  },
  {
   "cell_type": "markdown",
   "metadata": {},
   "source": [
    "## Solving linear equations with a left inverse"
   ]
  },
  {
   "cell_type": "markdown",
   "metadata": {},
   "source": [
    "$$Cb = C(Ax) = (CA)x = Ix = x$$\n",
    "A left inverse can be used to determine whether or not a solution of an over-determined set of linear equations exists, and when it does, find the unique solution."
   ]
  },
  {
   "cell_type": "code",
   "execution_count": 6,
   "metadata": {},
   "outputs": [
    {
     "data": {
      "text/plain": [
       "array([[-10],\n",
       "       [ 14],\n",
       "       [  3]])"
      ]
     },
     "execution_count": 6,
     "metadata": {},
     "output_type": "execute_result"
    }
   ],
   "source": [
    "# Ax = b\n",
    "x = np.array([[2],\n",
    "                   [1]])\n",
    "\n",
    "A = np.array([[-3, -4],\n",
    "              [4, 6],\n",
    "              [1, 1]])\n",
    "b = A @ x\n",
    "b"
   ]
  },
  {
   "cell_type": "code",
   "execution_count": 7,
   "metadata": {},
   "outputs": [
    {
     "data": {
      "text/plain": [
       "array([[2.],\n",
       "       [1.]])"
      ]
     },
     "execution_count": 7,
     "metadata": {},
     "output_type": "execute_result"
    }
   ],
   "source": [
    "# x = A^-1 b\n",
    "B = np.array([[-11, -10, 16],\n",
    "              [7, 8, -11]]) / 9  # left inverse of A\n",
    "B @ b"
   ]
  },
  {
   "cell_type": "code",
   "execution_count": 8,
   "metadata": {},
   "outputs": [
    {
     "data": {
      "text/plain": [
       "array([[2.],\n",
       "       [1.]])"
      ]
     },
     "execution_count": 8,
     "metadata": {},
     "output_type": "execute_result"
    }
   ],
   "source": [
    "# x = A^-1 b\n",
    "C = np.array([[0, -1, 6],\n",
    "              [0, 1, -4]]) / 2  # Another left inverse of A\n",
    "C @ b"
   ]
  },
  {
   "cell_type": "markdown",
   "metadata": {},
   "source": [
    "## Right inverse"
   ]
  },
  {
   "cell_type": "markdown",
   "metadata": {},
   "source": [
    "A matrix $X$ that satisfies \n",
    "$$AX = I$$\n",
    "is called a *right inverse* of $A$. The matrix $A$ is *right-invertible* if a right inverse exists. Any right inverse has the same dimensions as $A^T$."
   ]
  },
  {
   "cell_type": "markdown",
   "metadata": {},
   "source": [
    "## Left and right inverse of matrix transpose"
   ]
  },
  {
   "cell_type": "markdown",
   "metadata": {},
   "source": [
    "If $A$ has a *right inverse* $B$, then $B^T$ is a *left inverse* of $A^T$, since $B^T A^T = (AB)^T = I$.\n",
    "\n",
    "If $A$ has a *left inverse* $C$, then $C^T$ is a *right inverse* of $A^T$, since $A^T C^T = (CA)^T = I$.\n",
    "\n",
    "\n",
    "- A matrix is right-invertible if and only if its rows are linearly independent.\n",
    "- A tall matrix cannot have a right inverse. Only square or wide matrices can be right-invertible."
   ]
  },
  {
   "cell_type": "code",
   "execution_count": 9,
   "metadata": {},
   "outputs": [
    {
     "data": {
      "text/plain": [
       "array([[1., 0.],\n",
       "       [0., 1.]])"
      ]
     },
     "execution_count": 9,
     "metadata": {},
     "output_type": "execute_result"
    }
   ],
   "source": [
    "A = np.array([[-3, -4],\n",
    "              [4, 6],\n",
    "              [1, 1]])\n",
    "\n",
    "C = np.array([[0, -1, 6],\n",
    "              [0, 1, -4]]) / 2  # Another left inverse of A\n",
    "\n",
    "# the columns of A are linearly independent\n",
    "C @ A"
   ]
  },
  {
   "cell_type": "code",
   "execution_count": 10,
   "metadata": {},
   "outputs": [
    {
     "data": {
      "text/plain": [
       "array([[1., 0.],\n",
       "       [0., 1.]])"
      ]
     },
     "execution_count": 10,
     "metadata": {},
     "output_type": "execute_result"
    }
   ],
   "source": [
    "# the columns of A are linearly independent, i.e. the rows of A^T are linearly independent\n",
    "A.T @ C.T"
   ]
  },
  {
   "cell_type": "markdown",
   "metadata": {},
   "source": [
    "## Solving linear equations with a right inverse"
   ]
  },
  {
   "cell_type": "markdown",
   "metadata": {},
   "source": [
    "$$ x=Bb $$\n",
    "$$ Ax = A(Bb) = (AB)b = Ib = b $$\n",
    "\n",
    "A right inverse can be used to find a solution of a square or underdetermined set of linear equations, for any vector $b$."
   ]
  },
  {
   "cell_type": "code",
   "execution_count": 11,
   "metadata": {},
   "outputs": [],
   "source": [
    "A = np.array([[-3, -4],\n",
    "              [4, 6],\n",
    "              [1, 1]])\n",
    "\n",
    "B = np.array([[-11, -10, 16],\n",
    "              [7, 8, -11]]) / 9  # left inverse of A\n",
    "\n",
    "C = np.array([[0, -1, 6],\n",
    "              [0, 1, -4]]) / 2  # Another left inverse of A\n",
    "\n",
    "b = np.array([[1],\n",
    "              [2]])"
   ]
  },
  {
   "cell_type": "code",
   "execution_count": 12,
   "metadata": {},
   "outputs": [
    {
     "name": "stdout",
     "output_type": "stream",
     "text": [
      "[[1.]\n",
      " [2.]]\n",
      "[[ 0.33333333]\n",
      " [ 0.66666667]\n",
      " [-0.66666667]]\n"
     ]
    }
   ],
   "source": [
    "print(A.T @ (B.T @ b))\n",
    "print(B.T @ b)  # x"
   ]
  },
  {
   "cell_type": "code",
   "execution_count": 13,
   "metadata": {},
   "outputs": [
    {
     "name": "stdout",
     "output_type": "stream",
     "text": [
      "[[1.]\n",
      " [2.]]\n",
      "[[ 0. ]\n",
      " [ 0.5]\n",
      " [-1. ]]\n"
     ]
    }
   ],
   "source": [
    "print(A.T @ (C.T @ b))\n",
    "print(C.T @ b)  # x"
   ]
  },
  {
   "cell_type": "markdown",
   "metadata": {},
   "source": [
    "# 11.2 Inverse"
   ]
  },
  {
   "cell_type": "markdown",
   "metadata": {},
   "source": [
    "If a matrix is left- and right-invertible, then the left and right inverses are **unique** and **equal**. To see this, suppose that $AX = I$ and $YA = I$, i.e., $X$ is any right inverse and $Y$ is any left inverse of $A$. Then we have\n",
    "\n",
    "$$\n",
    "X = (YA)X = Y(AX) = Y\n",
    "$$\n",
    "\n",
    "When a matrix $A$ has both a left inverse $Y$ and a right inverse $X$, we call the matrix $X = Y$ simply the ***inverse*** of $A$, and denote it as $A^{−1}$. We say that $A$ is ***invertible*** or ***nonsingular***. A square matrix that is not invertible is called ***singular***.\n",
    "\n",
    "Invertible matrices must be **square**, since tall matrices are not right-invertible, while wide matrices are not left-invertible."
   ]
  },
  {
   "cell_type": "markdown",
   "metadata": {},
   "source": [
    "## Solving linear equations with the inverse"
   ]
  },
  {
   "cell_type": "markdown",
   "metadata": {},
   "source": [
    "The square system of linear equations $Ax = b$, with $A$ *invertible*, has the unique solution $x = A^{−1} b$, for any n-vector $b$.\n",
    "\n",
    "- $A^{-1}$ is the left inverse of $A$ => unique\n",
    "- $A^{-1}$ is the right inverse of $A$ => any n-vector $b$"
   ]
  },
  {
   "cell_type": "markdown",
   "metadata": {},
   "source": [
    "## Invertibility conditions"
   ]
  },
  {
   "cell_type": "markdown",
   "metadata": {},
   "source": [
    "For a square matrix A, the following are equivalent.\n",
    "- A is invertible.\n",
    "- The columns of A are linearly independent.\n",
    "- The rows of A are linearly independent.\n",
    "- A has a left inverse.\n",
    "- A has a right inverse."
   ]
  },
  {
   "cell_type": "code",
   "execution_count": 14,
   "metadata": {},
   "outputs": [
    {
     "data": {
      "text/plain": [
       "array([[-2.77555756e-17, -5.00000000e-01, -2.50000000e-01],\n",
       "       [-2.00000000e-01,  2.00000000e-01, -5.00000000e-02],\n",
       "       [ 2.00000000e-01,  3.00000000e-01,  5.00000000e-02]])"
      ]
     },
     "execution_count": 14,
     "metadata": {},
     "output_type": "execute_result"
    }
   ],
   "source": [
    "A = np.array([[1, -2, 3],\n",
    "              [0, 2, 2],\n",
    "              [-4, -4, -4]])\n",
    "B = np.linalg.inv(A)\n",
    "B"
   ]
  },
  {
   "cell_type": "code",
   "execution_count": 15,
   "metadata": {},
   "outputs": [
    {
     "data": {
      "text/plain": [
       "array([[ 1.00000000e+00,  0.00000000e+00, -1.38777878e-17],\n",
       "       [ 5.55111512e-17,  1.00000000e+00,  1.38777878e-17],\n",
       "       [ 0.00000000e+00,  0.00000000e+00,  1.00000000e+00]])"
      ]
     },
     "execution_count": 15,
     "metadata": {},
     "output_type": "execute_result"
    }
   ],
   "source": [
    "A @ B"
   ]
  },
  {
   "cell_type": "code",
   "execution_count": 16,
   "metadata": {},
   "outputs": [
    {
     "data": {
      "text/plain": [
       "array([[ 1.00000000e+00, -2.22044605e-16, -2.22044605e-16],\n",
       "       [ 0.00000000e+00,  1.00000000e+00,  8.32667268e-17],\n",
       "       [ 0.00000000e+00,  5.55111512e-17,  1.00000000e+00]])"
      ]
     },
     "execution_count": 16,
     "metadata": {},
     "output_type": "execute_result"
    }
   ],
   "source": [
    "B @ A"
   ]
  },
  {
   "cell_type": "markdown",
   "metadata": {},
   "source": [
    "## Inverse of matrix transpose"
   ]
  },
  {
   "cell_type": "markdown",
   "metadata": {},
   "source": [
    "If $A$ is invertible, its transpose $A^T$ is also invertible and its inverse is $(A^{−1})^T$:\n",
    "$$\n",
    "(A^T)^{−1} = (A^{−1})^T\n",
    "$$"
   ]
  },
  {
   "cell_type": "code",
   "execution_count": 17,
   "metadata": {},
   "outputs": [
    {
     "data": {
      "text/plain": [
       "array([[ 0.  , -0.2 ,  0.2 ],\n",
       "       [-0.5 ,  0.2 ,  0.3 ],\n",
       "       [-0.25, -0.05,  0.05]])"
      ]
     },
     "execution_count": 17,
     "metadata": {},
     "output_type": "execute_result"
    }
   ],
   "source": [
    "A = np.array([[1, -2, 3],\n",
    "              [0, 2, 2],\n",
    "              [-4, -4, -4]])\n",
    "np.linalg.inv(A.T)"
   ]
  },
  {
   "cell_type": "code",
   "execution_count": 18,
   "metadata": {},
   "outputs": [
    {
     "data": {
      "text/plain": [
       "array([[-2.77555756e-17, -2.00000000e-01,  2.00000000e-01],\n",
       "       [-5.00000000e-01,  2.00000000e-01,  3.00000000e-01],\n",
       "       [-2.50000000e-01, -5.00000000e-02,  5.00000000e-02]])"
      ]
     },
     "execution_count": 18,
     "metadata": {},
     "output_type": "execute_result"
    }
   ],
   "source": [
    "np.linalg.inv(A).T"
   ]
  },
  {
   "cell_type": "markdown",
   "metadata": {},
   "source": [
    "## Inverse of matrix product"
   ]
  },
  {
   "cell_type": "markdown",
   "metadata": {},
   "source": [
    "If $A$ and $B$ are invertible (hence, square) and of the same size, then $AB$ is invertible, and\n",
    "$$\n",
    "(AB)^{−1} = B^{−1}A^{−1}\n",
    "$$"
   ]
  },
  {
   "cell_type": "code",
   "execution_count": 19,
   "metadata": {},
   "outputs": [
    {
     "data": {
      "text/plain": [
       "array([[ 0.06666667, -0.23333333,  0.01666667],\n",
       "       [-0.04666667,  0.11333333,  0.03833333],\n",
       "       [-0.05333333, -0.01333333, -0.06333333]])"
      ]
     },
     "execution_count": 19,
     "metadata": {},
     "output_type": "execute_result"
    }
   ],
   "source": [
    "A = np.array([[1, -2, 3],\n",
    "              [0, 2, 2],\n",
    "              [-4, -4, -4]])\n",
    "B = np.array([[1, -2, 3],\n",
    "              [0, 2, 2],\n",
    "              [-3, -4, -4]])\n",
    "np.linalg.inv(A @ B)"
   ]
  },
  {
   "cell_type": "code",
   "execution_count": 20,
   "metadata": {},
   "outputs": [
    {
     "data": {
      "text/plain": [
       "array([[ 0.06666667, -0.23333333,  0.01666667],\n",
       "       [-0.04666667,  0.11333333,  0.03833333],\n",
       "       [-0.05333333, -0.01333333, -0.06333333]])"
      ]
     },
     "execution_count": 20,
     "metadata": {},
     "output_type": "execute_result"
    }
   ],
   "source": [
    "np.linalg.inv(B) @ np.linalg.inv(A)"
   ]
  },
  {
   "cell_type": "markdown",
   "metadata": {},
   "source": [
    "## Dual basis"
   ]
  },
  {
   "cell_type": "markdown",
   "metadata": {},
   "source": [
    "Suppose that $A$ is invertible with inverse $B = A^{−1}$. Let $a_1, \\ldots, a_n$ be the columns of $A$, and $b^T_1, \\ldots, b^T_n$ denote the rows of $B$, i.e., the columns of $B^T$:\n",
    "\n",
    "$$\n",
    "A = \\begin{bmatrix} a_1 & \\cdots & a_n \\end{bmatrix}, \\quad\n",
    "B = \\begin{bmatrix} b^T_1 \\\\ \\vdots \\\\ b^T_n \\end{bmatrix}\n",
    "$$\n",
    "\n",
    "We know that $a_1, \\ldots, a_n$ form a basis, since the columns of $A$ are linearly independent. The vectors $b_1, \\ldots, b_n$ also form a basis, since the rows of $B$ are linearly independent. They are called the *dual basis* of $a_1, \\ldots, a_n$. (The dual basis of $b_1, \\ldots, b_n$ is $a_1, \\ldots, a_n$, so they called *dual bases*.)"
   ]
  },
  {
   "cell_type": "markdown",
   "metadata": {},
   "source": [
    "Suppose $x$ is any n-vector. It can be expressed as a linear combination of the basis vectors $a_1, \\ldots, a_n$:\n",
    "$$\n",
    "x = \\beta_1 a_1 + \\cdots + \\beta_n a_n\n",
    "$$\n",
    "The dual basis gives us a simple way to find the coefficients $\\beta_1, \\ldots, \\beta_n$.\n",
    "$$\n",
    "x \n",
    "= Ix \n",
    "= ABx \n",
    "= \\begin{bmatrix} a_1 & \\cdots & a_n \\end{bmatrix} \\begin{bmatrix} b^T_1 \\\\ \\vdots \\\\ b^T_n \\end{bmatrix} x\n",
    "= (b^T_1 x)a_1 + \\cdots + (b^T_n x)a_n.\n",
    "$$"
   ]
  },
  {
   "cell_type": "code",
   "execution_count": 21,
   "metadata": {},
   "outputs": [
    {
     "name": "stdout",
     "output_type": "stream",
     "text": [
      "[ 0.2 -0.3  1.2]\n"
     ]
    }
   ],
   "source": [
    "A = np.array([[1, 0, 1],\n",
    "              [4, -3, -4],\n",
    "              [1, -1, -2]])\n",
    "B = np.linalg.inv(A)\n",
    "x = np.array([0.2, -0.3, 1.2])\n",
    "RHS = (B[0,:]@x) * A[:,0] + (B[1,:]@x) * A[:,1] + (B[2,:]@x) * A[:,2]\n",
    "print(RHS)"
   ]
  },
  {
   "cell_type": "markdown",
   "metadata": {},
   "source": [
    "## Triangular matrix"
   ]
  },
  {
   "cell_type": "markdown",
   "metadata": {},
   "source": [
    "A triangular matrix with nonzero diagonal elements is invertible.\n",
    "\n",
    "Lx=0 is only possible if x = 0 => columns of L are linearly independent => L is invertible"
   ]
  },
  {
   "cell_type": "code",
   "execution_count": 22,
   "metadata": {},
   "outputs": [
    {
     "data": {
      "text/plain": [
       "array([[1, 0, 0],\n",
       "       [4, 5, 0],\n",
       "       [7, 8, 9]])"
      ]
     },
     "execution_count": 22,
     "metadata": {},
     "output_type": "execute_result"
    }
   ],
   "source": [
    "L = np.tril(np.arange(1, 10).reshape(3, 3))\n",
    "L"
   ]
  },
  {
   "cell_type": "code",
   "execution_count": 23,
   "metadata": {},
   "outputs": [
    {
     "data": {
      "text/plain": [
       "array([[ 1.00000000e+00,  0.00000000e+00, -6.16790569e-18],\n",
       "       [-8.00000000e-01,  2.00000000e-01,  1.23358114e-17],\n",
       "       [-6.66666667e-02, -1.77777778e-01,  1.11111111e-01]])"
      ]
     },
     "execution_count": 23,
     "metadata": {},
     "output_type": "execute_result"
    }
   ],
   "source": [
    "np.linalg.inv(L)"
   ]
  },
  {
   "cell_type": "code",
   "execution_count": 24,
   "metadata": {},
   "outputs": [
    {
     "data": {
      "text/plain": [
       "array([[1, 4, 7],\n",
       "       [0, 5, 8],\n",
       "       [0, 0, 9]])"
      ]
     },
     "execution_count": 24,
     "metadata": {},
     "output_type": "execute_result"
    }
   ],
   "source": [
    "U = L.T\n",
    "U"
   ]
  },
  {
   "cell_type": "code",
   "execution_count": 25,
   "metadata": {},
   "outputs": [
    {
     "data": {
      "text/plain": [
       "array([[ 1.        , -0.8       , -0.06666667],\n",
       "       [ 0.        ,  0.2       , -0.17777778],\n",
       "       [ 0.        ,  0.        ,  0.11111111]])"
      ]
     },
     "execution_count": 25,
     "metadata": {},
     "output_type": "execute_result"
    }
   ],
   "source": [
    "np.linalg.inv(U)"
   ]
  },
  {
   "cell_type": "markdown",
   "metadata": {},
   "source": [
    "## Inverse via QR factorization"
   ]
  },
  {
   "cell_type": "markdown",
   "metadata": {},
   "source": [
    "If $A$ is square and invertible, its columns are linearly independent, so it has a QR factorization \n",
    "- $A = QR$\n",
    "- $Q$ is orthogonal: $Q^TQ = I$\n",
    "- $R$ is upper triangular, hence invertible\n",
    "\n",
    "so we have\n",
    "$$\n",
    "A^{-1} = (QR)^{-1} = R^{-1} Q^{-1} = R^{-1} Q^T\n",
    "$$"
   ]
  },
  {
   "cell_type": "code",
   "execution_count": 26,
   "metadata": {},
   "outputs": [
    {
     "data": {
      "text/plain": [
       "array([[-0.88707392, -0.38134953,  0.3528666 ],\n",
       "       [ 0.8253171 , -0.29117151,  0.23183498],\n",
       "       [ 0.1133084 , -0.14565458, -0.81071854]])"
      ]
     },
     "execution_count": 26,
     "metadata": {},
     "output_type": "execute_result"
    }
   ],
   "source": [
    "A = np.random.normal(size = (3,3))\n",
    "np.linalg.inv(A)"
   ]
  },
  {
   "cell_type": "code",
   "execution_count": 27,
   "metadata": {},
   "outputs": [
    {
     "name": "stdout",
     "output_type": "stream",
     "text": [
      "[[-0.35930487  0.92321642 -0.13627713]\n",
      " [-0.92596488 -0.33451597  0.1751802 ]\n",
      " [ 0.11614236  0.18913094  0.9750592 ]]\n",
      "[[ 1.40286098  0.97022806  0.74478773]\n",
      " [ 0.          1.10718064  0.08332394]\n",
      " [ 0.          0.         -1.20270988]]\n"
     ]
    },
    {
     "data": {
      "text/plain": [
       "array([[-0.88707392, -0.38134953,  0.3528666 ],\n",
       "       [ 0.8253171 , -0.29117151,  0.23183498],\n",
       "       [ 0.1133084 , -0.14565458, -0.81071854]])"
      ]
     },
     "execution_count": 27,
     "metadata": {},
     "output_type": "execute_result"
    }
   ],
   "source": [
    "Q, R = np.linalg.qr(A)\n",
    "print(Q)\n",
    "print(R)\n",
    "np.linalg.inv(R) @ Q.T"
   ]
  },
  {
   "cell_type": "markdown",
   "metadata": {},
   "source": [
    "# 11.3 Solving linear equations"
   ]
  },
  {
   "cell_type": "markdown",
   "metadata": {},
   "source": [
    "## Back substitution"
   ]
  },
  {
   "cell_type": "markdown",
   "metadata": {},
   "source": [
    "**given** an n × n upper triangular matrix $R$ with nonzero diagonal entries, and an n-vector $b$.\n",
    "\n",
    "For $i = n, \\ldots, 1$,\n",
    "\n",
    "$\\quad x_i = (b_i − R_{i,i+1}x_{i+1} − \\cdots − R_{i,n}x_n)/R_{ii}.$\n",
    "\n",
    "called back substitution since we find the variables in reverse order, substituting the already known values of $x_i$"
   ]
  },
  {
   "cell_type": "code",
   "execution_count": 28,
   "metadata": {},
   "outputs": [],
   "source": [
    "def back_subst_1(R, b_tilde):\n",
    "    n = R.shape[0]\n",
    "    x = np.zeros(n)\n",
    "    for i in reversed(range(n)):\n",
    "        x[i] = b_tilde[i]\n",
    "        for j in range(i+1, n):\n",
    "            x[i] = x[i] - R[i, j]*x[j]\n",
    "        x[i] = x[i]/R[i,i]\n",
    "    return x\n",
    "\n",
    "\n",
    "def back_subst_2(R, b):\n",
    "    n = len(b)\n",
    "    x = np.zeros(n)\n",
    "    for i in range(n-1, -1, -1):\n",
    "        x[i] = (b[i] - R[i, i+1:n] @ x[i+1:n]) / R[i, i]\n",
    "    return x"
   ]
  },
  {
   "cell_type": "code",
   "execution_count": 29,
   "metadata": {},
   "outputs": [
    {
     "name": "stdout",
     "output_type": "stream",
     "text": [
      "[[0.72480409 0.15314082 0.20523787 0.63373786]\n",
      " [0.         0.87833091 0.42742803 0.20293302]\n",
      " [0.         0.         0.06058676 0.27862613]\n",
      " [0.         0.         0.         0.32989371]]\n",
      "[0.40115577 0.67318416 0.34779505 0.25390318]\n"
     ]
    }
   ],
   "source": [
    "R = np.triu(np.random.random((4, 4)))\n",
    "b = np.random.random(4)\n",
    "print(R)\n",
    "print(b)"
   ]
  },
  {
   "cell_type": "code",
   "execution_count": 30,
   "metadata": {},
   "outputs": [
    {
     "name": "stdout",
     "output_type": "stream",
     "text": [
      "0.0\n",
      "0.0\n"
     ]
    }
   ],
   "source": [
    "x_1 = back_subst_1(R, b)\n",
    "x_2 = back_subst_2(R, b)\n",
    "\n",
    "print(np.linalg.norm(R @ x_1 - b))\n",
    "print(np.linalg.norm(R @ x_2 - b))"
   ]
  },
  {
   "cell_type": "code",
   "execution_count": 31,
   "metadata": {},
   "outputs": [
    {
     "data": {
      "text/plain": [
       "array([-0.64078062, -0.48246361,  2.20097679,  0.76965146])"
      ]
     },
     "execution_count": 31,
     "metadata": {},
     "output_type": "execute_result"
    }
   ],
   "source": [
    "x_1"
   ]
  },
  {
   "cell_type": "code",
   "execution_count": 32,
   "metadata": {},
   "outputs": [
    {
     "data": {
      "text/plain": [
       "array([-0.64078062, -0.48246361,  2.20097679,  0.76965146])"
      ]
     },
     "execution_count": 32,
     "metadata": {},
     "output_type": "execute_result"
    }
   ],
   "source": [
    "x_2"
   ]
  },
  {
   "cell_type": "code",
   "execution_count": 33,
   "metadata": {},
   "outputs": [
    {
     "data": {
      "text/plain": [
       "0.7696514593781237"
      ]
     },
     "execution_count": 33,
     "metadata": {},
     "output_type": "execute_result"
    }
   ],
   "source": [
    "b[3] / R[3, 3]"
   ]
  },
  {
   "cell_type": "code",
   "execution_count": 34,
   "metadata": {},
   "outputs": [
    {
     "data": {
      "text/plain": [
       "2.200976790408111"
      ]
     },
     "execution_count": 34,
     "metadata": {},
     "output_type": "execute_result"
    }
   ],
   "source": [
    "(b[2] - R[2, 3:4] @ (np.array([b[3] / R[3, 3]]))) / R[2, 2]"
   ]
  },
  {
   "cell_type": "markdown",
   "metadata": {},
   "source": [
    "## Complexity of back substitution"
   ]
  },
  {
   "cell_type": "markdown",
   "metadata": {},
   "source": [
    "- first step requires 1 flop (division)\n",
    "- 2nd step needs 3 flops (one multiply, one subtraction, and one division)\n",
    "- kth step requires k − 1 multiplies, k − 1 subtractions, and one division\n",
    "\n",
    "The total number of flops for back substitution is then\n",
    "$$\n",
    "1 + 3 + 5 + \\cdots + (2n − 1) = n^2\n",
    "$$"
   ]
  },
  {
   "cell_type": "markdown",
   "metadata": {},
   "source": [
    "## Solving linear equations using the QR factorization"
   ]
  },
  {
   "cell_type": "markdown",
   "metadata": {},
   "source": [
    "$$x = A^{-1}b = (QR)^{-1}b = R^{-1}Q^Tb$$\n",
    "**given** an n × n invertible matrix $A$ and an n-vector $b$.\n",
    "1. QR factorization. Compute the QR factorization $A = QR$.\n",
    "2. Compute $Q^Tb$.\n",
    "3. Back substitution. Solve the triangular equation $Rx = Q^Tb$ using back substitution\n",
    "\n",
    "complexity $2n^3$ (step 1), $2n^2$ (step 2), $n^2$ (step 3)\n",
    "\n",
    "total is $2n^3 + 3n^2 ≈ 2n^3$"
   ]
  },
  {
   "cell_type": "code",
   "execution_count": 35,
   "metadata": {},
   "outputs": [],
   "source": [
    "def solve_via_backsub(A, b):\n",
    "    Q,R = QR_factorization(A)\n",
    "    b_tilde = Q.T @ b\n",
    "    x = back_subst(R,b_tilde)\n",
    "    return x"
   ]
  },
  {
   "cell_type": "code",
   "execution_count": 37,
   "metadata": {},
   "outputs": [],
   "source": [
    "A = np.random.normal(size=(3, 3))\n",
    "b = np.random.normal(size=3)"
   ]
  },
  {
   "cell_type": "code",
   "execution_count": 38,
   "metadata": {},
   "outputs": [
    {
     "data": {
      "text/plain": [
       "array([-0.41962669, -0.22684386,  0.03578258])"
      ]
     },
     "execution_count": 38,
     "metadata": {},
     "output_type": "execute_result"
    }
   ],
   "source": [
    "np.linalg.solve(A, b)"
   ]
  },
  {
   "cell_type": "code",
   "execution_count": 39,
   "metadata": {},
   "outputs": [
    {
     "name": "stdout",
     "output_type": "stream",
     "text": [
      "Vectors are linearly independent.\n"
     ]
    },
    {
     "data": {
      "text/plain": [
       "array([-0.41962669, -0.22684386,  0.03578258])"
      ]
     },
     "execution_count": 39,
     "metadata": {},
     "output_type": "execute_result"
    }
   ],
   "source": [
    "solve_via_backsub(A, b)"
   ]
  },
  {
   "cell_type": "markdown",
   "metadata": {},
   "source": [
    "### Compare the running time of different methods"
   ]
  },
  {
   "cell_type": "code",
   "execution_count": 41,
   "metadata": {},
   "outputs": [],
   "source": [
    "n = 5000\n",
    "A = np.random.randn(n, n)\n",
    "b = np.random.randn(n)"
   ]
  },
  {
   "cell_type": "code",
   "execution_count": 42,
   "metadata": {},
   "outputs": [
    {
     "name": "stdout",
     "output_type": "stream",
     "text": [
      "3.596351831485748e-10\n",
      "5.387277891729717e-10\n",
      "5.387277891729717e-10\n"
     ]
    }
   ],
   "source": [
    "x1 = np.linalg.solve(A, b)\n",
    "x2 = np.matmul(np.linalg.inv(A), b)\n",
    "x3 = np.linalg.inv(A) @ b\n",
    "\n",
    "print(np.linalg.norm(b - A @ x1))\n",
    "print(np.linalg.norm(b - A @ x2))\n",
    "print(np.linalg.norm(b - A @ x3))"
   ]
  },
  {
   "cell_type": "code",
   "execution_count": 43,
   "metadata": {},
   "outputs": [
    {
     "name": "stdout",
     "output_type": "stream",
     "text": [
      "886 ms ± 13.5 ms per loop (mean ± std. dev. of 7 runs, 1 loop each)\n",
      "3.41 s ± 205 ms per loop (mean ± std. dev. of 7 runs, 1 loop each)\n",
      "3.26 s ± 91.2 ms per loop (mean ± std. dev. of 7 runs, 1 loop each)\n"
     ]
    }
   ],
   "source": [
    "%timeit x1 = np.linalg.solve(A, b)\n",
    "%timeit x2 = np.matmul(np.linalg.inv(A), b)\n",
    "%timeit x3 = np.linalg.inv(A) @ b"
   ]
  },
  {
   "cell_type": "code",
   "execution_count": 46,
   "metadata": {},
   "outputs": [],
   "source": [
    "n = 10000\n",
    "A = np.random.randn(n, n)\n",
    "b = np.random.randn(n)"
   ]
  },
  {
   "cell_type": "code",
   "execution_count": 47,
   "metadata": {},
   "outputs": [
    {
     "name": "stdout",
     "output_type": "stream",
     "text": [
      "6.38 s ± 493 ms per loop (mean ± std. dev. of 7 runs, 1 loop each)\n"
     ]
    }
   ],
   "source": [
    "%timeit x1 = np.linalg.solve(A, b)  # 0.886s -> 6.38s => n^3 complexity"
   ]
  },
  {
   "cell_type": "markdown",
   "metadata": {},
   "source": [
    "Julia chooses a suitable algorithm for solving the equation after checking the properties of A, but numpy wwill not do this."
   ]
  },
  {
   "cell_type": "code",
   "execution_count": 48,
   "metadata": {},
   "outputs": [],
   "source": [
    "A = np.tril(np.random.randn(n, n))"
   ]
  },
  {
   "cell_type": "code",
   "execution_count": 49,
   "metadata": {},
   "outputs": [
    {
     "name": "stdout",
     "output_type": "stream",
     "text": [
      "6.24 s ± 309 ms per loop (mean ± std. dev. of 7 runs, 1 loop each)\n"
     ]
    }
   ],
   "source": [
    "%timeit x1 = np.linalg.solve(A, b)  # 0.886s -> 6.24s => n^3 complexity"
   ]
  },
  {
   "cell_type": "markdown",
   "metadata": {},
   "source": [
    "## Factor-solve methods for multiple right-hand sides"
   ]
  },
  {
   "cell_type": "code",
   "execution_count": 52,
   "metadata": {},
   "outputs": [],
   "source": [
    "n = 5000\n",
    "A = np.random.randn(n, n)\n",
    "B = np.random.randn(n, 2)"
   ]
  },
  {
   "cell_type": "code",
   "execution_count": 54,
   "metadata": {},
   "outputs": [
    {
     "name": "stdout",
     "output_type": "stream",
     "text": [
      "884 ms ± 24.9 ms per loop (mean ± std. dev. of 7 runs, 1 loop each)\n",
      "912 ms ± 34.7 ms per loop (mean ± std. dev. of 7 runs, 1 loop each)\n",
      "1.87 s ± 25.5 ms per loop (mean ± std. dev. of 7 runs, 1 loop each)\n",
      "926 ms ± 19.3 ms per loop (mean ± std. dev. of 7 runs, 1 loop each)\n"
     ]
    }
   ],
   "source": [
    "# Solve with right-hand side B[:, 0]\n",
    "%timeit np.linalg.solve(A, B[:, 0])\n",
    "\n",
    "# Solve with right-hand side B[:, 1]\n",
    "%timeit np.linalg.solve(A, B[:, 1])\n",
    "\n",
    "# naive solving takes twice as long as an individual solve\n",
    "%timeit [np.linalg.solve(A,B[:,0]), np.linalg.solve(A,B[:,1])]\n",
    "\n",
    "# factor solve takes roughly same time as one RHS\n",
    "%timeit np.linalg.solve(A,B)"
   ]
  },
  {
   "cell_type": "markdown",
   "metadata": {},
   "source": [
    "# 11.4 Examples"
   ]
  },
  {
   "cell_type": "markdown",
   "metadata": {},
   "source": [
    "## Polynomial interpolation"
   ]
  },
  {
   "cell_type": "code",
   "execution_count": 60,
   "metadata": {},
   "outputs": [
    {
     "data": {
      "text/plain": [
       "array([[ 1.   , -1.1  ,  1.21 , -1.331],\n",
       "       [ 1.   , -0.4  ,  0.16 , -0.064],\n",
       "       [ 1.   ,  0.2  ,  0.04 ,  0.008],\n",
       "       [ 1.   ,  0.8  ,  0.64 ,  0.512]])"
      ]
     },
     "execution_count": 60,
     "metadata": {},
     "output_type": "execute_result"
    }
   ],
   "source": [
    "t = np.array([-1.1, -0.4, 0.2, 0.8])\n",
    "A = np.fliplr(np.vander(t, 4))  # or use our function vandermonde(t, 4)\n",
    "A"
   ]
  },
  {
   "cell_type": "code",
   "execution_count": 62,
   "metadata": {},
   "outputs": [
    {
     "data": {
      "text/plain": [
       "array([ 1.21095688, -0.88831052, -1.10966519,  1.38647902])"
      ]
     },
     "execution_count": 62,
     "metadata": {},
     "output_type": "execute_result"
    }
   ],
   "source": [
    "b1 = np.array([-1.0, 1.3, 1.0, 0.5])\n",
    "c1 = np.linalg.solve(A, b1)\n",
    "c1"
   ]
  },
  {
   "cell_type": "code",
   "execution_count": 63,
   "metadata": {},
   "outputs": [
    {
     "data": {
      "text/plain": [
       "array([-1.54128912, -3.10905469,  3.33847439,  3.69513527])"
      ]
     },
     "execution_count": 63,
     "metadata": {},
     "output_type": "execute_result"
    }
   ],
   "source": [
    "b2 = np.array([1.0, 0.0, -2.0, 0.0])\n",
    "c2 = np.linalg.solve(A, b2)\n",
    "c2"
   ]
  },
  {
   "cell_type": "code",
   "execution_count": 65,
   "metadata": {},
   "outputs": [],
   "source": [
    "ts = np.linspace(-1.2, 1.2, 1000)\n",
    "p1 = c1[0] + (c1[1]*ts) + (c1[2]*(ts**2))+ (c1[3]*(ts**3))\n",
    "p2 = c2[0] + (c2[1]*ts) + (c2[2]*(ts**2))+ (c2[3]*(ts**3))"
   ]
  },
  {
   "cell_type": "code",
   "execution_count": 75,
   "metadata": {},
   "outputs": [
    {
     "data": {
      "image/png": "[encoded data removed]",
      "text/plain": [
       "<Figure size 432x288 with 1 Axes>"
      ]
     },
     "metadata": {
      "needs_background": "light"
     },
     "output_type": "display_data"
    }
   ],
   "source": [
    "fig, ax = plt.subplots()\n",
    "ax.plot(ts, p1)\n",
    "ax.scatter(t, b1)\n",
    "ax.plot(ts, p2)\n",
    "ax.scatter(t, b2, marker='s')\n",
    "plt.show()"
   ]
  },
  {
   "cell_type": "markdown",
   "metadata": {},
   "source": [
    "# 11.5 Pseudo-inverse"
   ]
  },
  {
   "cell_type": "markdown",
   "metadata": {},
   "source": [
    "## Linearly independent columns and Gram invertibility"
   ]
  },
  {
   "cell_type": "markdown",
   "metadata": {},
   "source": [
    "m × n matrix $A$ has linearly independent columns if and only if its n × n Gram matrix $A^T A$ is invertible\n",
    "\n",
    "$$Ax = 0 \\Leftrightarrow A^TAx = 0$$\n",
    "- $\\Rightarrow$: if $Ax = 0$ then $(A^TA)x = A^T(Ax) = A^T 0 = 0$, i.e. $A^TA$ has linearly independent columns\n",
    "- $\\Leftarrow$: if $(A^TA)x = 0$ then\n",
    "$$0 = x^T0 = x^T(A^T Ax) = x^T A^T Ax = \\|Ax\\|^2$$\n",
    "so $Ax = 0$, i.e. $A$ has linearly independent columns"
   ]
  },
  {
   "cell_type": "markdown",
   "metadata": {},
   "source": [
    "## Pseudo-inverse of square or tall matrix"
   ]
  },
  {
   "cell_type": "markdown",
   "metadata": {},
   "source": [
    "If m × n matrix A has linearly independent columns (m >= n) then\n",
    "- A has a left inverse\n",
    "- $A^T A$ is invertible.\n",
    "\n",
    "We now observe that the matrix $(A^T A)^{−1}A^T$ is a left inverse of A:\n",
    "$$\n",
    "(A^T A)^{−1}A^T A = (A^T A)^{−1}(A^T A) = I\n",
    "$$\n",
    "\n",
    "\n",
    "The pseudo-inverse of A\n",
    "$$\n",
    "A^{\\dagger} = (A^T A)^{−1}A^T\n",
    "$$\n",
    "\n",
    "**Caution**:\n",
    "\n",
    "The above description is a special case.\n",
    "\n",
    "you can check https://en.wikipedia.org/wiki/Moore%E2%80%93Penrose_inverse#Linearly_independent_columns"
   ]
  },
  {
   "cell_type": "markdown",
   "metadata": {},
   "source": [
    "## Pseudo-inverse of a square or wide matrix"
   ]
  },
  {
   "cell_type": "markdown",
   "metadata": {},
   "source": [
    "If m × n matrix A has linearly independent rows (m <= n) then\n",
    "- A has a right inverse\n",
    "- $AA^T$ is invertible\n",
    "\n",
    "We now observe that the matrix $A^T(AA^T)^{−1}$ is a right inverse of A:\n",
    "$$\n",
    "A A^T(AA^T)^{−1}= (A A^T) (AA^T)^{−1} = I\n",
    "$$\n",
    "\n",
    "\n",
    "The pseudo-inverse of A\n",
    "$$\n",
    "A^{\\dagger} = A^T(AA^T)^{−1}\n",
    "$$\n",
    "\n",
    "**Caution**:\n",
    "\n",
    "The above description is a special case.\n",
    "\n",
    "you can check https://en.wikipedia.org/wiki/Moore%E2%80%93Penrose_inverse#Linearly_independent_rows"
   ]
  },
  {
   "cell_type": "markdown",
   "metadata": {},
   "source": [
    "## Pseudo-inverse via QR factorization"
   ]
  },
  {
   "cell_type": "markdown",
   "metadata": {},
   "source": [
    "If $A$ is left-invertible, its columns are linearly independent and the QR factorization $A = QR$ exists.\n",
    "\n",
    "then $A^T A = (QR)^T(QR) = R^T Q^T QR = R^T R$\n",
    "\n",
    "so \n",
    "$$\n",
    "A^{\\dagger} = (A^T A)^{−1}A^T = (R^T R)^{−1}(QR)^T = R^{-1} R^{-T} R^T Q^T = R^{-1} Q^T\n",
    "$$\n",
    "\n",
    "can compute $A^{\\dagger}$ using back substitution on columns of $Q^T$\n",
    "\n",
    "---\n",
    "If $A$ is right-invertible, its rows are linearly independent and the QR factorization $A^T = QR$ exists.\n",
    "\n",
    "then $A A^T= (QR)^T(QR) = R^T Q^T QR = R^T R$\n",
    "\n",
    "so \n",
    "$$\n",
    "A^{\\dagger} =  A^T(A A^T)^{−1} = QR (R^T R)^{-1}  = QR R^{-1} R^{-T}= Q  R^{-T}\n",
    "$$\n",
    "\n",
    "an compute $A^{\\dagger}$ using back substitution ($(A^T)^\\dagger = (A^\\dagger)^T$)"
   ]
  },
  {
   "cell_type": "code",
   "execution_count": 76,
   "metadata": {},
   "outputs": [
    {
     "data": {
      "text/plain": [
       "array([[-1.22222222, -1.11111111,  1.77777778],\n",
       "       [ 0.77777778,  0.88888889, -1.22222222]])"
      ]
     },
     "execution_count": 76,
     "metadata": {},
     "output_type": "execute_result"
    }
   ],
   "source": [
    "A = np.array([[-3, -4],\n",
    "              [4, 6],\n",
    "              [1, 1]])\n",
    "\n",
    "np.linalg.pinv(A)"
   ]
  },
  {
   "cell_type": "code",
   "execution_count": 78,
   "metadata": {},
   "outputs": [
    {
     "data": {
      "text/plain": [
       "array([[-0.58834841, -0.45760432],\n",
       "       [ 0.78446454, -0.52297636],\n",
       "       [ 0.19611614,  0.7190925 ]])"
      ]
     },
     "execution_count": 78,
     "metadata": {},
     "output_type": "execute_result"
    }
   ],
   "source": [
    "Q, R = np.linalg.qr(A)\n",
    "Q"
   ]
  },
  {
   "cell_type": "code",
   "execution_count": 79,
   "metadata": {},
   "outputs": [
    {
     "data": {
      "text/plain": [
       "array([[ 5.09901951,  7.256297  ],\n",
       "       [ 0.        , -0.58834841]])"
      ]
     },
     "execution_count": 79,
     "metadata": {},
     "output_type": "execute_result"
    }
   ],
   "source": [
    "R"
   ]
  },
  {
   "cell_type": "code",
   "execution_count": 80,
   "metadata": {},
   "outputs": [
    {
     "data": {
      "text/plain": [
       "array([[-1.22222222, -1.11111111,  1.77777778],\n",
       "       [ 0.77777778,  0.88888889, -1.22222222]])"
      ]
     },
     "execution_count": 80,
     "metadata": {},
     "output_type": "execute_result"
    }
   ],
   "source": [
    "np.linalg.solve(R, Q.T)"
   ]
  }
 ],
 "metadata": {
  "kernelspec": {
   "display_name": "Python 3",
   "language": "python",
   "name": "python3"
  },
  "language_info": {
   "codemirror_mode": {
    "name": "ipython",
    "version": 3
   },
   "file_extension": ".py",
   "mimetype": "text/x-python",
   "name": "python",
   "nbconvert_exporter": "python",
   "pygments_lexer": "ipython3",
   "version": "3.7.6"
  }
 },
 "nbformat": 4,
 "nbformat_minor": 4
}
