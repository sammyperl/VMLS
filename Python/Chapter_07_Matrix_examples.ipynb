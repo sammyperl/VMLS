{
 "cells": [
  {
   "cell_type": "code",
   "execution_count": 1,
   "metadata": {},
   "outputs": [],
   "source": [
    "import numpy as np\n",
    "import matplotlib.pyplot as plt\n",
    "import networkx as nx"
   ]
  },
  {
   "cell_type": "markdown",
   "metadata": {},
   "source": [
    "# 7.1 Geometric transformations"
   ]
  },
  {
   "cell_type": "markdown",
   "metadata": {},
   "source": [
    "## Rotate about the origin\n",
    "Suppose that $\\mathbf{v}'$ is the vector obtained by rotating $\\mathbf{v}$ by θ radians counterclockwise.\n",
    "$$\n",
    "\\mathbf{v} = \\begin{bmatrix}\n",
    "x \\\\\n",
    "y\n",
    "\\end{bmatrix}\n",
    "\\quad\n",
    "\\mathbf{v}' = \\begin{bmatrix}\n",
    "x' \\\\\n",
    "y'\n",
    "\\end{bmatrix}\n",
    "$$\n",
    "\n",
    "$$\n",
    "\\mathbf{v}' =\n",
    "\\begin{bmatrix}\n",
    "cos(\\theta) && -sin(\\theta) \\\\\n",
    "sin(\\theta) && cos(\\theta)\n",
    "\\end{bmatrix}\n",
    "\\mathbf{v}\n",
    "$$\n",
    "\n",
    "***proof***\n",
    "\n",
    "Use polar coordinate. If $\\begin{bmatrix}x \\\\ y\\end{bmatrix}=\\begin{bmatrix} Rcos(\\phi) \\\\ Rsin(\\phi) \\end{bmatrix}$ then\n",
    "\n",
    "$$\n",
    "\\begin{align*}\n",
    "\\begin{bmatrix} x' \\\\ y' \\end{bmatrix}\n",
    "&= \\begin{bmatrix} Rcos(\\phi+\\theta) \\\\ Rsin(\\phi+\\theta) \\end{bmatrix} \\\\\n",
    "&= \\begin{bmatrix} Rcos(\\phi)cos(\\phi)−Rsin(\\phi)sin(\\theta) \\\\ Rsin(\\phi)cos(\\theta)+Rcos(\\phi)sin(\\theta)) \\end{bmatrix} \\\\\n",
    "&= \\begin{bmatrix} x cos(\\theta) − y sin(\\theta) \\\\ x sin(\\theta) + y cos(\\theta) \\end{bmatrix} \\\\\n",
    "&= \\begin{bmatrix} cos(\\theta) && −sin(\\theta) \\\\ sin(\\theta) && cos(\\theta) \\end{bmatrix} \\begin{bmatrix} x \\\\ y \\end{bmatrix}\n",
    "\\end{align*}\n",
    "$$\n",
    "\n",
    "References:\n",
    "- https://math.stackexchange.com/questions/53143/how-do-we-prove-the-rotation-matrix-in-two-dimensions-not-by-casework\n",
    "- http://www.cimt.org.uk/projects/mepres/alevel/fpure_ch9.pdf"
   ]
  },
  {
   "cell_type": "code",
   "execution_count": 2,
   "metadata": {},
   "outputs": [
    {
     "data": {
      "text/plain": [
       "array([[ 0.5      , -0.8660254],\n",
       "       [ 0.8660254,  0.5      ]])"
      ]
     },
     "execution_count": 2,
     "metadata": {},
     "output_type": "execute_result"
    }
   ],
   "source": [
    "Rot = lambda theta: np.array([[np.cos(theta), -np.sin(theta)], [np.sin(theta), np.cos(theta)]])\n",
    "R = Rot(np.pi/3)  # rotation by π/3 radians (60 degree)\n",
    "R"
   ]
  },
  {
   "cell_type": "code",
   "execution_count": 3,
   "metadata": {},
   "outputs": [
    {
     "data": {
      "image/png": "[encoded data removed]",
      "text/plain": [
       "<Figure size 432x288 with 1 Axes>"
      ]
     },
     "metadata": {
      "needs_background": "light"
     },
     "output_type": "display_data"
    }
   ],
   "source": [
    "# create a list of 2-D points\n",
    "points = np.array([[1, 0],\n",
    "                   [1.5, 0],\n",
    "                   [2, 0],\n",
    "                   [1, 0.25],\n",
    "                   [1.5, 0.25],\n",
    "                   [1, 0.5]])\n",
    "\n",
    "# Now rotate them\n",
    "rpoints = np.array([R @ p for p in points])\n",
    "\n",
    "#Show the two sets of points\n",
    "plt.ion()\n",
    "plt.scatter([c[0] for c in points], [c[1] for c in points])\n",
    "plt.scatter([c[0] for c in rpoints],[c[1] for c in rpoints])\n",
    "plt.show()"
   ]
  },
  {
   "cell_type": "markdown",
   "metadata": {},
   "source": [
    "## Rotate not about the origin\n",
    "A rotation through $\\theta$ counterclockwise about point (a, b) can be built up in the following way:\n",
    "\n",
    "1. translate the plane by $\\begin{bmatrix} -a \\\\ -b \\end{bmatrix}$ so that the center of rotaion is now at origin\n",
    "2. rotate about new origin\n",
    "3. transkate the plane back to the original position\n",
    "\n",
    "$$\n",
    "\\begin{bmatrix} x' \\\\ y' \\end{bmatrix}\n",
    "=\n",
    "\\begin{bmatrix}\n",
    "cos(\\theta) && -sin(\\theta) \\\\\n",
    "sin(\\theta) && cos(\\theta)\n",
    "\\end{bmatrix}\n",
    "\\begin{bmatrix} x-a \\\\ y-b \\end{bmatrix}\n",
    "+\n",
    "\\begin{bmatrix} a \\\\ b \\end{bmatrix}\n",
    "$$\n",
    "\n",
    "http://www.cimt.org.uk/projects/mepres/alevel/fpure_ch9.pdf"
   ]
  },
  {
   "cell_type": "code",
   "execution_count": 4,
   "metadata": {},
   "outputs": [
    {
     "data": {
      "image/png": "[encoded data removed]",
      "text/plain": [
       "<Figure size 432x288 with 1 Axes>"
      ]
     },
     "metadata": {
      "needs_background": "light"
     },
     "output_type": "display_data"
    }
   ],
   "source": [
    "def rotate2d_at(arr, theta, center=[0, 0]):\n",
    "    center = np.array(center)\n",
    "    R = np.array([[np.cos(theta), -np.sin(theta)],\n",
    "                  [np.sin(theta), np.cos(theta)]])\n",
    "    new_arr = R @ (arr-center) + center\n",
    "    return new_arr\n",
    "\n",
    "# create a list of 2-D points\n",
    "points = np.array([[1, 0],\n",
    "                   [1.5, 0],\n",
    "                   [2, 0],\n",
    "                   [1, 0.25],\n",
    "                   [1.5, 0.25],\n",
    "                   [1, 0.5]])\n",
    "\n",
    "# Now rotate them\n",
    "rpoints = np.array([rotate2d_at(p, np.pi/2, [1, 1]) for p in points])\n",
    "\n",
    "#Show the two sets of points\n",
    "fig, ax = plt.subplots()\n",
    "ax.scatter([c[0] for c in points], [c[1] for c in points])\n",
    "ax.scatter([c[0] for c in rpoints],[c[1] for c in rpoints])\n",
    "ax.set_aspect('equal', 'datalim')\n",
    "plt.show()"
   ]
  },
  {
   "cell_type": "markdown",
   "metadata": {},
   "source": [
    "## Reflection across a line of given angle\n",
    "Suppose that $v'$ is the vector obtained by reflecting $v$ through the line\n",
    "that passes through the origin, inclined $\\theta$ radians with respect to horizontal.\n",
    "\n",
    "$$\n",
    "\\mathbf{v} = \\begin{bmatrix}\n",
    "x \\\\\n",
    "y\n",
    "\\end{bmatrix}\n",
    "\\quad\n",
    "\\mathbf{v}' = \\begin{bmatrix}\n",
    "x' \\\\\n",
    "y'\n",
    "\\end{bmatrix}\n",
    "$$\n",
    "$$\n",
    "\\mathbf{v}' =\n",
    "\\begin{bmatrix}\n",
    "cos(2\\theta) && sin(2\\theta) \\\\\n",
    "sin(2\\theta) && -cos(2\\theta)\n",
    "\\end{bmatrix}\n",
    "\\mathbf{v}\n",
    "$$\n",
    "\n",
    "\n",
    "***proof***\n",
    "\n",
    "Decompose reflection to three step\n",
    "1. rotate an arbitrary mirror line onto the x-axis. Call this $T_1$\n",
    "2. reflect across the x-axis. Call this $T_2$\n",
    "3. rotate back. Call this $T_3$\n",
    "\n",
    "$$\n",
    "\\begin{align*}\n",
    "\\begin{bmatrix} x' \\\\ y' \\end{bmatrix}\n",
    "&= T_3 T_2 T_1 \\begin{bmatrix} x \\\\ y \\end{bmatrix} \\\\\n",
    "&= \\begin{bmatrix} cos(\\theta) && −sin(\\theta) \\\\ sin(\\theta) && cos(\\theta) \\end{bmatrix} \\begin{bmatrix} 1 && 0 \\\\ 0 && -1 \\end{bmatrix} \\begin{bmatrix} cos(\\theta) && sin(\\theta) \\\\ -sin(\\theta) && cos(\\theta) \\end{bmatrix} \\begin{bmatrix} x \\\\ y \\end{bmatrix} \\\\\n",
    "&= \\begin{bmatrix} cos(\\theta) && sin(\\theta) \\\\ sin(\\theta) && -cos(\\theta) \\end{bmatrix} \\begin{bmatrix} cos(\\theta) && sin(\\theta) \\\\ -sin(\\theta) && cos(\\theta) \\end{bmatrix} \\begin{bmatrix} x \\\\ y \\end{bmatrix} \\\\\n",
    "&= \\begin{bmatrix} cos^2(\\theta)-sin^2(\\theta) && sin(\\theta)cos(\\theta)+cos(\\theta)sin(\\theta) \\\\ sin(\\theta)cos(\\theta)+cos(\\theta)sin(\\theta) && sin^2(\\theta)-cos^2(\\theta) \\end{bmatrix} \\begin{bmatrix} x \\\\ y \\end{bmatrix} \\\\\n",
    "&= \\begin{bmatrix} cos(2\\theta) && sin(2\\theta) \\\\ sin(2\\theta) && -cos(2\\theta) \\end{bmatrix} \\begin{bmatrix} x \\\\ y \\end{bmatrix}\n",
    "\\end{align*}\n",
    "$$\n",
    "\n",
    "\n",
    "\n",
    "References:\n",
    "- http://www.cimt.org.uk/projects/mepres/alevel/fpure_ch9.pdf\n",
    "- https://planetmath.org/derivationof2dreflectionmatrix"
   ]
  },
  {
   "cell_type": "code",
   "execution_count": 5,
   "metadata": {},
   "outputs": [
    {
     "data": {
      "image/png": "[encoded data removed]",
      "text/plain": [
       "<Figure size 432x288 with 1 Axes>"
      ]
     },
     "metadata": {
      "needs_background": "light"
     },
     "output_type": "display_data"
    },
    {
     "data": {
      "image/png": "[encoded data removed]",
      "text/plain": [
       "<Figure size 432x288 with 1 Axes>"
      ]
     },
     "metadata": {
      "needs_background": "light"
     },
     "output_type": "display_data"
    }
   ],
   "source": [
    "Ref = lambda theta:np.array([[np.cos(2*theta), np.sin(2*theta)], [np.sin(2*theta), -np.cos(2*theta)]])\n",
    "ref1 = Ref(np.pi/3)  # π/3 radians (60 degree)\n",
    "ref2 = Ref(np.arctan(0.5))  # π/3 radians (60 degree)\n",
    "\n",
    "# create a list of 2-D points\n",
    "points = np.array([[1, 0],\n",
    "                   [1.5, 0],\n",
    "                   [2, 0],\n",
    "                   [1, 0.25],\n",
    "                   [1.5, 0.25],\n",
    "                   [1, 0.5]])\n",
    "\n",
    "rpoints = np.array([ref1 @ p for p in points])\n",
    "fig, ax = plt.subplots()\n",
    "ax.scatter([c[0] for c in points], [c[1] for c in points])\n",
    "ax.scatter([c[0] for c in rpoints],[c[1] for c in rpoints])\n",
    "ax.set_aspect('equal', 'datalim')\n",
    "plt.show()\n",
    "\n",
    "\n",
    "rpoints = np.array([ref2 @ p for p in points])\n",
    "fig, ax = plt.subplots()\n",
    "ax.scatter([c[0] for c in points], [c[1] for c in points])\n",
    "ax.scatter([c[0] for c in rpoints],[c[1] for c in rpoints])\n",
    "ax.set_aspect('equal', 'datalim')\n",
    "plt.show()"
   ]
  },
  {
   "cell_type": "markdown",
   "metadata": {},
   "source": [
    "# 7.2 Selectors"
   ]
  },
  {
   "cell_type": "markdown",
   "metadata": {},
   "source": [
    "An m × n selector matrix $A$ is one in which each row is a unit vector (transposed):\n",
    "$$\n",
    "A =\\begin{bmatrix} e^{T}_{k_1} \\\\ \\vdots \\\\ e^{T}_{k_m} \\end{bmatrix}\n",
    "$$,\n",
    "where $k_1, \\ldots , k_m$ are integers in the range $1,\\ldots,n$.\n",
    "\n",
    "When it multiplies a vector, itsimply copies the $k_i$th entry of $x$ into the $i$th entry of $y = Ax$:\n",
    "$$\n",
    "y = (x_{k_1}, x_{k_2},\\ldots, x_{k_m})\n",
    "$$"
   ]
  },
  {
   "cell_type": "markdown",
   "metadata": {},
   "source": [
    "## Reverser matrix"
   ]
  },
  {
   "cell_type": "code",
   "execution_count": 6,
   "metadata": {},
   "outputs": [
    {
     "data": {
      "text/plain": [
       "array([[0., 0., 0., 0., 1.],\n",
       "       [0., 0., 0., 1., 0.],\n",
       "       [0., 0., 1., 0., 0.],\n",
       "       [0., 1., 0., 0., 0.],\n",
       "       [1., 0., 0., 0., 0.]])"
      ]
     },
     "execution_count": 6,
     "metadata": {},
     "output_type": "execute_result"
    }
   ],
   "source": [
    "reverser = lambda n: np.flip(np.eye(n), axis=0)\n",
    "A = reverser(5)\n",
    "A"
   ]
  },
  {
   "cell_type": "code",
   "execution_count": 7,
   "metadata": {},
   "outputs": [
    {
     "name": "stdout",
     "output_type": "stream",
     "text": [
      "[4. 3. 2. 1. 0.]\n",
      "[4. 3. 2. 1. 0.]\n"
     ]
    }
   ],
   "source": [
    "x = np.arange(5, dtype=np.float)\n",
    "print(A @ x)\n",
    "print(np.flip(x))"
   ]
  },
  {
   "cell_type": "markdown",
   "metadata": {},
   "source": [
    "## Permutation matrix"
   ]
  },
  {
   "cell_type": "code",
   "execution_count": 8,
   "metadata": {},
   "outputs": [
    {
     "data": {
      "text/plain": [
       "array([ 2.4,  0.2, -1.7])"
      ]
     },
     "execution_count": 8,
     "metadata": {},
     "output_type": "execute_result"
    }
   ],
   "source": [
    "A = np.array([[0, 0, 1],\n",
    "              [1, 0, 0],\n",
    "              [0, 1, 0]])\n",
    "x = np.array([0.2, -1.7, 2.4])\n",
    "A @ x  # Permutes entries of x to [x[2], x[0], x[1]]"
   ]
  },
  {
   "cell_type": "code",
   "execution_count": 9,
   "metadata": {},
   "outputs": [
    {
     "data": {
      "text/plain": [
       "array([ 2.4,  0.2, -1.7])"
      ]
     },
     "execution_count": 9,
     "metadata": {},
     "output_type": "execute_result"
    }
   ],
   "source": [
    "x[[2,0,1]]"
   ]
  },
  {
   "cell_type": "markdown",
   "metadata": {},
   "source": [
    "## 7.3 Incidence matrix"
   ]
  },
  {
   "cell_type": "markdown",
   "metadata": {},
   "source": [
    "## Incidence matrix of a graph"
   ]
  },
  {
   "cell_type": "markdown",
   "metadata": {},
   "source": [
    "- graph with n vertices or nodes, m (directed) edges or links\n",
    "- incidence matrix is n × m matrix\n",
    "$$\n",
    "A_{ij} = \\begin{cases}\n",
    "\\begin{array} \\\\\n",
    "1  &\\quad \\text{edge $j$ points to node $i$} \\\\\n",
    "-1 &\\quad \\text{edge $j$ points from node $i$} \\\\\n",
    "0 &\\quad \\text{otherwise}\n",
    "\\end{array}\n",
    "\\end{cases}\n",
    "$$"
   ]
  },
  {
   "cell_type": "code",
   "execution_count": 10,
   "metadata": {},
   "outputs": [
    {
     "data": {
      "image/png": "[encoded data removed]",
      "text/plain": [
       "<Figure size 432x288 with 1 Axes>"
      ]
     },
     "metadata": {},
     "output_type": "display_data"
    }
   ],
   "source": [
    "G = nx.DiGraph (\n",
    "    [(1, 2),\n",
    "     (1, 4),\n",
    "     (2, 3),\n",
    "     (3, 1),\n",
    "     (3, 4)]\n",
    ")\n",
    "nx.draw(G, with_labels=True, node_size=1500, alpha=0.3, arrows=True)"
   ]
  },
  {
   "cell_type": "code",
   "execution_count": 11,
   "metadata": {},
   "outputs": [],
   "source": [
    "# incidence matrix of the above graph\n",
    "A = np.array([[-1, -1, 0, 1, 0],\n",
    "              [1, 0, -1, 0, 0],\n",
    "              [0, 0, 1, -1, -1],\n",
    "              [0, 1, 0, 0, 1]])"
   ]
  },
  {
   "cell_type": "markdown",
   "metadata": {},
   "source": [
    "***Flow conservation***\n",
    "- m-vector $x$ gives flows (of something) along the edges\n",
    "- examples: heat, money, power, mass, people, . . .\n",
    "- $x_j > 0$ means flow follows edge direction\n",
    "- $Ax$ is n-vector that gives the total or **net flows**\n",
    "- $(Ax)_i$ is the net flow into node $i$ (sometimes called the flow surplus at node $i$)\n",
    "- $Ax = 0$ is **flow conservation**; $x$ is called a **circulation**"
   ]
  },
  {
   "cell_type": "code",
   "execution_count": 12,
   "metadata": {},
   "outputs": [],
   "source": [
    "xcirc = np.array([1, -1, 1, 0, 1])  # A circulation"
   ]
  },
  {
   "cell_type": "code",
   "execution_count": 13,
   "metadata": {},
   "outputs": [
    {
     "data": {
      "text/plain": [
       "array([0, 0, 0, 0])"
      ]
     },
     "execution_count": 13,
     "metadata": {},
     "output_type": "execute_result"
    }
   ],
   "source": [
    "A @ xcirc"
   ]
  },
  {
   "cell_type": "code",
   "execution_count": 14,
   "metadata": {},
   "outputs": [
    {
     "data": {
      "text/plain": [
       "array([ 0.00000000e+00, -1.77635684e-15,  4.44089210e-16,  8.88178420e-16])"
      ]
     },
     "execution_count": 14,
     "metadata": {},
     "output_type": "execute_result"
    }
   ],
   "source": [
    "# From: https://scipy-cookbook.readthedocs.io/items/RankNullspace.html\n",
    "def nullspace(A, atol=1e-13, rtol=0):\n",
    "    \"\"\"Compute an approximate basis for the nullspace of A.\n",
    "\n",
    "    The algorithm used by this function is based on the singular value\n",
    "    decomposition of `A`.\n",
    "\n",
    "    Parameters\n",
    "    ----------\n",
    "    A : ndarray\n",
    "        A should be at most 2-D.  A 1-D array with length k will be treated\n",
    "        as a 2-D with shape (1, k)\n",
    "    atol : float\n",
    "        The absolute tolerance for a zero singular value.  Singular values\n",
    "        smaller than `atol` are considered to be zero.\n",
    "    rtol : float\n",
    "        The relative tolerance.  Singular values less than rtol*smax are\n",
    "        considered to be zero, where smax is the largest singular value.\n",
    "\n",
    "    If both `atol` and `rtol` are positive, the combined tolerance is the\n",
    "    maximum of the two; that is::\n",
    "        tol = max(atol, rtol * smax)\n",
    "    Singular values smaller than `tol` are considered to be zero.\n",
    "\n",
    "    Return value\n",
    "    ------------\n",
    "    ns : ndarray\n",
    "        If `A` is an array with shape (m, k), then `ns` will be an array\n",
    "        with shape (k, n), where n is the estimated dimension of the\n",
    "        nullspace of `A`.  The columns of `ns` are a basis for the\n",
    "        nullspace; each element in numpy.dot(A, ns) will be approximately\n",
    "        zero.\n",
    "    \"\"\"\n",
    "\n",
    "    A = np.atleast_2d(A)\n",
    "    u, s, vh = np.linalg.svd(A)\n",
    "    tol = max(atol, rtol * s[0])\n",
    "    nnz = (s >= tol).sum()\n",
    "    ns = vh[nnz:].conj().T\n",
    "    return ns\n",
    "\n",
    "# linear combination of the basis of nullspace is 'circulation'\n",
    "ns = nullspace(A)\n",
    "A @ (10*ns[:, 0] + 5*ns[:, 1])"
   ]
  },
  {
   "cell_type": "markdown",
   "metadata": {},
   "source": [
    "## Potentials and Dirichlet energy"
   ]
  },
  {
   "cell_type": "markdown",
   "metadata": {},
   "source": [
    "- suppose v is an n-vector, called a **potential**\n",
    "- $v_i$ is potential value at **node** $i$\n",
    "- $u = A^Tv$ is an m-vector of potential differences across the $m$ edges\n",
    "- $u_j = v_l − v_k$, where edge $j$ goes from $k$ to node $l$\n",
    "- Dirichlet energy is $\\mathcal{D}(v) = \\left\\|A^Tv\\right\\|^2$,\n",
    "$$\n",
    "\\mathcal{D}(v) = \\sum_{edges(k,l)} (v_l − v_k)^2\n",
    "$$\n",
    "(sum of squares of potential differences across the edges)\n",
    "- $\\mathcal{D}(v)$ is small when potential values of neighboring nodes are similar"
   ]
  },
  {
   "cell_type": "code",
   "execution_count": 15,
   "metadata": {},
   "outputs": [
    {
     "data": {
      "text/plain": [
       "2.9999999999999996"
      ]
     },
     "execution_count": 15,
     "metadata": {},
     "output_type": "execute_result"
    }
   ],
   "source": [
    "A = np.array([[-1, -1, 0, 1, 0],\n",
    "              [1, 0, -1, 0, 0],\n",
    "              [0, 0, 1, -1, -1],\n",
    "              [0, 1, 0, 0, 1]])\n",
    "vsmooth = np.array([1, 2, 2, 1])\n",
    "np.linalg.norm(A.T @ vsmooth)**2  # Dirichlet energy of vsmooth"
   ]
  },
  {
   "cell_type": "code",
   "execution_count": 16,
   "metadata": {},
   "outputs": [
    {
     "data": {
      "text/plain": [
       "27.0"
      ]
     },
     "execution_count": 16,
     "metadata": {},
     "output_type": "execute_result"
    }
   ],
   "source": [
    "vrough = np.array([1, -1, 2, -1])\n",
    "np.linalg.norm(A.T @ vrough)**2 # Dirichlet energy of vrough"
   ]
  },
  {
   "cell_type": "markdown",
   "metadata": {},
   "source": [
    "# 7.4 Convolution"
   ]
  },
  {
   "cell_type": "markdown",
   "metadata": {},
   "source": [
    "The convolution of an n-vector a and an m-vector b is the (n + m − 1)-vector\n",
    "denoted c = a ∗ b, with entries\n",
    "$$\n",
    "c_{k} =\\sum_{i+j=k+1}a_{i}b_{j} , \\ k = 1, . . . , n + m − 1,\n",
    "$$\n",
    "where the subscript in the sum means that we should sum over all values of i and j in their index ranges 1, . . . , n and 1, . . . , m, for which the sum i + j is k + 1.\n",
    "\n",
    "For example with n = 4, m = 3, we have\n",
    "$$\n",
    "\\begin{align*}\n",
    "c_1 &= a_1b_1 \\\\\n",
    "c_2 &= a_1b_2 + a_2b_1 \\\\\n",
    "c_3 &= a_1b_3 + a_2b_2 + a_3b_1 \\\\\n",
    "c_4 &= a_2b_3 + a_3b_2 + a_4b_1 \\\\\n",
    "c_5 &= a_3b_3 + a_4b_2 \\\\\n",
    "c_6 &= a_4b_3\n",
    "\\end{align*}\n",
    "$$"
   ]
  },
  {
   "cell_type": "markdown",
   "metadata": {},
   "source": [
    "**Properties of convolution**\n",
    "$$\n",
    "a ∗ b = b ∗ a \\\\\n",
    "(a ∗ b) ∗ c = a ∗ (b ∗ c) \\\\\n",
    "a ∗ b = 0 \\ \\text{only if} \\ a = 0 \\ \\text{or} \\ b = 0\n",
    "$$"
   ]
  },
  {
   "cell_type": "markdown",
   "metadata": {},
   "source": [
    "Find the coefficients of the polynomial\n",
    "\n",
    "$p(x) = (1 + x)(2 − x + x^2)(1 + x − 2x^2) = 2 + 3^x − 3x^2 − x^3 + x^4 − 2x^5$"
   ]
  },
  {
   "cell_type": "code",
   "execution_count": 18,
   "metadata": {},
   "outputs": [
    {
     "data": {
      "text/plain": [
       "array([ 2,  3, -3, -1,  1, -2])"
      ]
     },
     "execution_count": 18,
     "metadata": {},
     "output_type": "execute_result"
    }
   ],
   "source": [
    "a = np.array([1, 1]) # coefficients of 1+x\n",
    "b = np.array([2, -1, 1]) # coefficients of 2-x+x^2\n",
    "c = np.array([1, 1, -2]) # coefficients of 1+x-2x^2\n",
    "d = np.convolve(np.convolve(a, b), c) # coefficients of product\n",
    "d"
   ]
  },
  {
   "cell_type": "markdown",
   "metadata": {},
   "source": [
    "*Toeplitz matrices*\n",
    "\n",
    "A basic property is that for fixed a, the convolution a ∗ b is a linear function\n",
    "of b; and for fixed b, it is a linear function of a. This means we can express a ∗ b as\n",
    "a matrix-vector product\n",
    "$$\n",
    "a ∗ b = T(b)a = T(a)b\n",
    "$$\n",
    "where T(b) is the (n + m − 1) × n matrix with entries\n",
    "$$\n",
    "T(b)_{ij} =\\begin{cases}\n",
    "b_{i−j+1} \\quad 1 ≤ i − j + 1 ≤ m \\\\\n",
    "0 \\quad text{otherwise}\n",
    "\\end{cases}\n",
    "$$\n",
    "and similarly for T(a). \n",
    "\n",
    "The matrices T(b) and T(a) are called Toeplitz matrices (named after the mathematician Otto Toeplitz), which means the entries on any diagonal (i.e., indices with i − j constant) are the same."
   ]
  },
  {
   "cell_type": "code",
   "execution_count": 21,
   "metadata": {},
   "outputs": [
    {
     "data": {
      "text/plain": [
       "array([[-1.,  0.,  0.,  0.],\n",
       "       [ 2., -1.,  0.,  0.],\n",
       "       [ 3.,  2., -1.,  0.],\n",
       "       [ 0.,  3.,  2., -1.],\n",
       "       [ 0.,  0.,  3.,  2.],\n",
       "       [ 0.,  0.,  0.,  3.]])"
      ]
     },
     "execution_count": 21,
     "metadata": {},
     "output_type": "execute_result"
    }
   ],
   "source": [
    "b = np.array([-1, 2, 3])\n",
    "a = np.array([-2, 3, -1, 1])\n",
    "\n",
    "def toeplitz(b, n):\n",
    "    m = len(b)\n",
    "    T = np.zeros((n+m-1, n))\n",
    "    for j in range(n):\n",
    "        T[j:j+m, j] = b\n",
    "    return T\n",
    "Tb = toeplitz(b, len(a))\n",
    "Tb"
   ]
  },
  {
   "cell_type": "code",
   "execution_count": 22,
   "metadata": {},
   "outputs": [
    {
     "data": {
      "text/plain": [
       "array([[-2.,  0.,  0.],\n",
       "       [ 3., -2.,  0.],\n",
       "       [-1.,  3., -2.],\n",
       "       [ 1., -1.,  3.],\n",
       "       [ 0.,  1., -1.],\n",
       "       [ 0.,  0.,  1.]])"
      ]
     },
     "execution_count": 22,
     "metadata": {},
     "output_type": "execute_result"
    }
   ],
   "source": [
    "Ta = toeplitz(a, len(b))\n",
    "Ta"
   ]
  },
  {
   "cell_type": "code",
   "execution_count": 25,
   "metadata": {},
   "outputs": [
    {
     "name": "stdout",
     "output_type": "stream",
     "text": [
      "[ 2. -7.  1.  6. -1.  3.]\n",
      "[ 2. -7.  1.  6. -1.  3.]\n",
      "[ 2 -7  1  6 -1  3]\n"
     ]
    }
   ],
   "source": [
    "print(Ta @ b)\n",
    "print(Tb @ a)\n",
    "print(np.convolve(b, a))"
   ]
  },
  {
   "cell_type": "markdown",
   "metadata": {},
   "source": [
    "Compare the time of convolution using `np.conv` and `Toeplitz`"
   ]
  },
  {
   "cell_type": "code",
   "execution_count": 27,
   "metadata": {},
   "outputs": [],
   "source": [
    "m = 2000\n",
    "n = 2000\n",
    "b = np.random.normal(size = n)\n",
    "a = np.random.normal(size = m)"
   ]
  },
  {
   "cell_type": "code",
   "execution_count": 28,
   "metadata": {},
   "outputs": [
    {
     "name": "stdout",
     "output_type": "stream",
     "text": [
      "53.5 ms ± 1.25 ms per loop (mean ± std. dev. of 7 runs, 10 loops each)\n"
     ]
    }
   ],
   "source": [
    "%timeit ctoep = toeplitz(b, n) @ a"
   ]
  },
  {
   "cell_type": "code",
   "execution_count": 30,
   "metadata": {},
   "outputs": [
    {
     "name": "stdout",
     "output_type": "stream",
     "text": [
      "585 µs ± 16.3 µs per loop (mean ± std. dev. of 7 runs, 1000 loops each)\n"
     ]
    }
   ],
   "source": [
    "%timeit cconv = np.convolve(a,b)"
   ]
  }
 ],
 "metadata": {
  "kernelspec": {
   "display_name": "Python 3",
   "language": "python",
   "name": "python3"
  },
  "language_info": {
   "codemirror_mode": {
    "name": "ipython",
    "version": 3
   },
   "file_extension": ".py",
   "mimetype": "text/x-python",
   "name": "python",
   "nbconvert_exporter": "python",
   "pygments_lexer": "ipython3",
   "version": "3.7.6"
  }
 },
 "nbformat": 4,
 "nbformat_minor": 4
}
