{
 "cells": [
  {
   "cell_type": "code",
   "execution_count": 1,
   "metadata": {},
   "outputs": [],
   "source": [
    "import numpy as np\n",
    "import matplotlib.pyplot as plt\n",
    "\n",
    "from dataset import orth_dist_reg_data"
   ]
  },
  {
   "cell_type": "markdown",
   "metadata": {},
   "source": [
    "# 18.1 Nonlinear equations and least squares"
   ]
  },
  {
   "cell_type": "markdown",
   "metadata": {},
   "source": [
    "## Nonlinear equations"
   ]
  },
  {
   "cell_type": "markdown",
   "metadata": {},
   "source": [
    "- A set of $m$ possibly nonlinear equations in $n$ unknowns (or variables) (n-vector) $x = (x_1, \\ldots , x_n)$ \n",
    "$$\n",
    "f_i(x_1, \\ldots, x_n) = f_i(x) = 0, \\quad i = 1, \\ldots, m\n",
    "$$\n",
    "where $f_i: \\mathbb{R}^n \\rightarrow \\mathbb{R}$ is a scalar-valued function.\n",
    "- We refer to $f_i(x) = 0$ as the $i$th equation.\n",
    "- For any $x$ we call $f_i(x)$ the $i$th *residual*, since it is a quantity we want to be zero.\n",
    "-  Assuming the **right-hand sides of the equations are zero** will simplify formulas and equations. \\\n",
    "   If we need to solve$f_i(x) = b_i, \\quad i = 1, \\ldots, m$, where $b_i$ are some given nonzero numbers, we define $\\tilde{f}_i(x) = f_i(x) − b_i$, and solve $\\tilde{f}_i(x) = 0, \\quad i = 1, \\ldots, m$\n",
    "- write the set of equations in the compact vector form $f(x) = \\mathbf{0}$ where $f: \\mathbb{R}^n \\rightarrow \\mathbb{R}^m$\n",
    "$$\n",
    "f(x) = (f_1(x), \\ldots, f_m(x))\n",
    "$$\n",
    "- when $f$ is affine, reduces to set of $m$ linear equations"
   ]
  },
  {
   "cell_type": "markdown",
   "metadata": {},
   "source": [
    "## Nonlinear least squares"
   ]
  },
  {
   "cell_type": "markdown",
   "metadata": {},
   "source": [
    "- When we cannot find a solution of $f(x)=0$, we can seek an **approximate solution** $\\hat{x}$, by finding x that **minimizes the sum of squares of the residuals**,\n",
    "$$\n",
    "\\|f(x)\\|^2 = f_1(x)^2 + \\cdots + f_m(x)^2\n",
    "$$\n",
    "- The *nonlinear least squares problem* $\\text{minimize} \\ f\\|f(x)\\|^2$ includes the problem of solving nonlinear equations $f(x)=0$ as a special case"
   ]
  },
  {
   "cell_type": "markdown",
   "metadata": {},
   "source": [
    "## Optimality condition"
   ]
  },
  {
   "cell_type": "markdown",
   "metadata": {},
   "source": [
    "- **optimality condition**: The partial derivative of $\\|f(x)\\|^2$ with respect to each of $x_1, \\ldots, x_n$ must vanish at $\\hat{x}$:\n",
    "$$\n",
    "\\frac{\\partial}{\\partial x_i} \\|f(\\hat{x})\\|^2 = 0, \\quad i = 1, \\ldots, n,\n",
    "$$\n",
    "or, in vector form,\n",
    "$$\n",
    "\\nabla \\|f(\\hat{x})\\|^2 = 0\n",
    "$$\n",
    "    - any optimal point satisfies this\n",
    "    - points can satisfy this and not be optimal\n",
    "    - optimality condition is called a **necessary condition** for optimality\n",
    "- can be expressed as\n",
    "$$\n",
    "\\nabla \\|f(\\hat{x})\\|^2 = \\nabla (\\sum_{i=1}^m {f_i(\\hat{x})^2}) = 2 \\sum_{i=1}^m f_i(\\hat{x}) \\nabla f_i(\\hat{x}) = 2D f(\\hat{x})^T f(\\hat{x}) = 0\n",
    "$$\n",
    "- $D f(\\hat{x})$ is the m × n derivative or **Jacobian matrix**,\n",
    "$$\n",
    "Df(\\hat{x})_{ij} = \\frac{\\partial f_i}{\\partial x_j}(\\hat{x}), \\quad i = 1, \\ldots, m, \\quad j = 1, \\ldots, n\n",
    "$$\n",
    "- optimality condition reduces to normal equations when $f$ is affine"
   ]
  },
  {
   "cell_type": "markdown",
   "metadata": {},
   "source": [
    "##  Difficulty of solving nonlinear equations or nonlinear least squares problem"
   ]
  },
  {
   "cell_type": "markdown",
   "metadata": {},
   "source": [
    "- For nonlinear equations, it is a very difficult calculation problem to **determine** that there is\n",
    "    1. no solution\n",
    "    2. any number of solutions\n",
    "    3. infinite number of solutions\n",
    "- so we will use heuristic algorithms:\n",
    "    - not guaranteed to always work\n",
    "    - but often work well in practice \\\n",
    "    (like k-means)"
   ]
  },
  {
   "cell_type": "markdown",
   "metadata": {},
   "source": [
    "# 18.2 Gauss–Newton algorithm"
   ]
  },
  {
   "cell_type": "markdown",
   "metadata": {},
   "source": [
    "- heuristic algorithm for the nonlinear least squares problem\n",
    "- iterative algorithms that generate a sequence of points $x^{(1)}, x^{(2)}, \\ldots$\n",
    "- The vector $x^{(1)}$ is called the *starting point* of the algorithm, and $x^{(k)}$ is called the $k$th iterate.\n",
    "- Moving from $x^{(k)}$ to $x^{(k+1)}$ is called an *iteration* of the algorithm.\n",
    "- The algorithm is terminated when \n",
    "    1. $\\|f(x^{(k)})\\|$ is small enough\n",
    "    2. $x^{(k+1)}$ is very near $x^{(k)}$\n",
    "    3. a maximum number of iterations is reached"
   ]
  },
  {
   "cell_type": "markdown",
   "metadata": {},
   "source": [
    "## Basic Gauss–Newton algorithm"
   ]
  },
  {
   "cell_type": "markdown",
   "metadata": {},
   "source": [
    "We alternate between\n",
    "\n",
    "---\n",
    "\n",
    "1. **finding an affine approximation** of the function $f$ at the current iterate,\n",
    "\n",
    "    At each iteration $k$, we form the affine approximation $\\hat{f}$ of $f$ at the current iterate $x^{(k)}$ , given by the Taylor approximation\n",
    "$$\n",
    "f(x; x^{(k)}) = f(x^{(k)}) + Df(x^{(k)})(x − x^{(k)}), \n",
    "$$\n",
    "    where the m×n matrix $Df(x^{(k)})$ is the **Jacobian** or derivative matrix of $f$\n",
    "\n",
    "---\n",
    "2. and then solving the associated **linear least squares problem** to find the next iterate.\n",
    "    The next iterate $x^{(k+1)}$ is then taken to be the minimizer of $\\|\\hat{f}(x; x^{(k)})\\|^2$, the norm squared of the affine approximation of $f$ at $x^{(k)}$. Assuming that the derivative matrix $Df(x^{(k)})$ has **linearly independent columns** (which requires m ≥ n), we have\n",
    "$$\n",
    "x^{(k+1)} = x^{(k)} − \\big( Df(x^{(k)})^T Df(x^{(k)}) \\big)^{−1} Df(x^{(k)})^T f(x^{(k)}).\n",
    "$$\n",
    "\n",
    "\n",
    "The norm of the **residual of the approximation** goes down in each iteration. \n",
    "$$\n",
    "\\|\\hat{f}(x^{(k+1)}; x^{(k)})\\|^2 \\le \\| \\hat{f}(x^{(k)}; x^{(k)})\\|^2 = \\|f(x^{(k)})\\|^2\n",
    "$$\n",
    "This is not the same as \n",
    "$$\n",
    "\\|f(x^{(k+1)})\\|^2 \\le \\|f(x^{(k)})\\|^2\n",
    "$$\n",
    "\n",
    "---\n",
    "**Derivation**\n",
    "$$\n",
    "\\text{minimize} \\ \\|f(x^{(k)}) + Df(x^{(k)})(x − x^{(k)}) \\|^2\n",
    "$$\n",
    "\n",
    "Let $\\tilde{A} = Df(x^{(k)})$, $\\tilde{x} = (x − x^{(k)})$, $b = -f(x^{(k)})$, then use Normal equation $\\hat{x} = (A^T A)^{-1} A^T b$\n",
    "\n",
    "we get\n",
    "$$\n",
    "\\begin{align}\n",
    "x^{(k+1)} - x^{(k)} &= \\big( Df(x^{(k)})^T Df(x^{(k)}) \\big)^{−1} Df(x^{(k)})^T  (-f(x^{(k)})) \\\\\n",
    "x^{(k+1)} &= x^{(k)} − \\big( Df(x^{(k)})^T Df(x^{(k)}) \\big)^{−1} Df(x^{(k)})^T f(x^{(k)})\n",
    "\\end{align}\n",
    "$$"
   ]
  },
  {
   "cell_type": "markdown",
   "metadata": {},
   "source": [
    "**Algorithm** *Basic Gauss–Newton algorithm for nonlinear least squares*\n",
    "\n",
    "**given** a differentiable function $f : \\mathbb{R}^n \\rightarrow \\mathbb{R}^m$, an initial point $x^{(1)}$.\n",
    "\n",
    "For $k = 1, 2, \\ldots , k^{max}$\n",
    "1. Form affine approximation at current iterate using calculus. Evaluate the Jacobian $Df(x^{(k)})$ and define\n",
    "$$\n",
    "f(x; x^{(k)}) = f(x^{(k)}) + Df(x^{(k)})(x − x^{(k)}).\n",
    "$$\n",
    "\n",
    "2. Update iterate using linear least squares. Set $x^{(k+1)}$ as the minimizer of $\\|\\hat{f}(x; x^{(k)})\\|^2$,\n",
    "$$\n",
    "x^{(k+1)} = x^{(k)} − \\big( Df(x^{(k)})^T Df(x^{(k)}) \\big)^{−1} Df(x^{(k)})^T f(x^{(k)}).\n",
    "$$"
   ]
  },
  {
   "cell_type": "markdown",
   "metadata": {},
   "source": [
    "**Shortcomings of the basic Gauss–Newton algorithm**\n",
    "1. **diverge**: when $x^{(k+1)}$ is not near $x^{(k)}$, $\\|f(x^{(k+1)})\\|^2$ and $\\|\\hat{f}(x^{(k+1)}; x^{(k)})\\|^2$ can be very different.\n",
    "2. assume that the columns of the derivative matrix $Df(x(k))$ are linearly independent."
   ]
  },
  {
   "cell_type": "markdown",
   "metadata": {},
   "source": [
    "\"Let’s first implement the basic Gauss-Newton method (algorithm 18.1 in VMLS) in Python. In Python, you can pass a function as an argument to another function, so we can pass `f` (the function) and also `Df` (the derivative or Jacobian matrix) to our Gauss-Newton algorithm.\""
   ]
  },
  {
   "cell_type": "code",
   "execution_count": 2,
   "metadata": {},
   "outputs": [],
   "source": [
    "def gauss_newton(f, Df, x1, kmax=10):\n",
    "    x = x1\n",
    "    for k in range(kmax):\n",
    "        x = x - np.linalg.lstsq(Df(x), f(x))\n",
    "    return x"
   ]
  },
  {
   "cell_type": "markdown",
   "metadata": {},
   "source": [
    "\"Here we simply run the algorithm for a fixed number of iterations `kmax`, specified by an optimal keyword argument with default value 10. The code does not verify whether the final x is actually a solution, and it will break down when $Df(x^{(k)})$ has linearly dependent columns. This very simple implementation is only for illustrative purposes;\n",
    "the Levenberg-Marquardt algorithm described in the next section is better in every way.\""
   ]
  },
  {
   "cell_type": "markdown",
   "metadata": {},
   "source": [
    "## Newton algorithm"
   ]
  },
  {
   "cell_type": "markdown",
   "metadata": {},
   "source": [
    "- For the special case **m = n**, the Gauss–Newton algorithm reduces to the Newton algorithm (Newton-Raphson algorithm).\n",
    "- When m = n, the matrix $Df(x^{(k)})$ is square, so the basic Gauss–Newton update can be simplified to\n",
    "$$\n",
    "\\begin{align}\n",
    "x^{(k+1)} &= x^{(k)} − \\big( Df(x^{(k)})^T Df(x^{(k)}) \\big)^{−1} Df(x^{(k)})^T f(x^{(k)}) \\\\\n",
    "x^{(k+1)} &= x^{(k)} - \\big( Df(x^{(k)}) \\big)^{-1} \\big( Df(x^{(k)})^T \\big)^{-1} Df(x^{(k)})^T f(x^{(k)}) \\\\\n",
    "x^{(k+1)} &= x^{(k)} - \\big( Df(x^{(k)}) \\big)^{-1} f(x^{(k)})\n",
    "\\end{align}\n",
    "$$\n",
    "-  shares the same shortcomings as the basic Gauss–Newton algorithm, i.e., it can diverge, and the iterations terminate if the derivative matrix is not invertible."
   ]
  },
  {
   "cell_type": "markdown",
   "metadata": {},
   "source": [
    "**Algorithm** *Newton algorithm for solving nonlinear equations*\n",
    "\n",
    "**given** a differentiable function $f: \\mathbb{R}^n \\rightarrow \\mathbb{R}^n$, an initial point $x^{(1)}$.\n",
    "\n",
    "For $k = 1, 2, \\ldots, k^{max}$\n",
    "1. Form affine approximation at current iterate. Evaluate the Jacobian $Df(x^{(k)})$ and define\n",
    "$$\n",
    "\\hat{f}(x; x^{(k)}) = f(x^{(k)}) + Df(x^{(k)})(x − x^{(k)}).\n",
    "$$\n",
    "2. Update iterate by solving linear equations. Set $x^{(k+1)}$ as the solution of $\\hat{f}(x; x^{(k)}) = 0$,\n",
    "$$\n",
    "x^{(k+1)} = x^{(k)} − \\big( Df(x^{(k)}) \\big)^{−1} f(x^{(k)})\n",
    "$$"
   ]
  },
  {
   "cell_type": "code",
   "execution_count": 3,
   "metadata": {},
   "outputs": [],
   "source": [
    "def newton(f, Df, x1, kmax=20, tol=1e-6):\n",
    "    x = x1\n",
    "    fnorms = np.zeros((kmax, 1))\n",
    "    for k in range(kmax):\n",
    "        fk = f(x)\n",
    "        fnorms[k] = np.linalg.norm(fk)\n",
    "        if np.linalg.norm(fk) < tol:\n",
    "            break\n",
    "        x = x - np.linalg.lstsq(np.vstack([Df(x)]),\n",
    "                                np.vstack([fk]),\n",
    "                                rcond=None)[0]\n",
    "    return x, fnorms[:min(k+1, kmax)]"
   ]
  },
  {
   "cell_type": "markdown",
   "metadata": {},
   "source": [
    "**Newton algorithm for n = 1**\n",
    "\n",
    "To update $x^{(k)}$ we form the Taylor approximation\n",
    "$$\n",
    "\\hat{f}(x; x^{(k)}) = f(x^{(k)}) + f'(x^{(k)})(x − x^{(k)})\n",
    "$$\n",
    "and set it to zero to find the next iterate $x^{(k+1)}$.\n",
    "\n",
    "If $f'(x^{(k)}) \\ne 0$, the solution of $\\hat{f}(x; x^{(k)}) = 0$ is given by $x^{(k+1)} = x^{(k)} − f(x^{(k)})/f'(x^{(k)}).$\n",
    "\n",
    "If $f'(x^{(k)}) = 0$, the Newton algorithm terminates with an error."
   ]
  },
  {
   "cell_type": "markdown",
   "metadata": {},
   "source": [
    "Our first example is a scalar nonlinear equation $f(x) = 0$ with\n",
    "$$\n",
    "f(x) = \\frac{e^x - e^{-x}}{e^x + e^{-x}}\n",
    "$$"
   ]
  },
  {
   "cell_type": "code",
   "execution_count": 4,
   "metadata": {},
   "outputs": [],
   "source": [
    "f = lambda x: (np.exp(x) - np.exp(-x)) / (np.exp(x) + np.exp(-x))\n",
    "Df = lambda x: 4 / np.power((np.exp(x) + np.exp(-x)), 2)"
   ]
  },
  {
   "cell_type": "markdown",
   "metadata": {},
   "source": [
    "We first try with $x^{(1)} = 0.95$"
   ]
  },
  {
   "cell_type": "code",
   "execution_count": 5,
   "metadata": {},
   "outputs": [
    {
     "data": {
      "text/plain": [
       "array([[4.34519743e-07]])"
      ]
     },
     "execution_count": 5,
     "metadata": {},
     "output_type": "execute_result"
    }
   ],
   "source": [
    "x, fnorms = newton(f, Df, 0.95)\n",
    "f(x)"
   ]
  },
  {
   "cell_type": "code",
   "execution_count": 6,
   "metadata": {},
   "outputs": [
    {
     "data": {
      "text/plain": [
       "array([[7.39783051e-01],\n",
       "       [5.94166364e-01],\n",
       "       [2.30111246e-01],\n",
       "       [8.67002865e-03],\n",
       "       [4.34519743e-07]])"
      ]
     },
     "execution_count": 6,
     "metadata": {},
     "output_type": "execute_result"
    }
   ],
   "source": [
    "fnorms"
   ]
  },
  {
   "cell_type": "code",
   "execution_count": 7,
   "metadata": {},
   "outputs": [
    {
     "data": {
      "image/png": "[encoded data removed]",
      "text/plain": [
       "<Figure size 432x288 with 1 Axes>"
      ]
     },
     "metadata": {
      "needs_background": "light"
     },
     "output_type": "display_data"
    }
   ],
   "source": [
    "plt.plot(np.arange(1, fnorms.size + 1), fnorms, 'o-')\n",
    "plt.xlabel('k')\n",
    "plt.ylabel('|f|')\n",
    "plt.show()"
   ]
  },
  {
   "cell_type": "markdown",
   "metadata": {},
   "source": [
    "The method converges very quickly, as shown in above figure. However it does not converge for a slightly larger starting point $x^{(1)} = 1.15$."
   ]
  },
  {
   "cell_type": "code",
   "execution_count": 8,
   "metadata": {},
   "outputs": [
    {
     "name": "stderr",
     "output_type": "stream",
     "text": [
      "D:\\Devtools\\anaconda3\\lib\\site-packages\\ipykernel_launcher.py:1: RuntimeWarning: overflow encountered in exp\n",
      "  \"\"\"Entry point for launching an IPython kernel.\n",
      "D:\\Devtools\\anaconda3\\lib\\site-packages\\ipykernel_launcher.py:1: RuntimeWarning: invalid value encountered in true_divide\n",
      "  \"\"\"Entry point for launching an IPython kernel.\n",
      "D:\\Devtools\\anaconda3\\lib\\site-packages\\ipykernel_launcher.py:2: RuntimeWarning: overflow encountered in exp\n",
      "  \n"
     ]
    },
    {
     "data": {
      "text/plain": [
       "array([[nan]])"
      ]
     },
     "execution_count": 8,
     "metadata": {},
     "output_type": "execute_result"
    }
   ],
   "source": [
    "x, fnorms = newton(f, Df, 1.15)\n",
    "f(x)"
   ]
  },
  {
   "cell_type": "code",
   "execution_count": 9,
   "metadata": {},
   "outputs": [
    {
     "data": {
      "text/plain": [
       "array([[0.81775408],\n",
       "       [0.86640565],\n",
       "       [0.97355685],\n",
       "       [1.        ],\n",
       "       [       nan]])"
      ]
     },
     "execution_count": 9,
     "metadata": {},
     "output_type": "execute_result"
    }
   ],
   "source": [
    "fnorms[:5]"
   ]
  },
  {
   "cell_type": "markdown",
   "metadata": {},
   "source": [
    "# 18.3 Levenberg–Marquardt algorithm"
   ]
  },
  {
   "cell_type": "markdown",
   "metadata": {},
   "source": [
    "In order to overcome the divergence when searching for $x^{(k+1)}$, we adjust the objective function to two objectives:\n",
    "$$\n",
    "\\|\\hat{f}(x; x^{(k)})\\|^2 + \\lambda^{(k)} \\|x − x^{(k)}\\|^2, \\\\\n",
    "\\text{where} \\ \\lambda^{(k)} > 0, \\ \\hat{f}(x; x^{(k)}) = f(x^{(k)}) + Df(x^{(k)})(x − x^{(k)})\n",
    "$$\n",
    "- The first objective is an approximation of what we really want to minimize; the second objective expresses the idea that we should not move so far that we cannot trust the affine approximation.\n",
    "- The second term is sometimes called a *trust penalty term*, since it penalizes choices of $x$ that are far from $x^{(k)}$\n",
    ", where we cannot trust the affine approximation.\n",
    "- The parameter $\\lambda^{(k)}$ is sometimes called the *trust parameter*\n",
    "- equivalent to minimizing\n",
    "$$\n",
    "\\Bigg\\|\n",
    "\\begin{bmatrix}\n",
    "  Df(x^{(k)}) \\\\\n",
    "  \\sqrt{\\lambda^{(k)}}I\n",
    "\\end{bmatrix} x\n",
    "- \\begin{bmatrix}\n",
    "  Df(x^{k})x^{(k)} - f(x^{(k)}) \\\\\n",
    "  \\sqrt{\\lambda^{(k)}} x^{(k)}\n",
    "\\end{bmatrix}\n",
    "\\Bigg\\|^2\n",
    "$$\n",
    "Since $λ^{(k)}>0$, the stacked matrix in this least squares problem has **linearly independent columns**, even when $Df(x^{(k)})$ does not. It follows that the solution of the least squares problem **exists** and is **unique**.\n",
    "- derive solution from normal equation\n",
    "$$\n",
    "\\begin{align}\n",
    "&(Df(x^{(k)})^T Df(x^{(k)}) + \\lambda^{(k)} I) x^{(k+1)} \\\\\n",
    "&= Df(x^{(k)})^T ( Df(x^{k})x^{(k)} - f(x^{(k)}) ) + \\lambda^{(k)} x^{(k)} \\\\\n",
    "&= ( Df(x^{(k)})^T Df(x^{(k)}) + \\lambda^{(k)}I ) x^{(k)} − Df(x^{(k)})^T f(x^{(k)})\n",
    "\\end{align}\n",
    "$$\n",
    "$$\n",
    "x^{(k+1)} = x^{(k)} − (Df(x^{(k)})^T Df(x^{(k)}) + \\lambda^{(k)} I)^{-1} Df(x^{(k)})^T f(x^{(k)})\n",
    "$$\n",
    "- $x^{(k+1)} = x^{(k)}$ only if $2 Df(x^{(k)})^T f(x^{(k)}) = 0$, i.e., optimality condition holds"
   ]
  },
  {
   "cell_type": "markdown",
   "metadata": {},
   "source": [
    "**Algorithm** Levenberg–Marquardt algorithm for nonlinear least squares\n",
    "\n",
    "**given** a differentiable function $f : \\mathbb{R}^n \\rightarrow \\mathbb{R}^m$, an initial point $x$^{(1)}, an initial trust parameter $\\lambda^{(1)} > 0$.\n",
    "\n",
    "For $k = 1, 2, \\ldots , k^{max}$\n",
    "\n",
    "1. *Form affine approximation at current iterate.* Evaluate the Jacobian $Df(x^{(k)})$ and define\n",
    "$$\n",
    "\\hat{f}(x; x^{(k)}) = f(x^{(k)}) + Df(x^{(k)})(x − x^{(k)}).\n",
    "$$\n",
    "2. *Compute tentative iterate.* Set $x^{(k+1)}$ as minimizer of\n",
    "$$\n",
    "\\|\\hat{f}(x; x^{(k)})\\|^2 + \\lambda^{(k)} \\|x − x^{(k)}\\|^2.\n",
    "$$\n",
    "3. *Check tentative iterate.*\n",
    "\n",
    "    If $\\|f(x^{(k+1)})\\|^2 < \\|f(x^{(k)})\\|^2$, accept iterate and reduce $\\lambda$: $\\lambda^{(k+1)} = 0.8 \\lambda{(k)}$.\n",
    "    \n",
    "    Otherwise, increase $\\lambda$ and do not update $x$: $\\lambda^{(k+1)} = 2\\lambda^{(k)}$ and $x^{(k+1)} = x^{(k)}$."
   ]
  },
  {
   "cell_type": "markdown",
   "metadata": {},
   "source": [
    "**Stopping criteria**\n",
    "- *Small residual*: $\\|f(x^{(k+1)})\\|^2$ is small enough. This means we have (almost) solved the equations $f(x) = 0$, and therefore (almost) minimized $\\|f(x)\\|^2$.\n",
    "- *Small optimality condition residual*: $\\|2Df(\\hat{x})^T f(\\hat{x})\\|$ is small enough, i.e., the optimality condition almost holds.\n",
    "\n",
    "**Levenberg–Marquardt update for n = 1**\n",
    "$$\n",
    "x^{(k+1)} = x^{(k)} − \\frac{f'(x^{(k)})} {\\lambda^{(k)} + (f'(x^{(k)}))^2} f(x^{(k)})\n",
    "$$"
   ]
  },
  {
   "cell_type": "code",
   "execution_count": 10,
   "metadata": {},
   "outputs": [],
   "source": [
    "def levenberg_marquardt(f, Df, x1, lambda1, kmax=100, tol=1e-6):\n",
    "    n = len(x1)\n",
    "    x = x1\n",
    "    lambda_ = lambda1\n",
    "    objectives = np.zeros((kmax, 1))\n",
    "    residuals = np.zeros((kmax, 1))\n",
    "    for k in range(kmax):\n",
    "        fk = f(x)\n",
    "        Dfk = Df(x)\n",
    "        objectives[k] = np.linalg.norm(fk) ** 2\n",
    "        residuals[k] = np.linalg.norm(2 * Dfk.T @ fk)\n",
    "        if np.linalg.norm(2 * Dfk.T @ fk) < tol:\n",
    "            break\n",
    "        xt = x - np.linalg.lstsq(np.vstack([Dfk, np.sqrt(lambda_) * np.eye(n)]),\n",
    "                                 np.vstack([fk, np.zeros((n, 1))]),\n",
    "                                 rcond=None)[0]\n",
    "        if np.linalg.norm(f(xt)) < np.linalg.norm(fk):\n",
    "            lambda_ = 0.8 * lambda_\n",
    "            x = xt\n",
    "        else:\n",
    "            lambda_ = 2 * lambda_\n",
    "    return x, {\"objectives\": objectives[:min(k+1, kmax)], \"residuals\": residuals[:min(k+1, kmax)]}"
   ]
  },
  {
   "cell_type": "markdown",
   "metadata": {},
   "source": [
    "**Nonlinear equation** We apply the algorithm to the scalar function\n",
    "$$\n",
    "f(x) = \\frac{e^x - e^{-x}}{e^x + e^{-x}}\n",
    "$$\n",
    "with the starting point $x^{(1)} = 1.15$."
   ]
  },
  {
   "cell_type": "code",
   "execution_count": 11,
   "metadata": {},
   "outputs": [
    {
     "data": {
      "image/png": "[encoded data removed]",
      "text/plain": [
       "<Figure size 432x288 with 1 Axes>"
      ]
     },
     "metadata": {
      "needs_background": "light"
     },
     "output_type": "display_data"
    }
   ],
   "source": [
    "f = lambda x: (np.exp(x) - np.exp(-x)) / (np.exp(x) + np.exp(-x))\n",
    "Df = lambda x: 4 / np.power((np.exp(x) + np.exp(-x)), 2)\n",
    "x, history = levenberg_marquardt(f, Df, np.array([1.15]), 1.0)\n",
    "plt.plot(np.sqrt(history['objectives'][1:10]), 'o-')\n",
    "plt.xlabel('k')\n",
    "plt.ylabel('|f|')\n",
    "plt.show()"
   ]
  },
  {
   "cell_type": "markdown",
   "metadata": {},
   "source": [
    "**Equilibrium prices.** We solve a nonlinear equation $f(p) = 0$ with two variables, where \n",
    "$$\n",
    "f(p) = exp(E^s log(p) + s^{nom}) − exp(E^d log(p) + d^{nom}).\n",
    "$$\n",
    "Here `exp` and `log` are interpreted as *element-wise* vector operations. The problem parameters are $s^{nom} = (2.2, 0.3),\\ d^{nom} = (3.1, 2.2)$,\n",
    "$$\n",
    "E^s = \\begin{bmatrix}\n",
    "0.5 & −0.3 \\\\\n",
    "-0.15 & 0.8 \\\\\n",
    "\\end{bmatrix}, \\quad\n",
    "E^d = \\begin{bmatrix}\n",
    "-0.5 & 0.2 \\\\\n",
    "0 & -0.5 \\\\\n",
    "\\end{bmatrix}\n",
    "$$"
   ]
  },
  {
   "cell_type": "code",
   "execution_count": 12,
   "metadata": {},
   "outputs": [
    {
     "data": {
      "text/plain": [
       "array([[5.64410853],\n",
       "       [5.26575493]])"
      ]
     },
     "execution_count": 12,
     "metadata": {},
     "output_type": "execute_result"
    }
   ],
   "source": [
    "snom = np.vstack([2.2, 0.3])\n",
    "dnom = np.vstack([3.1, 2.2])\n",
    "Es = np.array([[0.5, -0.3],\n",
    "               [-0.15, 0.8]])\n",
    "Ed = np.array([[-0.5, 0.2],\n",
    "               [0,-0.5]])\n",
    "f = lambda p: (np.exp(Es @ np.log(p) + snom) - np.exp(Ed @ np.log(p) + dnom))\n",
    "\n",
    "def Df(p):\n",
    "    S = np.exp(Es @ np.log(p) + snom)\n",
    "    D = np.exp(Ed @ np.log(p) + dnom)\n",
    "    dS = np.block([[S[0] * Es[0,0]/p[0], S[0] * Es[0,1]/p[1]],\n",
    "                   [S[1] * Es[1,0]/p[0], S[1] * Es[1,1]/p[1]]])\n",
    "    dD = np.block([[D[0] * Ed[0,0]/p[0], D[0] * Ed[0,1]/p[1]],\n",
    "                   [D[1] * Ed[1,0]/p[0], D[1] * Ed[1,1]/p[1]]])\n",
    "    return dS - dD\n",
    "\n",
    "p, history = levenberg_marquardt(f, Df, np.vstack([3, 9]), 1)\n",
    "p"
   ]
  },
  {
   "cell_type": "code",
   "execution_count": 13,
   "metadata": {},
   "outputs": [
    {
     "data": {
      "image/png": "[encoded data removed]",
      "text/plain": [
       "<Figure size 432x288 with 1 Axes>"
      ]
     },
     "metadata": {
      "needs_background": "light"
     },
     "output_type": "display_data"
    }
   ],
   "source": [
    "plt.plot(history['objectives'], 'o-')\n",
    "plt.xlabel('k')\n",
    "plt.ylabel('Objective')\n",
    "plt.show()"
   ]
  },
  {
   "cell_type": "code",
   "execution_count": 14,
   "metadata": {},
   "outputs": [
    {
     "data": {
      "text/plain": [
       "array([[5.37995848],\n",
       "       [4.9963496 ]])"
      ]
     },
     "execution_count": 14,
     "metadata": {},
     "output_type": "execute_result"
    }
   ],
   "source": [
    "np.vstack([5.379958476145877, 4.996349602562754])"
   ]
  },
  {
   "cell_type": "markdown",
   "metadata": {},
   "source": [
    "**Location from range measurements.** The positions of the m = 5 points $a_i$ are given as rows in a 5 × 2 matrix `A`. The measurements are given in a 5-vector `rhos`. To simplify the code for the functions `f(x)` and `Df(x)` we add a function `dist(x)` that computes the vector of distances $(\\|x − a_1\\|, \\ldots, \\|x − a_m\\|)$. The expression for the derivative is\n",
    "$$\n",
    "Df(x) = \\begin{bmatrix}\n",
    "\\frac{x_1 − (a_1)_1}{\\|x − a_1\\|} & \\frac{x_2 − (a_1)_2}{\\|x − a_1\\|} \\\\\n",
    "\\vdots & \\vdots \\\\\n",
    "\\frac{x_1 − (a_m)_1}{\\|x − a_m\\|} & \\frac{x_2 − (a_m)_2}{\\|x − a_m\\|}\n",
    "\\end{bmatrix}\n",
    "$$\n",
    "They can be evaluated as the product of a diagonal matrix with diagonal entries $1/\\|x − a_i\\|$ and the 5 × 2 matrix with i, j entry $(x − a_i)_j$."
   ]
  },
  {
   "cell_type": "code",
   "execution_count": 15,
   "metadata": {},
   "outputs": [],
   "source": [
    "# Five locations ai in a 5 by 2 matrix\n",
    "A = np.array([[1.8, 2.5],\n",
    "              [2.0, 1.7],\n",
    "              [1.5, 1.5],\n",
    "              [1.5, 2.0],\n",
    "              [2.5, 1.5]])\n",
    "# Vector of measured distances to five locations.\n",
    "rhos = np.vstack([1.87288, 1.23950, 0.53672, 1.29273, 1.49353])\n",
    "# dist(x) returns a 5-vector with the distances ||x-ai||.\n",
    "dist = lambda x: np.vstack(np.sqrt(np.power((x[0] - A[:,0]), 2) + np.power((x[1] - A[:,1]), 2)))\n",
    "# f(x) returns the five residuals.\n",
    "f = lambda x: dist(x) - rhos\n",
    "# Df(x) is the 5 by 2 derivative.\n",
    "Df = lambda x: np.diag(1 / dist(x).T[0]) @ np.vstack([(x[0] - A[:, 0]), (x[1] - A[:,1])]).T"
   ]
  },
  {
   "cell_type": "code",
   "execution_count": 16,
   "metadata": {},
   "outputs": [
    {
     "name": "stdout",
     "output_type": "stream",
     "text": [
      "[[1.18248598]\n",
      " [0.82422894]]\n"
     ]
    }
   ],
   "source": [
    "# Solve with starting point (1.8, 3.5) and lambda = 0.1\n",
    "x1, history1 = levenberg_marquardt(f, Df, np.vstack([1.8, 3.5]).reshape(2,1), 0.1)\n",
    "print(x1)"
   ]
  },
  {
   "cell_type": "code",
   "execution_count": 17,
   "metadata": {},
   "outputs": [
    {
     "name": "stdout",
     "output_type": "stream",
     "text": [
      "[[1.18248579]\n",
      " [0.82422895]]\n"
     ]
    }
   ],
   "source": [
    "# Starting point (3.0, 1.5)\n",
    "x2, history2 = levenberg_marquardt(f, Df, np.vstack([3.0, 1.5]), 0.1)\n",
    "print(x2)"
   ]
  },
  {
   "cell_type": "code",
   "execution_count": 18,
   "metadata": {},
   "outputs": [
    {
     "name": "stdout",
     "output_type": "stream",
     "text": [
      "[[2.98526641]\n",
      " [2.1215768 ]]\n"
     ]
    }
   ],
   "source": [
    "# Starting point (2.2, 3.5)\n",
    "x3, history3 = levenberg_marquardt(f, Df, np.vstack([2.2, 3.5]), 0.1)\n",
    "print(x3)"
   ]
  },
  {
   "cell_type": "code",
   "execution_count": 19,
   "metadata": {},
   "outputs": [
    {
     "data": {
      "image/png": "[encoded data removed]",
      "text/plain": [
       "<Figure size 432x288 with 1 Axes>"
      ]
     },
     "metadata": {
      "needs_background": "light"
     },
     "output_type": "display_data"
    }
   ],
   "source": [
    "plt.plot(history1['objectives'][:10],'bo-')\n",
    "plt.plot(history2['objectives'][:10],'ro-')\n",
    "plt.plot(history3['objectives'][:10],'go-')\n",
    "plt.legend(['Starting point 1','Starting point 2','Starting point 3'])\n",
    "plt.xlabel('k')\n",
    "plt.ylabel('Objective')\n",
    "plt.show()"
   ]
  },
  {
   "cell_type": "markdown",
   "metadata": {},
   "source": [
    "# 18.4 Nonlinear model fitting"
   ]
  },
  {
   "cell_type": "markdown",
   "metadata": {},
   "source": [
    "$$\n",
    "\\text{minimize} \\quad \\sum^N_{i=1} (\\hat{f}(x^{(i)}; \\theta) − y^{(i)})^2\n",
    "$$\n",
    "\n",
    "- $x^{(1)}, \\ldots, x^{(N)}$ are feature vectors\n",
    "- $y^{(1)}, \\ldots, y^{(N)}$ are associated outcomes\n",
    "- model $\\hat{f}(x; \\theta)$ is parameterized by parameters $\\theta_1, \\ldots, \\theta_p$\n",
    "- this generalizes the *linear* in parameters model\n",
    "$$\n",
    "\\hat{f}(x; \\theta) = \\theta_1f_1(x) + \\cdots + \\theta_pf_p(x)\n",
    "$$\n",
    "- here we allow $\\hat{f}(x; \\theta)$ to be a *nonlinear* function of $\\theta$ (so it does not have the simple form of a linear combination of p basis functions)\n",
    "- the minimization is over the model parameters $\\theta$"
   ]
  },
  {
   "cell_type": "markdown",
   "metadata": {},
   "source": [
    "**Example.** We fit a model\n",
    "$$\n",
    "f(x; \\theta) = \\theta_1 e^{\\theta_2 x} cos(\\theta_3 x + \\theta_4)\n",
    "$$\n",
    "to N = 60 data points. We first generate the data."
   ]
  },
  {
   "cell_type": "code",
   "execution_count": 20,
   "metadata": {},
   "outputs": [
    {
     "data": {
      "image/png": "[encoded data removed]",
      "text/plain": [
       "<Figure size 432x288 with 1 Axes>"
      ]
     },
     "metadata": {
      "needs_background": "light"
     },
     "output_type": "display_data"
    }
   ],
   "source": [
    "# Use these parameters to generate data\n",
    "theta_ex = np.vstack([1, -0.2, 2*np.pi/5, np.pi/3])\n",
    "# Choose 60 points x between 0 and 20.\n",
    "M = 30\n",
    "xd = np.vstack([5 * np.random.random((M, 1)),\n",
    "                5 + 15 * np.random.random((M, 1))])\n",
    "# Evaluate function at these points.\n",
    "yd = theta_ex[0] * np.exp(theta_ex[1] * xd) * np.cos(theta_ex[2] * xd + theta_ex[3])\n",
    "# Create a random perturbation of yd\n",
    "N = len(xd)\n",
    "yd = yd * (1 + 0.2 * np.random.randn(N, 1)) + 0.015 * np.random.randn(N, 1)\n",
    "\n",
    "plt.scatter(xd, yd)\n",
    "plt.show()"
   ]
  },
  {
   "cell_type": "markdown",
   "metadata": {},
   "source": [
    "We now run our Levenberg-Marquardt code with starting point $\\theta^{(1)} = (1, 0, 1, 0)$ and $\\lambda^{(1)} = 1$."
   ]
  },
  {
   "cell_type": "code",
   "execution_count": 21,
   "metadata": {},
   "outputs": [],
   "source": [
    "f = lambda theta: theta[0] * np.exp(theta[1]*xd) * np.cos(theta[2] * xd + theta[3]) - yd\n",
    "Df = lambda theta: np.hstack([\n",
    "    np.exp(theta[1]*xd) * np.cos(theta[2] * xd + theta[3]), \n",
    "    theta[0] * (xd * np.exp(theta[1] * xd) * np.cos(theta[2] * xd + theta[3])),\n",
    "    -theta[0] * (np.exp(theta[1] * xd) * xd * np.sin(theta[2] * xd + theta[3])),\n",
    "    -theta[0] * (np.exp(theta[1]*xd) * np.sin(theta[2] * xd + theta[3]))\n",
    "])\n",
    "\n",
    "theta1 = np.vstack([1, 0, 1, 0])\n",
    "theta, history = levenberg_marquardt(f, Df, theta1, 1.0)\n",
    "x = np.linspace(0,20,500)\n",
    "y = theta[0]*np.exp(theta[1]*x) * np.cos(theta[2]*x + theta[3])"
   ]
  },
  {
   "cell_type": "code",
   "execution_count": 22,
   "metadata": {},
   "outputs": [
    {
     "name": "stdout",
     "output_type": "stream",
     "text": [
      "[[ 1.        ]\n",
      " [-0.2       ]\n",
      " [ 1.25663706]\n",
      " [ 1.04719755]]\n",
      "[[ 1.09347824]\n",
      " [-0.2232722 ]\n",
      " [ 1.25915825]\n",
      " [ 1.0366524 ]]\n"
     ]
    },
    {
     "data": {
      "image/png": "[encoded data removed]",
      "text/plain": [
       "<Figure size 432x288 with 1 Axes>"
      ]
     },
     "metadata": {
      "needs_background": "light"
     },
     "output_type": "display_data"
    }
   ],
   "source": [
    "print(theta_ex)\n",
    "print(theta)\n",
    "\n",
    "plt.scatter(xd, yd)\n",
    "plt.plot(x, y, 'r')\n",
    "plt.show()"
   ]
  },
  {
   "cell_type": "markdown",
   "metadata": {},
   "source": [
    "**Orthogonal distance regression**\n",
    "$$\n",
    "\\text{minimize} \\sum^N_{i=1} \\big( (\\hat{f}(u^{(i)}; \\theta) − y^{(i)})^2 + \\|u^{(i)} − x^{(i)}\\|^2 \\big)\n",
    "$$\n",
    "- optimization variables are model parameters $\\theta$ and N points $u^(i)$\n",
    "- ith term is squared distance of data point $(x^{(i)},y^{(i)})$ to point $(u^{(i)}, \\hat{f}(u^{(i)}, \\theta))$\n",
    "$$\n",
    "d^2_i = (\\hat{f}(u^{(i)}; \\theta) − y^{(i)})^2 + \\|u^{(i)} − x^{(i)}\\|^2\n",
    "$$\n",
    "- minimizing over $u^{(i)}$ gives squared distance of $(x^{(i)},y^{(i)})$ to graph\n",
    "- minimizing over $u^{(1)}, \\ldots, u^{(N)}$ and $\\theta$ minimizes the sum square distance"
   ]
  },
  {
   "cell_type": "markdown",
   "metadata": {},
   "source": [
    "use orthogonal distance regression to fit a cubic polynomial\n",
    "$$\n",
    "\\hat{f}(x; \\theta) = \\theta_1 + \\theta_2 x + \\theta_3 x^2 + \\theta_4 x^3\n",
    "$$\n",
    "to N = 25 data points.\n",
    "\n",
    "We first read in the data and compute the standard least squares fit."
   ]
  },
  {
   "cell_type": "code",
   "execution_count": 23,
   "metadata": {},
   "outputs": [
    {
     "data": {
      "text/plain": [
       "array([[ 0.3275608 ],\n",
       "       [-4.39266681],\n",
       "       [11.0469174 ],\n",
       "       [-7.09439643]])"
      ]
     },
     "execution_count": 23,
     "metadata": {},
     "output_type": "execute_result"
    }
   ],
   "source": [
    "xd, yd = orth_dist_reg_data() # 2 vectors of length N = 25\n",
    "N = len(xd)\n",
    "p = 4\n",
    "theta_ls = np.linalg.lstsq(np.vander(xd.ravel(), p, increasing=True), yd, rcond=None)[0]\n",
    "theta_ls"
   ]
  },
  {
   "cell_type": "markdown",
   "metadata": {},
   "source": [
    "The nonlinear least squares formulation on page 400 of VMLS has p + N variables $\\theta_1, \\ldots, \\theta_p$, $u^{(1)}, \\ldots, u^{(N)}$. We will store them in that order in the nonlinear least squares vector variable. The objective is to minimize the squared norm of the 2N-vector\n",
    "$$\n",
    "\\begin{bmatrix}\n",
    "  \\hat{f}(u^{(1)}; \\theta) − y^{(1)} \\\\\n",
    "  \\vdots \\\\\n",
    "  \\hat{f}(u^{(N)}; \\theta) − y^{(N)} \\\\\n",
    "  u^{(1)} − x^{(1)} \\\\\n",
    "  \\vdots \\\\\n",
    "  u^{(N)} − x^{(N)} \\\\\n",
    "\\end{bmatrix}\n",
    "$$"
   ]
  },
  {
   "cell_type": "code",
   "execution_count": 24,
   "metadata": {},
   "outputs": [],
   "source": [
    "def f(x):\n",
    "    theta = x[:p]\n",
    "    u = x[p:]\n",
    "    f1 = np.vander(u.ravel(), p, increasing=True) @ theta - yd\n",
    "    f2 = u - xd\n",
    "    return np.vstack([f1, f2])\n",
    "\n",
    "def Df(x):\n",
    "    theta = x[:p]\n",
    "    u = x[p:]\n",
    "    D11 = np.vander(u.ravel(), p, increasing=True)\n",
    "    D12 = np.diag(theta[1] + 2*theta[2]*u.T[0] + 3*theta[3]*u.T[0]**2)\n",
    "    D21 = np.zeros((N, p))\n",
    "    D22 = np.eye(N)\n",
    "    return np.block([[D11, D12], [D21, D22]])"
   ]
  },
  {
   "cell_type": "markdown",
   "metadata": {},
   "source": [
    "We now call `levenberg_marquardt` function with these two functions. A natural choice for the initial points is to use the least squares solution for the variables $\\theta$ and the data points $x^{(i)}$ for the variables $u^{(i)}$. We use $\\lambda^{(1)} = 0.01$"
   ]
  },
  {
   "cell_type": "code",
   "execution_count": 25,
   "metadata": {},
   "outputs": [],
   "source": [
    "sol, hist = levenberg_marquardt(f, Df, np.vstack([theta_ls, xd]), 0.01)\n",
    "theta_od = sol[:p]"
   ]
  },
  {
   "cell_type": "code",
   "execution_count": 26,
   "metadata": {},
   "outputs": [
    {
     "data": {
      "image/png": "[encoded data removed]",
      "text/plain": [
       "<Figure size 432x288 with 1 Axes>"
      ]
     },
     "metadata": {
      "needs_background": "light"
     },
     "output_type": "display_data"
    }
   ],
   "source": [
    "plt.scatter(xd, yd)\n",
    "x = np.linspace(min(xd), max(xd), 500)\n",
    "y_ls = np.vander(x.ravel(), p, increasing=True) @ theta_ls\n",
    "y_od = np.vander(x.ravel(), p, increasing=True) @ theta_od\n",
    "plt.plot(x, y_ls)\n",
    "plt.plot(x, y_od)\n",
    "plt.legend(['LS', 'Orth. dist.'])\n",
    "plt.show()"
   ]
  },
  {
   "cell_type": "markdown",
   "metadata": {},
   "source": [
    "# Nonlinear least squares classification"
   ]
  },
  {
   "cell_type": "markdown",
   "metadata": {},
   "source": [
    "linear least squares classifier:\n",
    "- classifier is $\\hat{f}(x) = \\mathbf{sign}(\\tilde{f}(x))$ where $\\tilde{f}(x) = \\theta_1f_1(x) + \\cdots + \\theta_pf_p(x)$\n",
    "- $\\theta$ is chosen by minimizing $\\sum^N_{i=1}(\\tilde{f}(x_i) − y_i)^2$ (plus optionally regularization)\n",
    "\n",
    "nonlinear least squares classifier:\n",
    "- choose $\\theta$ to minimize\n",
    "$$\n",
    "\\sum^N_{i=1}(\\mathbf{sign}(\\tilde{f} (x_i)) − y_i)^2 = 4 \\times \\text{number of errors}\n",
    "$$\n",
    "- replace $\\mathbf{sign}$ function with smooth approximation $\\phi$, e.g., sigmoid function\n",
    "- use Levenberg–Marquardt to minimize $\\sum^N_{i=1}(\\phi(\\tilde{f} (x_i)) − y_i)^2$"
   ]
  }
 ],
 "metadata": {
  "kernelspec": {
   "display_name": "Python 3",
   "language": "python",
   "name": "python3"
  },
  "language_info": {
   "codemirror_mode": {
    "name": "ipython",
    "version": 3
   },
   "file_extension": ".py",
   "mimetype": "text/x-python",
   "name": "python",
   "nbconvert_exporter": "python",
   "pygments_lexer": "ipython3",
   "version": "3.7.6"
  }
 },
 "nbformat": 4,
 "nbformat_minor": 4
}
