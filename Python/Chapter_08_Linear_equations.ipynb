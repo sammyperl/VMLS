{
 "cells": [
  {
   "cell_type": "code",
   "execution_count": 1,
   "metadata": {},
   "outputs": [],
   "source": [
    "import numpy as np\n",
    "from dataset import house_sales_data"
   ]
  },
  {
   "cell_type": "markdown",
   "metadata": {},
   "source": [
    "# 8.1 Linear and affine functions"
   ]
  },
  {
   "cell_type": "markdown",
   "metadata": {},
   "source": [
    "## Matrix-vector product function"
   ]
  },
  {
   "cell_type": "markdown",
   "metadata": {},
   "source": [
    "Let’s define an instance of the matrix-vector product function, and then numerically check that superposition holds."
   ]
  },
  {
   "cell_type": "code",
   "execution_count": 2,
   "metadata": {},
   "outputs": [
    {
     "name": "stdout",
     "output_type": "stream",
     "text": [
      "LHS: [ 9.47 16.75]\n",
      "RHS: [ 9.47 16.75]\n",
      "1.7763568394002505e-15\n"
     ]
    }
   ],
   "source": [
    "A = np.array([[-0.1, 2.8, -1.6],\n",
    "              [2.3, -0.6, -3.6]])  # 2 by 3 matrix A\n",
    "f = lambda x: A @ x\n",
    "\n",
    "# Let's check superposition\n",
    "x = np.array([1, 2, 3])\n",
    "y = np.array([-3, -1, 2])\n",
    "alpha = 0.5\n",
    "beta = -1.6\n",
    "LHS = f(alpha*x + beta*y)\n",
    "print('LHS:', LHS)\n",
    "RHS = alpha*f(x) + beta*f(y)\n",
    "print('RHS:', RHS)\n",
    "print(np.linalg.norm(LHS - RHS))"
   ]
  },
  {
   "cell_type": "code",
   "execution_count": 3,
   "metadata": {},
   "outputs": [
    {
     "data": {
      "text/plain": [
       "array([ 2.8, -0.6])"
      ]
     },
     "execution_count": 3,
     "metadata": {},
     "output_type": "execute_result"
    }
   ],
   "source": [
    "f(np.array([0, 1, 0]))  # Should be second column of A"
   ]
  },
  {
   "cell_type": "markdown",
   "metadata": {},
   "source": [
    "## De-meaning matrix"
   ]
  },
  {
   "cell_type": "code",
   "execution_count": 4,
   "metadata": {},
   "outputs": [
    {
     "data": {
      "text/plain": [
       "array([-0.96666667,  1.13333333, -0.16666667])"
      ]
     },
     "execution_count": 4,
     "metadata": {},
     "output_type": "execute_result"
    }
   ],
   "source": [
    "de_mean = lambda n: np.identity(n) - (1/n)\n",
    "x = np.array([0.2, 2.3, 1.0])\n",
    "de_mean(len(x)) @ x #De-mean using matrix multiplication"
   ]
  },
  {
   "cell_type": "code",
   "execution_count": 5,
   "metadata": {},
   "outputs": [
    {
     "data": {
      "text/plain": [
       "array([-0.96666667,  1.13333333, -0.16666667])"
      ]
     },
     "execution_count": 5,
     "metadata": {},
     "output_type": "execute_result"
    }
   ],
   "source": [
    "x - sum(x)/len(x)"
   ]
  },
  {
   "cell_type": "code",
   "execution_count": 6,
   "metadata": {},
   "outputs": [
    {
     "data": {
      "text/plain": [
       "array([-0.96666667,  1.13333333, -0.16666667])"
      ]
     },
     "execution_count": 6,
     "metadata": {},
     "output_type": "execute_result"
    }
   ],
   "source": [
    "x - np.mean(x)"
   ]
  },
  {
   "cell_type": "markdown",
   "metadata": {},
   "source": [
    "## Examples of functions that are not linear"
   ]
  },
  {
   "cell_type": "markdown",
   "metadata": {},
   "source": [
    "The componentwise absolute value and the sort function are examples of nonlinear functions."
   ]
  },
  {
   "cell_type": "code",
   "execution_count": 7,
   "metadata": {},
   "outputs": [
    {
     "data": {
      "text/plain": [
       "array([1, 2])"
      ]
     },
     "execution_count": 7,
     "metadata": {},
     "output_type": "execute_result"
    }
   ],
   "source": [
    "f = lambda x: abs(x)  # componentwise absolute value\n",
    "x = np.array([1, 0])\n",
    "y = np.array([0, 1])\n",
    "alpha = -1\n",
    "beta = 2\n",
    "f(alpha*x + beta*y)"
   ]
  },
  {
   "cell_type": "code",
   "execution_count": 8,
   "metadata": {},
   "outputs": [
    {
     "data": {
      "text/plain": [
       "array([-1,  2])"
      ]
     },
     "execution_count": 8,
     "metadata": {},
     "output_type": "execute_result"
    }
   ],
   "source": [
    "alpha*f(x) + beta*f(y)"
   ]
  },
  {
   "cell_type": "code",
   "execution_count": 9,
   "metadata": {},
   "outputs": [
    {
     "data": {
      "text/plain": [
       "array([ 2, -1])"
      ]
     },
     "execution_count": 9,
     "metadata": {},
     "output_type": "execute_result"
    }
   ],
   "source": [
    "f = lambda x: np.array(sorted(x, reverse = True))\n",
    "f(alpha*x + beta*y)"
   ]
  },
  {
   "cell_type": "code",
   "execution_count": 10,
   "metadata": {},
   "outputs": [
    {
     "data": {
      "text/plain": [
       "array([1, 0])"
      ]
     },
     "execution_count": 10,
     "metadata": {},
     "output_type": "execute_result"
    }
   ],
   "source": [
    "alpha*f(x) + beta*f(y)"
   ]
  },
  {
   "cell_type": "markdown",
   "metadata": {},
   "source": [
    "## Affine functions"
   ]
  },
  {
   "cell_type": "code",
   "execution_count": 11,
   "metadata": {},
   "outputs": [
    {
     "data": {
      "text/plain": [
       "array([2., 3., 4.])"
      ]
     },
     "execution_count": 11,
     "metadata": {},
     "output_type": "execute_result"
    }
   ],
   "source": [
    "f = lambda x: np.ones((3, x.size)) @ x + np.array([1, 2, 3])  # componentwise absolute value\n",
    "x = np.array([1, 0])\n",
    "y = np.array([0, 1])\n",
    "alpha = -1\n",
    "beta = 2\n",
    "f(alpha*x + beta*y)  # alpha + beta = 1"
   ]
  },
  {
   "cell_type": "code",
   "execution_count": 12,
   "metadata": {},
   "outputs": [
    {
     "data": {
      "text/plain": [
       "array([2., 3., 4.])"
      ]
     },
     "execution_count": 12,
     "metadata": {},
     "output_type": "execute_result"
    }
   ],
   "source": [
    "alpha*f(x) + beta*f(y)"
   ]
  },
  {
   "cell_type": "code",
   "execution_count": 13,
   "metadata": {},
   "outputs": [
    {
     "data": {
      "text/plain": [
       "array([-2., -1.,  0.])"
      ]
     },
     "execution_count": 13,
     "metadata": {},
     "output_type": "execute_result"
    }
   ],
   "source": [
    "alpha = -5\n",
    "beta = 2\n",
    "f(alpha*x + beta*y)  # alpha + beta != 1"
   ]
  },
  {
   "cell_type": "code",
   "execution_count": 14,
   "metadata": {},
   "outputs": [
    {
     "data": {
      "text/plain": [
       "array([ -6.,  -9., -12.])"
      ]
     },
     "execution_count": 14,
     "metadata": {},
     "output_type": "execute_result"
    }
   ],
   "source": [
    "alpha*f(x) + beta*f(y)"
   ]
  },
  {
   "cell_type": "markdown",
   "metadata": {},
   "source": [
    "# 8.2 Linear function models"
   ]
  },
  {
   "cell_type": "markdown",
   "metadata": {},
   "source": [
    "## Price elasticity of demand"
   ]
  },
  {
   "cell_type": "markdown",
   "metadata": {},
   "source": [
    "Let’s use a price elasticity of demand matrix to predict the demand for three products when the prices are changed a bit. Using this we can predict the change in total profit, given the manufacturing costs."
   ]
  },
  {
   "cell_type": "code",
   "execution_count": 15,
   "metadata": {},
   "outputs": [
    {
     "name": "stdout",
     "output_type": "stream",
     "text": [
      "77.51999999999998\n"
     ]
    }
   ],
   "source": [
    "p = np.array([10, 20, 15])  # Current prices\n",
    "d = np.array([5.6, 1.5, 8.6])  # Current demand (say in thousands)\n",
    "c = np.array([6.5, 11.2, 9.8])  # Cost to manufacture\n",
    "profit = (p - c) @ d  # Current total profit\n",
    "print(profit)"
   ]
  },
  {
   "cell_type": "code",
   "execution_count": 16,
   "metadata": {},
   "outputs": [
    {
     "name": "stdout",
     "output_type": "stream",
     "text": [
      "[-0.1         0.05       -0.06666667]\n"
     ]
    }
   ],
   "source": [
    "#Demand elesticity matrix\n",
    "E = np.array([[-0.3, 0.1, -0.1],\n",
    "              [0.1, -0.5, 0.05],\n",
    "              [-0.1, 0.05, -0.4]])\n",
    "p_new = np.array([9, 21, 14])  # Proposed new prices\n",
    "delta_p = (p_new - p)/p  # Fractional change in prices\n",
    "print(delta_p)"
   ]
  },
  {
   "cell_type": "code",
   "execution_count": 17,
   "metadata": {},
   "outputs": [
    {
     "name": "stdout",
     "output_type": "stream",
     "text": [
      "[ 0.04166667 -0.03833333  0.03916667]\n"
     ]
    }
   ],
   "source": [
    "delta_d = E @ delta_p  # Predicted fractional change in demand\n",
    "print(delta_d)"
   ]
  },
  {
   "cell_type": "code",
   "execution_count": 18,
   "metadata": {},
   "outputs": [
    {
     "name": "stdout",
     "output_type": "stream",
     "text": [
      "[5.83333333 1.4425     8.93683333]\n"
     ]
    }
   ],
   "source": [
    "d_new = d * (1 + delta_d)  # Predicted new demand\n",
    "print(d_new)"
   ]
  },
  {
   "cell_type": "code",
   "execution_count": 19,
   "metadata": {},
   "outputs": [
    {
     "name": "stdout",
     "output_type": "stream",
     "text": [
      "66.25453333333333\n"
     ]
    }
   ],
   "source": [
    "profit_new = (p_new - c) @ d_new #Predicted new profit\n",
    "print(profit_new)"
   ]
  },
  {
   "cell_type": "markdown",
   "metadata": {},
   "source": [
    "## Taylor approximation"
   ]
  },
  {
   "cell_type": "markdown",
   "metadata": {},
   "source": [
    "Consider the nonlinear function $f : R^2 → R^2$ given by\n",
    "$$\n",
    "f(x) = \\begin{bmatrix}\n",
    "\\left\\|x − a\\right\\| \\\\\n",
    "\\left\\|x − b\\right\\|\n",
    "\\end{bmatrix}\n",
    "= \\begin{bmatrix}\n",
    "\\sqrt{(x_1 − a_1)^2 + (x_2 − a_2)^2} \\\\\n",
    "\\sqrt{(x_1 − b_1)^2 + (x_2 − b_2)^2}\n",
    "\\end{bmatrix}\n",
    "$$\n",
    "\n",
    "The two components of f gives the distance of x to the points a and b. The function is differentiable, except when x = a or x = b. Its derivative or Jacobian matrix is given by\n",
    "$$Df(z) = \\begin{bmatrix}\n",
    "\\frac{\\partial f_1}{\\partial x_1}(z) & \\frac{\\partial f_1}{\\partial x_2}(z) \\\\\n",
    "\\frac{\\partial f_2}{\\partial x_1}(z) & \\frac{\\partial f_2}{\\partial x_2}(z)\n",
    "\\end{bmatrix}\n",
    "= \\begin{bmatrix}\n",
    "\\frac{z_1 - a_1}{\\left\\| z - a \\right\\|} & \\frac{z_2 - a_2}{\\left\\| z - a \\right\\|} \\\\\n",
    "\\frac{z_1 - b_1}{\\left\\| z - b \\right\\|} & \\frac{z_2 - b_2}{\\left\\| z - b \\right\\|}\n",
    "\\end{bmatrix}\n",
    "$$\n"
   ]
  },
  {
   "cell_type": "code",
   "execution_count": 20,
   "metadata": {},
   "outputs": [
    {
     "data": {
      "text/plain": [
       "array([0.90553851, 1.27279221])"
      ]
     },
     "execution_count": 20,
     "metadata": {},
     "output_type": "execute_result"
    }
   ],
   "source": [
    "f = lambda x: np.array([np.linalg.norm(x - a),\n",
    "                        np.linalg.norm(x - b)])\n",
    "\n",
    "Df = lambda z: np.array([(z - a) / np.linalg.norm(z - a),\n",
    "                         (z - b) / np.linalg.norm(z - b)])\n",
    "\n",
    "f_hat = lambda x: f(z) + Df(z)@(x - z)\n",
    "\n",
    "a = np.array([1, 0])\n",
    "b = np.array([1, 1])\n",
    "z = np.array([0, 0])\n",
    "\n",
    "f(np.array([0.1, 0.1]))"
   ]
  },
  {
   "cell_type": "code",
   "execution_count": 21,
   "metadata": {},
   "outputs": [
    {
     "data": {
      "text/plain": [
       "array([0.9       , 1.27279221])"
      ]
     },
     "execution_count": 21,
     "metadata": {},
     "output_type": "execute_result"
    }
   ],
   "source": [
    "f_hat(np.array([0.1, 0.1]))"
   ]
  },
  {
   "cell_type": "code",
   "execution_count": 22,
   "metadata": {},
   "outputs": [
    {
     "data": {
      "text/plain": [
       "array([0.70710678, 0.70710678])"
      ]
     },
     "execution_count": 22,
     "metadata": {},
     "output_type": "execute_result"
    }
   ],
   "source": [
    "f(np.array([0.5, 0.5]))"
   ]
  },
  {
   "cell_type": "code",
   "execution_count": 23,
   "metadata": {},
   "outputs": [
    {
     "data": {
      "text/plain": [
       "array([0.5       , 0.70710678])"
      ]
     },
     "execution_count": 23,
     "metadata": {},
     "output_type": "execute_result"
    }
   ],
   "source": [
    "f_hat(np.array([0.5, 0.5]))"
   ]
  },
  {
   "cell_type": "markdown",
   "metadata": {},
   "source": [
    "## Regression model"
   ]
  },
  {
   "cell_type": "code",
   "execution_count": 24,
   "metadata": {},
   "outputs": [
    {
     "data": {
      "text/plain": [
       "(2, 774)"
      ]
     },
     "execution_count": 24,
     "metadata": {},
     "output_type": "execute_result"
    }
   ],
   "source": [
    "# parameters in regression model\n",
    "beta = [148.73, -18.85]\n",
    "v = 54.40\n",
    "D = house_sales_data()\n",
    "yd = D['price']  # vector of outcomes\n",
    "N = len(yd)\n",
    "X = np.vstack((D['area'], D['beds']))\n",
    "X.shape"
   ]
  },
  {
   "cell_type": "code",
   "execution_count": 25,
   "metadata": {},
   "outputs": [
    {
     "data": {
      "text/plain": [
       "74.84571862623025"
      ]
     },
     "execution_count": 25,
     "metadata": {},
     "output_type": "execute_result"
    }
   ],
   "source": [
    "ydhat = beta @ X + v  # vector of predicted outcomes\n",
    "rd = yd - ydhat  # vector of predicted errors\n",
    "np.sqrt(sum(rd**2)/len(rd))  # RMS prediction error"
   ]
  },
  {
   "cell_type": "code",
   "execution_count": 26,
   "metadata": {},
   "outputs": [
    {
     "data": {
      "text/plain": [
       "112.78216159756509"
      ]
     },
     "execution_count": 26,
     "metadata": {},
     "output_type": "execute_result"
    }
   ],
   "source": [
    "# Compare with standard deviation of prices\n",
    "np.std(yd)"
   ]
  },
  {
   "cell_type": "markdown",
   "metadata": {},
   "source": [
    "# 8.3 Systems of linear equations"
   ]
  },
  {
   "cell_type": "markdown",
   "metadata": {},
   "source": [
    "## Balancing chemical reactions\n",
    "We verify the linear balancing equations on page 155 of VMLS, for the simple example of electrolysis of water"
   ]
  },
  {
   "cell_type": "code",
   "execution_count": 27,
   "metadata": {},
   "outputs": [
    {
     "data": {
      "text/plain": [
       "array([0, 0])"
      ]
     },
     "execution_count": 27,
     "metadata": {},
     "output_type": "execute_result"
    }
   ],
   "source": [
    "R = np.array([2, 1])\n",
    "P = np.array([[2, 0],\n",
    "              [0, 2]])\n",
    "\n",
    "# Check balancing coefficients [2, 2, 1]\n",
    "coeff = np.array([2, 2, 1])\n",
    "coeff @ np.vstack((R, -P))"
   ]
  },
  {
   "cell_type": "markdown",
   "metadata": {},
   "source": [
    "Check the equation on page 8.21 in http://vmls-book.stanford.edu/vmls-slides.pdf\n",
    "\n",
    "$a_1\\ Cr_2O^{2−}_{7} + a_2\\ Fe^{2+} + a_3\\ H^+ → b_1\\ Cr^{3+} + b_2\\ Fe^{3+} + b_3\\ H_2O$"
   ]
  },
  {
   "cell_type": "code",
   "execution_count": 28,
   "metadata": {},
   "outputs": [
    {
     "data": {
      "text/plain": [
       "array([ 1.,  6., 14.,  2.,  6.,  7.])"
      ]
     },
     "execution_count": 28,
     "metadata": {},
     "output_type": "execute_result"
    }
   ],
   "source": [
    "R = np.array([[2, 0, 0],\n",
    "              [7, 0, 0],\n",
    "              [0, 1, 0],\n",
    "              [0, 0, 1],\n",
    "              [-2, 2, 1]])\n",
    "P = np.array([[1, 0, 0],\n",
    "              [0, 0, 1],\n",
    "              [0, 1, 0],\n",
    "              [0, 0, 2],\n",
    "              [3, 3, 0]])\n",
    "\n",
    "# balancing equations (including a1 = 1 constraint)\n",
    "A = np.block([[R, -P],\n",
    "          [1, 0, 0, 0, 0, 0]])\n",
    "b = np.array([0, 0, 0, 0, 0, 1])\n",
    "x = np.linalg.solve(A, b)\n",
    "x"
   ]
  },
  {
   "cell_type": "code",
   "execution_count": 29,
   "metadata": {},
   "outputs": [
    {
     "data": {
      "text/plain": [
       "array([ 6.66133815e-16,  0.00000000e+00,  0.00000000e+00,  0.00000000e+00,\n",
       "       -1.77635684e-15])"
      ]
     },
     "execution_count": 29,
     "metadata": {},
     "output_type": "execute_result"
    }
   ],
   "source": [
    "np.hstack((R, -P)) @ x"
   ]
  }
 ],
 "metadata": {
  "kernelspec": {
   "display_name": "Python 3",
   "language": "python",
   "name": "python3"
  },
  "language_info": {
   "codemirror_mode": {
    "name": "ipython",
    "version": 3
   },
   "file_extension": ".py",
   "mimetype": "text/x-python",
   "name": "python",
   "nbconvert_exporter": "python",
   "pygments_lexer": "ipython3",
   "version": "3.7.6"
  }
 },
 "nbformat": 4,
 "nbformat_minor": 4
}
