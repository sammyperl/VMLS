{
 "cells": [
  {
   "cell_type": "code",
   "execution_count": 152,
   "metadata": {},
   "outputs": [],
   "source": [
    "import numpy as np\n",
    "from scipy import sparse\n",
    "import matplotlib.pyplot as plt\n",
    "\n",
    "from IPython.display import display\n",
    "from IPython.display import Latex"
   ]
  },
  {
   "cell_type": "markdown",
   "metadata": {},
   "source": [
    "# 1.1 Vectors"
   ]
  },
  {
   "cell_type": "markdown",
   "metadata": {},
   "source": [
    "The simplest data structure representing a vector: `list`"
   ]
  },
  {
   "cell_type": "code",
   "execution_count": 2,
   "metadata": {},
   "outputs": [
    {
     "data": {
      "text/plain": [
       "4"
      ]
     },
     "execution_count": 2,
     "metadata": {},
     "output_type": "execute_result"
    }
   ],
   "source": [
    "x = [-1.1, 0.0, 3.6, -7.2]\n",
    "len(x)"
   ]
  },
  {
   "cell_type": "markdown",
   "metadata": {},
   "source": [
    "Here `y` is a `tuple` consisting of two scalars. It is neither a `list` nor a `vector`."
   ]
  },
  {
   "cell_type": "code",
   "execution_count": 3,
   "metadata": {},
   "outputs": [],
   "source": [
    " y = (1, 2) "
   ]
  },
  {
   "cell_type": "markdown",
   "metadata": {},
   "source": [
    "Another common way to represent vectors in Python is to use a `numpy array`"
   ]
  },
  {
   "cell_type": "code",
   "execution_count": 4,
   "metadata": {},
   "outputs": [
    {
     "data": {
      "text/plain": [
       "4"
      ]
     },
     "execution_count": 4,
     "metadata": {},
     "output_type": "execute_result"
    }
   ],
   "source": [
    "x = np.array([-1.1, 0.0, 3.6, -7.2])\n",
    "len(x)"
   ]
  },
  {
   "cell_type": "markdown",
   "metadata": {},
   "source": [
    "## Indexing"
   ]
  },
  {
   "cell_type": "code",
   "execution_count": 5,
   "metadata": {},
   "outputs": [
    {
     "name": "stdout",
     "output_type": "stream",
     "text": [
      "vector \"x\": [-1.1  0.   3.6 -7.2]\n"
     ]
    }
   ],
   "source": [
    "x = np.array([-1.1, 0.0, 3.6, -7.2])\n",
    "print('vector \"x\":', x)"
   ]
  },
  {
   "cell_type": "markdown",
   "metadata": {},
   "source": [
    "*0-based* indexing"
   ]
  },
  {
   "cell_type": "code",
   "execution_count": 6,
   "metadata": {},
   "outputs": [
    {
     "data": {
      "text/plain": [
       "-1.1"
      ]
     },
     "execution_count": 6,
     "metadata": {},
     "output_type": "execute_result"
    }
   ],
   "source": [
    "x[0]"
   ]
  },
  {
   "cell_type": "markdown",
   "metadata": {},
   "source": [
    "Assign 4 to $x_3$"
   ]
  },
  {
   "cell_type": "code",
   "execution_count": 7,
   "metadata": {},
   "outputs": [
    {
     "name": "stdout",
     "output_type": "stream",
     "text": [
      "vector \"x\": [-1.1  0.   4.  -7.2]\n"
     ]
    }
   ],
   "source": [
    "x[2] = 4\n",
    "print('vector \"x\":', x)"
   ]
  },
  {
   "cell_type": "markdown",
   "metadata": {},
   "source": [
    "The negative integer index is counted from the end of the vector"
   ]
  },
  {
   "cell_type": "code",
   "execution_count": 8,
   "metadata": {},
   "outputs": [
    {
     "data": {
      "text/plain": [
       "True"
      ]
     },
     "execution_count": 8,
     "metadata": {},
     "output_type": "execute_result"
    }
   ],
   "source": [
    "x[-1] == x[3]  # x_4"
   ]
  },
  {
   "cell_type": "code",
   "execution_count": 9,
   "metadata": {},
   "outputs": [
    {
     "data": {
      "text/plain": [
       "True"
      ]
     },
     "execution_count": 9,
     "metadata": {},
     "output_type": "execute_result"
    }
   ],
   "source": [
    "x[-2] == x[2]  # x_3"
   ]
  },
  {
   "cell_type": "markdown",
   "metadata": {},
   "source": [
    "## Assignment versus copying"
   ]
  },
  {
   "cell_type": "markdown",
   "metadata": {},
   "source": [
    "```python\n",
    "y = x\n",
    "```\n",
    "The assignment expression gives a new name (or reference) y to the same array that is already referenced\n",
    "by x instead of creating a copy of x.\n",
    "\n",
    "The behavior in Python is same as Julia, different from MatLab / Octave"
   ]
  },
  {
   "cell_type": "code",
   "execution_count": 10,
   "metadata": {},
   "outputs": [
    {
     "name": "stdout",
     "output_type": "stream",
     "text": [
      "[-1.1  0.  20.  -7.2]\n"
     ]
    }
   ],
   "source": [
    "x = np.array([-1.1, 0.0, 3.6, -7.2])\n",
    "y = x\n",
    "x[2] = 20.0\n",
    "print(y)"
   ]
  },
  {
   "cell_type": "markdown",
   "metadata": {},
   "source": [
    "Use the method `copy` to get a copy of the array"
   ]
  },
  {
   "cell_type": "code",
   "execution_count": 11,
   "metadata": {},
   "outputs": [
    {
     "name": "stdout",
     "output_type": "stream",
     "text": [
      "[-1.1  0.   3.6 -7.2]\n"
     ]
    }
   ],
   "source": [
    "x = np.array([-1.1, 0.0, 3.6, -7.2])\n",
    "y = x.copy()\n",
    "x[2] = 20.0\n",
    "print(y)"
   ]
  },
  {
   "cell_type": "markdown",
   "metadata": {},
   "source": [
    "## Vector equality"
   ]
  },
  {
   "cell_type": "markdown",
   "metadata": {},
   "source": [
    "Equality of vectors is checked using the relational operator `==` (double equal signs).\n",
    "\n",
    "The Python expression evaluates to `True` if the expression on the left and right-hand side of the relational operator is equal, and to `False` otherwise"
   ]
  },
  {
   "cell_type": "markdown",
   "metadata": {},
   "source": [
    "List:"
   ]
  },
  {
   "cell_type": "code",
   "execution_count": 12,
   "metadata": {},
   "outputs": [
    {
     "data": {
      "text/plain": [
       "True"
      ]
     },
     "execution_count": 12,
     "metadata": {},
     "output_type": "execute_result"
    }
   ],
   "source": [
    "x = [-1.1, 0.0, 3.6, -7.2]\n",
    "y = x.copy()\n",
    "x == y"
   ]
  },
  {
   "cell_type": "code",
   "execution_count": 13,
   "metadata": {},
   "outputs": [
    {
     "data": {
      "text/plain": [
       "False"
      ]
     },
     "execution_count": 13,
     "metadata": {},
     "output_type": "execute_result"
    }
   ],
   "source": [
    "x = [-1.1, 0.0, 3.6, -7.2]\n",
    "y = x.copy()\n",
    "y[3] = 9.0\n",
    "x == y"
   ]
  },
  {
   "cell_type": "markdown",
   "metadata": {},
   "source": [
    "numpy array:"
   ]
  },
  {
   "cell_type": "code",
   "execution_count": 14,
   "metadata": {},
   "outputs": [
    {
     "name": "stdout",
     "output_type": "stream",
     "text": [
      "element-wise comparison: [ True  True  True  True]\n",
      "vector comparison: True\n"
     ]
    }
   ],
   "source": [
    "x = np.array([-1.1, 0.0, 3.6, -7.2])\n",
    "y = x.copy()\n",
    "print('element-wise comparison:', x == y)  # x == y is equal to np.equal(x, y)\n",
    "print('vector comparison:', np.array_equal(x, y))"
   ]
  },
  {
   "cell_type": "code",
   "execution_count": 15,
   "metadata": {},
   "outputs": [
    {
     "name": "stdout",
     "output_type": "stream",
     "text": [
      "element-wise comparison: [ True  True  True False]\n",
      "vector comparison: False\n"
     ]
    }
   ],
   "source": [
    "x = np.array([-1.1, 0.0, 3.6, -7.2])\n",
    "y = x.copy()\n",
    "y[3] = 9.0\n",
    "print('element-wise comparison:', x == y)  # x == y is equal to np.equal(x, y)\n",
    "print('vector comparison:', np.array_equal(x, y))"
   ]
  },
  {
   "cell_type": "markdown",
   "metadata": {},
   "source": [
    "## Scalars versus 1-vectors"
   ]
  },
  {
   "cell_type": "markdown",
   "metadata": {},
   "source": [
    "list:"
   ]
  },
  {
   "cell_type": "code",
   "execution_count": 16,
   "metadata": {},
   "outputs": [
    {
     "name": "stdout",
     "output_type": "stream",
     "text": [
      "x: 2.4\n",
      "y: [2.4]\n",
      "x == y: False\n",
      "x == y[0]: True\n",
      "type(x) == type(y): False\n"
     ]
    }
   ],
   "source": [
    "x = 2.4  # x type is float\n",
    "y = [2.4]  # y type is list\n",
    "print('x:', x)\n",
    "print('y:', y)\n",
    "print('x == y:', x == y)  # The output type is bool\n",
    "print('x == y[0]:', x == y[0]) # The output type is bool\n",
    "print('type(x) == type(y):', type(x) == type(y)) # The output type is bool"
   ]
  },
  {
   "cell_type": "markdown",
   "metadata": {},
   "source": [
    "numpy array:"
   ]
  },
  {
   "cell_type": "code",
   "execution_count": 17,
   "metadata": {},
   "outputs": [
    {
     "name": "stdout",
     "output_type": "stream",
     "text": [
      "x: 2.4\n",
      "y: [2.4]\n",
      "x == y: [ True]\n",
      "x == y[0]: True\n",
      "type(x) == type(y): False\n"
     ]
    }
   ],
   "source": [
    "x = 2.4  # x type is float\n",
    "y = np.array([2.4])  # y type is numpy.ndarray\n",
    "print('x:', x)\n",
    "print('y:', y)\n",
    "print('x == y:', x == y)  # The output type is numpy.ndarray\n",
    "print('x == y[0]:', x == y[0]) # The output type is numpy.bool_\n",
    "print('type(x) == type(y):', type(x) == type(y)) # The output type is bool"
   ]
  },
  {
   "cell_type": "markdown",
   "metadata": {},
   "source": [
    "## Block and stacked vectors"
   ]
  },
  {
   "cell_type": "markdown",
   "metadata": {},
   "source": [
    "In Python, we can construct a block vector using the\n",
    "numpy function [concatenate](https://numpy.org/doc/stable/reference/generated/numpy.concatenate.html)\n",
    "(For other methods of stacking numpy.ndarray, see the \"See Also\" section)."
   ]
  },
  {
   "cell_type": "code",
   "execution_count": 18,
   "metadata": {},
   "outputs": [
    {
     "name": "stdout",
     "output_type": "stream",
     "text": [
      "z: [ 1 -2  1  1  0]\n",
      "z.shape: (5,)\n"
     ]
    }
   ],
   "source": [
    "x = np.array([1, -2])  # shape is (2,)\n",
    "y = np.array([1, 1, 0])  # shape is (3,)\n",
    "z = np.concatenate((x,y)) # shape is (5,)\n",
    "print('z:', z)\n",
    "print('z.shape:', z.shape)"
   ]
  },
  {
   "cell_type": "code",
   "execution_count": 19,
   "metadata": {},
   "outputs": [
    {
     "name": "stdout",
     "output_type": "stream",
     "text": [
      "[ 1 -2  1  1  0]\n",
      "z.shape: (5,)\n"
     ]
    }
   ],
   "source": [
    "z = np.hstack((x, y))\n",
    "print(z)\n",
    "print('z.shape:', z.shape)"
   ]
  },
  {
   "cell_type": "markdown",
   "metadata": {},
   "source": [
    "## Subvectors and slicing"
   ]
  },
  {
   "cell_type": "markdown",
   "metadata": {},
   "source": [
    "$x_{r:s}$ denotes the slice of the vector x from index r to s (Python is 0-based indexing)\n",
    "\n",
    "For the expressing `x[a:b]` for array x, the slicing selects the element from index `a` to index `b-1`."
   ]
  },
  {
   "cell_type": "code",
   "execution_count": 20,
   "metadata": {},
   "outputs": [
    {
     "data": {
      "text/latex": [
       "$x_{1:3}$ = [8 3 2]"
      ],
      "text/plain": [
       "<IPython.core.display.Latex object>"
      ]
     },
     "metadata": {},
     "output_type": "display_data"
    }
   ],
   "source": [
    "x = np.array([1,8,3,2,1,9,7])\n",
    "y = x[1:4]   # [start:end] [inclusive:exclusive]\n",
    "display(Latex('$x_{1:3}$ = %s' %y))"
   ]
  },
  {
   "cell_type": "markdown",
   "metadata": {},
   "source": [
    "use index ranges to assign a slice of a vector."
   ]
  },
  {
   "cell_type": "code",
   "execution_count": 21,
   "metadata": {},
   "outputs": [
    {
     "data": {
      "text/latex": [
       "Before: $x$ = [1 8 3 2 1 9 7]"
      ],
      "text/plain": [
       "<IPython.core.display.Latex object>"
      ]
     },
     "metadata": {},
     "output_type": "display_data"
    },
    {
     "data": {
      "text/latex": [
       "After: $x$ = [  1   8   3 100 200 300   7]"
      ],
      "text/plain": [
       "<IPython.core.display.Latex object>"
      ]
     },
     "metadata": {},
     "output_type": "display_data"
    },
    {
     "name": "stdout",
     "output_type": "stream",
     "text": [
      "As a result, you can see the 4th, 5th and 6th elements in the array are reassigned.\n"
     ]
    }
   ],
   "source": [
    "display(Latex('Before: $x$ = %s' %x))\n",
    "x[3:6] = [100,200,300]  # reassigned index 3 to 5 in array x.\n",
    "display(Latex('After: $x$ = %s' %x))\n",
    "print('As a result, you can see the 4th, 5th and 6th elements in the array are reassigned.')"
   ]
  },
  {
   "cell_type": "markdown",
   "metadata": {},
   "source": [
    "use slicing to select all elements in the array starting from a certain index"
   ]
  },
  {
   "cell_type": "code",
   "execution_count": 22,
   "metadata": {},
   "outputs": [
    {
     "data": {
      "text/plain": [
       "array([3, 2, 1, 9, 7])"
      ]
     },
     "execution_count": 22,
     "metadata": {},
     "output_type": "execute_result"
    }
   ],
   "source": [
    "x = np.array([1,8,3,2,1,9,7])\n",
    "x[2:]  # [start:end]"
   ]
  },
  {
   "cell_type": "code",
   "execution_count": 23,
   "metadata": {},
   "outputs": [
    {
     "data": {
      "text/plain": [
       "array([1, 8, 3, 2, 1, 9])"
      ]
     },
     "execution_count": 23,
     "metadata": {},
     "output_type": "execute_result"
    }
   ],
   "source": [
    "x[:-1]  # [start:end]"
   ]
  },
  {
   "cell_type": "markdown",
   "metadata": {},
   "source": [
    "use a number range with a third argument ([start:end:step]), that gives the increment between successive indexes."
   ]
  },
  {
   "cell_type": "code",
   "execution_count": 24,
   "metadata": {},
   "outputs": [
    {
     "data": {
      "text/plain": [
       "array([3, 8])"
      ]
     },
     "execution_count": 24,
     "metadata": {},
     "output_type": "execute_result"
    }
   ],
   "source": [
    "x[2:0:-1]"
   ]
  },
  {
   "cell_type": "code",
   "execution_count": 25,
   "metadata": {},
   "outputs": [
    {
     "data": {
      "text/plain": [
       "array([7, 9, 1, 2, 3, 8, 1])"
      ]
     },
     "execution_count": 25,
     "metadata": {},
     "output_type": "execute_result"
    }
   ],
   "source": [
    "x[::-1]  # reverse vector"
   ]
  },
  {
   "cell_type": "markdown",
   "metadata": {},
   "source": [
    "## Vector of First Differences"
   ]
  },
  {
   "cell_type": "markdown",
   "metadata": {},
   "source": [
    "Let’s use slicing to create the $(n−1)$-vector $d$ defined by $d_i = x_{i+1} − x_i$, for $i = 1, . . . , n − 1$, where $x$ is an n-vector. The vector $d$ is called the vector of (first) differences of $x$."
   ]
  },
  {
   "cell_type": "code",
   "execution_count": 26,
   "metadata": {},
   "outputs": [
    {
     "name": "stdout",
     "output_type": "stream",
     "text": [
      "[ 7 -5 -1 -1  8 -2]\n"
     ]
    }
   ],
   "source": [
    "x = np.array([1,8,3,2,1,9,7])\n",
    "d = x[1:] - x[:-1]  # alternative: np.array([x[i + 1] - x[i] for i in range(len(x) - 1)])\n",
    "print(d)"
   ]
  },
  {
   "cell_type": "markdown",
   "metadata": {},
   "source": [
    "## Lists of vectors"
   ]
  },
  {
   "cell_type": "code",
   "execution_count": 27,
   "metadata": {},
   "outputs": [
    {
     "name": "stdout",
     "output_type": "stream",
     "text": [
      "array_of_arrays: [[ 1  0]\n",
      " [ 1 -1]\n",
      " [ 0  1]]\n",
      "array_of_arrays[1]: [ 1 -1]\n",
      "array_of_arrays[1][0]: 1\n"
     ]
    }
   ],
   "source": [
    "x = np.array([1, 0])\n",
    "y = np.array([1, -1])\n",
    "z = np.array([0, 1])\n",
    "array_of_arrays = np.array([x, y, z])  # array of arrays (2d array)\n",
    "print('array_of_arrays:', array_of_arrays)\n",
    "print('array_of_arrays[1]:', array_of_arrays[1])  # Second element of array\n",
    "print('array_of_arrays[1][0]:', array_of_arrays[1][0])  # First entry in second element of array"
   ]
  },
  {
   "cell_type": "code",
   "execution_count": 28,
   "metadata": {},
   "outputs": [
    {
     "name": "stdout",
     "output_type": "stream",
     "text": [
      "list_of_arrays: [array([1, 0]), array([ 1, -1]), array([0, 1])]\n",
      "list_of_arrays[1]: [ 1 -1]\n",
      "list_of_arrays[1][0]: 1\n"
     ]
    }
   ],
   "source": [
    "x = np.array([1, 0])\n",
    "y = np.array([1, -1])\n",
    "z = np.array([0, 1])\n",
    "list_of_arrays = [x, y, z]  # list of arrays\n",
    "print('list_of_arrays:', list_of_arrays)\n",
    "print('list_of_arrays[1]:', list_of_arrays[1])  # Second element of list\n",
    "print('list_of_arrays[1][0]:', list_of_arrays[1][0])  # First entry in second element of list"
   ]
  },
  {
   "cell_type": "code",
   "execution_count": 29,
   "metadata": {},
   "outputs": [
    {
     "name": "stdout",
     "output_type": "stream",
     "text": [
      "list_of_lists: [[1, 0], [1, -1], [0, 1]]\n",
      "list_of_lists[1]: [1, -1]\n",
      "list_of_lists[1][0]: 1\n"
     ]
    }
   ],
   "source": [
    "x = [1, 0]\n",
    "y = [1, -1]\n",
    "z = [0, 1]\n",
    "list_of_lists = [x, y, z]  # list of lists\n",
    "print('list_of_lists:', list_of_lists)\n",
    "print('list_of_lists[1]:', list_of_lists[1])  # Second element of list\n",
    "print('list_of_lists[1][0]:', list_of_lists[1][0])  # First entry in second element of list"
   ]
  },
  {
   "cell_type": "code",
   "execution_count": 30,
   "metadata": {},
   "outputs": [
    {
     "name": "stdout",
     "output_type": "stream",
     "text": [
      "tuple_of_lists: ([1, 0], [1, -1], [0, 1])\n",
      "tuple_of_lists[1]: [1, -1]\n",
      "tuple_of_lists[1][0]: 1\n"
     ]
    }
   ],
   "source": [
    "x = [1, 0]\n",
    "y = [1, -1]\n",
    "z = [0, 1]\n",
    "tuple_of_lists = (x, y, z)  # tuple of lists\n",
    "tuple_of_lists\n",
    "print('tuple_of_lists:', tuple_of_lists)\n",
    "print('tuple_of_lists[1]:', tuple_of_lists[1])  # Second element of tuple\n",
    "print('tuple_of_lists[1][0]:', tuple_of_lists[1][0])  # First entry in second element of tuple"
   ]
  },
  {
   "cell_type": "markdown",
   "metadata": {},
   "source": [
    "Note that the difference between [x,y,z] (an array of arrays or a list of lists) and a\n",
    "stacked vector of x, y, and z, obtained by concatenation."
   ]
  },
  {
   "cell_type": "markdown",
   "metadata": {},
   "source": [
    "## Zero vectors\n",
    "A zero vector, denoted $\\boldsymbol0$, is a vector of length 0, and thus has all components equal to zero. It is the additive identity of the additive group of vectors.\n",
    "https://mathworld.wolfram.com/ZeroVector.html"
   ]
  },
  {
   "cell_type": "code",
   "execution_count": 31,
   "metadata": {},
   "outputs": [
    {
     "data": {
      "text/plain": [
       "array([0., 0., 0.])"
      ]
     },
     "execution_count": 31,
     "metadata": {},
     "output_type": "execute_result"
    }
   ],
   "source": [
    "np.zeros(3)  # Return a new array of given shape and type, filled with zeros."
   ]
  },
  {
   "cell_type": "markdown",
   "metadata": {},
   "source": [
    "## Unit vectors\n",
    "A unit vector is a vector of length 1, sometimes also called a direction vector (Jeffreys and Jeffreys 1988).\n",
    "\n",
    "The unit vector $\\mathbf{\\hat{v}}$ having the same direction as a given (nonzero) vector $\\mathbf{v}$ is defined by $\\mathbf{\\hat{v}} = \\frac{\\mathbf{v}}{\\rvert\\mathbf{v}\\lvert}$, where $\\rvert\\mathbf{v}\\lvert$ denotes the norm of $\\mathbf{v}$, is the unit vector in the same direction as the (finite) vector $\\mathbf{v}$.\n",
    "\n",
    "https://mathworld.wolfram.com/UnitVector.html"
   ]
  },
  {
   "cell_type": "code",
   "execution_count": 32,
   "metadata": {},
   "outputs": [
    {
     "name": "stdout",
     "output_type": "stream",
     "text": [
      "ei: [0. 1. 0.]\n",
      "norm of ei: 1.0\n"
     ]
    }
   ],
   "source": [
    "i = 1\n",
    "n = 3\n",
    "ei = np.zeros(n)\n",
    "ei[i] = 1\n",
    "ei = ei / np.linalg.norm(ei)\n",
    "print('ei:', ei)\n",
    "print('norm of ei:', np.linalg.norm(ei))"
   ]
  },
  {
   "cell_type": "code",
   "execution_count": 33,
   "metadata": {},
   "outputs": [
    {
     "name": "stdout",
     "output_type": "stream",
     "text": [
      "ei: [0.55708601 0.74278135 0.37139068]\n",
      "norm of ei: 1.0\n"
     ]
    }
   ],
   "source": [
    "ei = np.zeros(n)\n",
    "ei[0] = 3\n",
    "ei[1] = 4\n",
    "ei[2] = 2\n",
    "ei = ei / np.linalg.norm(ei)\n",
    "print('ei:', ei)\n",
    "print('norm of ei:', np.linalg.norm(ei))"
   ]
  },
  {
   "cell_type": "markdown",
   "metadata": {},
   "source": [
    "## Ones vectors\n"
   ]
  },
  {
   "cell_type": "code",
   "execution_count": 34,
   "metadata": {},
   "outputs": [
    {
     "data": {
      "text/plain": [
       "array([1., 1., 1.])"
      ]
     },
     "execution_count": 34,
     "metadata": {},
     "output_type": "execute_result"
    }
   ],
   "source": [
    "np.ones(3)  # Return a new array of given shape and type, filled with ones."
   ]
  },
  {
   "cell_type": "markdown",
   "metadata": {},
   "source": [
    "## Random vectors"
   ]
  },
  {
   "cell_type": "markdown",
   "metadata": {},
   "source": [
    "\"continuous uniform\" distribution"
   ]
  },
  {
   "cell_type": "code",
   "execution_count": 35,
   "metadata": {},
   "outputs": [
    {
     "data": {
      "text/plain": [
       "array([0.59179736, 0.96178164, 0.34717873])"
      ]
     },
     "execution_count": 35,
     "metadata": {},
     "output_type": "execute_result"
    }
   ],
   "source": [
    "n = 3\n",
    "rng = np.random.default_rng()  # Construct a new Generator with the default BitGenerator (PCG64).\n",
    "rng.random(3) # Return random floats in the half-open interval [0.0, 1.0)."
   ]
  },
  {
   "cell_type": "markdown",
   "metadata": {},
   "source": [
    "normal (Gaussian) distribution"
   ]
  },
  {
   "cell_type": "code",
   "execution_count": 36,
   "metadata": {},
   "outputs": [
    {
     "data": {
      "text/plain": [
       "array([-0.7535617 ,  1.462487  ,  0.60577576])"
      ]
     },
     "execution_count": 36,
     "metadata": {},
     "output_type": "execute_result"
    }
   ],
   "source": [
    "rng.normal(loc=0.0, scale=1.0, size=n)  # Draw random samples from a normal (Gaussian) distribution."
   ]
  },
  {
   "cell_type": "markdown",
   "metadata": {},
   "source": [
    "## Plotting"
   ]
  },
  {
   "cell_type": "code",
   "execution_count": 37,
   "metadata": {},
   "outputs": [
    {
     "data": {
      "image/png": "[encoded data removed]",
      "text/plain": [
       "<Figure size 432x288 with 1 Axes>"
      ]
     },
     "metadata": {
      "needs_background": "light"
     },
     "output_type": "display_data"
    }
   ],
   "source": [
    "plt.ion()\n",
    "temps = [ 71, 71, 68, 69, 68, 69, 68, 74, 77, 82, 85, 86, 88, 86,\n",
    "85, 86, 84, 79, 77, 75, 73, 71, 70, 70, 69, 69, 69, 69, 67,\n",
    "68, 68, 73, 76, 77, 82, 84, 84, 81, 80, 78, 79, 78, 73, 72,\n",
    "70, 70, 68, 67 ]\n",
    "plt.plot(temps, '-bo')\n",
    "# plt.savefig('temperature.pdf', format = 'pdf')\n",
    "plt.show()"
   ]
  },
  {
   "cell_type": "markdown",
   "metadata": {},
   "source": [
    "# 1.2. Vector addition"
   ]
  },
  {
   "cell_type": "markdown",
   "metadata": {},
   "source": [
    "## Vector addition and subtraction\n",
    "If x and y are numpy arrays of the same size, x+y and x-y give their sum and difference, respectively."
   ]
  },
  {
   "cell_type": "code",
   "execution_count": 38,
   "metadata": {},
   "outputs": [
    {
     "name": "stdout",
     "output_type": "stream",
     "text": [
      "Sum of arrays: [101 202 303]\n",
      "Difference of arrays: [ -99 -198 -297]\n"
     ]
    }
   ],
   "source": [
    "x = np.array([1, 2, 3])\n",
    "y = np.array([100,200,300])\n",
    "print('Sum of arrays:', x + y)\n",
    "print('Difference of arrays:', x - y)"
   ]
  },
  {
   "cell_type": "markdown",
   "metadata": {},
   "source": [
    "# 1.3 Scalar-vector multiplication"
   ]
  },
  {
   "cell_type": "markdown",
   "metadata": {},
   "source": [
    "## Scalar-vector multiplication and division"
   ]
  },
  {
   "cell_type": "markdown",
   "metadata": {},
   "source": [
    "If $a$ is a number and $\\mathbf{x}$ is a numpy array (vector), you can express the scalar-vector product either as $a*\\mathbf{x}$ or $\\mathbf{x}*a$"
   ]
  },
  {
   "cell_type": "code",
   "execution_count": 39,
   "metadata": {},
   "outputs": [
    {
     "name": "stdout",
     "output_type": "stream",
     "text": [
      "a * x == x * a: [ True  True  True]\n",
      "a * x: [0.4 0.8 1.2]\n"
     ]
    }
   ],
   "source": [
    "a = 0.4\n",
    "x = np.array([1, 2, 3])\n",
    "print('a * x == x * a:', a * x == x * a)\n",
    "print('a * x:', a * x)"
   ]
  },
  {
   "cell_type": "markdown",
   "metadata": {},
   "source": [
    "scalar-vector division as $\\mathbf{x}/a$"
   ]
  },
  {
   "cell_type": "code",
   "execution_count": 40,
   "metadata": {},
   "outputs": [
    {
     "name": "stdout",
     "output_type": "stream",
     "text": [
      "x / a: [2.5 5.  7.5]\n"
     ]
    }
   ],
   "source": [
    "print('x / a:', x/a)"
   ]
  },
  {
   "cell_type": "markdown",
   "metadata": {},
   "source": [
    "## Scalar-vector addition"
   ]
  },
  {
   "cell_type": "markdown",
   "metadata": {},
   "source": [
    "In Python, you can add a scalar $a$ and a numpy array (vector)\n",
    "$\\mathbf{x}$ using $\\mathbf{x}+a$. This means that the scalar is added to each element of the vector. This\n",
    "is, however, NOT a standard mathematical notation. In mathematical notations, we\n",
    "should denote this as, e.g. $\\mathbf{x} + a\\mathbf{1}$, where $\\mathbf{x}$ is an n-vector and $a$ is a scalar."
   ]
  },
  {
   "cell_type": "code",
   "execution_count": 41,
   "metadata": {},
   "outputs": [
    {
     "name": "stdout",
     "output_type": "stream",
     "text": [
      "x + a: [-0.3 -5.1 -1.1]\n"
     ]
    }
   ],
   "source": [
    "a = -1.4\n",
    "x = np.array([1.1, -3.7, .3])\n",
    "print('x + a:', x + a)"
   ]
  },
  {
   "cell_type": "code",
   "execution_count": 42,
   "metadata": {},
   "outputs": [
    {
     "name": "stdout",
     "output_type": "stream",
     "text": [
      "a + x: [5 4 9]\n"
     ]
    }
   ],
   "source": [
    "a = 4\n",
    "x = np.array([1, 0, 5])\n",
    "print('a + x:', a + x)"
   ]
  },
  {
   "cell_type": "markdown",
   "metadata": {},
   "source": [
    "## Elementwise operations"
   ]
  },
  {
   "cell_type": "markdown",
   "metadata": {},
   "source": [
    "For numpy arrays of the same length x and y, the expressions x * y, x / y and\n",
    "x ** y give the resulting vectors of the same length as x and y and ith element $x_iy_i$, $\\frac{x_i}{y_i}$, and $x_{i}^{yi}$\n",
    "respectively"
   ]
  },
  {
   "cell_type": "code",
   "execution_count": 43,
   "metadata": {},
   "outputs": [
    {
     "data": {
      "text/plain": [
       "array([ 0.04063205, -0.0223914 , -0.06411837])"
      ]
     },
     "execution_count": 43,
     "metadata": {},
     "output_type": "execute_result"
    }
   ],
   "source": [
    "p_initial = np.array([22.15, 89.32, 56.77])\n",
    "p_final = np.array([23.05, 87.32, 53.13])\n",
    "r = (p_final - p_initial) / p_initial\n",
    "r"
   ]
  },
  {
   "cell_type": "markdown",
   "metadata": {},
   "source": [
    "## Elementwise operations with a scalar"
   ]
  },
  {
   "cell_type": "code",
   "execution_count": 44,
   "metadata": {},
   "outputs": [
    {
     "name": "stdout",
     "output_type": "stream",
     "text": [
      "list w: [1, 2, 2]\n",
      "list z: [1, 2, 3]\n",
      "w == z: False\n",
      "np.array(w) == np.array(z): [ True  True False]\n",
      "np.array_equal(w,z): False\n"
     ]
    }
   ],
   "source": [
    "w = [1, 2, 2]\n",
    "z = [1, 2, 3]\n",
    "print('list w:', w)\n",
    "print('list z:', z)\n",
    "print('w == z:', w == z)\n",
    "print('np.array(w) == np.array(z):', np.array(w) == np.array(z))\n",
    "print('np.array_equal(w,z):', np.array_equal(w,z))"
   ]
  },
  {
   "cell_type": "code",
   "execution_count": 45,
   "metadata": {},
   "outputs": [
    {
     "data": {
      "text/plain": [
       "array([ 1.1, -1.5])"
      ]
     },
     "execution_count": 45,
     "metadata": {},
     "output_type": "execute_result"
    }
   ],
   "source": [
    "x = np.array([1.1, .5, -1.5, -0.3])\n",
    "x[np.abs(x) > 1]  # subvector of x consisting of the entries larger than one in magnitude."
   ]
  },
  {
   "cell_type": "code",
   "execution_count": 46,
   "metadata": {},
   "outputs": [
    {
     "name": "stdout",
     "output_type": "stream",
     "text": [
      "type(x): <class 'numpy.ndarray'>\n",
      "x: [-1.74508881  1.61953234 -0.38302913 -1.08578092]\n"
     ]
    }
   ],
   "source": [
    "rng = np.random.default_rng()\n",
    "x = rng.normal(size=4)\n",
    "print('type(x):', type(x))\n",
    "print('x:', x)"
   ]
  },
  {
   "cell_type": "code",
   "execution_count": 47,
   "metadata": {},
   "outputs": [
    {
     "name": "stdout",
     "output_type": "stream",
     "text": [
      "type(x): <class 'numpy.ndarray'>\n",
      "x: [-1.          1.         -0.38302913 -1.08578092]\n"
     ]
    }
   ],
   "source": [
    "x[0:2] = [-1,1]\n",
    "print('type(x):', type(x))\n",
    "print('x:', x)"
   ]
  },
  {
   "cell_type": "code",
   "execution_count": 48,
   "metadata": {},
   "outputs": [
    {
     "name": "stdout",
     "output_type": "stream",
     "text": [
      "type(x): <class 'numpy.ndarray'>\n",
      "x: [-1.          1.3         1.3        -1.08578092]\n"
     ]
    }
   ],
   "source": [
    "x[1:3] = 1.3  # assign multiple entries of a vector to a scalar value\n",
    "print('type(x):', type(x))\n",
    "print('x:', x)"
   ]
  },
  {
   "cell_type": "markdown",
   "metadata": {},
   "source": [
    "## Linear combination"
   ]
  },
  {
   "cell_type": "markdown",
   "metadata": {},
   "source": [
    "A sum of the elements from some set with constant coefficients placed in front of each. For example, a linear combination of the vectors $\\mathbf{x}$, $\\mathbf{y}$, and $\\mathbf{z}$ is given by $a\\mathbf{x}+b\\mathbf{y}+c\\mathbf{z}$, where $a$, $b$, and $c$ are constants.\n",
    "\n",
    "https://mathworld.wolfram.com/LinearCombination.html"
   ]
  },
  {
   "cell_type": "code",
   "execution_count": 49,
   "metadata": {},
   "outputs": [
    {
     "data": {
      "text/plain": [
       "array([4., 5.])"
      ]
     },
     "execution_count": 49,
     "metadata": {},
     "output_type": "execute_result"
    }
   ],
   "source": [
    "a = np.array([1, 2])\n",
    "b = np.array([3, 4])\n",
    "alpha = -0.5\n",
    "beta = 1.5\n",
    "c = alpha*a + beta*b\n",
    "c"
   ]
  },
  {
   "cell_type": "code",
   "execution_count": 50,
   "metadata": {},
   "outputs": [
    {
     "data": {
      "text/plain": [
       "array([4., 5.])"
      ]
     },
     "execution_count": 50,
     "metadata": {},
     "output_type": "execute_result"
    }
   ],
   "source": [
    "def linear_combination(coef, vectors):\n",
    "    \"\"\"Linear combination of vectors\"\"\"\n",
    "    n = len(vectors[0])\n",
    "    comb = np.zeros(n)\n",
    "    for i in range(len(vectors)):\n",
    "        comb = comb + coef[i] * vectors[i]\n",
    "    return comb\n",
    "\n",
    "linear_combination([alpha, beta], [a,b])"
   ]
  },
  {
   "cell_type": "code",
   "execution_count": 51,
   "metadata": {},
   "outputs": [
    {
     "data": {
      "text/plain": [
       "array([4., 5.])"
      ]
     },
     "execution_count": 51,
     "metadata": {},
     "output_type": "execute_result"
    }
   ],
   "source": [
    "def compact_linear_combination(coef, vectors):\n",
    "    return sum(coef[i]*vectors[i] for i in range(len(vectors)))\n",
    "\n",
    "compact_linear_combination([alpha, beta], (a,b))"
   ]
  },
  {
   "cell_type": "markdown",
   "metadata": {},
   "source": [
    "## Checking properties"
   ]
  },
  {
   "cell_type": "markdown",
   "metadata": {},
   "source": [
    "Let’s check the distributive property:\n",
    "$$\\beta(a + b) = \\beta a + \\beta b$$"
   ]
  },
  {
   "cell_type": "code",
   "execution_count": 52,
   "metadata": {},
   "outputs": [
    {
     "name": "stdout",
     "output_type": "stream",
     "text": [
      "a : [0.71644571 0.29963852 0.25407025]\n",
      "b : [0.7524274  0.73360239 0.0283098 ]\n",
      "beta : 0.22433693454400006\n",
      "LHS : [0.32952249 0.2317941  0.06334827]\n",
      "RHS : [0.32952249 0.2317941  0.06334827]\n",
      "LHS == RHS : [ True False  True]\n"
     ]
    }
   ],
   "source": [
    "rng = np.random.default_rng()\n",
    "a = rng.random(3)\n",
    "b = rng.random(3)\n",
    "beta = np.random.random()\n",
    "lhs = beta * (a + b)\n",
    "rhs = beta * a + beta * b\n",
    "print('a :', a)\n",
    "print('b :', b)\n",
    "print('beta :', beta)\n",
    "print('LHS :', lhs)\n",
    "print('RHS :', rhs)\n",
    "print('LHS == RHS :', lhs == rhs)"
   ]
  },
  {
   "cell_type": "markdown",
   "metadata": {},
   "source": [
    "Although the two vectors **lhs** and **rhs** are displayed as the same, they might not be\n",
    "exactly the same, due to very small round-off errors in floating point computations.\n",
    "When we check an identity using random numbers, we can expect that the left-hand\n",
    "and right-hand sides of the identity are not exactly the same, but very close to each\n",
    "other."
   ]
  },
  {
   "cell_type": "markdown",
   "metadata": {},
   "source": [
    "# 1.4 Inner product"
   ]
  },
  {
   "cell_type": "markdown",
   "metadata": {},
   "source": [
    "## Inner product\n",
    "The inner product of n-vectors $x$ and $y$ is denoted as $x^\\top y = \\sum_{i=1}^{n}x_iy_i$.\n",
    "\n",
    "https://en.wikipedia.org/wiki/Inner_product_space"
   ]
  },
  {
   "cell_type": "code",
   "execution_count": null,
   "metadata": {},
   "outputs": [],
   "source": [
    "x = np.array([-1,2,2])\n",
    "y = np.array([1,0,-3])"
   ]
  },
  {
   "cell_type": "markdown",
   "metadata": {},
   "source": [
    "inner(a, b)\n",
    "\n",
    "Inner product of two arrays.\n",
    "\n",
    "Ordinary inner product of vectors for 1-D arrays (without complex\n",
    "conjugation), in higher dimensions a sum product over the last axes."
   ]
  },
  {
   "cell_type": "code",
   "execution_count": 53,
   "metadata": {},
   "outputs": [
    {
     "data": {
      "text/plain": [
       "-7"
      ]
     },
     "execution_count": 53,
     "metadata": {},
     "output_type": "execute_result"
    }
   ],
   "source": [
    "np.inner(x, y)"
   ]
  },
  {
   "cell_type": "markdown",
   "metadata": {},
   "source": [
    "dot(a, b, out=None)\n",
    "\n",
    "Dot product of two arrays. Specifically,\n",
    "\n",
    "- If both `a` and `b` are 1-D arrays, it is inner product of vectors\n",
    "  (without complex conjugation).\n",
    "\n",
    "- If both `a` and `b` are 2-D arrays, it is matrix multiplication,\n",
    "  but using :func:`matmul` or ``a @ b`` is preferred.\n",
    "\n",
    "- If either `a` or `b` is 0-D (scalar), it is equivalent to :func:`multiply`\n",
    "  and using ``numpy.multiply(a, b)`` or ``a * b`` is preferred.\n",
    "\n",
    "- If `a` is an N-D array and `b` is a 1-D array, it is a sum product over\n",
    "  the last axis of `a` and `b`.\n",
    "\n",
    "- If `a` is an N-D array and `b` is an M-D array (where ``M>=2``), it is a\n",
    "  sum product over the last axis of `a` and the second-to-last axis of `b`::\n",
    "\n",
    "    dot(a, b)[i,j,k,m] = sum(a[i,j,:] * b[k,:,m])"
   ]
  },
  {
   "cell_type": "code",
   "execution_count": 58,
   "metadata": {},
   "outputs": [
    {
     "data": {
      "text/plain": [
       "-7"
      ]
     },
     "execution_count": 58,
     "metadata": {},
     "output_type": "execute_result"
    }
   ],
   "source": [
    "np.dot(x, y)"
   ]
  },
  {
   "cell_type": "markdown",
   "metadata": {},
   "source": [
    "## Net present value\n",
    "As an example, the following code snippet finds the net\n",
    "present value (NPV) of a cash flow vector $c$, with per-period interest rate $r$."
   ]
  },
  {
   "cell_type": "code",
   "execution_count": 60,
   "metadata": {},
   "outputs": [
    {
     "name": "stdout",
     "output_type": "stream",
     "text": [
      "1.236162401468524\n"
     ]
    }
   ],
   "source": [
    " import numpy as np\n",
    "c = np.array([0.1,0.1,0.1,1.1]) #cash flow vector\n",
    "n = len(c)\n",
    "r = 0.05  # 5% per-period interest rate\n",
    "d = np.array([(1+r)**-i for i in range(n)])  # (1+r)^0, (1+r)^1, ..., (1+r)^(n-1)\n",
    "NPV = c @ d\n",
    "print(NPV)"
   ]
  },
  {
   "cell_type": "markdown",
   "metadata": {},
   "source": [
    "## Total school-age population\n",
    "Suppose that the 100-vector $x$ gives the age distribution of some population, with $x_i$ the number of people of age $i − 1$, for $i = 1, . . . , 100$. The total number of people with age between 5 and 18 (inclusive) is given by \n",
    "$$x_6+x_7+\\cdot\\cdot\\cdot+x_{18}+x_{19}$$\n",
    "We can express this as $s^\\top x$, where $s$ is the vector with entries one for $i = 6, . . . , 19$\n",
    "and zero otherwise."
   ]
  },
  {
   "cell_type": "code",
   "execution_count": 65,
   "metadata": {},
   "outputs": [
    {
     "data": {
      "text/plain": [
       "68031.0"
      ]
     },
     "execution_count": 65,
     "metadata": {},
     "output_type": "execute_result"
    }
   ],
   "source": [
    "s = np.concatenate([np.zeros(5), np.ones(14), np.zeros(81)])\n",
    "x = [np.random.randint(0, 10001) for i in range(100)]\n",
    "school_age_pop = s @ x\n",
    "school_age_pop"
   ]
  },
  {
   "cell_type": "markdown",
   "metadata": {},
   "source": [
    "# 1.5 Complexity of vector computations"
   ]
  },
  {
   "cell_type": "markdown",
   "metadata": {},
   "source": [
    "## Floating point operations\n",
    "For any two numbers $a$ and $b$, we have $(a+b)(a−b) = a^2−b^2$.\n",
    "When a computer calculates the left-hand and right-hand side, for specific numbers $a$\n",
    "and $b$, they need not be exactly the same, due to very small floating point round-off\n",
    "errors. But they should be very nearly the same"
   ]
  },
  {
   "cell_type": "code",
   "execution_count": 66,
   "metadata": {},
   "outputs": [
    {
     "name": "stdout",
     "output_type": "stream",
     "text": [
      "-5.551115123125783e-17\n"
     ]
    }
   ],
   "source": [
    "a = np.random.random()\n",
    "b = np.random.random()\n",
    "lhs = (a+b) * (a-b)\n",
    "rhs = a**2 - b**2\n",
    "print(lhs - rhs)"
   ]
  },
  {
   "cell_type": "markdown",
   "metadata": {},
   "source": [
    "## Complexity"
   ]
  },
  {
   "cell_type": "code",
   "execution_count": 141,
   "metadata": {},
   "outputs": [],
   "source": [
    "a, b = np.random.randn(10**5), np.random.randn(10**5)"
   ]
  },
  {
   "cell_type": "code",
   "execution_count": 142,
   "metadata": {},
   "outputs": [
    {
     "name": "stdout",
     "output_type": "stream",
     "text": [
      "15.2 µs ± 774 ns per loop (mean ± std. dev. of 7 runs, 100000 loops each)\n"
     ]
    }
   ],
   "source": [
    "%timeit np.inner(a, b)"
   ]
  },
  {
   "cell_type": "code",
   "execution_count": 143,
   "metadata": {},
   "outputs": [
    {
     "name": "stdout",
     "output_type": "stream",
     "text": [
      "16 µs ± 746 ns per loop (mean ± std. dev. of 7 runs, 100000 loops each)\n"
     ]
    }
   ],
   "source": [
    "%timeit np.inner(a, b)"
   ]
  },
  {
   "cell_type": "code",
   "execution_count": 144,
   "metadata": {},
   "outputs": [],
   "source": [
    "a, b = np.random.randn(10**6), np.random.randn(10**6)"
   ]
  },
  {
   "cell_type": "code",
   "execution_count": 145,
   "metadata": {},
   "outputs": [
    {
     "name": "stdout",
     "output_type": "stream",
     "text": [
      "510 µs ± 39.2 µs per loop (mean ± std. dev. of 7 runs, 1000 loops each)\n"
     ]
    }
   ],
   "source": [
    "%timeit np.inner(a, b)"
   ]
  },
  {
   "cell_type": "code",
   "execution_count": 146,
   "metadata": {},
   "outputs": [
    {
     "name": "stdout",
     "output_type": "stream",
     "text": [
      "548 µs ± 62.1 µs per loop (mean ± std. dev. of 7 runs, 1000 loops each)\n"
     ]
    }
   ],
   "source": [
    "%timeit np.inner(a, b)"
   ]
  },
  {
   "cell_type": "code",
   "execution_count": 151,
   "metadata": {},
   "outputs": [
    {
     "data": {
      "text/plain": [
       "3.6496350364963503"
      ]
     },
     "execution_count": 151,
     "metadata": {},
     "output_type": "execute_result"
    }
   ],
   "source": [
    "(2* 10**6) / 0.000548 / 1e9"
   ]
  },
  {
   "cell_type": "markdown",
   "metadata": {},
   "source": [
    "The first inner product, of vectors of length $10^5$, takes around 0.000016 seconds;\n",
    "the second, with vectors of length $10^6$ (tens times bigger), product takes around\n",
    "0.00054 seconds, about 10 longer. This is predicted by the complexity of the inner\n",
    "product, which is 2n − 1 flops. The computer on which the computations were\n",
    "done is capable of around $2 · 10^6/0.000548$ flops per second, i.e., around 3.6 Gflop/s.\n",
    "These timings, and the estimate of computer speed, are very approximate."
   ]
  },
  {
   "cell_type": "markdown",
   "metadata": {},
   "source": [
    "## Sparse vectors\n"
   ]
  },
  {
   "cell_type": "code",
   "execution_count": 177,
   "metadata": {},
   "outputs": [
    {
     "name": "stdout",
     "output_type": "stream",
     "text": [
      "273 µs ± 12.4 µs per loop (mean ± std. dev. of 7 runs, 1000 loops each)\n"
     ]
    }
   ],
   "source": [
    "I = np.array([4,7,8,9])\n",
    "J = np.array([0,0,0,0])\n",
    "V = np.array([100.,200,300,400])\n",
    "A = sparse.coo_matrix((V,(I,J)),shape = (10000,1))\n",
    "A\n",
    "%timeit np.dot(A.T, A)"
   ]
  },
  {
   "cell_type": "code",
   "execution_count": 178,
   "metadata": {},
   "outputs": [
    {
     "name": "stdout",
     "output_type": "stream",
     "text": [
      "205 µs ± 6.17 µs per loop (mean ± std. dev. of 7 runs, 1000 loops each)\n"
     ]
    }
   ],
   "source": [
    "A = A.tocsc()\n",
    "%timeit np.dot(A.T, A)"
   ]
  },
  {
   "cell_type": "code",
   "execution_count": 179,
   "metadata": {},
   "outputs": [
    {
     "name": "stdout",
     "output_type": "stream",
     "text": [
      "212 µs ± 11.3 µs per loop (mean ± std. dev. of 7 runs, 1000 loops each)\n"
     ]
    }
   ],
   "source": [
    "A = A.tocsr()\n",
    "%timeit np.dot(A.T, A)"
   ]
  },
  {
   "cell_type": "code",
   "execution_count": 180,
   "metadata": {},
   "outputs": [
    {
     "name": "stdout",
     "output_type": "stream",
     "text": [
      "5.14 µs ± 101 ns per loop (mean ± std. dev. of 7 runs, 100000 loops each)\n"
     ]
    }
   ],
   "source": [
    "A = A.todense()\n",
    "%timeit np.dot(A.T, A)"
   ]
  }
 ],
 "metadata": {
  "kernelspec": {
   "display_name": "Python 3",
   "language": "python",
   "name": "python3"
  },
  "language_info": {
   "codemirror_mode": {
    "name": "ipython",
    "version": 3
   },
   "file_extension": ".py",
   "mimetype": "text/x-python",
   "name": "python",
   "nbconvert_exporter": "python",
   "pygments_lexer": "ipython3",
   "version": "3.7.6"
  }
 },
 "nbformat": 4,
 "nbformat_minor": 4
}
