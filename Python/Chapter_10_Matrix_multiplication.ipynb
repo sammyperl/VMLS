{
 "cells": [
  {
   "cell_type": "code",
   "execution_count": 50,
   "metadata": {},
   "outputs": [],
   "source": [
    "import numpy as np\n",
    "import matplotlib.pyplot as plt\n",
    "\n",
    "from IPython.display import display\n",
    "from IPython.display import Latex\n",
    "\n",
    "from dataset import population_data\n",
    "from vmls import gram_schmidt"
   ]
  },
  {
   "cell_type": "markdown",
   "metadata": {},
   "source": [
    "# 10.1 Matrix-matrix multiplication"
   ]
  },
  {
   "cell_type": "code",
   "execution_count": 2,
   "metadata": {},
   "outputs": [
    {
     "name": "stdout",
     "output_type": "stream",
     "text": [
      "A:\n",
      "[[-1.5  3.   2. ]\n",
      " [ 1.  -1.   0. ]]\n",
      "B:\n",
      "[[-1 -1]\n",
      " [ 0 -2]\n",
      " [ 1  0]]\n",
      "C:\n",
      "[[ 3.5 -4.5]\n",
      " [-1.   1. ]]\n"
     ]
    }
   ],
   "source": [
    "A = np.array([[-1.5, 3, 2],\n",
    "              [1, -1, 0]])  # 2 by 3 matrix\n",
    "B = np.array([[-1, -1],\n",
    "              [0, -2],\n",
    "              [1, 0]])  # 3 by 2 matrix\n",
    "C = A @ B\n",
    "\n",
    "print('A:')\n",
    "print(A)\n",
    "print('B:')\n",
    "print(B)\n",
    "print('C:')\n",
    "print(C)"
   ]
  },
  {
   "cell_type": "code",
   "execution_count": 3,
   "metadata": {},
   "outputs": [
    {
     "name": "stdout",
     "output_type": "stream",
     "text": [
      "[[ 3.5 -4.5]\n",
      " [-1.   1. ]]\n"
     ]
    }
   ],
   "source": [
    "C = np.matmul(A, B)\n",
    "print(C)"
   ]
  },
  {
   "cell_type": "markdown",
   "metadata": {},
   "source": [
    "## Scalar-vector product"
   ]
  },
  {
   "cell_type": "code",
   "execution_count": 4,
   "metadata": {},
   "outputs": [
    {
     "name": "stdout",
     "output_type": "stream",
     "text": [
      "x:\n",
      "[[1]\n",
      " [7]\n",
      " [6]]\n",
      "a:\n",
      "[[4]]\n",
      "xa:\n",
      "[[ 4]\n",
      " [28]\n",
      " [24]]\n"
     ]
    }
   ],
   "source": [
    "a = np.array([[4]])\n",
    "x = np.array([[1],\n",
    "              [7],\n",
    "              [6]])\n",
    "print('x:')\n",
    "print(x)\n",
    "print('a:')\n",
    "print(a)\n",
    "print('xa:')\n",
    "print(x @ a)"
   ]
  },
  {
   "cell_type": "markdown",
   "metadata": {},
   "source": [
    "## Inner product"
   ]
  },
  {
   "cell_type": "code",
   "execution_count": 5,
   "metadata": {},
   "outputs": [
    {
     "name": "stdout",
     "output_type": "stream",
     "text": [
      "a:\n",
      "[[1]\n",
      " [2]\n",
      " [0]]\n",
      "b:\n",
      "[[2]\n",
      " [2]\n",
      " [1]]\n"
     ]
    },
    {
     "data": {
      "text/latex": [
       "$a^Tb$:"
      ],
      "text/plain": [
       "<IPython.core.display.Latex object>"
      ]
     },
     "metadata": {},
     "output_type": "display_data"
    },
    {
     "name": "stdout",
     "output_type": "stream",
     "text": [
      "[[6]]\n"
     ]
    }
   ],
   "source": [
    "a = np.random.randint(0, 5, size=(3, 1))\n",
    "b = np.random.randint(0, 5, size=(3, 1))\n",
    "\n",
    "print('a:')\n",
    "print(a)\n",
    "print('b:')\n",
    "print(b)\n",
    "display(Latex('$a^Tb$:'))\n",
    "print(a.T @ b)"
   ]
  },
  {
   "cell_type": "markdown",
   "metadata": {},
   "source": [
    "## Matrix-vector multiplication"
   ]
  },
  {
   "cell_type": "code",
   "execution_count": 6,
   "metadata": {},
   "outputs": [
    {
     "name": "stdout",
     "output_type": "stream",
     "text": [
      "A:\n",
      "[[3 3 1 3]\n",
      " [0 3 0 0]\n",
      " [2 0 0 2]]\n",
      "x:\n",
      "[[4]\n",
      " [3]\n",
      " [1]\n",
      " [1]]\n"
     ]
    },
    {
     "data": {
      "text/latex": [
       "$Ax$:"
      ],
      "text/plain": [
       "<IPython.core.display.Latex object>"
      ]
     },
     "metadata": {},
     "output_type": "display_data"
    },
    {
     "name": "stdout",
     "output_type": "stream",
     "text": [
      "[[25]\n",
      " [ 9]\n",
      " [10]]\n"
     ]
    }
   ],
   "source": [
    "A = np.random.randint(0, 5, size=(3, 4))\n",
    "x = np.random.randint(0, 5, size=(4, 1))\n",
    "\n",
    "print('A:')\n",
    "print(A)\n",
    "print('x:')\n",
    "print(x)\n",
    "display(Latex('$Ax$:'))\n",
    "print(A @ x)"
   ]
  },
  {
   "cell_type": "markdown",
   "metadata": {},
   "source": [
    "## Vector outer product"
   ]
  },
  {
   "cell_type": "code",
   "execution_count": 7,
   "metadata": {},
   "outputs": [
    {
     "name": "stdout",
     "output_type": "stream",
     "text": [
      "a:\n",
      "[[3]\n",
      " [1]\n",
      " [4]\n",
      " [2]]\n",
      "b:\n",
      "[[4]\n",
      " [4]\n",
      " [4]]\n"
     ]
    },
    {
     "data": {
      "text/latex": [
       "$ab^T$:"
      ],
      "text/plain": [
       "<IPython.core.display.Latex object>"
      ]
     },
     "metadata": {},
     "output_type": "display_data"
    },
    {
     "name": "stdout",
     "output_type": "stream",
     "text": [
      "[[12 12 12]\n",
      " [ 4  4  4]\n",
      " [16 16 16]\n",
      " [ 8  8  8]]\n"
     ]
    }
   ],
   "source": [
    "a = np.random.randint(0, 5, size=(4, 1))\n",
    "b = np.random.randint(0, 5, size=(3, 1))\n",
    "\n",
    "print('a:')\n",
    "print(a)\n",
    "print('b:')\n",
    "print(b)\n",
    "display(Latex('$ab^T$:'))\n",
    "print(a @ b.T)"
   ]
  },
  {
   "cell_type": "markdown",
   "metadata": {},
   "source": [
    "## Properties of matrix multiplication"
   ]
  },
  {
   "cell_type": "markdown",
   "metadata": {},
   "source": [
    "We assume that $A$, $B$, and $C$ are matrices for which all the operations below are valid, and that $\\gamma$ is a scalar.\n",
    "- Associativity: $(AB)C = A(BC)$.\n",
    "- Associativity with scalar multiplication: $\\gamma(AB) = (\\gamma A)B$\n",
    "- Distributivity with addition: $A(B+C) = AB+AC$ and $(A+B)C = AC+BC$\n",
    "- Transpose of product: $(AB)^T = B^T A^T$\n",
    "- Multiplication by identity: $AI = A$ and $IA = A$\n",
    "- $AB = BA$ does not hold in general"
   ]
  },
  {
   "cell_type": "code",
   "execution_count": 8,
   "metadata": {},
   "outputs": [
    {
     "name": "stdout",
     "output_type": "stream",
     "text": [
      "[[257 209 181]\n",
      " [172 138 124]\n",
      " [354 301 301]\n",
      " [468 396 379]]\n",
      "[[257 209 181]\n",
      " [172 138 124]\n",
      " [354 301 301]\n",
      " [468 396 379]]\n"
     ]
    }
   ],
   "source": [
    "m = 4\n",
    "p = 5\n",
    "n = 3\n",
    "\n",
    "A = np.random.randint(0, 5, size=(m, p))\n",
    "B = np.random.randint(0, 5, size=(p, p))\n",
    "C = np.random.randint(0, 5, size=(p, n))\n",
    "\n",
    "print((A @ B) @ C)\n",
    "print(A @ (B @ C))"
   ]
  },
  {
   "cell_type": "code",
   "execution_count": 9,
   "metadata": {},
   "outputs": [
    {
     "name": "stdout",
     "output_type": "stream",
     "text": [
      "[[66 30 54]\n",
      " [27 45 69]\n",
      " [36 33 51]\n",
      " [78 66 90]]\n",
      "[[66 30 54]\n",
      " [27 45 69]\n",
      " [36 33 51]\n",
      " [78 66 90]]\n"
     ]
    }
   ],
   "source": [
    "a = 3\n",
    "m = 4\n",
    "p = 5\n",
    "n = 3\n",
    "\n",
    "A = np.random.randint(0, 5, size=(m, p))\n",
    "B = np.random.randint(0, 5, size=(p, n))\n",
    "\n",
    "print(3 * (A @ B))\n",
    "print((3 * A) @ B)"
   ]
  },
  {
   "cell_type": "code",
   "execution_count": 10,
   "metadata": {},
   "outputs": [
    {
     "name": "stdout",
     "output_type": "stream",
     "text": [
      "[[49 45 50]\n",
      " [30 26 26]\n",
      " [77 46 52]\n",
      " [38 26 29]]\n",
      "[[49 45 50]\n",
      " [30 26 26]\n",
      " [77 46 52]\n",
      " [38 26 29]]\n"
     ]
    }
   ],
   "source": [
    "m = 4\n",
    "p = 5\n",
    "n = 3\n",
    "\n",
    "A = np.random.randint(0, 5, size=(m, p))\n",
    "B = np.random.randint(0, 5, size=(p, n))\n",
    "C = np.random.randint(0, 5, size=(p, n))\n",
    "\n",
    "print(A @ (B + C))\n",
    "print(A @ B + A @ C)"
   ]
  },
  {
   "cell_type": "code",
   "execution_count": 11,
   "metadata": {},
   "outputs": [
    {
     "name": "stdout",
     "output_type": "stream",
     "text": [
      "[[ 0 10  4 14]\n",
      " [ 1 19 14 17]\n",
      " [ 5 25 27 23]]\n",
      "[[ 0 10  4 14]\n",
      " [ 1 19 14 17]\n",
      " [ 5 25 27 23]]\n"
     ]
    }
   ],
   "source": [
    "m = 4\n",
    "p = 5\n",
    "n = 3\n",
    "\n",
    "A = np.random.randint(0, 5, size=(m, p))\n",
    "B = np.random.randint(0, 5, size=(p, n))\n",
    "\n",
    "print((A @ B).T)\n",
    "print(B.T @ A.T)"
   ]
  },
  {
   "cell_type": "markdown",
   "metadata": {},
   "source": [
    "## Inner product and matrix-vector products"
   ]
  },
  {
   "cell_type": "markdown",
   "metadata": {},
   "source": [
    "$A$ is m × n, $x$ is an n-vector, and $y$ is an m-vector, then\n",
    "$$y^T(Ax) = (y^T A)x = (A^Ty)^T x$$\n",
    "i.e., the inner product of $y$ and $Ax$ is equal to the inner product of $x$ and $A^T y$."
   ]
  },
  {
   "cell_type": "code",
   "execution_count": 12,
   "metadata": {},
   "outputs": [
    {
     "name": "stdout",
     "output_type": "stream",
     "text": [
      "[[156]]\n",
      "[[156]]\n"
     ]
    }
   ],
   "source": [
    "m = 4\n",
    "n = 3\n",
    "A = np.random.randint(0, 5, size=(m, n))\n",
    "x = np.random.randint(0, 5, size=(n, 1))\n",
    "y = np.random.randint(0, 5, size=(m, 1))\n",
    "\n",
    "print(y.T @ (A @ x))\n",
    "print((A.T @ y).T @ x)"
   ]
  },
  {
   "cell_type": "markdown",
   "metadata": {},
   "source": [
    "## Products of block matrices"
   ]
  },
  {
   "cell_type": "markdown",
   "metadata": {},
   "source": [
    "$$\n",
    "\\begin{bmatrix}\n",
    "A & B \\\\\n",
    "C & D \n",
    "\\end{bmatrix}\n",
    "\\begin{bmatrix}\n",
    "E & F \\\\\n",
    "G & H \n",
    "\\end{bmatrix}\n",
    "=\n",
    "\\begin{bmatrix}\n",
    "AE + BG & AF + BH \\\\\n",
    "CE + DG & CF + DH \n",
    "\\end{bmatrix}\n",
    "$$"
   ]
  },
  {
   "cell_type": "markdown",
   "metadata": {},
   "source": [
    "## Column interpretation of matrix-matrix product"
   ]
  },
  {
   "cell_type": "markdown",
   "metadata": {},
   "source": [
    "$$AB = A\\begin{bmatrix}b_1 & b_2 & \\cdots & b_n\\end{bmatrix}= \\begin{bmatrix} Ab_1 & Ab_2 & \\cdots & Ab_n\\end{bmatrix}$$"
   ]
  },
  {
   "cell_type": "markdown",
   "metadata": {},
   "source": [
    "## Row interpretation of matrix-matrix product"
   ]
  },
  {
   "cell_type": "markdown",
   "metadata": {},
   "source": [
    "Let $a^T_1, \\ldots , a^T_m$ be the rows of A. Then we have\n",
    "\n",
    "$$\n",
    "AB = \n",
    "\\begin{bmatrix}\n",
    "a^T_1 \\\\\n",
    "a^T_2 \\\\\n",
    "\\vdots \\\\\n",
    "a^T_m\n",
    "\\end{bmatrix}\n",
    "B\n",
    "=\n",
    "\\begin{bmatrix}\n",
    "a^T_1 B \\\\\n",
    "a^T_2 B \\\\\n",
    "\\vdots \\\\\n",
    "a^T_mB\n",
    "\\end{bmatrix}\n",
    "=\n",
    "\\begin{bmatrix}\n",
    "(B^T a_1)^T \\\\\n",
    "(B^T a_2)^T \\\\\n",
    "\\vdots \\\\\n",
    "(B^T a_m)^T\n",
    "\\end{bmatrix}\n",
    "$$\n"
   ]
  },
  {
   "cell_type": "markdown",
   "metadata": {},
   "source": [
    "# Outer product representation"
   ]
  },
  {
   "cell_type": "markdown",
   "metadata": {},
   "source": [
    "We express the m × p matrix $A$ in terms of its columns $a_1, \\ldots, a_p$ and the p × n matrix B in terms of its rows $b^T_1, \\ldots, b^T_p$,\n",
    "\n",
    "$$\n",
    "A = \\begin{bmatrix}\n",
    "a_1 & \\cdots & a_p\n",
    "\\end{bmatrix}\n",
    ", \\quad\n",
    "B = \\begin{bmatrix}\n",
    "b^T_1 \\\\\n",
    "\\vdots \\\\\n",
    "b^T_p\n",
    "\\end{bmatrix}\n",
    "$$\n",
    "\n",
    "then we can express the product matrix AB as a sum of outer products:\n",
    "\n",
    "$$\n",
    "AB = a_1 b^T_1 + \\cdots + a_p b^T_p\n",
    "$$"
   ]
  },
  {
   "cell_type": "markdown",
   "metadata": {},
   "source": [
    "# Gram matrix"
   ]
  },
  {
   "cell_type": "markdown",
   "metadata": {},
   "source": [
    "The Gram matrix of a matrix $A$ is the matrix $G = A^T A$. \n",
    "It is a symmetric matrix and the $i$, $j$ element $G_{i,j}$ is the inner product of columns $i$ and $j$ of $A$\n",
    "$$G^T = (A^T A)^T = (A^T) (A^T)^T = A^T A = G$$"
   ]
  },
  {
   "cell_type": "code",
   "execution_count": 14,
   "metadata": {},
   "outputs": [
    {
     "name": "stdout",
     "output_type": "stream",
     "text": [
      "[[ 5.25101531  0.9836884  -4.17198426]\n",
      " [ 0.9836884   9.22344518  1.3352915 ]\n",
      " [-4.17198426  1.3352915  21.32894309]]\n"
     ]
    }
   ],
   "source": [
    "A = np.random.normal(size = (10,3))\n",
    "G = A.T @ A\n",
    "print(G)"
   ]
  },
  {
   "cell_type": "code",
   "execution_count": 15,
   "metadata": {},
   "outputs": [
    {
     "data": {
      "text/plain": [
       "9.223445175305121"
      ]
     },
     "execution_count": 15,
     "metadata": {},
     "output_type": "execute_result"
    }
   ],
   "source": [
    "# Gii is norm of column i, squared\n",
    "G[1, 1]"
   ]
  },
  {
   "cell_type": "code",
   "execution_count": 16,
   "metadata": {},
   "outputs": [
    {
     "data": {
      "text/plain": [
       "9.223445175305121"
      ]
     },
     "execution_count": 16,
     "metadata": {},
     "output_type": "execute_result"
    }
   ],
   "source": [
    "np.linalg.norm(A[:, 1])**2"
   ]
  },
  {
   "cell_type": "code",
   "execution_count": 17,
   "metadata": {},
   "outputs": [
    {
     "data": {
      "text/plain": [
       "-4.171984264172848"
      ]
     },
     "execution_count": 17,
     "metadata": {},
     "output_type": "execute_result"
    }
   ],
   "source": [
    "# Gij is inner product of columns i and j\n",
    "G[0, 2]"
   ]
  },
  {
   "cell_type": "code",
   "execution_count": 20,
   "metadata": {},
   "outputs": [
    {
     "data": {
      "text/plain": [
       "-4.171984264172849"
      ]
     },
     "execution_count": 20,
     "metadata": {},
     "output_type": "execute_result"
    }
   ],
   "source": [
    "A[:, 0] @ A[:, 2]"
   ]
  },
  {
   "cell_type": "markdown",
   "metadata": {},
   "source": [
    "# Complexity of matrix triple product"
   ]
  },
  {
   "cell_type": "markdown",
   "metadata": {},
   "source": [
    "Let’s check the associative property, which states\n",
    "that (AB)C = A(BC) for any m×n matrix A, any n×p matrix B, and any p×q matrix\n",
    "C. At the same time we will see that the left-hand and right-hand sides take very different\n",
    "amounts of time to compute."
   ]
  },
  {
   "cell_type": "code",
   "execution_count": 25,
   "metadata": {},
   "outputs": [],
   "source": [
    "m = 2000\n",
    "n = 50\n",
    " = 2000\n",
    "p = 2000\n",
    " = np.random.normal(size = (m,n))\n",
    "= np.random.normal(size = (n,p))\n",
    "C = np.random.normal(size = (p,q))"
   ]
  },
  {
   "cell_type": "code",
   "execution_count": 29,
   "metadata": {},
   "outputs": [
    {
     "name": "stdout",
     "output_type": "stream",
     "text": [
      "107 ms ± 11.5 ms per loop (mean ± std. dev. of 7 runs, 10 loops each)\n"
     ]
    }
   ],
   "source": [
    "%timeit LHS = (A @ B) @ C  # 2mp(n + q) flops\n",
    "LHS = (A @ B) @ C"
   ]
  },
  {
   "cell_type": "code",
   "execution_count": 30,
   "metadata": {},
   "outputs": [
    {
     "name": "stdout",
     "output_type": "stream",
     "text": [
      "13.4 ms ± 417 µs per loop (mean ± std. dev. of 7 runs, 100 loops each)\n"
     ]
    }
   ],
   "source": [
    "%timeit RHS = A @ (B @ C)  # 2nq(m + p) flops\n",
    "RHS = A @ (B @ C)"
   ]
  },
  {
   "cell_type": "code",
   "execution_count": 31,
   "metadata": {},
   "outputs": [
    {
     "data": {
      "text/plain": [
       "5.009930209010526e-10"
      ]
     },
     "execution_count": 31,
     "metadata": {},
     "output_type": "execute_result"
    }
   ],
   "source": [
    "np.linalg.norm(LHS - RHS)"
   ]
  },
  {
   "cell_type": "code",
   "execution_count": 35,
   "metadata": {},
   "outputs": [
    {
     "name": "stdout",
     "output_type": "stream",
     "text": [
      "104 ms ± 8.69 ms per loop (mean ± std. dev. of 7 runs, 10 loops each)\n"
     ]
    }
   ],
   "source": [
    "%timeit D = A @ B @ C  # Evaluated as (A@B)@C or as A@(B@C)?"
   ]
  },
  {
   "cell_type": "markdown",
   "metadata": {},
   "source": [
    "# 10.2 Composition of linear functions"
   ]
  },
  {
   "cell_type": "markdown",
   "metadata": {},
   "source": [
    "## Matrix-matrix products and composition"
   ]
  },
  {
   "cell_type": "markdown",
   "metadata": {},
   "source": [
    "Suppose $A$ is an m × p matrix and $B$ is p × n. We can associate with these matrices two linear functions $f : \\mathbb{R}^p \\rightarrow \\mathbb{R}^m$ and $g : \\mathbb{R}^n \\rightarrow \\mathbb{R}^p$, defined as $f(x) = Ax$ and $g(x) = Bx$. The composition of the two functions is the function $h : \\mathbb{R}^n \\rightarrow \\mathbb{R}^m$ with\n",
    "\n",
    "$$\n",
    "h(x) = f(g(x)) = A(Bx) = (AB)x\n",
    "$$"
   ]
  },
  {
   "cell_type": "markdown",
   "metadata": {},
   "source": [
    "## Second difference matrix"
   ]
  },
  {
   "cell_type": "code",
   "execution_count": 36,
   "metadata": {},
   "outputs": [
    {
     "data": {
      "text/plain": [
       "array([[-1.,  1.,  0.,  0.,  0.],\n",
       "       [ 0., -1.,  1.,  0.,  0.],\n",
       "       [ 0.,  0., -1.,  1.,  0.],\n",
       "       [ 0.,  0.,  0., -1.,  1.]])"
      ]
     },
     "execution_count": 36,
     "metadata": {},
     "output_type": "execute_result"
    }
   ],
   "source": [
    "D = lambda n: np.c_[-np.identity(n-1), np.zeros(n-1)] + np.c_[np.zeros(n-1), np.identity(n-1)]\n",
    "D(5)"
   ]
  },
  {
   "cell_type": "code",
   "execution_count": 38,
   "metadata": {},
   "outputs": [
    {
     "data": {
      "text/plain": [
       "array([[-1.,  1.,  0.,  0.],\n",
       "       [ 0., -1.,  1.,  0.],\n",
       "       [ 0.,  0., -1.,  1.]])"
      ]
     },
     "execution_count": 38,
     "metadata": {},
     "output_type": "execute_result"
    }
   ],
   "source": [
    "D(4)"
   ]
  },
  {
   "cell_type": "code",
   "execution_count": 39,
   "metadata": {},
   "outputs": [
    {
     "name": "stdout",
     "output_type": "stream",
     "text": [
      "[[ 1. -2.  1.  0.  0.]\n",
      " [ 0.  1. -2.  1.  0.]\n",
      " [ 0.  0.  1. -2.  1.]]\n"
     ]
    }
   ],
   "source": [
    "Delta = D(4) @ D(5)  # Second difference matrix\n",
    "print(Delta)"
   ]
  },
  {
   "cell_type": "markdown",
   "metadata": {},
   "source": [
    "## Composition of affine functions"
   ]
  },
  {
   "cell_type": "markdown",
   "metadata": {},
   "source": [
    "Suppose $f : \\mathbb{R}^p \\rightarrow \\mathbb{R}^m$ is the affine function given by $f(x) = Ax + b$, and $g : \\mathbb{R}^n \\rightarrow \\mathbb{R}^p$ is the affine function given by $g(x) = Cx + d$. The composition $h$ is given by\n",
    "\n",
    "$$\n",
    "h(x) = f(g(x)) = A(Cx + d) + b = (AC)x + (Ad + b) = \\tilde{A}x + \\tilde{b},\n",
    "$$\n",
    "where $\\tilde{A} = AC,\\ \\tilde{b} = Ad + b$."
   ]
  },
  {
   "cell_type": "markdown",
   "metadata": {},
   "source": [
    "## Chain rule of differentiation"
   ]
  },
  {
   "cell_type": "markdown",
   "metadata": {},
   "source": [
    "Let $f : \\mathbb{R}^p \\rightarrow \\mathbb{R}^m$ and $g : \\mathbb{R}^n \\rightarrow \\mathbb{R}^p$ be **differentiable** functions. The composition of $f$ and $g$ is defined as the function $h : \\mathbb{R}^n \\rightarrow \\mathbb{R}^m$ with\n",
    "$$h(x) = f(g(x)) = f(g1(x), . . . , gp(x))$$\n",
    "\n",
    "Partial derivatives:\n",
    "$$\n",
    "\\frac{\\partial h_i}{\\partial x_j}(z)\n",
    "= \\frac{\\partial f_i}{\\partial y_1}(g(z)) \\frac{\\partial g_1}{\\partial x_j}(z)\n",
    "+ \\cdots \n",
    "+ \\frac{\\partial f_i}{\\partial y_p}(g(z)) \\frac{\\partial g_p}{\\partial x_j}(z)\n",
    "$$\n",
    "for $i = 1, \\ldots, m$ and $j = 1, \\ldots, n$.\n",
    "\n",
    "This relation can be expressed concisely as a **matrix-matrix product**:\n",
    "$$Dh(z) = Df(g(z))Dg(z)$$\n",
    "The derivative matrix of $h$ at $z$ is the product of the derivative matrix of $f$ at $g(z)$ and the derivative matrix of $g$ at $z$.\n",
    "\n",
    "The **first order Taylor approximation** of $h$ at $z$ can therefore be written as\n",
    "$$\n",
    "\\hat{h}(z) \n",
    "= h(z) + Dh(z)(x-z)\n",
    "= f(g(x)) +  Df(g(z))Dg(z)(x-z)\n",
    "$$\n",
    "\n",
    "The same result can be interpreted as a composition of two affine functions."
   ]
  },
  {
   "cell_type": "markdown",
   "metadata": {},
   "source": [
    "# 10.3 Matrix power"
   ]
  },
  {
   "cell_type": "code",
   "execution_count": 40,
   "metadata": {},
   "outputs": [
    {
     "data": {
      "text/plain": [
       "array([[1, 0, 1, 1, 0],\n",
       "       [0, 1, 1, 1, 2],\n",
       "       [1, 0, 1, 2, 1],\n",
       "       [0, 1, 0, 0, 1],\n",
       "       [1, 0, 0, 0, 0]])"
      ]
     },
     "execution_count": 40,
     "metadata": {},
     "output_type": "execute_result"
    }
   ],
   "source": [
    "# adjacency\n",
    "A = np.array([[0, 1, 0, 0, 1],\n",
    "              [1, 0, 1, 0, 0],\n",
    "              [0, 0, 1, 1, 1],\n",
    "              [1, 0, 0, 0, 0],\n",
    "              [0, 0, 0, 1, 0]])\n",
    "\n",
    "np.linalg.matrix_power(A, 2)"
   ]
  },
  {
   "cell_type": "code",
   "execution_count": 41,
   "metadata": {},
   "outputs": [
    {
     "data": {
      "text/plain": [
       "array([[1, 0, 1, 1, 0],\n",
       "       [0, 1, 1, 1, 2],\n",
       "       [1, 0, 1, 2, 1],\n",
       "       [0, 1, 0, 0, 1],\n",
       "       [1, 0, 0, 0, 0]])"
      ]
     },
     "execution_count": 41,
     "metadata": {},
     "output_type": "execute_result"
    }
   ],
   "source": [
    "A @ A"
   ]
  },
  {
   "cell_type": "code",
   "execution_count": 45,
   "metadata": {},
   "outputs": [
    {
     "data": {
      "text/plain": [
       "array([[18, 11, 15, 20, 20],\n",
       "       [25, 14, 21, 28, 26],\n",
       "       [24, 14, 20, 27, 26],\n",
       "       [11,  6,  9, 12, 11],\n",
       "       [ 6,  4,  5,  7,  7]])"
      ]
     },
     "execution_count": 45,
     "metadata": {},
     "output_type": "execute_result"
    }
   ],
   "source": [
    "np.linalg.matrix_power(A, 8)"
   ]
  },
  {
   "cell_type": "code",
   "execution_count": 46,
   "metadata": {},
   "outputs": [
    {
     "name": "stdout",
     "output_type": "stream",
     "text": [
      "[18 14 20 12  7]\n"
     ]
    }
   ],
   "source": [
    "num_of_cycles = np.diag(np.linalg.matrix_power(A, 8))\n",
    "print(num_of_cycles)"
   ]
  },
  {
   "cell_type": "markdown",
   "metadata": {},
   "source": [
    "## Population dynamics"
   ]
  },
  {
   "cell_type": "code",
   "execution_count": 49,
   "metadata": {},
   "outputs": [
    {
     "data": {
      "image/png": "[encoded data removed]",
      "text/plain": [
       "<Figure size 432x288 with 1 Axes>"
      ]
     },
     "metadata": {
      "needs_background": "light"
     },
     "output_type": "display_data"
    }
   ],
   "source": [
    "plt.ion()\n",
    "D = population_data();\n",
    "b = D['birth_rate'];\n",
    "d = D['death_rate'];\n",
    "\n",
    "# Dynamics matrix for populaion dynamics\n",
    "A = np.vstack([b,\n",
    "               np.column_stack([np.diag(1-d[:-1]), np.zeros((len(d)-1))])])\n",
    "\n",
    "# Contribution factor to total poulation in 2020\n",
    "# from each age in 2010\n",
    "cf = np.ones(100) @ np.linalg.matrix_power(A, 10) # Contribution factor\n",
    "\n",
    "plt.plot(cf)\n",
    "plt.xlabel('Age')\n",
    "plt.ylabel('Factor')\n",
    "plt.show()"
   ]
  },
  {
   "cell_type": "markdown",
   "metadata": {},
   "source": [
    "# 10.4 QR factorization"
   ]
  },
  {
   "cell_type": "markdown",
   "metadata": {},
   "source": [
    "## Matrices with orthonormal columns"
   ]
  },
  {
   "cell_type": "markdown",
   "metadata": {},
   "source": [
    "$$A^T A = I,$$\n",
    "where $A$ is the n×k matrix with columns $a+1, \\ldots, a_k$. There is no standard term for a matrix whose columns are orthonormal: We refer to a matrix whose columns are orthonormal as 'a matrix whose columns are orthonormal'. But a *square* matrix that satisfies $A^T A = I$ is called *orthogonal*; its columns are an orthonormal basis."
   ]
  },
  {
   "cell_type": "markdown",
   "metadata": {},
   "source": [
    "## Norm, inner product, and angle properties"
   ]
  },
  {
   "cell_type": "markdown",
   "metadata": {},
   "source": [
    "Suppose the columns of the m × n matrix $A$ are *orthonormal*, and $x$ and $y$ are any n-vectors. We let $f : \\mathbb{R}^n \\rightarrow \\mathbb{R}^m$ be the function that maps $z$ to $Az$\n",
    "\n",
    "- $f$ preserves the inner product between vectors.\n",
    "\n",
    "$$\n",
    "\\begin{align}\n",
    "(Ax)^T(Ay)\n",
    "&= (x^TA^T)(Ay) \\\\\n",
    "&= x^T(A^TA)y \\\\\n",
    "&= x^TIy \\\\\n",
    "&= x^Ty\n",
    "\\end{align}\n",
    "$$\n",
    "\n",
    "- $f$ is norm preserving\n",
    "\n",
    "$$\n",
    "\\begin{align}\n",
    "\\left\\| Ax \\right\\|\n",
    "&= \\sqrt{(Ax)^T(Ax)} \\\\\n",
    "&= \\sqrt{x^Tx} \\\\\n",
    "&= \\left\\| x \\right\\|\n",
    "\\end{align}\n",
    "$$\n",
    "\n",
    "- $f$ preserves angles between vectors.\n",
    "\n",
    "$$\n",
    "\\angle(Ax, Ay)\n",
    "= \\arccos{\\frac{(Ax)^T(Ay)}{\\left\\|Ax\\right\\| \\left\\|Ay\\right\\|}}\n",
    "= \\arccos{\\frac{x^T y}{\\left\\|x\\right\\| \\left\\|y\\right\\|}}\n",
    "= \\angle(x, y)\n",
    "$$"
   ]
  },
  {
   "cell_type": "markdown",
   "metadata": {},
   "source": [
    "## QR factorization"
   ]
  },
  {
   "cell_type": "markdown",
   "metadata": {},
   "source": [
    "$$A=QR$$\n",
    "The equation $Q^T Q = I$ follows from the orthonormality of the vectors $q_1, \\ldots, q_k$. The matrix $R$ is upper triangular because each vector $a_i$ is a linear combination of $q_1, \\ldots, q_i$.\n",
    "\n",
    "The Gram–Schmidt algorithm is not the only algorithm for QR factorization. Several other QR factorization algorithms exist, that are more reliable in the presence of round-off errors.\n",
    "\n",
    "You can refer to https://en.wikipedia.org/wiki/QR_decomposition#Computing_the_QR_decomposition to see other algorithms."
   ]
  },
  {
   "cell_type": "code",
   "execution_count": 51,
   "metadata": {},
   "outputs": [],
   "source": [
    "def QR_factorization(A):\n",
    "    Q_transpose = np.array(gram_schmidt(A.T))\n",
    "    R = Q_transpose @ A\n",
    "    Q = Q_transpose.T\n",
    "    return Q, R\n",
    "    Q, R = QR_factorization(A)"
   ]
  },
  {
   "cell_type": "code",
   "execution_count": 55,
   "metadata": {},
   "outputs": [
    {
     "name": "stdout",
     "output_type": "stream",
     "text": [
      "Vectors are linearly independent.\n"
     ]
    }
   ],
   "source": [
    "A = np.random.normal(size = (6,4))\n",
    "Q, R = np.linalg.qr(A)\n",
    "q, r = QR_factorization(A)"
   ]
  },
  {
   "cell_type": "code",
   "execution_count": 57,
   "metadata": {},
   "outputs": [
    {
     "data": {
      "text/plain": [
       "array([[-0.00370264, -0.55700317,  0.18075507,  0.06713369],\n",
       "       [ 0.4683758 , -0.27923937,  0.62756198, -0.27369696],\n",
       "       [ 0.72029579,  0.35894896, -0.39811374, -0.08976478],\n",
       "       [ 0.08974803, -0.4824891 , -0.47041682, -0.64638723],\n",
       "       [-0.47677813,  0.3141264 ,  0.07303832, -0.63194272],\n",
       "       [-0.16251857, -0.38917524, -0.43401893,  0.30879973]])"
      ]
     },
     "execution_count": 57,
     "metadata": {},
     "output_type": "execute_result"
    }
   ],
   "source": [
    "Q"
   ]
  },
  {
   "cell_type": "code",
   "execution_count": 58,
   "metadata": {},
   "outputs": [
    {
     "data": {
      "text/plain": [
       "array([[ 3.03432063, -2.09559862, -0.33819297,  0.01562734],\n",
       "       [ 0.        , -1.32791269, -0.2371698 ,  0.96625251],\n",
       "       [ 0.        ,  0.        , -2.12304669, -1.23548137],\n",
       "       [ 0.        ,  0.        ,  0.        ,  1.80849372]])"
      ]
     },
     "execution_count": 58,
     "metadata": {},
     "output_type": "execute_result"
    }
   ],
   "source": [
    "R"
   ]
  },
  {
   "cell_type": "code",
   "execution_count": 59,
   "metadata": {},
   "outputs": [
    {
     "data": {
      "text/plain": [
       "array([[-0.00370264,  0.55700317, -0.18075507,  0.06713369],\n",
       "       [ 0.4683758 ,  0.27923937, -0.62756198, -0.27369696],\n",
       "       [ 0.72029579, -0.35894896,  0.39811374, -0.08976478],\n",
       "       [ 0.08974803,  0.4824891 ,  0.47041682, -0.64638723],\n",
       "       [-0.47677813, -0.3141264 , -0.07303832, -0.63194272],\n",
       "       [-0.16251857,  0.38917524,  0.43401893,  0.30879973]])"
      ]
     },
     "execution_count": 59,
     "metadata": {},
     "output_type": "execute_result"
    }
   ],
   "source": [
    "q"
   ]
  },
  {
   "cell_type": "code",
   "execution_count": 60,
   "metadata": {},
   "outputs": [
    {
     "data": {
      "text/plain": [
       "array([[ 3.03432063e+00, -2.09559862e+00, -3.38192973e-01,\n",
       "         1.56273400e-02],\n",
       "       [-5.55111512e-17,  1.32791269e+00,  2.37169798e-01,\n",
       "        -9.66252515e-01],\n",
       "       [-2.22044605e-16,  0.00000000e+00,  2.12304669e+00,\n",
       "         1.23548137e+00],\n",
       "       [ 3.33066907e-16, -8.32667268e-17, -3.67761377e-16,\n",
       "         1.80849372e+00]])"
      ]
     },
     "execution_count": 60,
     "metadata": {},
     "output_type": "execute_result"
    }
   ],
   "source": [
    "r"
   ]
  },
  {
   "cell_type": "code",
   "execution_count": null,
   "metadata": {},
   "outputs": [],
   "source": []
  }
 ],
 "metadata": {
  "kernelspec": {
   "display_name": "Python 3",
   "language": "python",
   "name": "python3"
  },
  "language_info": {
   "codemirror_mode": {
    "name": "ipython",
    "version": 3
   },
   "file_extension": ".py",
   "mimetype": "text/x-python",
   "name": "python",
   "nbconvert_exporter": "python",
   "pygments_lexer": "ipython3",
   "version": "3.7.6"
  }
 },
 "nbformat": 4,
 "nbformat_minor": 4
}
